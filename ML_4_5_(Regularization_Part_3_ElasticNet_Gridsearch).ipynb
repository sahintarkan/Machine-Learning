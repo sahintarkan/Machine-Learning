{
  "cells": [
    {
      "cell_type": "markdown",
      "metadata": {
        "id": "view-in-github",
        "colab_type": "text"
      },
      "source": [
        "<a href=\"https://colab.research.google.com/github/sahintarkan/Machine-Learning/blob/main/ML_4_5_(Regularization_Part_3_ElasticNet_Gridsearch).ipynb\" target=\"_parent\"><img src=\"https://colab.research.google.com/assets/colab-badge.svg\" alt=\"Open In Colab\"/></a>"
      ]
    },
    {
      "cell_type": "markdown",
      "id": "fatty-message",
      "metadata": {
        "id": "fatty-message"
      },
      "source": [
        "<a id = '4.0'></a>\n",
        "<p style = \"font-size : 35px; color : #34656d ;  text-align : center; background-color : #08f9f9; border-radius: 5px 5px;\"><strong>Regularization Part_3 (Elastic Net- Gridsearch)</strong></p> "
      ]
    },
    {
      "cell_type": "code",
      "execution_count": null,
      "id": "spare-thumb",
      "metadata": {
        "ExecuteTime": {
          "end_time": "2022-08-17T19:32:04.362869Z",
          "start_time": "2022-08-17T19:31:58.547208Z"
        },
        "id": "spare-thumb"
      },
      "outputs": [],
      "source": [
        "import numpy as np\n",
        "import pandas as pd\n",
        "import matplotlib.pyplot as plt\n",
        "import seaborn as sns\n",
        "plt.rcParams[\"figure.figsize\"] = (10,6)\n",
        "pd.set_option('display.max_columns', 100)"
      ]
    },
    {
      "cell_type": "code",
      "execution_count": null,
      "id": "atlantic-accountability",
      "metadata": {
        "ExecuteTime": {
          "end_time": "2022-08-17T19:33:10.218891Z",
          "start_time": "2022-08-17T19:33:09.913275Z"
        },
        "id": "atlantic-accountability"
      },
      "outputs": [],
      "source": [
        "df = pd.read_csv(\"Advertising.csv\")"
      ]
    },
    {
      "cell_type": "code",
      "execution_count": null,
      "id": "modified-blame",
      "metadata": {
        "id": "modified-blame",
        "outputId": "79d390e4-8b9c-462c-c00c-f8d3d81711c0"
      },
      "outputs": [
        {
          "data": {
            "text/html": [
              "<div>\n",
              "<style scoped>\n",
              "    .dataframe tbody tr th:only-of-type {\n",
              "        vertical-align: middle;\n",
              "    }\n",
              "\n",
              "    .dataframe tbody tr th {\n",
              "        vertical-align: top;\n",
              "    }\n",
              "\n",
              "    .dataframe thead th {\n",
              "        text-align: right;\n",
              "    }\n",
              "</style>\n",
              "<table border=\"1\" class=\"dataframe\">\n",
              "  <thead>\n",
              "    <tr style=\"text-align: right;\">\n",
              "      <th></th>\n",
              "      <th>TV</th>\n",
              "      <th>radio</th>\n",
              "      <th>newspaper</th>\n",
              "      <th>sales</th>\n",
              "    </tr>\n",
              "  </thead>\n",
              "  <tbody>\n",
              "    <tr>\n",
              "      <th>0</th>\n",
              "      <td>230.1</td>\n",
              "      <td>37.8</td>\n",
              "      <td>69.2</td>\n",
              "      <td>22.1</td>\n",
              "    </tr>\n",
              "    <tr>\n",
              "      <th>1</th>\n",
              "      <td>44.5</td>\n",
              "      <td>39.3</td>\n",
              "      <td>45.1</td>\n",
              "      <td>10.4</td>\n",
              "    </tr>\n",
              "    <tr>\n",
              "      <th>2</th>\n",
              "      <td>17.2</td>\n",
              "      <td>45.9</td>\n",
              "      <td>69.3</td>\n",
              "      <td>9.3</td>\n",
              "    </tr>\n",
              "    <tr>\n",
              "      <th>3</th>\n",
              "      <td>151.5</td>\n",
              "      <td>41.3</td>\n",
              "      <td>58.5</td>\n",
              "      <td>18.5</td>\n",
              "    </tr>\n",
              "    <tr>\n",
              "      <th>4</th>\n",
              "      <td>180.8</td>\n",
              "      <td>10.8</td>\n",
              "      <td>58.4</td>\n",
              "      <td>12.9</td>\n",
              "    </tr>\n",
              "  </tbody>\n",
              "</table>\n",
              "</div>"
            ],
            "text/plain": [
              "      TV  radio  newspaper  sales\n",
              "0  230.1   37.8       69.2   22.1\n",
              "1   44.5   39.3       45.1   10.4\n",
              "2   17.2   45.9       69.3    9.3\n",
              "3  151.5   41.3       58.5   18.5\n",
              "4  180.8   10.8       58.4   12.9"
            ]
          },
          "execution_count": 90,
          "metadata": {},
          "output_type": "execute_result"
        }
      ],
      "source": [
        "df.head()"
      ]
    },
    {
      "cell_type": "code",
      "execution_count": null,
      "id": "d8da01f5",
      "metadata": {
        "id": "d8da01f5",
        "outputId": "5c95ce69-471f-461f-d2c1-d39c01e3d9e6"
      },
      "outputs": [
        {
          "data": {
            "text/plain": [
              "(200, 4)"
            ]
          },
          "execution_count": 91,
          "metadata": {},
          "output_type": "execute_result"
        }
      ],
      "source": [
        "df.shape"
      ]
    },
    {
      "cell_type": "code",
      "execution_count": null,
      "id": "pointed-swift",
      "metadata": {
        "ExecuteTime": {
          "end_time": "2022-08-17T19:33:27.512930Z",
          "start_time": "2022-08-17T19:33:27.409997Z"
        },
        "id": "pointed-swift"
      },
      "outputs": [],
      "source": [
        "X = df.drop(\"sales\", axis =1)\n",
        "y = df[\"sales\"]"
      ]
    },
    {
      "cell_type": "code",
      "execution_count": null,
      "id": "725b86b4",
      "metadata": {
        "id": "725b86b4",
        "outputId": "6b189bd1-3bc0-476f-eb05-1f01171dca45"
      },
      "outputs": [
        {
          "data": {
            "text/html": [
              "<div>\n",
              "<style scoped>\n",
              "    .dataframe tbody tr th:only-of-type {\n",
              "        vertical-align: middle;\n",
              "    }\n",
              "\n",
              "    .dataframe tbody tr th {\n",
              "        vertical-align: top;\n",
              "    }\n",
              "\n",
              "    .dataframe thead th {\n",
              "        text-align: right;\n",
              "    }\n",
              "</style>\n",
              "<table border=\"1\" class=\"dataframe\">\n",
              "  <thead>\n",
              "    <tr style=\"text-align: right;\">\n",
              "      <th></th>\n",
              "      <th>TV</th>\n",
              "      <th>radio</th>\n",
              "      <th>newspaper</th>\n",
              "    </tr>\n",
              "  </thead>\n",
              "  <tbody>\n",
              "    <tr>\n",
              "      <th>0</th>\n",
              "      <td>230.1</td>\n",
              "      <td>37.8</td>\n",
              "      <td>69.2</td>\n",
              "    </tr>\n",
              "    <tr>\n",
              "      <th>1</th>\n",
              "      <td>44.5</td>\n",
              "      <td>39.3</td>\n",
              "      <td>45.1</td>\n",
              "    </tr>\n",
              "    <tr>\n",
              "      <th>2</th>\n",
              "      <td>17.2</td>\n",
              "      <td>45.9</td>\n",
              "      <td>69.3</td>\n",
              "    </tr>\n",
              "    <tr>\n",
              "      <th>3</th>\n",
              "      <td>151.5</td>\n",
              "      <td>41.3</td>\n",
              "      <td>58.5</td>\n",
              "    </tr>\n",
              "    <tr>\n",
              "      <th>4</th>\n",
              "      <td>180.8</td>\n",
              "      <td>10.8</td>\n",
              "      <td>58.4</td>\n",
              "    </tr>\n",
              "  </tbody>\n",
              "</table>\n",
              "</div>"
            ],
            "text/plain": [
              "      TV  radio  newspaper\n",
              "0  230.1   37.8       69.2\n",
              "1   44.5   39.3       45.1\n",
              "2   17.2   45.9       69.3\n",
              "3  151.5   41.3       58.5\n",
              "4  180.8   10.8       58.4"
            ]
          },
          "execution_count": 93,
          "metadata": {},
          "output_type": "execute_result"
        }
      ],
      "source": [
        "X.head()"
      ]
    },
    {
      "cell_type": "markdown",
      "id": "global-check",
      "metadata": {
        "id": "global-check"
      },
      "source": [
        "### Polynomial Features"
      ]
    },
    {
      "cell_type": "code",
      "execution_count": null,
      "id": "equipped-junior",
      "metadata": {
        "ExecuteTime": {
          "end_time": "2022-08-17T19:33:17.132015Z",
          "start_time": "2022-08-17T19:33:17.123023Z"
        },
        "id": "equipped-junior"
      },
      "outputs": [],
      "source": [
        "from sklearn.preprocessing import PolynomialFeatures"
      ]
    },
    {
      "cell_type": "markdown",
      "id": "bef6c093",
      "metadata": {
        "id": "bef6c093"
      },
      "source": [
        "We create an artificial overfiting situation by taking poly feature from 5 degrees"
      ]
    },
    {
      "cell_type": "code",
      "execution_count": null,
      "id": "final-travel",
      "metadata": {
        "ExecuteTime": {
          "end_time": "2022-08-17T19:35:09.112853Z",
          "start_time": "2022-08-17T19:35:09.095861Z"
        },
        "id": "final-travel"
      },
      "outputs": [],
      "source": [
        "polynomial_converter = PolynomialFeatures(degree=5, include_bias=False)\n",
        "\n",
        "poly_features = polynomial_converter.fit_transform(X)"
      ]
    },
    {
      "cell_type": "code",
      "execution_count": null,
      "id": "informative-collectible",
      "metadata": {
        "ExecuteTime": {
          "end_time": "2022-08-17T19:35:10.311447Z",
          "start_time": "2022-08-17T19:35:10.296459Z"
        },
        "id": "informative-collectible",
        "outputId": "6c67fdff-1459-4111-96b3-b98d5e096a0c"
      },
      "outputs": [
        {
          "data": {
            "text/plain": [
              "(200, 55)"
            ]
          },
          "execution_count": 16,
          "metadata": {},
          "output_type": "execute_result"
        }
      ],
      "source": [
        "poly_features.shape"
      ]
    },
    {
      "cell_type": "markdown",
      "id": "delayed-textbook",
      "metadata": {
        "id": "delayed-textbook"
      },
      "source": [
        "### Train | Test Split"
      ]
    },
    {
      "cell_type": "code",
      "execution_count": null,
      "id": "rubber-fairy",
      "metadata": {
        "ExecuteTime": {
          "end_time": "2022-08-17T19:35:12.909545Z",
          "start_time": "2022-08-17T19:35:12.902552Z"
        },
        "id": "rubber-fairy"
      },
      "outputs": [],
      "source": [
        "from sklearn.model_selection import train_test_split"
      ]
    },
    {
      "cell_type": "code",
      "execution_count": null,
      "id": "graphic-lafayette",
      "metadata": {
        "ExecuteTime": {
          "end_time": "2022-08-17T19:35:13.797081Z",
          "start_time": "2022-08-17T19:35:13.590211Z"
        },
        "id": "graphic-lafayette"
      },
      "outputs": [],
      "source": [
        "X_train, X_test, y_train, y_test = train_test_split(poly_features, y, test_size=0.3, random_state=101)"
      ]
    },
    {
      "cell_type": "markdown",
      "id": "sized-census",
      "metadata": {
        "id": "sized-census"
      },
      "source": [
        "## Scaling the Data"
      ]
    },
    {
      "cell_type": "code",
      "execution_count": null,
      "id": "identified-closing",
      "metadata": {
        "ExecuteTime": {
          "end_time": "2022-08-17T19:35:16.556854Z",
          "start_time": "2022-08-17T19:35:16.535868Z"
        },
        "id": "identified-closing"
      },
      "outputs": [],
      "source": [
        "from sklearn.preprocessing import StandardScaler\n",
        "scaler = StandardScaler()"
      ]
    },
    {
      "cell_type": "code",
      "execution_count": null,
      "id": "anticipated-logging",
      "metadata": {
        "ExecuteTime": {
          "end_time": "2022-08-17T19:35:17.661402Z",
          "start_time": "2022-08-17T19:35:17.463818Z"
        },
        "id": "anticipated-logging",
        "outputId": "2e5354d6-cfbe-4c49-cf02-f9a19021d78b"
      },
      "outputs": [
        {
          "data": {
            "text/html": [
              "<style>#sk-container-id-1 {color: black;background-color: white;}#sk-container-id-1 pre{padding: 0;}#sk-container-id-1 div.sk-toggleable {background-color: white;}#sk-container-id-1 label.sk-toggleable__label {cursor: pointer;display: block;width: 100%;margin-bottom: 0;padding: 0.3em;box-sizing: border-box;text-align: center;}#sk-container-id-1 label.sk-toggleable__label-arrow:before {content: \"▸\";float: left;margin-right: 0.25em;color: #696969;}#sk-container-id-1 label.sk-toggleable__label-arrow:hover:before {color: black;}#sk-container-id-1 div.sk-estimator:hover label.sk-toggleable__label-arrow:before {color: black;}#sk-container-id-1 div.sk-toggleable__content {max-height: 0;max-width: 0;overflow: hidden;text-align: left;background-color: #f0f8ff;}#sk-container-id-1 div.sk-toggleable__content pre {margin: 0.2em;color: black;border-radius: 0.25em;background-color: #f0f8ff;}#sk-container-id-1 input.sk-toggleable__control:checked~div.sk-toggleable__content {max-height: 200px;max-width: 100%;overflow: auto;}#sk-container-id-1 input.sk-toggleable__control:checked~label.sk-toggleable__label-arrow:before {content: \"▾\";}#sk-container-id-1 div.sk-estimator input.sk-toggleable__control:checked~label.sk-toggleable__label {background-color: #d4ebff;}#sk-container-id-1 div.sk-label input.sk-toggleable__control:checked~label.sk-toggleable__label {background-color: #d4ebff;}#sk-container-id-1 input.sk-hidden--visually {border: 0;clip: rect(1px 1px 1px 1px);clip: rect(1px, 1px, 1px, 1px);height: 1px;margin: -1px;overflow: hidden;padding: 0;position: absolute;width: 1px;}#sk-container-id-1 div.sk-estimator {font-family: monospace;background-color: #f0f8ff;border: 1px dotted black;border-radius: 0.25em;box-sizing: border-box;margin-bottom: 0.5em;}#sk-container-id-1 div.sk-estimator:hover {background-color: #d4ebff;}#sk-container-id-1 div.sk-parallel-item::after {content: \"\";width: 100%;border-bottom: 1px solid gray;flex-grow: 1;}#sk-container-id-1 div.sk-label:hover label.sk-toggleable__label {background-color: #d4ebff;}#sk-container-id-1 div.sk-serial::before {content: \"\";position: absolute;border-left: 1px solid gray;box-sizing: border-box;top: 0;bottom: 0;left: 50%;z-index: 0;}#sk-container-id-1 div.sk-serial {display: flex;flex-direction: column;align-items: center;background-color: white;padding-right: 0.2em;padding-left: 0.2em;position: relative;}#sk-container-id-1 div.sk-item {position: relative;z-index: 1;}#sk-container-id-1 div.sk-parallel {display: flex;align-items: stretch;justify-content: center;background-color: white;position: relative;}#sk-container-id-1 div.sk-item::before, #sk-container-id-1 div.sk-parallel-item::before {content: \"\";position: absolute;border-left: 1px solid gray;box-sizing: border-box;top: 0;bottom: 0;left: 50%;z-index: -1;}#sk-container-id-1 div.sk-parallel-item {display: flex;flex-direction: column;z-index: 1;position: relative;background-color: white;}#sk-container-id-1 div.sk-parallel-item:first-child::after {align-self: flex-end;width: 50%;}#sk-container-id-1 div.sk-parallel-item:last-child::after {align-self: flex-start;width: 50%;}#sk-container-id-1 div.sk-parallel-item:only-child::after {width: 0;}#sk-container-id-1 div.sk-dashed-wrapped {border: 1px dashed gray;margin: 0 0.4em 0.5em 0.4em;box-sizing: border-box;padding-bottom: 0.4em;background-color: white;}#sk-container-id-1 div.sk-label label {font-family: monospace;font-weight: bold;display: inline-block;line-height: 1.2em;}#sk-container-id-1 div.sk-label-container {text-align: center;}#sk-container-id-1 div.sk-container {/* jupyter's `normalize.less` sets `[hidden] { display: none; }` but bootstrap.min.css set `[hidden] { display: none !important; }` so we also need the `!important` here to be able to override the default hidden behavior on the sphinx rendered scikit-learn.org. See: https://github.com/scikit-learn/scikit-learn/issues/21755 */display: inline-block !important;position: relative;}#sk-container-id-1 div.sk-text-repr-fallback {display: none;}</style><div id=\"sk-container-id-1\" class=\"sk-top-container\"><div class=\"sk-text-repr-fallback\"><pre>StandardScaler()</pre><b>In a Jupyter environment, please rerun this cell to show the HTML representation or trust the notebook. <br />On GitHub, the HTML representation is unable to render, please try loading this page with nbviewer.org.</b></div><div class=\"sk-container\" hidden><div class=\"sk-item\"><div class=\"sk-estimator sk-toggleable\"><input class=\"sk-toggleable__control sk-hidden--visually\" id=\"sk-estimator-id-1\" type=\"checkbox\" checked><label for=\"sk-estimator-id-1\" class=\"sk-toggleable__label sk-toggleable__label-arrow\">StandardScaler</label><div class=\"sk-toggleable__content\"><pre>StandardScaler()</pre></div></div></div></div></div>"
            ],
            "text/plain": [
              "StandardScaler()"
            ]
          },
          "execution_count": 20,
          "metadata": {},
          "output_type": "execute_result"
        }
      ],
      "source": [
        "scaler.fit(X_train)  # Apply just for X_tarin not for X_test (Kalıp çıkarma)"
      ]
    },
    {
      "cell_type": "code",
      "execution_count": null,
      "id": "varied-final",
      "metadata": {
        "ExecuteTime": {
          "end_time": "2022-08-17T19:35:18.625802Z",
          "start_time": "2022-08-17T19:35:18.615804Z"
        },
        "id": "varied-final"
      },
      "outputs": [],
      "source": [
        "X_train_scaled = scaler.transform(X_train) # Apply transform according to fit\n",
        "X_test_scaled = scaler.transform(X_test)"
      ]
    },
    {
      "cell_type": "markdown",
      "id": "brown-slovak",
      "metadata": {
        "id": "brown-slovak"
      },
      "source": [
        "## <span style='color:red'> Elastic net</span> "
      ]
    },
    {
      "cell_type": "code",
      "execution_count": null,
      "id": "impossible-trailer",
      "metadata": {
        "ExecuteTime": {
          "end_time": "2022-08-17T19:35:21.295863Z",
          "start_time": "2022-08-17T19:35:21.274875Z"
        },
        "id": "impossible-trailer"
      },
      "outputs": [],
      "source": [
        "from sklearn.linear_model import ElasticNet, ElasticNetCV"
      ]
    },
    {
      "cell_type": "code",
      "execution_count": null,
      "id": "cdb64474",
      "metadata": {
        "ExecuteTime": {
          "end_time": "2022-08-17T19:35:22.040702Z",
          "start_time": "2022-08-17T19:35:22.016718Z"
        },
        "id": "cdb64474"
      },
      "outputs": [],
      "source": [
        "from sklearn.metrics import mean_absolute_error, mean_squared_error, r2_score\n",
        "\n",
        "def train_val(y_train, y_train_pred, y_test, y_pred, name):\n",
        "    \n",
        "    scores = {name+\"_train\": {\"R2\" : r2_score(y_train, y_train_pred),\n",
        "    \"mae\" : mean_absolute_error(y_train, y_train_pred),\n",
        "    \"mse\" : mean_squared_error(y_train, y_train_pred),                          \n",
        "    \"rmse\" : np.sqrt(mean_squared_error(y_train, y_train_pred))},\n",
        "    \n",
        "    name+\"_test\": {\"R2\" : r2_score(y_test, y_pred),\n",
        "    \"mae\" : mean_absolute_error(y_test, y_pred),\n",
        "    \"mse\" : mean_squared_error(y_test, y_pred),\n",
        "    \"rmse\" : np.sqrt(mean_squared_error(y_test, y_pred))}}\n",
        "    \n",
        "    return pd.DataFrame(scores)"
      ]
    },
    {
      "cell_type": "code",
      "execution_count": null,
      "id": "accessible-performer",
      "metadata": {
        "ExecuteTime": {
          "end_time": "2022-08-17T19:35:24.089739Z",
          "start_time": "2022-08-17T19:35:23.728215Z"
        },
        "id": "accessible-performer",
        "outputId": "8a7fb309-f247-490f-beee-e92a11b77789"
      },
      "outputs": [
        {
          "data": {
            "text/html": [
              "<style>#sk-container-id-2 {color: black;background-color: white;}#sk-container-id-2 pre{padding: 0;}#sk-container-id-2 div.sk-toggleable {background-color: white;}#sk-container-id-2 label.sk-toggleable__label {cursor: pointer;display: block;width: 100%;margin-bottom: 0;padding: 0.3em;box-sizing: border-box;text-align: center;}#sk-container-id-2 label.sk-toggleable__label-arrow:before {content: \"▸\";float: left;margin-right: 0.25em;color: #696969;}#sk-container-id-2 label.sk-toggleable__label-arrow:hover:before {color: black;}#sk-container-id-2 div.sk-estimator:hover label.sk-toggleable__label-arrow:before {color: black;}#sk-container-id-2 div.sk-toggleable__content {max-height: 0;max-width: 0;overflow: hidden;text-align: left;background-color: #f0f8ff;}#sk-container-id-2 div.sk-toggleable__content pre {margin: 0.2em;color: black;border-radius: 0.25em;background-color: #f0f8ff;}#sk-container-id-2 input.sk-toggleable__control:checked~div.sk-toggleable__content {max-height: 200px;max-width: 100%;overflow: auto;}#sk-container-id-2 input.sk-toggleable__control:checked~label.sk-toggleable__label-arrow:before {content: \"▾\";}#sk-container-id-2 div.sk-estimator input.sk-toggleable__control:checked~label.sk-toggleable__label {background-color: #d4ebff;}#sk-container-id-2 div.sk-label input.sk-toggleable__control:checked~label.sk-toggleable__label {background-color: #d4ebff;}#sk-container-id-2 input.sk-hidden--visually {border: 0;clip: rect(1px 1px 1px 1px);clip: rect(1px, 1px, 1px, 1px);height: 1px;margin: -1px;overflow: hidden;padding: 0;position: absolute;width: 1px;}#sk-container-id-2 div.sk-estimator {font-family: monospace;background-color: #f0f8ff;border: 1px dotted black;border-radius: 0.25em;box-sizing: border-box;margin-bottom: 0.5em;}#sk-container-id-2 div.sk-estimator:hover {background-color: #d4ebff;}#sk-container-id-2 div.sk-parallel-item::after {content: \"\";width: 100%;border-bottom: 1px solid gray;flex-grow: 1;}#sk-container-id-2 div.sk-label:hover label.sk-toggleable__label {background-color: #d4ebff;}#sk-container-id-2 div.sk-serial::before {content: \"\";position: absolute;border-left: 1px solid gray;box-sizing: border-box;top: 0;bottom: 0;left: 50%;z-index: 0;}#sk-container-id-2 div.sk-serial {display: flex;flex-direction: column;align-items: center;background-color: white;padding-right: 0.2em;padding-left: 0.2em;position: relative;}#sk-container-id-2 div.sk-item {position: relative;z-index: 1;}#sk-container-id-2 div.sk-parallel {display: flex;align-items: stretch;justify-content: center;background-color: white;position: relative;}#sk-container-id-2 div.sk-item::before, #sk-container-id-2 div.sk-parallel-item::before {content: \"\";position: absolute;border-left: 1px solid gray;box-sizing: border-box;top: 0;bottom: 0;left: 50%;z-index: -1;}#sk-container-id-2 div.sk-parallel-item {display: flex;flex-direction: column;z-index: 1;position: relative;background-color: white;}#sk-container-id-2 div.sk-parallel-item:first-child::after {align-self: flex-end;width: 50%;}#sk-container-id-2 div.sk-parallel-item:last-child::after {align-self: flex-start;width: 50%;}#sk-container-id-2 div.sk-parallel-item:only-child::after {width: 0;}#sk-container-id-2 div.sk-dashed-wrapped {border: 1px dashed gray;margin: 0 0.4em 0.5em 0.4em;box-sizing: border-box;padding-bottom: 0.4em;background-color: white;}#sk-container-id-2 div.sk-label label {font-family: monospace;font-weight: bold;display: inline-block;line-height: 1.2em;}#sk-container-id-2 div.sk-label-container {text-align: center;}#sk-container-id-2 div.sk-container {/* jupyter's `normalize.less` sets `[hidden] { display: none; }` but bootstrap.min.css set `[hidden] { display: none !important; }` so we also need the `!important` here to be able to override the default hidden behavior on the sphinx rendered scikit-learn.org. See: https://github.com/scikit-learn/scikit-learn/issues/21755 */display: inline-block !important;position: relative;}#sk-container-id-2 div.sk-text-repr-fallback {display: none;}</style><div id=\"sk-container-id-2\" class=\"sk-top-container\"><div class=\"sk-text-repr-fallback\"><pre>ElasticNet(alpha=1, random_state=42)</pre><b>In a Jupyter environment, please rerun this cell to show the HTML representation or trust the notebook. <br />On GitHub, the HTML representation is unable to render, please try loading this page with nbviewer.org.</b></div><div class=\"sk-container\" hidden><div class=\"sk-item\"><div class=\"sk-estimator sk-toggleable\"><input class=\"sk-toggleable__control sk-hidden--visually\" id=\"sk-estimator-id-2\" type=\"checkbox\" checked><label for=\"sk-estimator-id-2\" class=\"sk-toggleable__label sk-toggleable__label-arrow\">ElasticNet</label><div class=\"sk-toggleable__content\"><pre>ElasticNet(alpha=1, random_state=42)</pre></div></div></div></div></div>"
            ],
            "text/plain": [
              "ElasticNet(alpha=1, random_state=42)"
            ]
          },
          "execution_count": 24,
          "metadata": {},
          "output_type": "execute_result"
        }
      ],
      "source": [
        "elastic_model = ElasticNet(alpha=1, l1_ratio=0.5, random_state=42) # l1_ratio: 1: Lasso or 0:Ridge\n",
        "elastic_model.fit(X_train_scaled, y_train)"
      ]
    },
    {
      "cell_type": "code",
      "execution_count": null,
      "id": "8e16ca02",
      "metadata": {
        "ExecuteTime": {
          "end_time": "2022-08-17T19:35:25.535760Z",
          "start_time": "2022-08-17T19:35:25.495786Z"
        },
        "id": "8e16ca02"
      },
      "outputs": [],
      "source": [
        "y_pred = elastic_model.predict(X_test_scaled)\n",
        "y_train_pred = elastic_model.predict(X_train_scaled)"
      ]
    },
    {
      "cell_type": "code",
      "execution_count": null,
      "id": "d09dac01",
      "metadata": {
        "ExecuteTime": {
          "end_time": "2022-08-17T19:35:26.501359Z",
          "start_time": "2022-08-17T19:35:26.283699Z"
        },
        "id": "d09dac01",
        "outputId": "347b67b6-db20-401f-9c43-1f4a5a670c0b"
      },
      "outputs": [
        {
          "data": {
            "text/html": [
              "<div><div id=33473725-d47b-49b6-9860-f0174adcb91c style=\"display:none; background-color:#9D6CFF; color:white; width:200px; height:30px; padding-left:5px; border-radius:4px; flex-direction:row; justify-content:space-around; align-items:center;\" onmouseover=\"this.style.backgroundColor='#BA9BF8'\" onmouseout=\"this.style.backgroundColor='#9D6CFF'\" onclick=\"window.commands?.execute('create-mitosheet-from-dataframe-output');\">See Full Dataframe in Mito</div> <script> if (window.commands?.hasCommand('create-mitosheet-from-dataframe-output')) document.getElementById('33473725-d47b-49b6-9860-f0174adcb91c').style.display = 'flex' </script> <table border=\"1\" class=\"dataframe\">\n",
              "  <thead>\n",
              "    <tr style=\"text-align: right;\">\n",
              "      <th></th>\n",
              "      <th>elastic_train</th>\n",
              "      <th>elastic_test</th>\n",
              "    </tr>\n",
              "  </thead>\n",
              "  <tbody>\n",
              "    <tr>\n",
              "      <th>R2</th>\n",
              "      <td>0.896126</td>\n",
              "      <td>0.902016</td>\n",
              "    </tr>\n",
              "    <tr>\n",
              "      <th>mae</th>\n",
              "      <td>1.248480</td>\n",
              "      <td>1.200654</td>\n",
              "    </tr>\n",
              "    <tr>\n",
              "      <th>mse</th>\n",
              "      <td>2.733565</td>\n",
              "      <td>2.766287</td>\n",
              "    </tr>\n",
              "    <tr>\n",
              "      <th>rmse</th>\n",
              "      <td>1.653350</td>\n",
              "      <td>1.663216</td>\n",
              "    </tr>\n",
              "  </tbody>\n",
              "</table></div>"
            ],
            "text/plain": [
              "      elastic_train  elastic_test\n",
              "R2         0.896126      0.902016\n",
              "mae        1.248480      1.200654\n",
              "mse        2.733565      2.766287\n",
              "rmse       1.653350      1.663216"
            ]
          },
          "execution_count": 26,
          "metadata": {},
          "output_type": "execute_result"
        }
      ],
      "source": [
        "es = train_val(y_train, y_train_pred, y_test, y_pred, \"elastic\")\n",
        "es"
      ]
    },
    {
      "cell_type": "code",
      "execution_count": null,
      "id": "considerable-exhibit",
      "metadata": {
        "id": "considerable-exhibit"
      },
      "outputs": [],
      "source": [
        "# pd.concat([ls,rs, rcs, lss, lcs, es], axis = 1)\n",
        "\n",
        "#  linear_train\tlinear_test\tridge_train\tridge_test\tridge_cv_train\tridge_cv_test\tlasso_train\tlasso_test\tlasso_cv_train\tlasso_cv_test\telastic_train\telastic_test\n",
        "# R2\t0.997607\t0.764990\t0.988677\t0.982511\t0.994491\t0.983643\t0.919650\t0.918590\t0.988824\t0.986295\t0.896126\t0.902016\n",
        "# mae\t0.186213\t0.665959\t0.338149\t0.482446\t0.244842\t0.442087\t1.018355\t1.017959\t0.339065\t0.440975\t1.248480\t1.200654\n",
        "# mse\t0.062968\t6.634847\t0.297970\t0.493743\t0.144977\t0.461803\t2.114491\t2.298390\t0.294098\t0.386919\t2.733565\t2.766287\n",
        "# rmse\t0.250934\t2.575820\t0.545866\t0.702669\t0.380758\t0.679561\t1.454129\t1.516044\t0.542308\t0.622028\t1.653350\t1.663216\n"
      ]
    },
    {
      "cell_type": "markdown",
      "id": "31827840",
      "metadata": {
        "id": "31827840"
      },
      "source": [
        "## ElasticNet Cross Validation (Default parameters: alpha = 1 and l1_ratio=0.5)"
      ]
    },
    {
      "cell_type": "code",
      "execution_count": null,
      "id": "b90e101e",
      "metadata": {
        "ExecuteTime": {
          "end_time": "2022-08-17T19:35:30.030180Z",
          "start_time": "2022-08-17T19:35:30.012191Z"
        },
        "id": "b90e101e"
      },
      "outputs": [],
      "source": [
        "from sklearn.model_selection import cross_validate"
      ]
    },
    {
      "cell_type": "code",
      "execution_count": null,
      "id": "7d598f6c",
      "metadata": {
        "ExecuteTime": {
          "end_time": "2022-08-17T19:35:32.190716Z",
          "start_time": "2022-08-17T19:35:32.128756Z"
        },
        "id": "7d598f6c"
      },
      "outputs": [],
      "source": [
        "model = ElasticNet(alpha=1, l1_ratio=0.5, random_state=42)\n",
        "scores = cross_validate(model, X_train_scaled, y_train,\n",
        "                        scoring=['r2', 'neg_mean_absolute_error','neg_mean_squared_error','neg_root_mean_squared_error'], cv=5)"
      ]
    },
    {
      "cell_type": "code",
      "execution_count": null,
      "id": "0ad1a9b8",
      "metadata": {
        "ExecuteTime": {
          "end_time": "2022-08-17T19:35:33.203182Z",
          "start_time": "2022-08-17T19:35:33.167206Z"
        },
        "id": "0ad1a9b8",
        "outputId": "6c96169a-2778-4e16-de05-5386d2b96d82"
      },
      "outputs": [
        {
          "data": {
            "text/html": [
              "<div><div id=3a85d766-6c53-4bac-bf83-92cbad11f7cf style=\"display:none; background-color:#9D6CFF; color:white; width:200px; height:30px; padding-left:5px; border-radius:4px; flex-direction:row; justify-content:space-around; align-items:center;\" onmouseover=\"this.style.backgroundColor='#BA9BF8'\" onmouseout=\"this.style.backgroundColor='#9D6CFF'\" onclick=\"window.commands?.execute('create-mitosheet-from-dataframe-output');\">See Full Dataframe in Mito</div> <script> if (window.commands?.hasCommand('create-mitosheet-from-dataframe-output')) document.getElementById('3a85d766-6c53-4bac-bf83-92cbad11f7cf').style.display = 'flex' </script> <table border=\"1\" class=\"dataframe\">\n",
              "  <thead>\n",
              "    <tr style=\"text-align: right;\">\n",
              "      <th></th>\n",
              "      <th>test_r2</th>\n",
              "      <th>test_neg_mean_absolute_error</th>\n",
              "      <th>test_neg_mean_squared_error</th>\n",
              "      <th>test_neg_root_mean_squared_error</th>\n",
              "    </tr>\n",
              "  </thead>\n",
              "  <tbody>\n",
              "    <tr>\n",
              "      <th>1</th>\n",
              "      <td>0.915497</td>\n",
              "      <td>-1.255282</td>\n",
              "      <td>-2.567362</td>\n",
              "      <td>-1.602299</td>\n",
              "    </tr>\n",
              "    <tr>\n",
              "      <th>2</th>\n",
              "      <td>0.928138</td>\n",
              "      <td>-0.960011</td>\n",
              "      <td>-1.620225</td>\n",
              "      <td>-1.272881</td>\n",
              "    </tr>\n",
              "    <tr>\n",
              "      <th>3</th>\n",
              "      <td>0.855390</td>\n",
              "      <td>-1.373843</td>\n",
              "      <td>-4.014250</td>\n",
              "      <td>-2.003559</td>\n",
              "    </tr>\n",
              "    <tr>\n",
              "      <th>4</th>\n",
              "      <td>0.875648</td>\n",
              "      <td>-1.431847</td>\n",
              "      <td>-3.384817</td>\n",
              "      <td>-1.839787</td>\n",
              "    </tr>\n",
              "    <tr>\n",
              "      <th>5</th>\n",
              "      <td>0.840262</td>\n",
              "      <td>-1.449269</td>\n",
              "      <td>-2.953597</td>\n",
              "      <td>-1.718603</td>\n",
              "    </tr>\n",
              "  </tbody>\n",
              "</table></div>"
            ],
            "text/plain": [
              "    test_r2  test_neg_mean_absolute_error  test_neg_mean_squared_error  \\\n",
              "1  0.915497                     -1.255282                    -2.567362   \n",
              "2  0.928138                     -0.960011                    -1.620225   \n",
              "3  0.855390                     -1.373843                    -4.014250   \n",
              "4  0.875648                     -1.431847                    -3.384817   \n",
              "5  0.840262                     -1.449269                    -2.953597   \n",
              "\n",
              "   test_neg_root_mean_squared_error  \n",
              "1                         -1.602299  \n",
              "2                         -1.272881  \n",
              "3                         -2.003559  \n",
              "4                         -1.839787  \n",
              "5                         -1.718603  "
            ]
          },
          "execution_count": 29,
          "metadata": {},
          "output_type": "execute_result"
        }
      ],
      "source": [
        "scores = pd.DataFrame(scores, index = range(1, 6))\n",
        "scores.iloc[:,2:]"
      ]
    },
    {
      "cell_type": "code",
      "execution_count": null,
      "id": "d9a8bdcd",
      "metadata": {
        "ExecuteTime": {
          "end_time": "2022-08-17T19:35:35.831032Z",
          "start_time": "2022-08-17T19:35:35.768074Z"
        },
        "id": "d9a8bdcd",
        "outputId": "62070108-26b7-48b9-ad8e-0c4bb9dfaae4"
      },
      "outputs": [
        {
          "data": {
            "text/plain": [
              "test_r2                             0.882987\n",
              "test_neg_mean_absolute_error       -1.294050\n",
              "test_neg_mean_squared_error        -2.908050\n",
              "test_neg_root_mean_squared_error   -1.687426\n",
              "dtype: float64"
            ]
          },
          "execution_count": 30,
          "metadata": {},
          "output_type": "execute_result"
        }
      ],
      "source": [
        "scores = pd.DataFrame(scores, index = range(1, 11))\n",
        "scores.iloc[:,2:].mean()"
      ]
    },
    {
      "cell_type": "code",
      "execution_count": null,
      "id": "e3f0bdf3",
      "metadata": {
        "ExecuteTime": {
          "end_time": "2022-08-17T19:35:39.027061Z",
          "start_time": "2022-08-17T19:35:38.991083Z"
        },
        "id": "e3f0bdf3",
        "outputId": "653d3e86-951f-4434-f2e5-ce8c15396c1b"
      },
      "outputs": [
        {
          "data": {
            "text/html": [
              "<div><div id=2e18fea0-a793-43b2-9086-330c4bc3f636 style=\"display:none; background-color:#9D6CFF; color:white; width:200px; height:30px; padding-left:5px; border-radius:4px; flex-direction:row; justify-content:space-around; align-items:center;\" onmouseover=\"this.style.backgroundColor='#BA9BF8'\" onmouseout=\"this.style.backgroundColor='#9D6CFF'\" onclick=\"window.commands?.execute('create-mitosheet-from-dataframe-output');\">See Full Dataframe in Mito</div> <script> if (window.commands?.hasCommand('create-mitosheet-from-dataframe-output')) document.getElementById('2e18fea0-a793-43b2-9086-330c4bc3f636').style.display = 'flex' </script> <table border=\"1\" class=\"dataframe\">\n",
              "  <thead>\n",
              "    <tr style=\"text-align: right;\">\n",
              "      <th></th>\n",
              "      <th>elastic_train</th>\n",
              "      <th>elastic_test</th>\n",
              "    </tr>\n",
              "  </thead>\n",
              "  <tbody>\n",
              "    <tr>\n",
              "      <th>R2</th>\n",
              "      <td>0.896126</td>\n",
              "      <td>0.902016</td>\n",
              "    </tr>\n",
              "    <tr>\n",
              "      <th>mae</th>\n",
              "      <td>1.248480</td>\n",
              "      <td>1.200654</td>\n",
              "    </tr>\n",
              "    <tr>\n",
              "      <th>mse</th>\n",
              "      <td>2.733565</td>\n",
              "      <td>2.766287</td>\n",
              "    </tr>\n",
              "    <tr>\n",
              "      <th>rmse</th>\n",
              "      <td>1.653350</td>\n",
              "      <td>1.663216</td>\n",
              "    </tr>\n",
              "  </tbody>\n",
              "</table></div>"
            ],
            "text/plain": [
              "      elastic_train  elastic_test\n",
              "R2         0.896126      0.902016\n",
              "mae        1.248480      1.200654\n",
              "mse        2.733565      2.766287\n",
              "rmse       1.653350      1.663216"
            ]
          },
          "execution_count": 31,
          "metadata": {},
          "output_type": "execute_result"
        }
      ],
      "source": [
        "train_val(y_train, y_train_pred, y_test, y_pred, \"elastic\")"
      ]
    },
    {
      "cell_type": "code",
      "execution_count": null,
      "id": "advised-convertible",
      "metadata": {
        "ExecuteTime": {
          "end_time": "2022-08-17T19:35:40.816474Z",
          "start_time": "2022-08-17T19:35:40.791489Z"
        },
        "id": "advised-convertible",
        "outputId": "ff7a86d4-67d9-4638-bbcb-1ea6f93cd269"
      },
      "outputs": [
        {
          "data": {
            "text/plain": [
              "array([ 0.8629361 ,  0.2114429 ,  0.        ,  0.29076735,  0.98099122,\n",
              "        0.00249769,  0.        ,  0.        ,  0.        ,  0.        ,\n",
              "        0.52021768,  0.        ,  0.6023984 ,  0.09615974,  0.        ,\n",
              "        0.        ,  0.        ,  0.        ,  0.        ,  0.        ,\n",
              "        0.15970242,  0.        ,  0.27423182,  0.        ,  0.        ,\n",
              "        0.3407246 ,  0.        ,  0.        ,  0.        ,  0.        ,\n",
              "        0.        ,  0.        ,  0.        ,  0.        ,  0.        ,\n",
              "        0.        ,  0.        ,  0.        ,  0.        ,  0.        ,\n",
              "        0.0826519 ,  0.        ,  0.        ,  0.        ,  0.15709256,\n",
              "        0.        ,  0.        ,  0.        ,  0.        ,  0.        ,\n",
              "        0.        ,  0.        ,  0.        ,  0.        , -0.        ])"
            ]
          },
          "execution_count": 32,
          "metadata": {},
          "output_type": "execute_result"
        }
      ],
      "source": [
        "elastic_model.coef_"
      ]
    },
    {
      "cell_type": "code",
      "execution_count": null,
      "id": "extraordinary-australian",
      "metadata": {
        "ExecuteTime": {
          "end_time": "2022-08-17T19:35:44.231469Z",
          "start_time": "2022-08-17T19:35:44.200486Z"
        },
        "id": "extraordinary-australian",
        "outputId": "4dd2600b-0f19-4d77-c6db-0e1af8262535"
      },
      "outputs": [
        {
          "data": {
            "text/html": [
              "<div><div id=284cba4d-baee-4d9a-b196-b66da6e49d8e style=\"display:none; background-color:#9D6CFF; color:white; width:200px; height:30px; padding-left:5px; border-radius:4px; flex-direction:row; justify-content:space-around; align-items:center;\" onmouseover=\"this.style.backgroundColor='#BA9BF8'\" onmouseout=\"this.style.backgroundColor='#9D6CFF'\" onclick=\"window.commands?.execute('create-mitosheet-from-dataframe-output');\">See Full Dataframe in Mito</div> <script> if (window.commands?.hasCommand('create-mitosheet-from-dataframe-output')) document.getElementById('284cba4d-baee-4d9a-b196-b66da6e49d8e').style.display = 'flex' </script> <table border=\"1\" class=\"dataframe\">\n",
              "  <thead>\n",
              "    <tr style=\"text-align: right;\">\n",
              "      <th></th>\n",
              "      <th>elastic_coef_(alp:1, l1:0.5)</th>\n",
              "    </tr>\n",
              "  </thead>\n",
              "  <tbody>\n",
              "    <tr>\n",
              "      <th>0</th>\n",
              "      <td>0.862936</td>\n",
              "    </tr>\n",
              "    <tr>\n",
              "      <th>1</th>\n",
              "      <td>0.211443</td>\n",
              "    </tr>\n",
              "    <tr>\n",
              "      <th>2</th>\n",
              "      <td>0.000000</td>\n",
              "    </tr>\n",
              "    <tr>\n",
              "      <th>3</th>\n",
              "      <td>0.290767</td>\n",
              "    </tr>\n",
              "    <tr>\n",
              "      <th>4</th>\n",
              "      <td>0.980991</td>\n",
              "    </tr>\n",
              "    <tr>\n",
              "      <th>...</th>\n",
              "      <td>...</td>\n",
              "    </tr>\n",
              "    <tr>\n",
              "      <th>50</th>\n",
              "      <td>0.000000</td>\n",
              "    </tr>\n",
              "    <tr>\n",
              "      <th>51</th>\n",
              "      <td>0.000000</td>\n",
              "    </tr>\n",
              "    <tr>\n",
              "      <th>52</th>\n",
              "      <td>0.000000</td>\n",
              "    </tr>\n",
              "    <tr>\n",
              "      <th>53</th>\n",
              "      <td>0.000000</td>\n",
              "    </tr>\n",
              "    <tr>\n",
              "      <th>54</th>\n",
              "      <td>-0.000000</td>\n",
              "    </tr>\n",
              "  </tbody>\n",
              "</table></div>"
            ],
            "text/plain": [
              "    elastic_coef_(alp:1, l1:0.5)\n",
              "0                       0.862936\n",
              "1                       0.211443\n",
              "2                       0.000000\n",
              "3                       0.290767\n",
              "4                       0.980991\n",
              "5                       0.002498\n",
              "6                       0.000000\n",
              "7                       0.000000\n",
              "8                       0.000000\n",
              "9                       0.000000\n",
              "10                      0.520218\n",
              "11                      0.000000\n",
              "12                      0.602398\n",
              "13                      0.096160\n",
              "14                      0.000000\n",
              "15                      0.000000\n",
              "16                      0.000000\n",
              "17                      0.000000\n",
              "18                      0.000000\n",
              "19                      0.000000\n",
              "20                      0.159702\n",
              "21                      0.000000\n",
              "22                      0.274232\n",
              "23                      0.000000\n",
              "24                      0.000000\n",
              "25                      0.340725\n",
              "26                      0.000000\n",
              "27                      0.000000\n",
              "28                      0.000000\n",
              "29                      0.000000\n",
              "30                      0.000000\n",
              "31                      0.000000\n",
              "32                      0.000000\n",
              "33                      0.000000\n",
              "34                      0.000000\n",
              "35                      0.000000\n",
              "36                      0.000000\n",
              "37                      0.000000\n",
              "38                      0.000000\n",
              "39                      0.000000\n",
              "40                      0.082652\n",
              "41                      0.000000\n",
              "42                      0.000000\n",
              "43                      0.000000\n",
              "44                      0.157093\n",
              "45                      0.000000\n",
              "46                      0.000000\n",
              "47                      0.000000\n",
              "48                      0.000000\n",
              "49                      0.000000\n",
              "50                      0.000000\n",
              "51                      0.000000\n",
              "52                      0.000000\n",
              "53                      0.000000\n",
              "54                     -0.000000"
            ]
          },
          "execution_count": 33,
          "metadata": {},
          "output_type": "execute_result"
        }
      ],
      "source": [
        "em_df = pd.DataFrame(elastic_model.coef_, columns=[\"elastic_coef_(alp:1, l1:0.5)\"])\n",
        "em_df"
      ]
    },
    {
      "cell_type": "markdown",
      "id": "f6314036",
      "metadata": {
        "id": "f6314036"
      },
      "source": [
        "### Choosing best alpha and l1_ratio values by ElasticNetCV"
      ]
    },
    {
      "cell_type": "code",
      "execution_count": null,
      "id": "3aaab099",
      "metadata": {
        "ExecuteTime": {
          "end_time": "2022-08-17T19:35:47.523498Z",
          "start_time": "2022-08-17T19:35:47.497514Z"
        },
        "id": "3aaab099",
        "outputId": "6b0ac914-3ba5-4c72-d880-6049da18a81e"
      },
      "outputs": [
        {
          "data": {
            "text/plain": [
              "array([0.01, 0.02, 0.03, 0.04, 0.05, 0.06, 0.07, 0.08, 0.09, 0.1 , 0.11,\n",
              "       0.12, 0.13, 0.14, 0.15, 0.16, 0.17, 0.18, 0.19, 0.2 , 0.21, 0.22,\n",
              "       0.23, 0.24, 0.25, 0.26, 0.27, 0.28, 0.29, 0.3 , 0.31, 0.32, 0.33,\n",
              "       0.34, 0.35, 0.36, 0.37, 0.38, 0.39, 0.4 , 0.41, 0.42, 0.43, 0.44,\n",
              "       0.45, 0.46, 0.47, 0.48, 0.49, 0.5 , 0.51, 0.52, 0.53, 0.54, 0.55,\n",
              "       0.56, 0.57, 0.58, 0.59, 0.6 , 0.61, 0.62, 0.63, 0.64, 0.65, 0.66,\n",
              "       0.67, 0.68, 0.69, 0.7 , 0.71, 0.72, 0.73, 0.74, 0.75, 0.76, 0.77,\n",
              "       0.78, 0.79, 0.8 , 0.81, 0.82, 0.83, 0.84, 0.85, 0.86, 0.87, 0.88,\n",
              "       0.89, 0.9 , 0.91, 0.92, 0.93, 0.94, 0.95, 0.96, 0.97, 0.98, 0.99,\n",
              "       1.  ])"
            ]
          },
          "execution_count": 34,
          "metadata": {},
          "output_type": "execute_result"
        }
      ],
      "source": [
        "alpha_space = np.linspace(0.01, 1, 100)\n",
        "alpha_space"
      ]
    },
    {
      "cell_type": "code",
      "execution_count": null,
      "id": "lasting-excellence",
      "metadata": {
        "ExecuteTime": {
          "end_time": "2022-08-17T19:35:50.215390Z",
          "start_time": "2022-08-17T19:35:50.207395Z"
        },
        "id": "lasting-excellence"
      },
      "outputs": [],
      "source": [
        "elastic_cv_model = ElasticNetCV(alphas = alpha_space, l1_ratio=[0.1, 0.5, 0.7,0.9, 0.95, 1], cv = 5, \n",
        "                                max_iter = 100000,random_state=42)"
      ]
    },
    {
      "cell_type": "code",
      "execution_count": null,
      "id": "comparative-biodiversity",
      "metadata": {
        "ExecuteTime": {
          "end_time": "2022-08-17T19:35:54.696002Z",
          "start_time": "2022-08-17T19:35:52.142841Z"
        },
        "id": "comparative-biodiversity",
        "outputId": "23ac6e5f-f76f-4307-e6a8-594f9f624005"
      },
      "outputs": [
        {
          "data": {
            "text/html": [
              "<style>#sk-container-id-3 {color: black;background-color: white;}#sk-container-id-3 pre{padding: 0;}#sk-container-id-3 div.sk-toggleable {background-color: white;}#sk-container-id-3 label.sk-toggleable__label {cursor: pointer;display: block;width: 100%;margin-bottom: 0;padding: 0.3em;box-sizing: border-box;text-align: center;}#sk-container-id-3 label.sk-toggleable__label-arrow:before {content: \"▸\";float: left;margin-right: 0.25em;color: #696969;}#sk-container-id-3 label.sk-toggleable__label-arrow:hover:before {color: black;}#sk-container-id-3 div.sk-estimator:hover label.sk-toggleable__label-arrow:before {color: black;}#sk-container-id-3 div.sk-toggleable__content {max-height: 0;max-width: 0;overflow: hidden;text-align: left;background-color: #f0f8ff;}#sk-container-id-3 div.sk-toggleable__content pre {margin: 0.2em;color: black;border-radius: 0.25em;background-color: #f0f8ff;}#sk-container-id-3 input.sk-toggleable__control:checked~div.sk-toggleable__content {max-height: 200px;max-width: 100%;overflow: auto;}#sk-container-id-3 input.sk-toggleable__control:checked~label.sk-toggleable__label-arrow:before {content: \"▾\";}#sk-container-id-3 div.sk-estimator input.sk-toggleable__control:checked~label.sk-toggleable__label {background-color: #d4ebff;}#sk-container-id-3 div.sk-label input.sk-toggleable__control:checked~label.sk-toggleable__label {background-color: #d4ebff;}#sk-container-id-3 input.sk-hidden--visually {border: 0;clip: rect(1px 1px 1px 1px);clip: rect(1px, 1px, 1px, 1px);height: 1px;margin: -1px;overflow: hidden;padding: 0;position: absolute;width: 1px;}#sk-container-id-3 div.sk-estimator {font-family: monospace;background-color: #f0f8ff;border: 1px dotted black;border-radius: 0.25em;box-sizing: border-box;margin-bottom: 0.5em;}#sk-container-id-3 div.sk-estimator:hover {background-color: #d4ebff;}#sk-container-id-3 div.sk-parallel-item::after {content: \"\";width: 100%;border-bottom: 1px solid gray;flex-grow: 1;}#sk-container-id-3 div.sk-label:hover label.sk-toggleable__label {background-color: #d4ebff;}#sk-container-id-3 div.sk-serial::before {content: \"\";position: absolute;border-left: 1px solid gray;box-sizing: border-box;top: 0;bottom: 0;left: 50%;z-index: 0;}#sk-container-id-3 div.sk-serial {display: flex;flex-direction: column;align-items: center;background-color: white;padding-right: 0.2em;padding-left: 0.2em;position: relative;}#sk-container-id-3 div.sk-item {position: relative;z-index: 1;}#sk-container-id-3 div.sk-parallel {display: flex;align-items: stretch;justify-content: center;background-color: white;position: relative;}#sk-container-id-3 div.sk-item::before, #sk-container-id-3 div.sk-parallel-item::before {content: \"\";position: absolute;border-left: 1px solid gray;box-sizing: border-box;top: 0;bottom: 0;left: 50%;z-index: -1;}#sk-container-id-3 div.sk-parallel-item {display: flex;flex-direction: column;z-index: 1;position: relative;background-color: white;}#sk-container-id-3 div.sk-parallel-item:first-child::after {align-self: flex-end;width: 50%;}#sk-container-id-3 div.sk-parallel-item:last-child::after {align-self: flex-start;width: 50%;}#sk-container-id-3 div.sk-parallel-item:only-child::after {width: 0;}#sk-container-id-3 div.sk-dashed-wrapped {border: 1px dashed gray;margin: 0 0.4em 0.5em 0.4em;box-sizing: border-box;padding-bottom: 0.4em;background-color: white;}#sk-container-id-3 div.sk-label label {font-family: monospace;font-weight: bold;display: inline-block;line-height: 1.2em;}#sk-container-id-3 div.sk-label-container {text-align: center;}#sk-container-id-3 div.sk-container {/* jupyter's `normalize.less` sets `[hidden] { display: none; }` but bootstrap.min.css set `[hidden] { display: none !important; }` so we also need the `!important` here to be able to override the default hidden behavior on the sphinx rendered scikit-learn.org. See: https://github.com/scikit-learn/scikit-learn/issues/21755 */display: inline-block !important;position: relative;}#sk-container-id-3 div.sk-text-repr-fallback {display: none;}</style><div id=\"sk-container-id-3\" class=\"sk-top-container\"><div class=\"sk-text-repr-fallback\"><pre>ElasticNetCV(alphas=array([0.01, 0.02, 0.03, 0.04, 0.05, 0.06, 0.07, 0.08, 0.09, 0.1 , 0.11,\n",
              "       0.12, 0.13, 0.14, 0.15, 0.16, 0.17, 0.18, 0.19, 0.2 , 0.21, 0.22,\n",
              "       0.23, 0.24, 0.25, 0.26, 0.27, 0.28, 0.29, 0.3 , 0.31, 0.32, 0.33,\n",
              "       0.34, 0.35, 0.36, 0.37, 0.38, 0.39, 0.4 , 0.41, 0.42, 0.43, 0.44,\n",
              "       0.45, 0.46, 0.47, 0.48, 0.49, 0.5 , 0.51, 0.52, 0.53, 0.54, 0.55,\n",
              "       0.56, 0.57, 0.58, 0.59, 0.6 , 0.61, 0.62, 0.63, 0.64, 0.65, 0.66,\n",
              "       0.67, 0.68, 0.69, 0.7 , 0.71, 0.72, 0.73, 0.74, 0.75, 0.76, 0.77,\n",
              "       0.78, 0.79, 0.8 , 0.81, 0.82, 0.83, 0.84, 0.85, 0.86, 0.87, 0.88,\n",
              "       0.89, 0.9 , 0.91, 0.92, 0.93, 0.94, 0.95, 0.96, 0.97, 0.98, 0.99,\n",
              "       1.  ]),\n",
              "             cv=5, l1_ratio=[0.1, 0.5, 0.7, 0.9, 0.95, 1], max_iter=100000,\n",
              "             random_state=42)</pre><b>In a Jupyter environment, please rerun this cell to show the HTML representation or trust the notebook. <br />On GitHub, the HTML representation is unable to render, please try loading this page with nbviewer.org.</b></div><div class=\"sk-container\" hidden><div class=\"sk-item\"><div class=\"sk-estimator sk-toggleable\"><input class=\"sk-toggleable__control sk-hidden--visually\" id=\"sk-estimator-id-3\" type=\"checkbox\" checked><label for=\"sk-estimator-id-3\" class=\"sk-toggleable__label sk-toggleable__label-arrow\">ElasticNetCV</label><div class=\"sk-toggleable__content\"><pre>ElasticNetCV(alphas=array([0.01, 0.02, 0.03, 0.04, 0.05, 0.06, 0.07, 0.08, 0.09, 0.1 , 0.11,\n",
              "       0.12, 0.13, 0.14, 0.15, 0.16, 0.17, 0.18, 0.19, 0.2 , 0.21, 0.22,\n",
              "       0.23, 0.24, 0.25, 0.26, 0.27, 0.28, 0.29, 0.3 , 0.31, 0.32, 0.33,\n",
              "       0.34, 0.35, 0.36, 0.37, 0.38, 0.39, 0.4 , 0.41, 0.42, 0.43, 0.44,\n",
              "       0.45, 0.46, 0.47, 0.48, 0.49, 0.5 , 0.51, 0.52, 0.53, 0.54, 0.55,\n",
              "       0.56, 0.57, 0.58, 0.59, 0.6 , 0.61, 0.62, 0.63, 0.64, 0.65, 0.66,\n",
              "       0.67, 0.68, 0.69, 0.7 , 0.71, 0.72, 0.73, 0.74, 0.75, 0.76, 0.77,\n",
              "       0.78, 0.79, 0.8 , 0.81, 0.82, 0.83, 0.84, 0.85, 0.86, 0.87, 0.88,\n",
              "       0.89, 0.9 , 0.91, 0.92, 0.93, 0.94, 0.95, 0.96, 0.97, 0.98, 0.99,\n",
              "       1.  ]),\n",
              "             cv=5, l1_ratio=[0.1, 0.5, 0.7, 0.9, 0.95, 1], max_iter=100000,\n",
              "             random_state=42)</pre></div></div></div></div></div>"
            ],
            "text/plain": [
              "ElasticNetCV(alphas=array([0.01, 0.02, 0.03, 0.04, 0.05, 0.06, 0.07, 0.08, 0.09, 0.1 , 0.11,\n",
              "       0.12, 0.13, 0.14, 0.15, 0.16, 0.17, 0.18, 0.19, 0.2 , 0.21, 0.22,\n",
              "       0.23, 0.24, 0.25, 0.26, 0.27, 0.28, 0.29, 0.3 , 0.31, 0.32, 0.33,\n",
              "       0.34, 0.35, 0.36, 0.37, 0.38, 0.39, 0.4 , 0.41, 0.42, 0.43, 0.44,\n",
              "       0.45, 0.46, 0.47, 0.48, 0.49, 0.5 , 0.51, 0.52, 0.53, 0.54, 0.55,\n",
              "       0.56, 0.57, 0.58, 0.59, 0.6 , 0.61, 0.62, 0.63, 0.64, 0.65, 0.66,\n",
              "       0.67, 0.68, 0.69, 0.7 , 0.71, 0.72, 0.73, 0.74, 0.75, 0.76, 0.77,\n",
              "       0.78, 0.79, 0.8 , 0.81, 0.82, 0.83, 0.84, 0.85, 0.86, 0.87, 0.88,\n",
              "       0.89, 0.9 , 0.91, 0.92, 0.93, 0.94, 0.95, 0.96, 0.97, 0.98, 0.99,\n",
              "       1.  ]),\n",
              "             cv=5, l1_ratio=[0.1, 0.5, 0.7, 0.9, 0.95, 1], max_iter=100000,\n",
              "             random_state=42)"
            ]
          },
          "execution_count": 36,
          "metadata": {},
          "output_type": "execute_result"
        }
      ],
      "source": [
        "elastic_cv_model.fit(X_train_scaled, y_train)"
      ]
    },
    {
      "cell_type": "code",
      "execution_count": null,
      "id": "prostate-france",
      "metadata": {
        "ExecuteTime": {
          "end_time": "2022-08-17T19:36:03.591816Z",
          "start_time": "2022-08-17T19:36:03.568307Z"
        },
        "id": "prostate-france",
        "outputId": "34023608-95b6-4af1-aa86-65e8cbe3bea1"
      },
      "outputs": [
        {
          "data": {
            "text/plain": [
              "0.01"
            ]
          },
          "execution_count": 37,
          "metadata": {},
          "output_type": "execute_result"
        }
      ],
      "source": [
        "elastic_cv_model.alpha_"
      ]
    },
    {
      "cell_type": "code",
      "execution_count": null,
      "id": "peaceful-paper",
      "metadata": {
        "ExecuteTime": {
          "end_time": "2022-08-17T19:36:06.886432Z",
          "start_time": "2022-08-17T19:36:06.870439Z"
        },
        "id": "peaceful-paper",
        "outputId": "58e99b1b-88c8-4fa7-b351-2e4fa85ee815"
      },
      "outputs": [
        {
          "data": {
            "text/plain": [
              "1.0"
            ]
          },
          "execution_count": 38,
          "metadata": {},
          "output_type": "execute_result"
        }
      ],
      "source": [
        "elastic_cv_model.l1_ratio_"
      ]
    },
    {
      "cell_type": "code",
      "execution_count": null,
      "id": "002d5383",
      "metadata": {
        "ExecuteTime": {
          "end_time": "2022-08-17T19:36:07.591515Z",
          "start_time": "2022-08-17T19:36:07.583522Z"
        },
        "id": "002d5383"
      },
      "outputs": [],
      "source": [
        "y_pred = elastic_cv_model.predict(X_test_scaled)\n",
        "y_train_pred = elastic_cv_model.predict(X_train_scaled)"
      ]
    },
    {
      "cell_type": "code",
      "execution_count": null,
      "id": "c589c932",
      "metadata": {
        "ExecuteTime": {
          "end_time": "2022-08-17T19:36:09.446208Z",
          "start_time": "2022-08-17T19:36:09.417224Z"
        },
        "id": "c589c932",
        "outputId": "250322ea-3d05-41d7-e242-5053462e2437"
      },
      "outputs": [
        {
          "data": {
            "text/html": [
              "<div><div id=69d21178-2b08-4b71-a318-9d93743390d0 style=\"display:none; background-color:#9D6CFF; color:white; width:200px; height:30px; padding-left:5px; border-radius:4px; flex-direction:row; justify-content:space-around; align-items:center;\" onmouseover=\"this.style.backgroundColor='#BA9BF8'\" onmouseout=\"this.style.backgroundColor='#9D6CFF'\" onclick=\"window.commands?.execute('create-mitosheet-from-dataframe-output');\">See Full Dataframe in Mito</div> <script> if (window.commands?.hasCommand('create-mitosheet-from-dataframe-output')) document.getElementById('69d21178-2b08-4b71-a318-9d93743390d0').style.display = 'flex' </script> <table border=\"1\" class=\"dataframe\">\n",
              "  <thead>\n",
              "    <tr style=\"text-align: right;\">\n",
              "      <th></th>\n",
              "      <th>elastic_cv_train</th>\n",
              "      <th>elastic_cv_test</th>\n",
              "    </tr>\n",
              "  </thead>\n",
              "  <tbody>\n",
              "    <tr>\n",
              "      <th>R2</th>\n",
              "      <td>0.988824</td>\n",
              "      <td>0.986295</td>\n",
              "    </tr>\n",
              "    <tr>\n",
              "      <th>mae</th>\n",
              "      <td>0.339065</td>\n",
              "      <td>0.440975</td>\n",
              "    </tr>\n",
              "    <tr>\n",
              "      <th>mse</th>\n",
              "      <td>0.294098</td>\n",
              "      <td>0.386919</td>\n",
              "    </tr>\n",
              "    <tr>\n",
              "      <th>rmse</th>\n",
              "      <td>0.542308</td>\n",
              "      <td>0.622028</td>\n",
              "    </tr>\n",
              "  </tbody>\n",
              "</table></div>"
            ],
            "text/plain": [
              "      elastic_cv_train  elastic_cv_test\n",
              "R2            0.988824         0.986295\n",
              "mae           0.339065         0.440975\n",
              "mse           0.294098         0.386919\n",
              "rmse          0.542308         0.622028"
            ]
          },
          "execution_count": 40,
          "metadata": {},
          "output_type": "execute_result"
        }
      ],
      "source": [
        "ecs = train_val(y_train, y_train_pred, y_test, y_pred, \"elastic_cv\")\n",
        "ecs"
      ]
    },
    {
      "cell_type": "code",
      "execution_count": null,
      "id": "56351c78",
      "metadata": {
        "ExecuteTime": {
          "end_time": "2022-08-17T19:36:10.348858Z",
          "start_time": "2022-08-17T19:36:10.318878Z"
        },
        "id": "56351c78",
        "outputId": "1b1e1784-1c76-4d91-9ef6-cc874ccba1d1"
      },
      "outputs": [
        {
          "data": {
            "text/html": [
              "<div><div id=09709519-1753-4ae5-9bfe-8c91bd6a1e67 style=\"display:none; background-color:#9D6CFF; color:white; width:200px; height:30px; padding-left:5px; border-radius:4px; flex-direction:row; justify-content:space-around; align-items:center;\" onmouseover=\"this.style.backgroundColor='#BA9BF8'\" onmouseout=\"this.style.backgroundColor='#9D6CFF'\" onclick=\"window.commands?.execute('create-mitosheet-from-dataframe-output');\">See Full Dataframe in Mito</div> <script> if (window.commands?.hasCommand('create-mitosheet-from-dataframe-output')) document.getElementById('09709519-1753-4ae5-9bfe-8c91bd6a1e67').style.display = 'flex' </script> <table border=\"1\" class=\"dataframe\">\n",
              "  <thead>\n",
              "    <tr style=\"text-align: right;\">\n",
              "      <th></th>\n",
              "      <th>elastic_train</th>\n",
              "      <th>elastic_test</th>\n",
              "      <th>elastic_cv_train</th>\n",
              "      <th>elastic_cv_test</th>\n",
              "    </tr>\n",
              "  </thead>\n",
              "  <tbody>\n",
              "    <tr>\n",
              "      <th>R2</th>\n",
              "      <td>0.896126</td>\n",
              "      <td>0.902016</td>\n",
              "      <td>0.988824</td>\n",
              "      <td>0.986295</td>\n",
              "    </tr>\n",
              "    <tr>\n",
              "      <th>mae</th>\n",
              "      <td>1.248480</td>\n",
              "      <td>1.200654</td>\n",
              "      <td>0.339065</td>\n",
              "      <td>0.440975</td>\n",
              "    </tr>\n",
              "    <tr>\n",
              "      <th>mse</th>\n",
              "      <td>2.733565</td>\n",
              "      <td>2.766287</td>\n",
              "      <td>0.294098</td>\n",
              "      <td>0.386919</td>\n",
              "    </tr>\n",
              "    <tr>\n",
              "      <th>rmse</th>\n",
              "      <td>1.653350</td>\n",
              "      <td>1.663216</td>\n",
              "      <td>0.542308</td>\n",
              "      <td>0.622028</td>\n",
              "    </tr>\n",
              "  </tbody>\n",
              "</table></div>"
            ],
            "text/plain": [
              "      elastic_train  elastic_test  elastic_cv_train  elastic_cv_test\n",
              "R2         0.896126      0.902016          0.988824         0.986295\n",
              "mae        1.248480      1.200654          0.339065         0.440975\n",
              "mse        2.733565      2.766287          0.294098         0.386919\n",
              "rmse       1.653350      1.663216          0.542308         0.622028"
            ]
          },
          "execution_count": 41,
          "metadata": {},
          "output_type": "execute_result"
        }
      ],
      "source": [
        "pd.concat([es, ecs], axis = 1)"
      ]
    },
    {
      "cell_type": "code",
      "execution_count": null,
      "id": "chronic-executive",
      "metadata": {
        "ExecuteTime": {
          "end_time": "2022-08-17T19:36:12.764461Z",
          "start_time": "2022-08-17T19:36:12.750470Z"
        },
        "id": "chronic-executive",
        "outputId": "50fc2bf8-a61f-4dc8-ac89-5f2f65e587c9"
      },
      "outputs": [
        {
          "data": {
            "text/plain": [
              "array([ 4.27021377,  0.18037374,  0.13965856, -3.14605513,  4.15339959,\n",
              "       -0.        ,  0.        ,  0.06249654,  0.        , -0.        ,\n",
              "       -0.43049816, -0.17433788,  0.        , -0.        , -0.        ,\n",
              "        0.        ,  0.        ,  0.        ,  0.        ,  0.        ,\n",
              "       -0.        , -0.        , -0.        , -0.        , -0.        ,\n",
              "        0.        , -0.        , -0.        , -0.        ,  0.        ,\n",
              "        0.        ,  0.        ,  0.        , -0.        ,  0.4873868 ,\n",
              "       -0.        ,  0.        , -0.        , -0.        ,  0.        ,\n",
              "       -0.        , -0.        , -0.        , -0.        ,  0.06929818,\n",
              "       -0.        , -0.        , -0.        , -0.        ,  0.        ,\n",
              "        0.        ,  0.        ,  0.        ,  0.        , -0.        ])"
            ]
          },
          "execution_count": 42,
          "metadata": {},
          "output_type": "execute_result"
        }
      ],
      "source": [
        "elastic_cv_model.coef_"
      ]
    },
    {
      "cell_type": "code",
      "execution_count": null,
      "id": "anticipated-solution",
      "metadata": {
        "ExecuteTime": {
          "end_time": "2022-08-17T19:36:15.178016Z",
          "start_time": "2022-08-17T19:36:15.163025Z"
        },
        "id": "anticipated-solution"
      },
      "outputs": [],
      "source": [
        "ecm_df = pd.DataFrame(elastic_cv_model.coef_, columns=[\"elastic_coef_(alp:0.01, l1:1)\"])"
      ]
    },
    {
      "cell_type": "code",
      "execution_count": null,
      "id": "structural-pickup",
      "metadata": {
        "ExecuteTime": {
          "end_time": "2022-08-17T19:36:23.203398Z",
          "start_time": "2022-08-17T19:36:23.165421Z"
        },
        "id": "structural-pickup",
        "outputId": "9b24fcec-6887-40bb-9c10-71b605ed8c84"
      },
      "outputs": [
        {
          "data": {
            "text/html": [
              "<div><div id=d78a97e1-eace-45c2-9a40-f5da35c3c71f style=\"display:none; background-color:#9D6CFF; color:white; width:200px; height:30px; padding-left:5px; border-radius:4px; flex-direction:row; justify-content:space-around; align-items:center;\" onmouseover=\"this.style.backgroundColor='#BA9BF8'\" onmouseout=\"this.style.backgroundColor='#9D6CFF'\" onclick=\"window.commands?.execute('create-mitosheet-from-dataframe-output');\">See Full Dataframe in Mito</div> <script> if (window.commands?.hasCommand('create-mitosheet-from-dataframe-output')) document.getElementById('d78a97e1-eace-45c2-9a40-f5da35c3c71f').style.display = 'flex' </script> <table border=\"1\" class=\"dataframe\">\n",
              "  <thead>\n",
              "    <tr style=\"text-align: right;\">\n",
              "      <th></th>\n",
              "      <th>elastic_coef_(alp:1, l1:0.5)</th>\n",
              "      <th>elastic_coef_(alp:0.01, l1:1)</th>\n",
              "    </tr>\n",
              "  </thead>\n",
              "  <tbody>\n",
              "    <tr>\n",
              "      <th>0</th>\n",
              "      <td>0.862936</td>\n",
              "      <td>4.270214</td>\n",
              "    </tr>\n",
              "    <tr>\n",
              "      <th>1</th>\n",
              "      <td>0.211443</td>\n",
              "      <td>0.180374</td>\n",
              "    </tr>\n",
              "    <tr>\n",
              "      <th>2</th>\n",
              "      <td>0.000000</td>\n",
              "      <td>0.139659</td>\n",
              "    </tr>\n",
              "    <tr>\n",
              "      <th>3</th>\n",
              "      <td>0.290767</td>\n",
              "      <td>-3.146055</td>\n",
              "    </tr>\n",
              "    <tr>\n",
              "      <th>4</th>\n",
              "      <td>0.980991</td>\n",
              "      <td>4.153400</td>\n",
              "    </tr>\n",
              "    <tr>\n",
              "      <th>...</th>\n",
              "      <td>...</td>\n",
              "      <td>...</td>\n",
              "    </tr>\n",
              "    <tr>\n",
              "      <th>50</th>\n",
              "      <td>0.000000</td>\n",
              "      <td>0.000000</td>\n",
              "    </tr>\n",
              "    <tr>\n",
              "      <th>51</th>\n",
              "      <td>0.000000</td>\n",
              "      <td>0.000000</td>\n",
              "    </tr>\n",
              "    <tr>\n",
              "      <th>52</th>\n",
              "      <td>0.000000</td>\n",
              "      <td>0.000000</td>\n",
              "    </tr>\n",
              "    <tr>\n",
              "      <th>53</th>\n",
              "      <td>0.000000</td>\n",
              "      <td>0.000000</td>\n",
              "    </tr>\n",
              "    <tr>\n",
              "      <th>54</th>\n",
              "      <td>-0.000000</td>\n",
              "      <td>-0.000000</td>\n",
              "    </tr>\n",
              "  </tbody>\n",
              "</table></div>"
            ],
            "text/plain": [
              "    elastic_coef_(alp:1, l1:0.5)  elastic_coef_(alp:0.01, l1:1)\n",
              "0                       0.862936                       4.270214\n",
              "1                       0.211443                       0.180374\n",
              "2                       0.000000                       0.139659\n",
              "3                       0.290767                      -3.146055\n",
              "4                       0.980991                       4.153400\n",
              "5                       0.002498                      -0.000000\n",
              "6                       0.000000                       0.000000\n",
              "7                       0.000000                       0.062497\n",
              "8                       0.000000                       0.000000\n",
              "9                       0.000000                      -0.000000\n",
              "10                      0.520218                      -0.430498\n",
              "11                      0.000000                      -0.174338\n",
              "12                      0.602398                       0.000000\n",
              "13                      0.096160                      -0.000000\n",
              "14                      0.000000                      -0.000000\n",
              "15                      0.000000                       0.000000\n",
              "16                      0.000000                       0.000000\n",
              "17                      0.000000                       0.000000\n",
              "18                      0.000000                       0.000000\n",
              "19                      0.000000                       0.000000\n",
              "20                      0.159702                      -0.000000\n",
              "21                      0.000000                      -0.000000\n",
              "22                      0.274232                      -0.000000\n",
              "23                      0.000000                      -0.000000\n",
              "24                      0.000000                      -0.000000\n",
              "25                      0.340725                       0.000000\n",
              "26                      0.000000                      -0.000000\n",
              "27                      0.000000                      -0.000000\n",
              "28                      0.000000                      -0.000000\n",
              "29                      0.000000                       0.000000\n",
              "30                      0.000000                       0.000000\n",
              "31                      0.000000                       0.000000\n",
              "32                      0.000000                       0.000000\n",
              "33                      0.000000                      -0.000000\n",
              "34                      0.000000                       0.487387\n",
              "35                      0.000000                      -0.000000\n",
              "36                      0.000000                       0.000000\n",
              "37                      0.000000                      -0.000000\n",
              "38                      0.000000                      -0.000000\n",
              "39                      0.000000                       0.000000\n",
              "40                      0.082652                      -0.000000\n",
              "41                      0.000000                      -0.000000\n",
              "42                      0.000000                      -0.000000\n",
              "43                      0.000000                      -0.000000\n",
              "44                      0.157093                       0.069298\n",
              "45                      0.000000                      -0.000000\n",
              "46                      0.000000                      -0.000000\n",
              "47                      0.000000                      -0.000000\n",
              "48                      0.000000                      -0.000000\n",
              "49                      0.000000                       0.000000\n",
              "50                      0.000000                       0.000000\n",
              "51                      0.000000                       0.000000\n",
              "52                      0.000000                       0.000000\n",
              "53                      0.000000                       0.000000\n",
              "54                     -0.000000                      -0.000000"
            ]
          },
          "execution_count": 44,
          "metadata": {},
          "output_type": "execute_result"
        }
      ],
      "source": [
        "pd.concat([em_df, ecm_df], axis = 1)"
      ]
    },
    {
      "cell_type": "markdown",
      "id": "anticipated-disabled",
      "metadata": {
        "id": "anticipated-disabled"
      },
      "source": [
        "## <span style='color:red'> Grid Search</span> "
      ]
    },
    {
      "cell_type": "code",
      "execution_count": null,
      "id": "public-belgium",
      "metadata": {
        "ExecuteTime": {
          "end_time": "2022-08-17T19:36:27.054398Z",
          "start_time": "2022-08-17T19:36:27.034885Z"
        },
        "id": "public-belgium"
      },
      "outputs": [],
      "source": [
        "from sklearn.model_selection import GridSearchCV"
      ]
    },
    {
      "cell_type": "code",
      "execution_count": null,
      "id": "developmental-framework",
      "metadata": {
        "ExecuteTime": {
          "end_time": "2022-08-17T19:36:27.738482Z",
          "start_time": "2022-08-17T19:36:27.718495Z"
        },
        "id": "developmental-framework"
      },
      "outputs": [],
      "source": [
        "elastic_model = ElasticNet(max_iter=10000, random_state=42)"
      ]
    },
    {
      "cell_type": "code",
      "execution_count": null,
      "id": "electronic-pollution",
      "metadata": {
        "ExecuteTime": {
          "end_time": "2022-08-17T19:36:29.322934Z",
          "start_time": "2022-08-17T19:36:29.297956Z"
        },
        "id": "electronic-pollution"
      },
      "outputs": [],
      "source": [
        "param_grid = {\"alpha\":[0.01, 0.012, 0.2, 0.5, 0.6, 0.7, 1],\n",
        "            \"l1_ratio\":[0.1, 0.5, 0.7, 0.9, 0.95, 0.99, 1]}"
      ]
    },
    {
      "cell_type": "code",
      "execution_count": null,
      "id": "recovered-ideal",
      "metadata": {
        "ExecuteTime": {
          "end_time": "2022-08-17T19:36:30.956854Z",
          "start_time": "2022-08-17T19:36:30.942871Z"
        },
        "id": "recovered-ideal"
      },
      "outputs": [],
      "source": [
        "grid_model = GridSearchCV(estimator = elastic_model, param_grid = param_grid, scoring = 'neg_root_mean_squared_error',\n",
        "                         cv =5, verbose =2)"
      ]
    },
    {
      "cell_type": "code",
      "execution_count": null,
      "id": "pleasant-scout",
      "metadata": {
        "ExecuteTime": {
          "end_time": "2022-08-17T19:36:57.129333Z",
          "start_time": "2022-08-17T19:36:54.862191Z"
        },
        "id": "pleasant-scout",
        "outputId": "eeb9e36e-7308-4b97-9608-7f756f2f0968"
      },
      "outputs": [
        {
          "name": "stdout",
          "output_type": "stream",
          "text": [
            "Fitting 5 folds for each of 49 candidates, totalling 245 fits\n",
            "[CV] END ...........................alpha=0.01, l1_ratio=0.1; total time=   0.0s\n",
            "[CV] END ...........................alpha=0.01, l1_ratio=0.1; total time=   0.0s\n",
            "[CV] END ...........................alpha=0.01, l1_ratio=0.1; total time=   0.0s\n",
            "[CV] END ...........................alpha=0.01, l1_ratio=0.1; total time=   0.0s\n",
            "[CV] END ...........................alpha=0.01, l1_ratio=0.1; total time=   0.0s\n",
            "[CV] END ...........................alpha=0.01, l1_ratio=0.5; total time=   0.0s\n",
            "[CV] END ...........................alpha=0.01, l1_ratio=0.5; total time=   0.0s\n",
            "[CV] END ...........................alpha=0.01, l1_ratio=0.5; total time=   0.0s\n",
            "[CV] END ...........................alpha=0.01, l1_ratio=0.5; total time=   0.0s\n",
            "[CV] END ...........................alpha=0.01, l1_ratio=0.5; total time=   0.0s\n",
            "[CV] END ...........................alpha=0.01, l1_ratio=0.7; total time=   0.0s\n",
            "[CV] END ...........................alpha=0.01, l1_ratio=0.7; total time=   0.0s\n",
            "[CV] END ...........................alpha=0.01, l1_ratio=0.7; total time=   0.0s\n",
            "[CV] END ...........................alpha=0.01, l1_ratio=0.7; total time=   0.0s\n",
            "[CV] END ...........................alpha=0.01, l1_ratio=0.7; total time=   0.0s\n",
            "[CV] END ...........................alpha=0.01, l1_ratio=0.9; total time=   0.0s\n",
            "[CV] END ...........................alpha=0.01, l1_ratio=0.9; total time=   0.0s\n",
            "[CV] END ...........................alpha=0.01, l1_ratio=0.9; total time=   0.0s\n",
            "[CV] END ...........................alpha=0.01, l1_ratio=0.9; total time=   0.0s\n",
            "[CV] END ...........................alpha=0.01, l1_ratio=0.9; total time=   0.0s\n",
            "[CV] END ..........................alpha=0.01, l1_ratio=0.95; total time=   0.0s\n",
            "[CV] END ..........................alpha=0.01, l1_ratio=0.95; total time=   0.0s\n",
            "[CV] END ..........................alpha=0.01, l1_ratio=0.95; total time=   0.0s\n",
            "[CV] END ..........................alpha=0.01, l1_ratio=0.95; total time=   0.0s\n",
            "[CV] END ..........................alpha=0.01, l1_ratio=0.95; total time=   0.0s\n",
            "[CV] END ..........................alpha=0.01, l1_ratio=0.99; total time=   0.0s\n",
            "[CV] END ..........................alpha=0.01, l1_ratio=0.99; total time=   0.0s\n",
            "[CV] END ..........................alpha=0.01, l1_ratio=0.99; total time=   0.0s\n",
            "[CV] END ..........................alpha=0.01, l1_ratio=0.99; total time=   0.0s\n",
            "[CV] END ..........................alpha=0.01, l1_ratio=0.99; total time=   0.0s\n",
            "[CV] END .............................alpha=0.01, l1_ratio=1; total time=   0.0s\n",
            "[CV] END .............................alpha=0.01, l1_ratio=1; total time=   0.0s\n",
            "[CV] END .............................alpha=0.01, l1_ratio=1; total time=   0.0s\n",
            "[CV] END .............................alpha=0.01, l1_ratio=1; total time=   0.0s\n",
            "[CV] END .............................alpha=0.01, l1_ratio=1; total time=   0.0s\n",
            "[CV] END ..........................alpha=0.012, l1_ratio=0.1; total time=   0.0s\n",
            "[CV] END ..........................alpha=0.012, l1_ratio=0.1; total time=   0.0s\n",
            "[CV] END ..........................alpha=0.012, l1_ratio=0.1; total time=   0.0s\n",
            "[CV] END ..........................alpha=0.012, l1_ratio=0.1; total time=   0.0s\n",
            "[CV] END ..........................alpha=0.012, l1_ratio=0.1; total time=   0.0s\n",
            "[CV] END ..........................alpha=0.012, l1_ratio=0.5; total time=   0.0s\n",
            "[CV] END ..........................alpha=0.012, l1_ratio=0.5; total time=   0.0s\n",
            "[CV] END ..........................alpha=0.012, l1_ratio=0.5; total time=   0.0s\n",
            "[CV] END ..........................alpha=0.012, l1_ratio=0.5; total time=   0.0s\n",
            "[CV] END ..........................alpha=0.012, l1_ratio=0.5; total time=   0.0s\n",
            "[CV] END ..........................alpha=0.012, l1_ratio=0.7; total time=   0.0s\n",
            "[CV] END ..........................alpha=0.012, l1_ratio=0.7; total time=   0.0s\n",
            "[CV] END ..........................alpha=0.012, l1_ratio=0.7; total time=   0.0s\n",
            "[CV] END ..........................alpha=0.012, l1_ratio=0.7; total time=   0.0s\n",
            "[CV] END ..........................alpha=0.012, l1_ratio=0.7; total time=   0.0s\n",
            "[CV] END ..........................alpha=0.012, l1_ratio=0.9; total time=   0.0s\n",
            "[CV] END ..........................alpha=0.012, l1_ratio=0.9; total time=   0.0s\n",
            "[CV] END ..........................alpha=0.012, l1_ratio=0.9; total time=   0.0s\n",
            "[CV] END ..........................alpha=0.012, l1_ratio=0.9; total time=   0.0s\n",
            "[CV] END ..........................alpha=0.012, l1_ratio=0.9; total time=   0.0s\n",
            "[CV] END .........................alpha=0.012, l1_ratio=0.95; total time=   0.0s\n",
            "[CV] END .........................alpha=0.012, l1_ratio=0.95; total time=   0.0s\n",
            "[CV] END .........................alpha=0.012, l1_ratio=0.95; total time=   0.0s\n",
            "[CV] END .........................alpha=0.012, l1_ratio=0.95; total time=   0.0s\n",
            "[CV] END .........................alpha=0.012, l1_ratio=0.95; total time=   0.0s\n",
            "[CV] END .........................alpha=0.012, l1_ratio=0.99; total time=   0.0s\n",
            "[CV] END .........................alpha=0.012, l1_ratio=0.99; total time=   0.0s\n",
            "[CV] END .........................alpha=0.012, l1_ratio=0.99; total time=   0.0s\n",
            "[CV] END .........................alpha=0.012, l1_ratio=0.99; total time=   0.0s\n",
            "[CV] END .........................alpha=0.012, l1_ratio=0.99; total time=   0.0s\n",
            "[CV] END ............................alpha=0.012, l1_ratio=1; total time=   0.0s\n",
            "[CV] END ............................alpha=0.012, l1_ratio=1; total time=   0.0s\n",
            "[CV] END ............................alpha=0.012, l1_ratio=1; total time=   0.0s\n",
            "[CV] END ............................alpha=0.012, l1_ratio=1; total time=   0.0s\n",
            "[CV] END ............................alpha=0.012, l1_ratio=1; total time=   0.0s\n",
            "[CV] END ............................alpha=0.2, l1_ratio=0.1; total time=   0.0s\n",
            "[CV] END ............................alpha=0.2, l1_ratio=0.1; total time=   0.0s\n",
            "[CV] END ............................alpha=0.2, l1_ratio=0.1; total time=   0.0s\n",
            "[CV] END ............................alpha=0.2, l1_ratio=0.1; total time=   0.0s\n",
            "[CV] END ............................alpha=0.2, l1_ratio=0.1; total time=   0.0s\n",
            "[CV] END ............................alpha=0.2, l1_ratio=0.5; total time=   0.0s\n",
            "[CV] END ............................alpha=0.2, l1_ratio=0.5; total time=   0.0s\n",
            "[CV] END ............................alpha=0.2, l1_ratio=0.5; total time=   0.0s\n",
            "[CV] END ............................alpha=0.2, l1_ratio=0.5; total time=   0.0s\n",
            "[CV] END ............................alpha=0.2, l1_ratio=0.5; total time=   0.0s\n",
            "[CV] END ............................alpha=0.2, l1_ratio=0.7; total time=   0.0s\n",
            "[CV] END ............................alpha=0.2, l1_ratio=0.7; total time=   0.0s\n",
            "[CV] END ............................alpha=0.2, l1_ratio=0.7; total time=   0.0s\n",
            "[CV] END ............................alpha=0.2, l1_ratio=0.7; total time=   0.0s\n",
            "[CV] END ............................alpha=0.2, l1_ratio=0.7; total time=   0.0s\n",
            "[CV] END ............................alpha=0.2, l1_ratio=0.9; total time=   0.0s\n",
            "[CV] END ............................alpha=0.2, l1_ratio=0.9; total time=   0.0s\n",
            "[CV] END ............................alpha=0.2, l1_ratio=0.9; total time=   0.0s\n",
            "[CV] END ............................alpha=0.2, l1_ratio=0.9; total time=   0.0s\n",
            "[CV] END ............................alpha=0.2, l1_ratio=0.9; total time=   0.0s\n",
            "[CV] END ...........................alpha=0.2, l1_ratio=0.95; total time=   0.0s\n",
            "[CV] END ...........................alpha=0.2, l1_ratio=0.95; total time=   0.0s\n",
            "[CV] END ...........................alpha=0.2, l1_ratio=0.95; total time=   0.0s\n",
            "[CV] END ...........................alpha=0.2, l1_ratio=0.95; total time=   0.0s\n",
            "[CV] END ...........................alpha=0.2, l1_ratio=0.95; total time=   0.0s\n",
            "[CV] END ...........................alpha=0.2, l1_ratio=0.99; total time=   0.0s\n",
            "[CV] END ...........................alpha=0.2, l1_ratio=0.99; total time=   0.0s\n",
            "[CV] END ...........................alpha=0.2, l1_ratio=0.99; total time=   0.0s\n",
            "[CV] END ...........................alpha=0.2, l1_ratio=0.99; total time=   0.0s\n",
            "[CV] END ...........................alpha=0.2, l1_ratio=0.99; total time=   0.0s\n",
            "[CV] END ..............................alpha=0.2, l1_ratio=1; total time=   0.0s\n",
            "[CV] END ..............................alpha=0.2, l1_ratio=1; total time=   0.0s\n",
            "[CV] END ..............................alpha=0.2, l1_ratio=1; total time=   0.0s\n",
            "[CV] END ..............................alpha=0.2, l1_ratio=1; total time=   0.0s\n",
            "[CV] END ..............................alpha=0.2, l1_ratio=1; total time=   0.0s\n",
            "[CV] END ............................alpha=0.5, l1_ratio=0.1; total time=   0.0s\n",
            "[CV] END ............................alpha=0.5, l1_ratio=0.1; total time=   0.0s\n",
            "[CV] END ............................alpha=0.5, l1_ratio=0.1; total time=   0.0s\n",
            "[CV] END ............................alpha=0.5, l1_ratio=0.1; total time=   0.0s\n",
            "[CV] END ............................alpha=0.5, l1_ratio=0.1; total time=   0.0s\n",
            "[CV] END ............................alpha=0.5, l1_ratio=0.5; total time=   0.0s\n",
            "[CV] END ............................alpha=0.5, l1_ratio=0.5; total time=   0.0s\n",
            "[CV] END ............................alpha=0.5, l1_ratio=0.5; total time=   0.0s\n"
          ]
        },
        {
          "name": "stdout",
          "output_type": "stream",
          "text": [
            "[CV] END ............................alpha=0.5, l1_ratio=0.5; total time=   0.0s\n",
            "[CV] END ............................alpha=0.5, l1_ratio=0.5; total time=   0.0s\n",
            "[CV] END ............................alpha=0.5, l1_ratio=0.7; total time=   0.0s\n",
            "[CV] END ............................alpha=0.5, l1_ratio=0.7; total time=   0.0s\n",
            "[CV] END ............................alpha=0.5, l1_ratio=0.7; total time=   0.0s\n",
            "[CV] END ............................alpha=0.5, l1_ratio=0.7; total time=   0.0s\n",
            "[CV] END ............................alpha=0.5, l1_ratio=0.7; total time=   0.0s\n",
            "[CV] END ............................alpha=0.5, l1_ratio=0.9; total time=   0.0s\n",
            "[CV] END ............................alpha=0.5, l1_ratio=0.9; total time=   0.0s\n",
            "[CV] END ............................alpha=0.5, l1_ratio=0.9; total time=   0.0s\n",
            "[CV] END ............................alpha=0.5, l1_ratio=0.9; total time=   0.0s\n",
            "[CV] END ............................alpha=0.5, l1_ratio=0.9; total time=   0.0s\n",
            "[CV] END ...........................alpha=0.5, l1_ratio=0.95; total time=   0.0s\n",
            "[CV] END ...........................alpha=0.5, l1_ratio=0.95; total time=   0.0s\n",
            "[CV] END ...........................alpha=0.5, l1_ratio=0.95; total time=   0.0s\n",
            "[CV] END ...........................alpha=0.5, l1_ratio=0.95; total time=   0.0s\n",
            "[CV] END ...........................alpha=0.5, l1_ratio=0.95; total time=   0.0s\n",
            "[CV] END ...........................alpha=0.5, l1_ratio=0.99; total time=   0.0s\n",
            "[CV] END ...........................alpha=0.5, l1_ratio=0.99; total time=   0.0s\n",
            "[CV] END ...........................alpha=0.5, l1_ratio=0.99; total time=   0.0s\n",
            "[CV] END ...........................alpha=0.5, l1_ratio=0.99; total time=   0.0s\n",
            "[CV] END ...........................alpha=0.5, l1_ratio=0.99; total time=   0.0s\n",
            "[CV] END ..............................alpha=0.5, l1_ratio=1; total time=   0.0s\n",
            "[CV] END ..............................alpha=0.5, l1_ratio=1; total time=   0.0s\n",
            "[CV] END ..............................alpha=0.5, l1_ratio=1; total time=   0.0s\n",
            "[CV] END ..............................alpha=0.5, l1_ratio=1; total time=   0.0s\n",
            "[CV] END ..............................alpha=0.5, l1_ratio=1; total time=   0.0s\n",
            "[CV] END ............................alpha=0.6, l1_ratio=0.1; total time=   0.0s\n",
            "[CV] END ............................alpha=0.6, l1_ratio=0.1; total time=   0.0s\n",
            "[CV] END ............................alpha=0.6, l1_ratio=0.1; total time=   0.0s\n",
            "[CV] END ............................alpha=0.6, l1_ratio=0.1; total time=   0.0s\n",
            "[CV] END ............................alpha=0.6, l1_ratio=0.1; total time=   0.0s\n",
            "[CV] END ............................alpha=0.6, l1_ratio=0.5; total time=   0.0s\n",
            "[CV] END ............................alpha=0.6, l1_ratio=0.5; total time=   0.0s\n",
            "[CV] END ............................alpha=0.6, l1_ratio=0.5; total time=   0.0s\n",
            "[CV] END ............................alpha=0.6, l1_ratio=0.5; total time=   0.0s\n",
            "[CV] END ............................alpha=0.6, l1_ratio=0.5; total time=   0.0s\n",
            "[CV] END ............................alpha=0.6, l1_ratio=0.7; total time=   0.0s\n",
            "[CV] END ............................alpha=0.6, l1_ratio=0.7; total time=   0.0s\n",
            "[CV] END ............................alpha=0.6, l1_ratio=0.7; total time=   0.0s\n",
            "[CV] END ............................alpha=0.6, l1_ratio=0.7; total time=   0.0s\n",
            "[CV] END ............................alpha=0.6, l1_ratio=0.7; total time=   0.0s\n",
            "[CV] END ............................alpha=0.6, l1_ratio=0.9; total time=   0.0s\n",
            "[CV] END ............................alpha=0.6, l1_ratio=0.9; total time=   0.0s\n",
            "[CV] END ............................alpha=0.6, l1_ratio=0.9; total time=   0.0s\n",
            "[CV] END ............................alpha=0.6, l1_ratio=0.9; total time=   0.0s\n",
            "[CV] END ............................alpha=0.6, l1_ratio=0.9; total time=   0.0s\n",
            "[CV] END ...........................alpha=0.6, l1_ratio=0.95; total time=   0.0s\n",
            "[CV] END ...........................alpha=0.6, l1_ratio=0.95; total time=   0.0s\n",
            "[CV] END ...........................alpha=0.6, l1_ratio=0.95; total time=   0.0s\n",
            "[CV] END ...........................alpha=0.6, l1_ratio=0.95; total time=   0.0s\n",
            "[CV] END ...........................alpha=0.6, l1_ratio=0.95; total time=   0.0s\n",
            "[CV] END ...........................alpha=0.6, l1_ratio=0.99; total time=   0.0s\n",
            "[CV] END ...........................alpha=0.6, l1_ratio=0.99; total time=   0.0s\n",
            "[CV] END ...........................alpha=0.6, l1_ratio=0.99; total time=   0.0s\n",
            "[CV] END ...........................alpha=0.6, l1_ratio=0.99; total time=   0.0s\n",
            "[CV] END ...........................alpha=0.6, l1_ratio=0.99; total time=   0.0s\n",
            "[CV] END ..............................alpha=0.6, l1_ratio=1; total time=   0.0s\n",
            "[CV] END ..............................alpha=0.6, l1_ratio=1; total time=   0.0s\n",
            "[CV] END ..............................alpha=0.6, l1_ratio=1; total time=   0.0s\n",
            "[CV] END ..............................alpha=0.6, l1_ratio=1; total time=   0.0s\n",
            "[CV] END ..............................alpha=0.6, l1_ratio=1; total time=   0.0s\n",
            "[CV] END ............................alpha=0.7, l1_ratio=0.1; total time=   0.0s\n",
            "[CV] END ............................alpha=0.7, l1_ratio=0.1; total time=   0.0s\n",
            "[CV] END ............................alpha=0.7, l1_ratio=0.1; total time=   0.0s\n",
            "[CV] END ............................alpha=0.7, l1_ratio=0.1; total time=   0.0s\n",
            "[CV] END ............................alpha=0.7, l1_ratio=0.1; total time=   0.0s\n",
            "[CV] END ............................alpha=0.7, l1_ratio=0.5; total time=   0.0s\n",
            "[CV] END ............................alpha=0.7, l1_ratio=0.5; total time=   0.0s\n",
            "[CV] END ............................alpha=0.7, l1_ratio=0.5; total time=   0.0s\n",
            "[CV] END ............................alpha=0.7, l1_ratio=0.5; total time=   0.0s\n",
            "[CV] END ............................alpha=0.7, l1_ratio=0.5; total time=   0.0s\n",
            "[CV] END ............................alpha=0.7, l1_ratio=0.7; total time=   0.0s\n",
            "[CV] END ............................alpha=0.7, l1_ratio=0.7; total time=   0.0s\n",
            "[CV] END ............................alpha=0.7, l1_ratio=0.7; total time=   0.0s\n",
            "[CV] END ............................alpha=0.7, l1_ratio=0.7; total time=   0.0s\n",
            "[CV] END ............................alpha=0.7, l1_ratio=0.7; total time=   0.0s\n",
            "[CV] END ............................alpha=0.7, l1_ratio=0.9; total time=   0.0s\n",
            "[CV] END ............................alpha=0.7, l1_ratio=0.9; total time=   0.0s\n",
            "[CV] END ............................alpha=0.7, l1_ratio=0.9; total time=   0.0s\n",
            "[CV] END ............................alpha=0.7, l1_ratio=0.9; total time=   0.0s\n",
            "[CV] END ............................alpha=0.7, l1_ratio=0.9; total time=   0.0s\n",
            "[CV] END ...........................alpha=0.7, l1_ratio=0.95; total time=   0.0s\n",
            "[CV] END ...........................alpha=0.7, l1_ratio=0.95; total time=   0.0s\n",
            "[CV] END ...........................alpha=0.7, l1_ratio=0.95; total time=   0.0s\n",
            "[CV] END ...........................alpha=0.7, l1_ratio=0.95; total time=   0.0s\n",
            "[CV] END ...........................alpha=0.7, l1_ratio=0.95; total time=   0.0s\n",
            "[CV] END ...........................alpha=0.7, l1_ratio=0.99; total time=   0.0s\n",
            "[CV] END ...........................alpha=0.7, l1_ratio=0.99; total time=   0.0s\n",
            "[CV] END ...........................alpha=0.7, l1_ratio=0.99; total time=   0.0s\n",
            "[CV] END ...........................alpha=0.7, l1_ratio=0.99; total time=   0.0s\n",
            "[CV] END ...........................alpha=0.7, l1_ratio=0.99; total time=   0.0s\n",
            "[CV] END ..............................alpha=0.7, l1_ratio=1; total time=   0.0s\n",
            "[CV] END ..............................alpha=0.7, l1_ratio=1; total time=   0.0s\n",
            "[CV] END ..............................alpha=0.7, l1_ratio=1; total time=   0.0s\n",
            "[CV] END ..............................alpha=0.7, l1_ratio=1; total time=   0.0s\n",
            "[CV] END ..............................alpha=0.7, l1_ratio=1; total time=   0.0s\n",
            "[CV] END ..............................alpha=1, l1_ratio=0.1; total time=   0.0s\n",
            "[CV] END ..............................alpha=1, l1_ratio=0.1; total time=   0.0s\n",
            "[CV] END ..............................alpha=1, l1_ratio=0.1; total time=   0.0s\n",
            "[CV] END ..............................alpha=1, l1_ratio=0.1; total time=   0.0s\n",
            "[CV] END ..............................alpha=1, l1_ratio=0.1; total time=   0.0s\n",
            "[CV] END ..............................alpha=1, l1_ratio=0.5; total time=   0.0s\n",
            "[CV] END ..............................alpha=1, l1_ratio=0.5; total time=   0.0s\n",
            "[CV] END ..............................alpha=1, l1_ratio=0.5; total time=   0.0s\n",
            "[CV] END ..............................alpha=1, l1_ratio=0.5; total time=   0.0s\n",
            "[CV] END ..............................alpha=1, l1_ratio=0.5; total time=   0.0s\n",
            "[CV] END ..............................alpha=1, l1_ratio=0.7; total time=   0.0s\n",
            "[CV] END ..............................alpha=1, l1_ratio=0.7; total time=   0.0s\n",
            "[CV] END ..............................alpha=1, l1_ratio=0.7; total time=   0.0s\n",
            "[CV] END ..............................alpha=1, l1_ratio=0.7; total time=   0.0s\n",
            "[CV] END ..............................alpha=1, l1_ratio=0.7; total time=   0.0s\n",
            "[CV] END ..............................alpha=1, l1_ratio=0.9; total time=   0.0s\n",
            "[CV] END ..............................alpha=1, l1_ratio=0.9; total time=   0.0s\n",
            "[CV] END ..............................alpha=1, l1_ratio=0.9; total time=   0.0s\n",
            "[CV] END ..............................alpha=1, l1_ratio=0.9; total time=   0.0s\n",
            "[CV] END ..............................alpha=1, l1_ratio=0.9; total time=   0.0s\n",
            "[CV] END .............................alpha=1, l1_ratio=0.95; total time=   0.0s\n",
            "[CV] END .............................alpha=1, l1_ratio=0.95; total time=   0.0s\n",
            "[CV] END .............................alpha=1, l1_ratio=0.95; total time=   0.0s\n",
            "[CV] END .............................alpha=1, l1_ratio=0.95; total time=   0.0s\n",
            "[CV] END .............................alpha=1, l1_ratio=0.95; total time=   0.0s\n",
            "[CV] END .............................alpha=1, l1_ratio=0.99; total time=   0.0s\n",
            "[CV] END .............................alpha=1, l1_ratio=0.99; total time=   0.0s\n",
            "[CV] END .............................alpha=1, l1_ratio=0.99; total time=   0.0s\n",
            "[CV] END .............................alpha=1, l1_ratio=0.99; total time=   0.0s\n",
            "[CV] END .............................alpha=1, l1_ratio=0.99; total time=   0.0s\n",
            "[CV] END ................................alpha=1, l1_ratio=1; total time=   0.0s\n",
            "[CV] END ................................alpha=1, l1_ratio=1; total time=   0.0s\n",
            "[CV] END ................................alpha=1, l1_ratio=1; total time=   0.0s\n",
            "[CV] END ................................alpha=1, l1_ratio=1; total time=   0.0s\n",
            "[CV] END ................................alpha=1, l1_ratio=1; total time=   0.0s\n"
          ]
        },
        {
          "data": {
            "text/html": [
              "<style>#sk-container-id-4 {color: black;background-color: white;}#sk-container-id-4 pre{padding: 0;}#sk-container-id-4 div.sk-toggleable {background-color: white;}#sk-container-id-4 label.sk-toggleable__label {cursor: pointer;display: block;width: 100%;margin-bottom: 0;padding: 0.3em;box-sizing: border-box;text-align: center;}#sk-container-id-4 label.sk-toggleable__label-arrow:before {content: \"▸\";float: left;margin-right: 0.25em;color: #696969;}#sk-container-id-4 label.sk-toggleable__label-arrow:hover:before {color: black;}#sk-container-id-4 div.sk-estimator:hover label.sk-toggleable__label-arrow:before {color: black;}#sk-container-id-4 div.sk-toggleable__content {max-height: 0;max-width: 0;overflow: hidden;text-align: left;background-color: #f0f8ff;}#sk-container-id-4 div.sk-toggleable__content pre {margin: 0.2em;color: black;border-radius: 0.25em;background-color: #f0f8ff;}#sk-container-id-4 input.sk-toggleable__control:checked~div.sk-toggleable__content {max-height: 200px;max-width: 100%;overflow: auto;}#sk-container-id-4 input.sk-toggleable__control:checked~label.sk-toggleable__label-arrow:before {content: \"▾\";}#sk-container-id-4 div.sk-estimator input.sk-toggleable__control:checked~label.sk-toggleable__label {background-color: #d4ebff;}#sk-container-id-4 div.sk-label input.sk-toggleable__control:checked~label.sk-toggleable__label {background-color: #d4ebff;}#sk-container-id-4 input.sk-hidden--visually {border: 0;clip: rect(1px 1px 1px 1px);clip: rect(1px, 1px, 1px, 1px);height: 1px;margin: -1px;overflow: hidden;padding: 0;position: absolute;width: 1px;}#sk-container-id-4 div.sk-estimator {font-family: monospace;background-color: #f0f8ff;border: 1px dotted black;border-radius: 0.25em;box-sizing: border-box;margin-bottom: 0.5em;}#sk-container-id-4 div.sk-estimator:hover {background-color: #d4ebff;}#sk-container-id-4 div.sk-parallel-item::after {content: \"\";width: 100%;border-bottom: 1px solid gray;flex-grow: 1;}#sk-container-id-4 div.sk-label:hover label.sk-toggleable__label {background-color: #d4ebff;}#sk-container-id-4 div.sk-serial::before {content: \"\";position: absolute;border-left: 1px solid gray;box-sizing: border-box;top: 0;bottom: 0;left: 50%;z-index: 0;}#sk-container-id-4 div.sk-serial {display: flex;flex-direction: column;align-items: center;background-color: white;padding-right: 0.2em;padding-left: 0.2em;position: relative;}#sk-container-id-4 div.sk-item {position: relative;z-index: 1;}#sk-container-id-4 div.sk-parallel {display: flex;align-items: stretch;justify-content: center;background-color: white;position: relative;}#sk-container-id-4 div.sk-item::before, #sk-container-id-4 div.sk-parallel-item::before {content: \"\";position: absolute;border-left: 1px solid gray;box-sizing: border-box;top: 0;bottom: 0;left: 50%;z-index: -1;}#sk-container-id-4 div.sk-parallel-item {display: flex;flex-direction: column;z-index: 1;position: relative;background-color: white;}#sk-container-id-4 div.sk-parallel-item:first-child::after {align-self: flex-end;width: 50%;}#sk-container-id-4 div.sk-parallel-item:last-child::after {align-self: flex-start;width: 50%;}#sk-container-id-4 div.sk-parallel-item:only-child::after {width: 0;}#sk-container-id-4 div.sk-dashed-wrapped {border: 1px dashed gray;margin: 0 0.4em 0.5em 0.4em;box-sizing: border-box;padding-bottom: 0.4em;background-color: white;}#sk-container-id-4 div.sk-label label {font-family: monospace;font-weight: bold;display: inline-block;line-height: 1.2em;}#sk-container-id-4 div.sk-label-container {text-align: center;}#sk-container-id-4 div.sk-container {/* jupyter's `normalize.less` sets `[hidden] { display: none; }` but bootstrap.min.css set `[hidden] { display: none !important; }` so we also need the `!important` here to be able to override the default hidden behavior on the sphinx rendered scikit-learn.org. See: https://github.com/scikit-learn/scikit-learn/issues/21755 */display: inline-block !important;position: relative;}#sk-container-id-4 div.sk-text-repr-fallback {display: none;}</style><div id=\"sk-container-id-4\" class=\"sk-top-container\"><div class=\"sk-text-repr-fallback\"><pre>GridSearchCV(cv=5, estimator=ElasticNet(max_iter=10000, random_state=42),\n",
              "             param_grid={&#x27;alpha&#x27;: [0.01, 0.012, 0.2, 0.5, 0.6, 0.7, 1],\n",
              "                         &#x27;l1_ratio&#x27;: [0.1, 0.5, 0.7, 0.9, 0.95, 0.99, 1]},\n",
              "             scoring=&#x27;neg_root_mean_squared_error&#x27;, verbose=2)</pre><b>In a Jupyter environment, please rerun this cell to show the HTML representation or trust the notebook. <br />On GitHub, the HTML representation is unable to render, please try loading this page with nbviewer.org.</b></div><div class=\"sk-container\" hidden><div class=\"sk-item sk-dashed-wrapped\"><div class=\"sk-label-container\"><div class=\"sk-label sk-toggleable\"><input class=\"sk-toggleable__control sk-hidden--visually\" id=\"sk-estimator-id-4\" type=\"checkbox\" ><label for=\"sk-estimator-id-4\" class=\"sk-toggleable__label sk-toggleable__label-arrow\">GridSearchCV</label><div class=\"sk-toggleable__content\"><pre>GridSearchCV(cv=5, estimator=ElasticNet(max_iter=10000, random_state=42),\n",
              "             param_grid={&#x27;alpha&#x27;: [0.01, 0.012, 0.2, 0.5, 0.6, 0.7, 1],\n",
              "                         &#x27;l1_ratio&#x27;: [0.1, 0.5, 0.7, 0.9, 0.95, 0.99, 1]},\n",
              "             scoring=&#x27;neg_root_mean_squared_error&#x27;, verbose=2)</pre></div></div></div><div class=\"sk-parallel\"><div class=\"sk-parallel-item\"><div class=\"sk-item\"><div class=\"sk-label-container\"><div class=\"sk-label sk-toggleable\"><input class=\"sk-toggleable__control sk-hidden--visually\" id=\"sk-estimator-id-5\" type=\"checkbox\" ><label for=\"sk-estimator-id-5\" class=\"sk-toggleable__label sk-toggleable__label-arrow\">estimator: ElasticNet</label><div class=\"sk-toggleable__content\"><pre>ElasticNet(max_iter=10000, random_state=42)</pre></div></div></div><div class=\"sk-serial\"><div class=\"sk-item\"><div class=\"sk-estimator sk-toggleable\"><input class=\"sk-toggleable__control sk-hidden--visually\" id=\"sk-estimator-id-6\" type=\"checkbox\" ><label for=\"sk-estimator-id-6\" class=\"sk-toggleable__label sk-toggleable__label-arrow\">ElasticNet</label><div class=\"sk-toggleable__content\"><pre>ElasticNet(max_iter=10000, random_state=42)</pre></div></div></div></div></div></div></div></div></div></div>"
            ],
            "text/plain": [
              "GridSearchCV(cv=5, estimator=ElasticNet(max_iter=10000, random_state=42),\n",
              "             param_grid={'alpha': [0.01, 0.012, 0.2, 0.5, 0.6, 0.7, 1],\n",
              "                         'l1_ratio': [0.1, 0.5, 0.7, 0.9, 0.95, 0.99, 1]},\n",
              "             scoring='neg_root_mean_squared_error', verbose=2)"
            ]
          },
          "execution_count": 50,
          "metadata": {},
          "output_type": "execute_result"
        }
      ],
      "source": [
        "grid_model.fit(X_train_scaled, y_train)"
      ]
    },
    {
      "cell_type": "code",
      "execution_count": null,
      "id": "short-snowboard",
      "metadata": {
        "ExecuteTime": {
          "end_time": "2022-08-17T19:36:58.620478Z",
          "start_time": "2022-08-17T19:36:58.598487Z"
        },
        "id": "short-snowboard",
        "outputId": "6252e24d-91b3-4106-e3d6-7c2de9066940"
      },
      "outputs": [
        {
          "data": {
            "text/plain": [
              "{'alpha': 0.01, 'l1_ratio': 1}"
            ]
          },
          "execution_count": 51,
          "metadata": {},
          "output_type": "execute_result"
        }
      ],
      "source": [
        "grid_model.best_params_"
      ]
    },
    {
      "cell_type": "code",
      "execution_count": null,
      "id": "personalized-separate",
      "metadata": {
        "ExecuteTime": {
          "end_time": "2022-08-17T19:37:01.167342Z",
          "start_time": "2022-08-17T19:37:01.030756Z"
        },
        "id": "personalized-separate",
        "outputId": "31aa276d-ab40-442e-b6dc-15dcfbb85ea7"
      },
      "outputs": [
        {
          "data": {
            "text/html": [
              "<div><div id=957659df-37f9-4efc-adf3-8d07693c4311 style=\"display:none; background-color:#9D6CFF; color:white; width:200px; height:30px; padding-left:5px; border-radius:4px; flex-direction:row; justify-content:space-around; align-items:center;\" onmouseover=\"this.style.backgroundColor='#BA9BF8'\" onmouseout=\"this.style.backgroundColor='#9D6CFF'\" onclick=\"window.commands?.execute('create-mitosheet-from-dataframe-output');\">See Full Dataframe in Mito</div> <script> if (window.commands?.hasCommand('create-mitosheet-from-dataframe-output')) document.getElementById('957659df-37f9-4efc-adf3-8d07693c4311').style.display = 'flex' </script> <table border=\"1\" class=\"dataframe\">\n",
              "  <thead>\n",
              "    <tr style=\"text-align: right;\">\n",
              "      <th></th>\n",
              "      <th>mean_fit_time</th>\n",
              "      <th>std_fit_time</th>\n",
              "      <th>mean_score_time</th>\n",
              "      <th>std_score_time</th>\n",
              "      <th>param_alpha</th>\n",
              "      <th>param_l1_ratio</th>\n",
              "      <th>params</th>\n",
              "      <th>split0_test_score</th>\n",
              "      <th>split1_test_score</th>\n",
              "      <th>split2_test_score</th>\n",
              "      <th>split3_test_score</th>\n",
              "      <th>split4_test_score</th>\n",
              "      <th>mean_test_score</th>\n",
              "      <th>std_test_score</th>\n",
              "      <th>rank_test_score</th>\n",
              "    </tr>\n",
              "  </thead>\n",
              "  <tbody>\n",
              "    <tr>\n",
              "      <th>0</th>\n",
              "      <td>0.043771</td>\n",
              "      <td>0.007568</td>\n",
              "      <td>0.001002</td>\n",
              "      <td>0.000001</td>\n",
              "      <td>0.01</td>\n",
              "      <td>0.1</td>\n",
              "      <td>{'alpha': 0.01, 'l1_ratio': 0.1}</td>\n",
              "      <td>-0.586201</td>\n",
              "      <td>-0.693806</td>\n",
              "      <td>-1.184123</td>\n",
              "      <td>-0.491352</td>\n",
              "      <td>-0.490280</td>\n",
              "      <td>-0.689152</td>\n",
              "      <td>0.258570</td>\n",
              "      <td>13</td>\n",
              "    </tr>\n",
              "    <tr>\n",
              "      <th>1</th>\n",
              "      <td>0.012594</td>\n",
              "      <td>0.002153</td>\n",
              "      <td>0.000998</td>\n",
              "      <td>0.000630</td>\n",
              "      <td>0.01</td>\n",
              "      <td>0.5</td>\n",
              "      <td>{'alpha': 0.01, 'l1_ratio': 0.5}</td>\n",
              "      <td>-0.553277</td>\n",
              "      <td>-0.537915</td>\n",
              "      <td>-1.172816</td>\n",
              "      <td>-0.488299</td>\n",
              "      <td>-0.493055</td>\n",
              "      <td>-0.649072</td>\n",
              "      <td>0.263070</td>\n",
              "      <td>10</td>\n",
              "    </tr>\n",
              "    <tr>\n",
              "      <th>2</th>\n",
              "      <td>0.010993</td>\n",
              "      <td>0.002095</td>\n",
              "      <td>0.000800</td>\n",
              "      <td>0.000400</td>\n",
              "      <td>0.01</td>\n",
              "      <td>0.7</td>\n",
              "      <td>{'alpha': 0.01, 'l1_ratio': 0.7}</td>\n",
              "      <td>-0.529432</td>\n",
              "      <td>-0.527849</td>\n",
              "      <td>-1.157311</td>\n",
              "      <td>-0.480464</td>\n",
              "      <td>-0.500409</td>\n",
              "      <td>-0.639093</td>\n",
              "      <td>0.259749</td>\n",
              "      <td>9</td>\n",
              "    </tr>\n",
              "    <tr>\n",
              "      <th>3</th>\n",
              "      <td>0.015782</td>\n",
              "      <td>0.002476</td>\n",
              "      <td>0.001800</td>\n",
              "      <td>0.002134</td>\n",
              "      <td>0.01</td>\n",
              "      <td>0.9</td>\n",
              "      <td>{'alpha': 0.01, 'l1_ratio': 0.9}</td>\n",
              "      <td>-0.490240</td>\n",
              "      <td>-0.504487</td>\n",
              "      <td>-1.120156</td>\n",
              "      <td>-0.446524</td>\n",
              "      <td>-0.484072</td>\n",
              "      <td>-0.609096</td>\n",
              "      <td>0.256247</td>\n",
              "      <td>6</td>\n",
              "    </tr>\n",
              "    <tr>\n",
              "      <th>4</th>\n",
              "      <td>0.013425</td>\n",
              "      <td>0.002086</td>\n",
              "      <td>0.001804</td>\n",
              "      <td>0.000983</td>\n",
              "      <td>0.01</td>\n",
              "      <td>0.95</td>\n",
              "      <td>{'alpha': 0.01, 'l1_ratio': 0.95}</td>\n",
              "      <td>-0.470398</td>\n",
              "      <td>-0.497256</td>\n",
              "      <td>-1.110933</td>\n",
              "      <td>-0.437316</td>\n",
              "      <td>-0.481998</td>\n",
              "      <td>-0.599580</td>\n",
              "      <td>0.256435</td>\n",
              "      <td>3</td>\n",
              "    </tr>\n",
              "    <tr>\n",
              "      <th>...</th>\n",
              "      <td>...</td>\n",
              "      <td>...</td>\n",
              "      <td>...</td>\n",
              "      <td>...</td>\n",
              "      <td>...</td>\n",
              "      <td>...</td>\n",
              "      <td>...</td>\n",
              "      <td>...</td>\n",
              "      <td>...</td>\n",
              "      <td>...</td>\n",
              "      <td>...</td>\n",
              "      <td>...</td>\n",
              "      <td>...</td>\n",
              "      <td>...</td>\n",
              "      <td>...</td>\n",
              "    </tr>\n",
              "    <tr>\n",
              "      <th>44</th>\n",
              "      <td>0.002197</td>\n",
              "      <td>0.000401</td>\n",
              "      <td>0.001000</td>\n",
              "      <td>0.000002</td>\n",
              "      <td>1</td>\n",
              "      <td>0.7</td>\n",
              "      <td>{'alpha': 1, 'l1_ratio': 0.7}</td>\n",
              "      <td>-1.664595</td>\n",
              "      <td>-1.230235</td>\n",
              "      <td>-1.962205</td>\n",
              "      <td>-1.867136</td>\n",
              "      <td>-1.635873</td>\n",
              "      <td>-1.672009</td>\n",
              "      <td>0.252513</td>\n",
              "      <td>47</td>\n",
              "    </tr>\n",
              "    <tr>\n",
              "      <th>45</th>\n",
              "      <td>0.002398</td>\n",
              "      <td>0.000800</td>\n",
              "      <td>0.000800</td>\n",
              "      <td>0.000400</td>\n",
              "      <td>1</td>\n",
              "      <td>0.9</td>\n",
              "      <td>{'alpha': 1, 'l1_ratio': 0.9}</td>\n",
              "      <td>-1.636135</td>\n",
              "      <td>-1.113050</td>\n",
              "      <td>-1.856423</td>\n",
              "      <td>-1.787119</td>\n",
              "      <td>-1.465115</td>\n",
              "      <td>-1.571568</td>\n",
              "      <td>0.265836</td>\n",
              "      <td>45</td>\n",
              "    </tr>\n",
              "    <tr>\n",
              "      <th>46</th>\n",
              "      <td>0.002232</td>\n",
              "      <td>0.000467</td>\n",
              "      <td>0.000799</td>\n",
              "      <td>0.000400</td>\n",
              "      <td>1</td>\n",
              "      <td>0.95</td>\n",
              "      <td>{'alpha': 1, 'l1_ratio': 0.95}</td>\n",
              "      <td>-1.602521</td>\n",
              "      <td>-1.062384</td>\n",
              "      <td>-1.811323</td>\n",
              "      <td>-1.721412</td>\n",
              "      <td>-1.386661</td>\n",
              "      <td>-1.516860</td>\n",
              "      <td>0.268100</td>\n",
              "      <td>44</td>\n",
              "    </tr>\n",
              "    <tr>\n",
              "      <th>47</th>\n",
              "      <td>0.002396</td>\n",
              "      <td>0.000491</td>\n",
              "      <td>0.000800</td>\n",
              "      <td>0.000400</td>\n",
              "      <td>1</td>\n",
              "      <td>0.99</td>\n",
              "      <td>{'alpha': 1, 'l1_ratio': 0.99}</td>\n",
              "      <td>-1.539582</td>\n",
              "      <td>-1.006278</td>\n",
              "      <td>-1.772727</td>\n",
              "      <td>-1.688547</td>\n",
              "      <td>-1.334539</td>\n",
              "      <td>-1.468335</td>\n",
              "      <td>0.274817</td>\n",
              "      <td>41</td>\n",
              "    </tr>\n",
              "    <tr>\n",
              "      <th>48</th>\n",
              "      <td>0.001799</td>\n",
              "      <td>0.000400</td>\n",
              "      <td>0.000799</td>\n",
              "      <td>0.000400</td>\n",
              "      <td>1</td>\n",
              "      <td>1</td>\n",
              "      <td>{'alpha': 1, 'l1_ratio': 1}</td>\n",
              "      <td>-1.517086</td>\n",
              "      <td>-1.000265</td>\n",
              "      <td>-1.760668</td>\n",
              "      <td>-1.680901</td>\n",
              "      <td>-1.335466</td>\n",
              "      <td>-1.458877</td>\n",
              "      <td>0.271778</td>\n",
              "      <td>40</td>\n",
              "    </tr>\n",
              "  </tbody>\n",
              "</table></div>"
            ],
            "text/plain": [
              "    mean_fit_time  std_fit_time  mean_score_time  std_score_time param_alpha  \\\n",
              "0        0.043771      0.007568         0.001002        0.000001        0.01   \n",
              "1        0.012594      0.002153         0.000998        0.000630        0.01   \n",
              "2        0.010993      0.002095         0.000800        0.000400        0.01   \n",
              "3        0.015782      0.002476         0.001800        0.002134        0.01   \n",
              "4        0.013425      0.002086         0.001804        0.000983        0.01   \n",
              "5        0.015191      0.003708         0.000800        0.000400        0.01   \n",
              "6        0.015584      0.003187         0.001800        0.001598        0.01   \n",
              "7        0.029807      0.008521         0.001000        0.000632       0.012   \n",
              "8        0.008394      0.001200         0.001201        0.000400       0.012   \n",
              "9        0.008591      0.002150         0.000801        0.000400       0.012   \n",
              "10       0.011992      0.001414         0.000800        0.000400       0.012   \n",
              "11       0.012975      0.002421         0.001198        0.000400       0.012   \n",
              "12       0.011592      0.001626         0.001002        0.000001       0.012   \n",
              "13       0.014576      0.002938         0.001200        0.000399       0.012   \n",
              "14       0.009430      0.002748         0.001199        0.000400         0.2   \n",
              "15       0.003397      0.001020         0.001204        0.000399         0.2   \n",
              "16       0.003598      0.001019         0.000800        0.000400         0.2   \n",
              "17       0.002999      0.000895         0.001197        0.000747         0.2   \n",
              "18       0.002397      0.000490         0.000600        0.000490         0.2   \n",
              "19       0.002198      0.000401         0.000799        0.000400         0.2   \n",
              "20       0.002399      0.000490         0.000999        0.000002         0.2   \n",
              "21       0.005596      0.001200         0.001003        0.000005         0.5   \n",
              "22       0.003801      0.000980         0.001397        0.000486         0.5   \n",
              "23       0.005794      0.003123         0.001601        0.000492         0.5   \n",
              "24       0.003800      0.000394         0.001197        0.000394         0.5   \n",
              "25       0.002198      0.000401         0.000799        0.000399         0.5   \n",
              "26       0.003197      0.001466         0.000799        0.000747         0.5   \n",
              "27       0.002403      0.000498         0.000993        0.000012         0.5   \n",
              "28       0.003581      0.000511         0.000800        0.000400         0.6   \n",
              "29       0.002198      0.000399         0.000801        0.000400         0.6   \n",
              "30       0.002797      0.000747         0.000400        0.000490         0.6   \n",
              "31       0.002799      0.001165         0.001001        0.000634         0.6   \n",
              "32       0.002198      0.000401         0.000799        0.000399         0.6   \n",
              "33       0.001996      0.000007         0.000600        0.000490         0.6   \n",
              "34       0.002398      0.000491         0.000800        0.000400         0.6   \n",
              "35       0.003198      0.000399         0.000599        0.000489         0.7   \n",
              "36       0.002398      0.000489         0.000799        0.000400         0.7   \n",
              "37       0.002600      0.000490         0.000800        0.000400         0.7   \n",
              "38       0.002623      0.000511         0.000599        0.000489         0.7   \n",
              "39       0.002799      0.000749         0.001198        0.000401         0.7   \n",
              "40       0.003597      0.002243         0.000600        0.000490         0.7   \n",
              "41       0.003401      0.001020         0.000997        0.000632         0.7   \n",
              "42       0.003599      0.000487         0.000599        0.000489           1   \n",
              "43       0.003198      0.000980         0.000600        0.000490           1   \n",
              "44       0.002197      0.000401         0.001000        0.000002           1   \n",
              "45       0.002398      0.000800         0.000800        0.000400           1   \n",
              "46       0.002232      0.000467         0.000799        0.000400           1   \n",
              "47       0.002396      0.000491         0.000800        0.000400           1   \n",
              "48       0.001799      0.000400         0.000799        0.000400           1   \n",
              "\n",
              "   param_l1_ratio                              params  split0_test_score  \\\n",
              "0             0.1    {'alpha': 0.01, 'l1_ratio': 0.1}          -0.586201   \n",
              "1             0.5    {'alpha': 0.01, 'l1_ratio': 0.5}          -0.553277   \n",
              "2             0.7    {'alpha': 0.01, 'l1_ratio': 0.7}          -0.529432   \n",
              "3             0.9    {'alpha': 0.01, 'l1_ratio': 0.9}          -0.490240   \n",
              "4            0.95   {'alpha': 0.01, 'l1_ratio': 0.95}          -0.470398   \n",
              "5            0.99   {'alpha': 0.01, 'l1_ratio': 0.99}          -0.455118   \n",
              "6               1      {'alpha': 0.01, 'l1_ratio': 1}          -0.451422   \n",
              "7             0.1   {'alpha': 0.012, 'l1_ratio': 0.1}          -0.606883   \n",
              "8             0.5   {'alpha': 0.012, 'l1_ratio': 0.5}          -0.573940   \n",
              "9             0.7   {'alpha': 0.012, 'l1_ratio': 0.7}          -0.552026   \n",
              "10            0.9   {'alpha': 0.012, 'l1_ratio': 0.9}          -0.505583   \n",
              "11           0.95  {'alpha': 0.012, 'l1_ratio': 0.95}          -0.483479   \n",
              "12           0.99  {'alpha': 0.012, 'l1_ratio': 0.99}          -0.468366   \n",
              "13              1     {'alpha': 0.012, 'l1_ratio': 1}          -0.466076   \n",
              "14            0.1     {'alpha': 0.2, 'l1_ratio': 0.1}          -0.972206   \n",
              "15            0.5     {'alpha': 0.2, 'l1_ratio': 0.5}          -0.906636   \n",
              "16            0.7     {'alpha': 0.2, 'l1_ratio': 0.7}          -0.882087   \n",
              "17            0.9     {'alpha': 0.2, 'l1_ratio': 0.9}          -0.902594   \n",
              "18           0.95    {'alpha': 0.2, 'l1_ratio': 0.95}          -0.921866   \n",
              "19           0.99    {'alpha': 0.2, 'l1_ratio': 0.99}          -0.917303   \n",
              "20              1       {'alpha': 0.2, 'l1_ratio': 1}          -0.913758   \n",
              "21            0.1     {'alpha': 0.5, 'l1_ratio': 0.1}          -1.260343   \n",
              "22            0.5     {'alpha': 0.5, 'l1_ratio': 0.5}          -1.213914   \n",
              "23            0.7     {'alpha': 0.5, 'l1_ratio': 0.7}          -1.180505   \n",
              "24            0.9     {'alpha': 0.5, 'l1_ratio': 0.9}          -1.119492   \n",
              "25           0.95    {'alpha': 0.5, 'l1_ratio': 0.95}          -1.123749   \n",
              "26           0.99    {'alpha': 0.5, 'l1_ratio': 0.99}          -1.097374   \n",
              "27              1       {'alpha': 0.5, 'l1_ratio': 1}          -1.086169   \n",
              "28            0.1     {'alpha': 0.6, 'l1_ratio': 0.1}          -1.332909   \n",
              "29            0.5     {'alpha': 0.6, 'l1_ratio': 0.5}          -1.298813   \n",
              "30            0.7     {'alpha': 0.6, 'l1_ratio': 0.7}          -1.279535   \n",
              "31            0.9     {'alpha': 0.6, 'l1_ratio': 0.9}          -1.204765   \n",
              "32           0.95    {'alpha': 0.6, 'l1_ratio': 0.95}          -1.208810   \n",
              "33           0.99    {'alpha': 0.6, 'l1_ratio': 0.99}          -1.175419   \n",
              "34              1       {'alpha': 0.6, 'l1_ratio': 1}          -1.161634   \n",
              "35            0.1     {'alpha': 0.7, 'l1_ratio': 0.1}          -1.398060   \n",
              "36            0.5     {'alpha': 0.7, 'l1_ratio': 0.5}          -1.378689   \n",
              "37            0.7     {'alpha': 0.7, 'l1_ratio': 0.7}          -1.377593   \n",
              "38            0.9     {'alpha': 0.7, 'l1_ratio': 0.9}          -1.313132   \n",
              "39           0.95    {'alpha': 0.7, 'l1_ratio': 0.95}          -1.300447   \n",
              "40           0.99    {'alpha': 0.7, 'l1_ratio': 0.99}          -1.259765   \n",
              "41              1       {'alpha': 0.7, 'l1_ratio': 1}          -1.243544   \n",
              "42            0.1       {'alpha': 1, 'l1_ratio': 0.1}          -1.545450   \n",
              "43            0.5       {'alpha': 1, 'l1_ratio': 0.5}          -1.602299   \n",
              "44            0.7       {'alpha': 1, 'l1_ratio': 0.7}          -1.664595   \n",
              "45            0.9       {'alpha': 1, 'l1_ratio': 0.9}          -1.636135   \n",
              "46           0.95      {'alpha': 1, 'l1_ratio': 0.95}          -1.602521   \n",
              "47           0.99      {'alpha': 1, 'l1_ratio': 0.99}          -1.539582   \n",
              "48              1         {'alpha': 1, 'l1_ratio': 1}          -1.517086   \n",
              "\n",
              "    split1_test_score  split2_test_score  split3_test_score  \\\n",
              "0           -0.693806          -1.184123          -0.491352   \n",
              "1           -0.537915          -1.172816          -0.488299   \n",
              "2           -0.527849          -1.157311          -0.480464   \n",
              "3           -0.504487          -1.120156          -0.446524   \n",
              "4           -0.497256          -1.110933          -0.437316   \n",
              "5           -0.493277          -1.098376          -0.430248   \n",
              "6           -0.492426          -1.094927          -0.428596   \n",
              "7           -0.654207          -1.214541          -0.509165   \n",
              "8           -0.553763          -1.195471          -0.509639   \n",
              "9           -0.551934          -1.180732          -0.504933   \n",
              "10          -0.525259          -1.141664          -0.471222   \n",
              "11          -0.517102          -1.118223          -0.460430   \n",
              "12          -0.512737          -1.112995          -0.453263   \n",
              "13          -0.511837          -1.111973          -0.450883   \n",
              "14          -0.869590          -1.615619          -1.078939   \n",
              "15          -0.876576          -1.520775          -1.051188   \n",
              "16          -0.852320          -1.455524          -1.029229   \n",
              "17          -0.870497          -1.393149          -1.069304   \n",
              "18          -0.866442          -1.369106          -1.072776   \n",
              "19          -0.857315          -1.346507          -1.069400   \n",
              "20          -0.859586          -1.340447          -1.067865   \n",
              "21          -1.159899          -1.872176          -1.434529   \n",
              "22          -1.065128          -1.728719          -1.415297   \n",
              "23          -0.966394          -1.631385          -1.382534   \n",
              "24          -0.870232          -1.490861          -1.283164   \n",
              "25          -0.832878          -1.441084          -1.273216   \n",
              "26          -0.803472          -1.418566          -1.262118   \n",
              "27          -0.805099          -1.414852          -1.257717   \n",
              "28          -1.232905          -1.927184          -1.516168   \n",
              "29          -1.107643          -1.787996          -1.511611   \n",
              "30          -1.012659          -1.698784          -1.491052   \n",
              "31          -0.896199          -1.541171          -1.378415   \n",
              "32          -0.853617          -1.497385          -1.353418   \n",
              "33          -0.817082          -1.478128          -1.339363   \n",
              "34          -0.817501          -1.472840          -1.334083   \n",
              "35          -1.295100          -1.973697          -1.587725   \n",
              "36          -1.149590          -1.844528          -1.600500   \n",
              "37          -1.065161          -1.764140          -1.594376   \n",
              "38          -0.935518          -1.604515          -1.484070   \n",
              "39          -0.888793          -1.568283          -1.438150   \n",
              "40          -0.845833          -1.544125          -1.421358   \n",
              "41          -0.844743          -1.537142          -1.415298   \n",
              "42          -1.424101          -2.089439          -1.756087   \n",
              "43          -1.272881          -2.003559          -1.839787   \n",
              "44          -1.230235          -1.962205          -1.867136   \n",
              "45          -1.113050          -1.856423          -1.787119   \n",
              "46          -1.062384          -1.811323          -1.721412   \n",
              "47          -1.006278          -1.772727          -1.688547   \n",
              "48          -1.000265          -1.760668          -1.680901   \n",
              "\n",
              "    split4_test_score  mean_test_score  std_test_score  rank_test_score  \n",
              "0           -0.490280        -0.689152        0.258570               13  \n",
              "1           -0.493055        -0.649072        0.263070               10  \n",
              "2           -0.500409        -0.639093        0.259749                9  \n",
              "3           -0.484072        -0.609096        0.256247                6  \n",
              "4           -0.481998        -0.599580        0.256435                3  \n",
              "5           -0.484677        -0.592339        0.254000                2  \n",
              "6           -0.486989        -0.590872        0.253114                1  \n",
              "7           -0.495180        -0.695995        0.266011               14  \n",
              "8           -0.498213        -0.666205        0.266088               12  \n",
              "9           -0.506986        -0.659322        0.261517               11  \n",
              "10          -0.484172        -0.625580        0.258700                8  \n",
              "11          -0.482089        -0.612265        0.253628                7  \n",
              "12          -0.482878        -0.606048        0.254233                5  \n",
              "13          -0.483401        -0.604834        0.254377                4  \n",
              "14          -1.019741        -1.111219        0.261357               23  \n",
              "15          -0.999940        -1.071023        0.233476               20  \n",
              "16          -0.937423        -1.031316        0.220491               19  \n",
              "17          -0.835960        -1.014301        0.205677               18  \n",
              "18          -0.794436        -1.004925        0.203771               17  \n",
              "19          -0.761737        -0.990452        0.204154               16  \n",
              "20          -0.759712        -0.988274        0.202343               15  \n",
              "21          -1.473048        -1.439999        0.244390               39  \n",
              "22          -1.344030        -1.353418        0.222414               35  \n",
              "23          -1.213010        -1.274765        0.222073               33  \n",
              "24          -1.023420        -1.157434        0.213947               26  \n",
              "25          -0.969562        -1.128098        0.215094               24  \n",
              "26          -0.919407        -1.100188        0.222852               22  \n",
              "27          -0.917666        -1.096301        0.221062               21  \n",
              "28          -1.569830        -1.515799        0.239013               43  \n",
              "29          -1.427681        -1.426749        0.226229               37  \n",
              "30          -1.304285        -1.357263        0.228970               36  \n",
              "31          -1.100797        -1.224269        0.222460               30  \n",
              "32          -1.045287        -1.191703        0.226109               28  \n",
              "33          -0.991787        -1.160356        0.236433               27  \n",
              "34          -0.990243        -1.155260        0.234174               25  \n",
              "35          -1.645097        -1.579936        0.233908               46  \n",
              "36          -1.508856        -1.496433        0.230789               42  \n",
              "37          -1.393722        -1.438999        0.234706               38  \n",
              "38          -1.185463        -1.304540        0.233515               34  \n",
              "39          -1.125838        -1.264302        0.238375               32  \n",
              "40          -1.070739        -1.228364        0.248642               31  \n",
              "41          -1.069555        -1.222056        0.246051               29  \n",
              "42          -1.835694        -1.730154        0.231811               49  \n",
              "43          -1.718603        -1.687426        0.246260               48  \n",
              "44          -1.635873        -1.672009        0.252513               47  \n",
              "45          -1.465115        -1.571568        0.265836               45  \n",
              "46          -1.386661        -1.516860        0.268100               44  \n",
              "47          -1.334539        -1.468335        0.274817               41  \n",
              "48          -1.335466        -1.458877        0.271778               40  "
            ]
          },
          "execution_count": 52,
          "metadata": {},
          "output_type": "execute_result"
        }
      ],
      "source": [
        "pd.DataFrame(grid_model.cv_results_)"
      ]
    },
    {
      "cell_type": "code",
      "execution_count": null,
      "id": "d43435bf",
      "metadata": {
        "ExecuteTime": {
          "end_time": "2022-08-17T19:37:06.314277Z",
          "start_time": "2022-08-17T19:37:06.295289Z"
        },
        "id": "d43435bf",
        "outputId": "9d4aaa2b-6064-47ad-a6ab-0f5868fdb090"
      },
      "outputs": [
        {
          "data": {
            "text/plain": [
              "6"
            ]
          },
          "execution_count": 53,
          "metadata": {},
          "output_type": "execute_result"
        }
      ],
      "source": [
        "grid_model.best_index_"
      ]
    },
    {
      "cell_type": "code",
      "execution_count": null,
      "id": "8f454deb",
      "metadata": {
        "ExecuteTime": {
          "end_time": "2022-08-17T19:37:07.284784Z",
          "start_time": "2022-08-17T19:37:07.263801Z"
        },
        "id": "8f454deb",
        "outputId": "57955600-cd3f-417b-f998-26ece5d5a73e"
      },
      "outputs": [
        {
          "data": {
            "text/plain": [
              "-0.5908719878682445"
            ]
          },
          "execution_count": 54,
          "metadata": {},
          "output_type": "execute_result"
        }
      ],
      "source": [
        "grid_model.best_score_"
      ]
    },
    {
      "cell_type": "markdown",
      "id": "fewer-defensive",
      "metadata": {
        "id": "fewer-defensive"
      },
      "source": [
        "## Using Best Hyperparameters from GridSearch"
      ]
    },
    {
      "cell_type": "code",
      "execution_count": null,
      "id": "baking-gossip",
      "metadata": {
        "ExecuteTime": {
          "end_time": "2022-08-17T19:37:23.621908Z",
          "start_time": "2022-08-17T19:37:23.605914Z"
        },
        "id": "baking-gossip"
      },
      "outputs": [],
      "source": [
        "y_pred = grid_model.predict(X_test_scaled)\n",
        "y_train_pred = grid_model.predict(X_train_scaled)"
      ]
    },
    {
      "cell_type": "code",
      "execution_count": null,
      "id": "2a04b681",
      "metadata": {
        "ExecuteTime": {
          "end_time": "2022-08-17T19:37:24.462223Z",
          "start_time": "2022-08-17T19:37:24.437240Z"
        },
        "id": "2a04b681",
        "outputId": "217e14f4-4303-48e2-d766-c8050c8d41b3"
      },
      "outputs": [
        {
          "data": {
            "text/html": [
              "<div><div id=aca8ea84-8281-4c02-afbc-a44fb30936c5 style=\"display:none; background-color:#9D6CFF; color:white; width:200px; height:30px; padding-left:5px; border-radius:4px; flex-direction:row; justify-content:space-around; align-items:center;\" onmouseover=\"this.style.backgroundColor='#BA9BF8'\" onmouseout=\"this.style.backgroundColor='#9D6CFF'\" onclick=\"window.commands?.execute('create-mitosheet-from-dataframe-output');\">See Full Dataframe in Mito</div> <script> if (window.commands?.hasCommand('create-mitosheet-from-dataframe-output')) document.getElementById('aca8ea84-8281-4c02-afbc-a44fb30936c5').style.display = 'flex' </script> <table border=\"1\" class=\"dataframe\">\n",
              "  <thead>\n",
              "    <tr style=\"text-align: right;\">\n",
              "      <th></th>\n",
              "      <th>GridSearch_train</th>\n",
              "      <th>GridSearch_test</th>\n",
              "    </tr>\n",
              "  </thead>\n",
              "  <tbody>\n",
              "    <tr>\n",
              "      <th>R2</th>\n",
              "      <td>0.988824</td>\n",
              "      <td>0.986295</td>\n",
              "    </tr>\n",
              "    <tr>\n",
              "      <th>mae</th>\n",
              "      <td>0.339065</td>\n",
              "      <td>0.440975</td>\n",
              "    </tr>\n",
              "    <tr>\n",
              "      <th>mse</th>\n",
              "      <td>0.294098</td>\n",
              "      <td>0.386919</td>\n",
              "    </tr>\n",
              "    <tr>\n",
              "      <th>rmse</th>\n",
              "      <td>0.542308</td>\n",
              "      <td>0.622028</td>\n",
              "    </tr>\n",
              "  </tbody>\n",
              "</table></div>"
            ],
            "text/plain": [
              "      GridSearch_train  GridSearch_test\n",
              "R2            0.988824         0.986295\n",
              "mae           0.339065         0.440975\n",
              "mse           0.294098         0.386919\n",
              "rmse          0.542308         0.622028"
            ]
          },
          "execution_count": 56,
          "metadata": {},
          "output_type": "execute_result"
        }
      ],
      "source": [
        "train_val(y_train, y_train_pred, y_test, y_pred, \"GridSearch\")"
      ]
    },
    {
      "cell_type": "markdown",
      "id": "23438185",
      "metadata": {
        "id": "23438185"
      },
      "source": [
        "## <span style='color:Blue'> Final Model</span> "
      ]
    },
    {
      "cell_type": "code",
      "execution_count": null,
      "id": "817b0269",
      "metadata": {
        "ExecuteTime": {
          "end_time": "2022-08-17T19:38:35.395969Z",
          "start_time": "2022-08-17T19:38:35.347996Z"
        },
        "id": "817b0269"
      },
      "outputs": [],
      "source": [
        "final_scaler = StandardScaler()\n",
        "X_scaled = final_scaler.fit_transform(poly_features)"
      ]
    },
    {
      "cell_type": "code",
      "execution_count": null,
      "id": "f7b66d3b",
      "metadata": {
        "ExecuteTime": {
          "end_time": "2022-08-17T19:38:36.845481Z",
          "start_time": "2022-08-17T19:38:36.828494Z"
        },
        "id": "f7b66d3b"
      },
      "outputs": [],
      "source": [
        "from sklearn.linear_model import Lasso\n",
        "final_model = Lasso(alpha=0.01) #lasso_cv_model"
      ]
    },
    {
      "cell_type": "code",
      "execution_count": null,
      "id": "8021df8f",
      "metadata": {
        "ExecuteTime": {
          "end_time": "2022-08-17T19:38:38.102520Z",
          "start_time": "2022-08-17T19:38:38.071537Z"
        },
        "id": "8021df8f",
        "outputId": "77619dfb-65da-4f78-be00-38c7056df511"
      },
      "outputs": [
        {
          "data": {
            "text/html": [
              "<style>#sk-container-id-5 {color: black;background-color: white;}#sk-container-id-5 pre{padding: 0;}#sk-container-id-5 div.sk-toggleable {background-color: white;}#sk-container-id-5 label.sk-toggleable__label {cursor: pointer;display: block;width: 100%;margin-bottom: 0;padding: 0.3em;box-sizing: border-box;text-align: center;}#sk-container-id-5 label.sk-toggleable__label-arrow:before {content: \"▸\";float: left;margin-right: 0.25em;color: #696969;}#sk-container-id-5 label.sk-toggleable__label-arrow:hover:before {color: black;}#sk-container-id-5 div.sk-estimator:hover label.sk-toggleable__label-arrow:before {color: black;}#sk-container-id-5 div.sk-toggleable__content {max-height: 0;max-width: 0;overflow: hidden;text-align: left;background-color: #f0f8ff;}#sk-container-id-5 div.sk-toggleable__content pre {margin: 0.2em;color: black;border-radius: 0.25em;background-color: #f0f8ff;}#sk-container-id-5 input.sk-toggleable__control:checked~div.sk-toggleable__content {max-height: 200px;max-width: 100%;overflow: auto;}#sk-container-id-5 input.sk-toggleable__control:checked~label.sk-toggleable__label-arrow:before {content: \"▾\";}#sk-container-id-5 div.sk-estimator input.sk-toggleable__control:checked~label.sk-toggleable__label {background-color: #d4ebff;}#sk-container-id-5 div.sk-label input.sk-toggleable__control:checked~label.sk-toggleable__label {background-color: #d4ebff;}#sk-container-id-5 input.sk-hidden--visually {border: 0;clip: rect(1px 1px 1px 1px);clip: rect(1px, 1px, 1px, 1px);height: 1px;margin: -1px;overflow: hidden;padding: 0;position: absolute;width: 1px;}#sk-container-id-5 div.sk-estimator {font-family: monospace;background-color: #f0f8ff;border: 1px dotted black;border-radius: 0.25em;box-sizing: border-box;margin-bottom: 0.5em;}#sk-container-id-5 div.sk-estimator:hover {background-color: #d4ebff;}#sk-container-id-5 div.sk-parallel-item::after {content: \"\";width: 100%;border-bottom: 1px solid gray;flex-grow: 1;}#sk-container-id-5 div.sk-label:hover label.sk-toggleable__label {background-color: #d4ebff;}#sk-container-id-5 div.sk-serial::before {content: \"\";position: absolute;border-left: 1px solid gray;box-sizing: border-box;top: 0;bottom: 0;left: 50%;z-index: 0;}#sk-container-id-5 div.sk-serial {display: flex;flex-direction: column;align-items: center;background-color: white;padding-right: 0.2em;padding-left: 0.2em;position: relative;}#sk-container-id-5 div.sk-item {position: relative;z-index: 1;}#sk-container-id-5 div.sk-parallel {display: flex;align-items: stretch;justify-content: center;background-color: white;position: relative;}#sk-container-id-5 div.sk-item::before, #sk-container-id-5 div.sk-parallel-item::before {content: \"\";position: absolute;border-left: 1px solid gray;box-sizing: border-box;top: 0;bottom: 0;left: 50%;z-index: -1;}#sk-container-id-5 div.sk-parallel-item {display: flex;flex-direction: column;z-index: 1;position: relative;background-color: white;}#sk-container-id-5 div.sk-parallel-item:first-child::after {align-self: flex-end;width: 50%;}#sk-container-id-5 div.sk-parallel-item:last-child::after {align-self: flex-start;width: 50%;}#sk-container-id-5 div.sk-parallel-item:only-child::after {width: 0;}#sk-container-id-5 div.sk-dashed-wrapped {border: 1px dashed gray;margin: 0 0.4em 0.5em 0.4em;box-sizing: border-box;padding-bottom: 0.4em;background-color: white;}#sk-container-id-5 div.sk-label label {font-family: monospace;font-weight: bold;display: inline-block;line-height: 1.2em;}#sk-container-id-5 div.sk-label-container {text-align: center;}#sk-container-id-5 div.sk-container {/* jupyter's `normalize.less` sets `[hidden] { display: none; }` but bootstrap.min.css set `[hidden] { display: none !important; }` so we also need the `!important` here to be able to override the default hidden behavior on the sphinx rendered scikit-learn.org. See: https://github.com/scikit-learn/scikit-learn/issues/21755 */display: inline-block !important;position: relative;}#sk-container-id-5 div.sk-text-repr-fallback {display: none;}</style><div id=\"sk-container-id-5\" class=\"sk-top-container\"><div class=\"sk-text-repr-fallback\"><pre>Lasso(alpha=0.01)</pre><b>In a Jupyter environment, please rerun this cell to show the HTML representation or trust the notebook. <br />On GitHub, the HTML representation is unable to render, please try loading this page with nbviewer.org.</b></div><div class=\"sk-container\" hidden><div class=\"sk-item\"><div class=\"sk-estimator sk-toggleable\"><input class=\"sk-toggleable__control sk-hidden--visually\" id=\"sk-estimator-id-7\" type=\"checkbox\" checked><label for=\"sk-estimator-id-7\" class=\"sk-toggleable__label sk-toggleable__label-arrow\">Lasso</label><div class=\"sk-toggleable__content\"><pre>Lasso(alpha=0.01)</pre></div></div></div></div></div>"
            ],
            "text/plain": [
              "Lasso(alpha=0.01)"
            ]
          },
          "execution_count": 59,
          "metadata": {},
          "output_type": "execute_result"
        }
      ],
      "source": [
        "final_model.fit(X_scaled, y)"
      ]
    },
    {
      "cell_type": "code",
      "execution_count": null,
      "id": "f1c1b59f",
      "metadata": {
        "id": "f1c1b59f"
      },
      "outputs": [],
      "source": []
    }
  ],
  "metadata": {
    "interpreter": {
      "hash": "aee8b7b246df8f9039afb4144a1f6fd8d2ca17a180786b69acc140d282b71a49"
    },
    "kernelspec": {
      "display_name": "Python 3 (ipykernel)",
      "language": "python",
      "name": "python3"
    },
    "language_info": {
      "codemirror_mode": {
        "name": "ipython",
        "version": 3
      },
      "file_extension": ".py",
      "mimetype": "text/x-python",
      "name": "python",
      "nbconvert_exporter": "python",
      "pygments_lexer": "ipython3",
      "version": "3.9.7"
    },
    "nbTranslate": {
      "displayLangs": [
        "*"
      ],
      "hotkey": "alt-t",
      "langInMainMenu": true,
      "sourceLang": "en",
      "targetLang": "fr",
      "useGoogleTranslate": true
    },
    "toc": {
      "base_numbering": 1,
      "nav_menu": {},
      "number_sections": true,
      "sideBar": true,
      "skip_h1_title": false,
      "title_cell": "Table of Contents",
      "title_sidebar": "Contents",
      "toc_cell": false,
      "toc_position": {},
      "toc_section_display": true,
      "toc_window_display": false
    },
    "colab": {
      "provenance": [],
      "include_colab_link": true
    }
  },
  "nbformat": 4,
  "nbformat_minor": 5
}