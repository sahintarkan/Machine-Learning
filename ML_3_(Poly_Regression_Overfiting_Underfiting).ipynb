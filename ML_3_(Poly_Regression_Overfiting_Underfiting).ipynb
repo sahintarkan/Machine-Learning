{
  "cells": [
    {
      "cell_type": "markdown",
      "metadata": {
        "id": "view-in-github",
        "colab_type": "text"
      },
      "source": [
        "<a href=\"https://colab.research.google.com/github/sahintarkan/Machine-Learning/blob/main/ML_3_(Poly_Regression_Overfiting_Underfiting).ipynb\" target=\"_parent\"><img src=\"https://colab.research.google.com/assets/colab-badge.svg\" alt=\"Open In Colab\"/></a>"
      ]
    },
    {
      "cell_type": "markdown",
      "id": "liquid-victory",
      "metadata": {
        "id": "liquid-victory"
      },
      "source": [
        "<a id = '4.0'></a>\n",
        "<p style = \"font-size : 35px; color : #34656d ;  text-align : center; background-color : #08f9f9; border-radius: 5px 5px;\"><strong>Poliynomial Regression-Overfiting-Underfiting</strong></p> "
      ]
    },
    {
      "cell_type": "markdown",
      "id": "4bf7b12a",
      "metadata": {
        "id": "4bf7b12a"
      },
      "source": [
        "Polynomial Regression is a form of regression analysis in which the relationship \n",
        "between the independent variables and dependent variables are modeled in the nth degree polynomial.\n",
        "\n",
        "Polinom Regresyon , bağımsız değişkenler ile bağımlı değişkenler arasındaki ilişkinin n'inci derece \n",
        "polinomda modellendiği bir regresyon analizi şeklidir.\n",
        "\n",
        "Types of polinomials\n",
        "\n",
        "1st degree ---> linear    b1x + b0\n",
        "\n",
        "2nd degree ---> Quadratic b2x**2 + b1x + b0\n",
        "\n",
        "3rd degree ---> Cubic     b3x**3 + b2x**2 + b1x + b0\n",
        "\n",
        "lineer regression git bana bir tane dogru bul demekmis\n",
        "underfitimg hem train hem test hata yuksek ogrenenemiz\n",
        "oveerittingde testte hata yuksek training de hata cok dusuk yani sonuclar iyi ezber yapmis"
      ]
    },
    {
      "cell_type": "markdown",
      "id": "wanted-external",
      "metadata": {
        "id": "wanted-external"
      },
      "source": [
        "## Import libraries"
      ]
    },
    {
      "cell_type": "code",
      "execution_count": null,
      "id": "faced-stranger",
      "metadata": {
        "ExecuteTime": {
          "end_time": "2022-08-14T09:11:59.112226Z",
          "start_time": "2022-08-14T09:10:53.964672Z"
        },
        "id": "faced-stranger"
      },
      "outputs": [],
      "source": [
        "import numpy as np\n",
        "import pandas as pd\n",
        "import matplotlib.pyplot as plt\n",
        "import seaborn as sns\n",
        "plt.rcParams[\"figure.figsize\"] = (10,6)"
      ]
    },
    {
      "cell_type": "markdown",
      "id": "whole-bulgaria",
      "metadata": {
        "id": "whole-bulgaria"
      },
      "source": [
        "## Polynomial Features"
      ]
    },
    {
      "cell_type": "code",
      "execution_count": null,
      "id": "proud-technician",
      "metadata": {
        "ExecuteTime": {
          "end_time": "2022-08-14T09:13:40.478492Z",
          "start_time": "2022-08-14T09:13:34.574212Z"
        },
        "id": "proud-technician"
      },
      "outputs": [],
      "source": [
        "from sklearn.preprocessing import PolynomialFeatures"
      ]
    },
    {
      "cell_type": "code",
      "execution_count": null,
      "id": "willing-deposit",
      "metadata": {
        "ExecuteTime": {
          "end_time": "2022-08-14T09:13:42.407874Z",
          "start_time": "2022-08-14T09:13:42.367880Z"
        },
        "id": "willing-deposit",
        "outputId": "0bbd67b8-b560-4be4-d7af-edbfedd2c973"
      },
      "outputs": [
        {
          "name": "stdout",
          "output_type": "stream",
          "text": [
            "[[2 3 4]]\n"
          ]
        }
      ],
      "source": [
        "data = np.array([[2, 3, 4]]) \n",
        "print(data)"
      ]
    },
    {
      "cell_type": "code",
      "execution_count": null,
      "id": "olive-launch",
      "metadata": {
        "ExecuteTime": {
          "end_time": "2022-08-14T09:15:17.668503Z",
          "start_time": "2022-08-14T09:15:17.652504Z"
        },
        "id": "olive-launch"
      },
      "outputs": [],
      "source": [
        "trans = PolynomialFeatures(degree = 2, include_bias =False)"
      ]
    },
    {
      "cell_type": "code",
      "execution_count": null,
      "id": "understanding-torture",
      "metadata": {
        "ExecuteTime": {
          "end_time": "2022-08-14T09:15:21.293311Z",
          "start_time": "2022-08-14T09:15:21.269313Z"
        },
        "id": "understanding-torture",
        "outputId": "b2813857-4012-456b-d40c-c92bf60860f7"
      },
      "outputs": [
        {
          "data": {
            "text/html": [
              "<style>#sk-container-id-2 {color: black;background-color: white;}#sk-container-id-2 pre{padding: 0;}#sk-container-id-2 div.sk-toggleable {background-color: white;}#sk-container-id-2 label.sk-toggleable__label {cursor: pointer;display: block;width: 100%;margin-bottom: 0;padding: 0.3em;box-sizing: border-box;text-align: center;}#sk-container-id-2 label.sk-toggleable__label-arrow:before {content: \"▸\";float: left;margin-right: 0.25em;color: #696969;}#sk-container-id-2 label.sk-toggleable__label-arrow:hover:before {color: black;}#sk-container-id-2 div.sk-estimator:hover label.sk-toggleable__label-arrow:before {color: black;}#sk-container-id-2 div.sk-toggleable__content {max-height: 0;max-width: 0;overflow: hidden;text-align: left;background-color: #f0f8ff;}#sk-container-id-2 div.sk-toggleable__content pre {margin: 0.2em;color: black;border-radius: 0.25em;background-color: #f0f8ff;}#sk-container-id-2 input.sk-toggleable__control:checked~div.sk-toggleable__content {max-height: 200px;max-width: 100%;overflow: auto;}#sk-container-id-2 input.sk-toggleable__control:checked~label.sk-toggleable__label-arrow:before {content: \"▾\";}#sk-container-id-2 div.sk-estimator input.sk-toggleable__control:checked~label.sk-toggleable__label {background-color: #d4ebff;}#sk-container-id-2 div.sk-label input.sk-toggleable__control:checked~label.sk-toggleable__label {background-color: #d4ebff;}#sk-container-id-2 input.sk-hidden--visually {border: 0;clip: rect(1px 1px 1px 1px);clip: rect(1px, 1px, 1px, 1px);height: 1px;margin: -1px;overflow: hidden;padding: 0;position: absolute;width: 1px;}#sk-container-id-2 div.sk-estimator {font-family: monospace;background-color: #f0f8ff;border: 1px dotted black;border-radius: 0.25em;box-sizing: border-box;margin-bottom: 0.5em;}#sk-container-id-2 div.sk-estimator:hover {background-color: #d4ebff;}#sk-container-id-2 div.sk-parallel-item::after {content: \"\";width: 100%;border-bottom: 1px solid gray;flex-grow: 1;}#sk-container-id-2 div.sk-label:hover label.sk-toggleable__label {background-color: #d4ebff;}#sk-container-id-2 div.sk-serial::before {content: \"\";position: absolute;border-left: 1px solid gray;box-sizing: border-box;top: 0;bottom: 0;left: 50%;z-index: 0;}#sk-container-id-2 div.sk-serial {display: flex;flex-direction: column;align-items: center;background-color: white;padding-right: 0.2em;padding-left: 0.2em;position: relative;}#sk-container-id-2 div.sk-item {position: relative;z-index: 1;}#sk-container-id-2 div.sk-parallel {display: flex;align-items: stretch;justify-content: center;background-color: white;position: relative;}#sk-container-id-2 div.sk-item::before, #sk-container-id-2 div.sk-parallel-item::before {content: \"\";position: absolute;border-left: 1px solid gray;box-sizing: border-box;top: 0;bottom: 0;left: 50%;z-index: -1;}#sk-container-id-2 div.sk-parallel-item {display: flex;flex-direction: column;z-index: 1;position: relative;background-color: white;}#sk-container-id-2 div.sk-parallel-item:first-child::after {align-self: flex-end;width: 50%;}#sk-container-id-2 div.sk-parallel-item:last-child::after {align-self: flex-start;width: 50%;}#sk-container-id-2 div.sk-parallel-item:only-child::after {width: 0;}#sk-container-id-2 div.sk-dashed-wrapped {border: 1px dashed gray;margin: 0 0.4em 0.5em 0.4em;box-sizing: border-box;padding-bottom: 0.4em;background-color: white;}#sk-container-id-2 div.sk-label label {font-family: monospace;font-weight: bold;display: inline-block;line-height: 1.2em;}#sk-container-id-2 div.sk-label-container {text-align: center;}#sk-container-id-2 div.sk-container {/* jupyter's `normalize.less` sets `[hidden] { display: none; }` but bootstrap.min.css set `[hidden] { display: none !important; }` so we also need the `!important` here to be able to override the default hidden behavior on the sphinx rendered scikit-learn.org. See: https://github.com/scikit-learn/scikit-learn/issues/21755 */display: inline-block !important;position: relative;}#sk-container-id-2 div.sk-text-repr-fallback {display: none;}</style><div id=\"sk-container-id-2\" class=\"sk-top-container\"><div class=\"sk-text-repr-fallback\"><pre>PolynomialFeatures(include_bias=False)</pre><b>In a Jupyter environment, please rerun this cell to show the HTML representation or trust the notebook. <br />On GitHub, the HTML representation is unable to render, please try loading this page with nbviewer.org.</b></div><div class=\"sk-container\" hidden><div class=\"sk-item\"><div class=\"sk-estimator sk-toggleable\"><input class=\"sk-toggleable__control sk-hidden--visually\" id=\"sk-estimator-id-2\" type=\"checkbox\" checked><label for=\"sk-estimator-id-2\" class=\"sk-toggleable__label sk-toggleable__label-arrow\">PolynomialFeatures</label><div class=\"sk-toggleable__content\"><pre>PolynomialFeatures(include_bias=False)</pre></div></div></div></div></div>"
            ],
            "text/plain": [
              "PolynomialFeatures(include_bias=False)"
            ]
          },
          "execution_count": 6,
          "metadata": {},
          "output_type": "execute_result"
        }
      ],
      "source": [
        "trans.fit(data) # 2, 3, 4 , 2x3, 2x4, 3x4, 2**2, 3**2, 4**2"
      ]
    },
    {
      "cell_type": "code",
      "execution_count": null,
      "id": "3f324091",
      "metadata": {
        "id": "3f324091"
      },
      "outputs": [],
      "source": [
        "# 2, 3, 4, 2x3, 2x4, 3x4, 2**2, 3**2, 4**2, 2x3x4, 3x2**2, 4x2**2, 2x3**2, 4x3**2, 2x4**2, 3x4**2, 2**3, 3**3, 4**3"
      ]
    },
    {
      "cell_type": "code",
      "execution_count": null,
      "id": "exposed-sphere",
      "metadata": {
        "ExecuteTime": {
          "end_time": "2022-08-14T09:15:31.162059Z",
          "start_time": "2022-08-14T09:15:30.725009Z"
        },
        "id": "exposed-sphere",
        "outputId": "a0ee5030-588f-4d59-c40a-fc4143d0f71d"
      },
      "outputs": [
        {
          "data": {
            "text/plain": [
              "array([[ 2.,  3.,  4.,  4.,  6.,  8.,  9., 12., 16.]])"
            ]
          },
          "execution_count": 7,
          "metadata": {},
          "output_type": "execute_result"
        }
      ],
      "source": [
        "trans.transform(data)"
      ]
    },
    {
      "cell_type": "code",
      "execution_count": null,
      "id": "elder-assist",
      "metadata": {
        "ExecuteTime": {
          "end_time": "2022-08-14T09:15:43.221022Z",
          "start_time": "2022-08-14T09:15:43.205029Z"
        },
        "id": "elder-assist",
        "outputId": "152e027b-9e88-4416-d245-24c2748739f6"
      },
      "outputs": [
        {
          "data": {
            "text/plain": [
              "array([[ 2.,  3.,  4.,  4.,  6.,  8.,  9., 12., 16.]])"
            ]
          },
          "execution_count": 8,
          "metadata": {},
          "output_type": "execute_result"
        }
      ],
      "source": [
        "trans.fit_transform(data) # combining method"
      ]
    },
    {
      "cell_type": "markdown",
      "id": "listed-startup",
      "metadata": {
        "id": "listed-startup"
      },
      "source": [
        "## Read Dataset"
      ]
    },
    {
      "cell_type": "code",
      "execution_count": null,
      "id": "valued-brand",
      "metadata": {
        "ExecuteTime": {
          "end_time": "2022-08-14T09:15:48.261802Z",
          "start_time": "2022-08-14T09:15:47.480065Z"
        },
        "id": "valued-brand"
      },
      "outputs": [],
      "source": [
        "df = pd.read_csv(\"Advertising.csv\")"
      ]
    },
    {
      "cell_type": "code",
      "execution_count": null,
      "id": "taken-taylor",
      "metadata": {
        "ExecuteTime": {
          "end_time": "2022-08-13T09:31:27.837947Z",
          "start_time": "2022-08-13T09:31:27.476188Z"
        },
        "id": "taken-taylor",
        "outputId": "720d3136-03da-47e3-9eed-3efd802de706"
      },
      "outputs": [
        {
          "data": {
            "text/html": [
              "<div><div id=2fd4dfe7-4e53-4f5c-8002-1940530ca245 style=\"display:none; background-color:#9D6CFF; color:white; width:200px; height:30px; padding-left:5px; border-radius:4px; flex-direction:row; justify-content:space-around; align-items:center;\" onmouseover=\"this.style.backgroundColor='#BA9BF8'\" onmouseout=\"this.style.backgroundColor='#9D6CFF'\" onclick=\"window.commands?.execute('create-mitosheet-from-dataframe-output');\">See Full Dataframe in Mito</div> <script> if (window.commands?.hasCommand('create-mitosheet-from-dataframe-output')) document.getElementById('2fd4dfe7-4e53-4f5c-8002-1940530ca245').style.display = 'flex' </script> <table border=\"1\" class=\"dataframe\">\n",
              "  <thead>\n",
              "    <tr style=\"text-align: right;\">\n",
              "      <th></th>\n",
              "      <th>TV</th>\n",
              "      <th>radio</th>\n",
              "      <th>newspaper</th>\n",
              "      <th>sales</th>\n",
              "    </tr>\n",
              "  </thead>\n",
              "  <tbody>\n",
              "    <tr>\n",
              "      <th>0</th>\n",
              "      <td>230.1</td>\n",
              "      <td>37.8</td>\n",
              "      <td>69.2</td>\n",
              "      <td>22.1</td>\n",
              "    </tr>\n",
              "    <tr>\n",
              "      <th>1</th>\n",
              "      <td>44.5</td>\n",
              "      <td>39.3</td>\n",
              "      <td>45.1</td>\n",
              "      <td>10.4</td>\n",
              "    </tr>\n",
              "    <tr>\n",
              "      <th>2</th>\n",
              "      <td>17.2</td>\n",
              "      <td>45.9</td>\n",
              "      <td>69.3</td>\n",
              "      <td>9.3</td>\n",
              "    </tr>\n",
              "    <tr>\n",
              "      <th>3</th>\n",
              "      <td>151.5</td>\n",
              "      <td>41.3</td>\n",
              "      <td>58.5</td>\n",
              "      <td>18.5</td>\n",
              "    </tr>\n",
              "    <tr>\n",
              "      <th>4</th>\n",
              "      <td>180.8</td>\n",
              "      <td>10.8</td>\n",
              "      <td>58.4</td>\n",
              "      <td>12.9</td>\n",
              "    </tr>\n",
              "    <tr>\n",
              "      <th>...</th>\n",
              "      <td>...</td>\n",
              "      <td>...</td>\n",
              "      <td>...</td>\n",
              "      <td>...</td>\n",
              "    </tr>\n",
              "    <tr>\n",
              "      <th>195</th>\n",
              "      <td>38.2</td>\n",
              "      <td>3.7</td>\n",
              "      <td>13.8</td>\n",
              "      <td>7.6</td>\n",
              "    </tr>\n",
              "    <tr>\n",
              "      <th>196</th>\n",
              "      <td>94.2</td>\n",
              "      <td>4.9</td>\n",
              "      <td>8.1</td>\n",
              "      <td>9.7</td>\n",
              "    </tr>\n",
              "    <tr>\n",
              "      <th>197</th>\n",
              "      <td>177.0</td>\n",
              "      <td>9.3</td>\n",
              "      <td>6.4</td>\n",
              "      <td>12.8</td>\n",
              "    </tr>\n",
              "    <tr>\n",
              "      <th>198</th>\n",
              "      <td>283.6</td>\n",
              "      <td>42.0</td>\n",
              "      <td>66.2</td>\n",
              "      <td>25.5</td>\n",
              "    </tr>\n",
              "    <tr>\n",
              "      <th>199</th>\n",
              "      <td>232.1</td>\n",
              "      <td>8.6</td>\n",
              "      <td>8.7</td>\n",
              "      <td>13.4</td>\n",
              "    </tr>\n",
              "  </tbody>\n",
              "</table></div>"
            ],
            "text/plain": [
              "        TV  radio  newspaper  sales\n",
              "0    230.1   37.8       69.2   22.1\n",
              "1     44.5   39.3       45.1   10.4\n",
              "2     17.2   45.9       69.3    9.3\n",
              "3    151.5   41.3       58.5   18.5\n",
              "4    180.8   10.8       58.4   12.9\n",
              "..     ...    ...        ...    ...\n",
              "195   38.2    3.7       13.8    7.6\n",
              "196   94.2    4.9        8.1    9.7\n",
              "197  177.0    9.3        6.4   12.8\n",
              "198  283.6   42.0       66.2   25.5\n",
              "199  232.1    8.6        8.7   13.4\n",
              "\n",
              "[200 rows x 4 columns]"
            ]
          },
          "execution_count": 9,
          "metadata": {},
          "output_type": "execute_result"
        }
      ],
      "source": [
        "df"
      ]
    },
    {
      "cell_type": "markdown",
      "id": "declared-leave",
      "metadata": {
        "id": "declared-leave"
      },
      "source": [
        "## Polynomial Converter"
      ]
    },
    {
      "cell_type": "code",
      "execution_count": null,
      "id": "invalid-northern",
      "metadata": {
        "ExecuteTime": {
          "end_time": "2022-08-14T09:17:59.204654Z",
          "start_time": "2022-08-14T09:17:57.226751Z"
        },
        "id": "invalid-northern"
      },
      "outputs": [],
      "source": [
        "X = df.drop(\"sales\", axis =1)\n",
        "y = df.sales"
      ]
    },
    {
      "cell_type": "code",
      "execution_count": null,
      "id": "continued-karma",
      "metadata": {
        "ExecuteTime": {
          "end_time": "2022-08-14T09:19:17.726011Z",
          "start_time": "2022-08-14T09:19:17.663392Z"
        },
        "id": "continued-karma"
      },
      "outputs": [],
      "source": [
        "polynomial_converter = PolynomialFeatures(degree =2, include_bias =False)"
      ]
    },
    {
      "cell_type": "code",
      "execution_count": null,
      "id": "reasonable-german",
      "metadata": {
        "ExecuteTime": {
          "end_time": "2022-08-14T09:19:23.317580Z",
          "start_time": "2022-08-14T09:19:23.044901Z"
        },
        "id": "reasonable-german",
        "outputId": "3e67557a-e7bd-431f-a9c3-d6ca4f5b7de3"
      },
      "outputs": [
        {
          "data": {
            "text/html": [
              "<style>#sk-container-id-3 {color: black;background-color: white;}#sk-container-id-3 pre{padding: 0;}#sk-container-id-3 div.sk-toggleable {background-color: white;}#sk-container-id-3 label.sk-toggleable__label {cursor: pointer;display: block;width: 100%;margin-bottom: 0;padding: 0.3em;box-sizing: border-box;text-align: center;}#sk-container-id-3 label.sk-toggleable__label-arrow:before {content: \"▸\";float: left;margin-right: 0.25em;color: #696969;}#sk-container-id-3 label.sk-toggleable__label-arrow:hover:before {color: black;}#sk-container-id-3 div.sk-estimator:hover label.sk-toggleable__label-arrow:before {color: black;}#sk-container-id-3 div.sk-toggleable__content {max-height: 0;max-width: 0;overflow: hidden;text-align: left;background-color: #f0f8ff;}#sk-container-id-3 div.sk-toggleable__content pre {margin: 0.2em;color: black;border-radius: 0.25em;background-color: #f0f8ff;}#sk-container-id-3 input.sk-toggleable__control:checked~div.sk-toggleable__content {max-height: 200px;max-width: 100%;overflow: auto;}#sk-container-id-3 input.sk-toggleable__control:checked~label.sk-toggleable__label-arrow:before {content: \"▾\";}#sk-container-id-3 div.sk-estimator input.sk-toggleable__control:checked~label.sk-toggleable__label {background-color: #d4ebff;}#sk-container-id-3 div.sk-label input.sk-toggleable__control:checked~label.sk-toggleable__label {background-color: #d4ebff;}#sk-container-id-3 input.sk-hidden--visually {border: 0;clip: rect(1px 1px 1px 1px);clip: rect(1px, 1px, 1px, 1px);height: 1px;margin: -1px;overflow: hidden;padding: 0;position: absolute;width: 1px;}#sk-container-id-3 div.sk-estimator {font-family: monospace;background-color: #f0f8ff;border: 1px dotted black;border-radius: 0.25em;box-sizing: border-box;margin-bottom: 0.5em;}#sk-container-id-3 div.sk-estimator:hover {background-color: #d4ebff;}#sk-container-id-3 div.sk-parallel-item::after {content: \"\";width: 100%;border-bottom: 1px solid gray;flex-grow: 1;}#sk-container-id-3 div.sk-label:hover label.sk-toggleable__label {background-color: #d4ebff;}#sk-container-id-3 div.sk-serial::before {content: \"\";position: absolute;border-left: 1px solid gray;box-sizing: border-box;top: 0;bottom: 0;left: 50%;z-index: 0;}#sk-container-id-3 div.sk-serial {display: flex;flex-direction: column;align-items: center;background-color: white;padding-right: 0.2em;padding-left: 0.2em;position: relative;}#sk-container-id-3 div.sk-item {position: relative;z-index: 1;}#sk-container-id-3 div.sk-parallel {display: flex;align-items: stretch;justify-content: center;background-color: white;position: relative;}#sk-container-id-3 div.sk-item::before, #sk-container-id-3 div.sk-parallel-item::before {content: \"\";position: absolute;border-left: 1px solid gray;box-sizing: border-box;top: 0;bottom: 0;left: 50%;z-index: -1;}#sk-container-id-3 div.sk-parallel-item {display: flex;flex-direction: column;z-index: 1;position: relative;background-color: white;}#sk-container-id-3 div.sk-parallel-item:first-child::after {align-self: flex-end;width: 50%;}#sk-container-id-3 div.sk-parallel-item:last-child::after {align-self: flex-start;width: 50%;}#sk-container-id-3 div.sk-parallel-item:only-child::after {width: 0;}#sk-container-id-3 div.sk-dashed-wrapped {border: 1px dashed gray;margin: 0 0.4em 0.5em 0.4em;box-sizing: border-box;padding-bottom: 0.4em;background-color: white;}#sk-container-id-3 div.sk-label label {font-family: monospace;font-weight: bold;display: inline-block;line-height: 1.2em;}#sk-container-id-3 div.sk-label-container {text-align: center;}#sk-container-id-3 div.sk-container {/* jupyter's `normalize.less` sets `[hidden] { display: none; }` but bootstrap.min.css set `[hidden] { display: none !important; }` so we also need the `!important` here to be able to override the default hidden behavior on the sphinx rendered scikit-learn.org. See: https://github.com/scikit-learn/scikit-learn/issues/21755 */display: inline-block !important;position: relative;}#sk-container-id-3 div.sk-text-repr-fallback {display: none;}</style><div id=\"sk-container-id-3\" class=\"sk-top-container\"><div class=\"sk-text-repr-fallback\"><pre>PolynomialFeatures(include_bias=False)</pre><b>In a Jupyter environment, please rerun this cell to show the HTML representation or trust the notebook. <br />On GitHub, the HTML representation is unable to render, please try loading this page with nbviewer.org.</b></div><div class=\"sk-container\" hidden><div class=\"sk-item\"><div class=\"sk-estimator sk-toggleable\"><input class=\"sk-toggleable__control sk-hidden--visually\" id=\"sk-estimator-id-3\" type=\"checkbox\" checked><label for=\"sk-estimator-id-3\" class=\"sk-toggleable__label sk-toggleable__label-arrow\">PolynomialFeatures</label><div class=\"sk-toggleable__content\"><pre>PolynomialFeatures(include_bias=False)</pre></div></div></div></div></div>"
            ],
            "text/plain": [
              "PolynomialFeatures(include_bias=False)"
            ]
          },
          "execution_count": 12,
          "metadata": {},
          "output_type": "execute_result"
        }
      ],
      "source": [
        "polynomial_converter.fit(X)"
      ]
    },
    {
      "cell_type": "code",
      "execution_count": null,
      "id": "pointed-violin",
      "metadata": {
        "ExecuteTime": {
          "end_time": "2022-08-14T09:19:30.273557Z",
          "start_time": "2022-08-14T09:19:30.246110Z"
        },
        "id": "pointed-violin"
      },
      "outputs": [],
      "source": [
        "poly_features = polynomial_converter.transform(X)"
      ]
    },
    {
      "cell_type": "code",
      "execution_count": null,
      "id": "operational-stevens",
      "metadata": {
        "ExecuteTime": {
          "end_time": "2022-08-14T09:19:50.730565Z",
          "start_time": "2022-08-14T09:19:50.675764Z"
        },
        "id": "operational-stevens",
        "outputId": "4ae3432a-e32a-4af1-8a34-6e8aed3f08e1"
      },
      "outputs": [
        {
          "data": {
            "text/plain": [
              "array([[ 230.1 ,   37.8 ,   69.2 , ..., 1428.84, 2615.76, 4788.64],\n",
              "       [  44.5 ,   39.3 ,   45.1 , ..., 1544.49, 1772.43, 2034.01],\n",
              "       [  17.2 ,   45.9 ,   69.3 , ..., 2106.81, 3180.87, 4802.49],\n",
              "       ...,\n",
              "       [ 177.  ,    9.3 ,    6.4 , ...,   86.49,   59.52,   40.96],\n",
              "       [ 283.6 ,   42.  ,   66.2 , ..., 1764.  , 2780.4 , 4382.44],\n",
              "       [ 232.1 ,    8.6 ,    8.7 , ...,   73.96,   74.82,   75.69]])"
            ]
          },
          "execution_count": 14,
          "metadata": {},
          "output_type": "execute_result"
        }
      ],
      "source": [
        "poly_features"
      ]
    },
    {
      "cell_type": "code",
      "execution_count": null,
      "id": "numerical-conclusion",
      "metadata": {
        "ExecuteTime": {
          "end_time": "2022-08-14T09:20:15.120339Z",
          "start_time": "2022-08-14T09:20:15.100247Z"
        },
        "id": "numerical-conclusion",
        "outputId": "ad0078c9-4f0e-42e5-d229-6a7a7b9408a0"
      },
      "outputs": [
        {
          "data": {
            "text/plain": [
              "(200, 9)"
            ]
          },
          "execution_count": 15,
          "metadata": {},
          "output_type": "execute_result"
        }
      ],
      "source": [
        "poly_features.shape"
      ]
    },
    {
      "cell_type": "code",
      "execution_count": null,
      "id": "moderate-works",
      "metadata": {
        "ExecuteTime": {
          "end_time": "2022-08-14T09:20:34.675067Z",
          "start_time": "2022-08-14T09:20:33.330143Z"
        },
        "id": "moderate-works",
        "outputId": "9bff54e6-7570-4110-b272-e6d00ac35207"
      },
      "outputs": [
        {
          "data": {
            "text/html": [
              "<div><div id=7e737686-ab9f-46cc-8721-de28c602e14a style=\"display:none; background-color:#9D6CFF; color:white; width:200px; height:30px; padding-left:5px; border-radius:4px; flex-direction:row; justify-content:space-around; align-items:center;\" onmouseover=\"this.style.backgroundColor='#BA9BF8'\" onmouseout=\"this.style.backgroundColor='#9D6CFF'\" onclick=\"window.commands?.execute('create-mitosheet-from-dataframe-output');\">See Full Dataframe in Mito</div> <script> if (window.commands?.hasCommand('create-mitosheet-from-dataframe-output')) document.getElementById('7e737686-ab9f-46cc-8721-de28c602e14a').style.display = 'flex' </script> <table border=\"1\" class=\"dataframe\">\n",
              "  <thead>\n",
              "    <tr style=\"text-align: right;\">\n",
              "      <th></th>\n",
              "      <th>TV</th>\n",
              "      <th>radio</th>\n",
              "      <th>newspaper</th>\n",
              "      <th>TV^2</th>\n",
              "      <th>TV&amp;Radio</th>\n",
              "      <th>TV&amp;Newspaper</th>\n",
              "      <th>Radio^2</th>\n",
              "      <th>Radio&amp;newspaper</th>\n",
              "      <th>Newspaper^2</th>\n",
              "    </tr>\n",
              "  </thead>\n",
              "  <tbody>\n",
              "    <tr>\n",
              "      <th>0</th>\n",
              "      <td>230.1</td>\n",
              "      <td>37.8</td>\n",
              "      <td>69.2</td>\n",
              "      <td>52946.01</td>\n",
              "      <td>8697.78</td>\n",
              "      <td>15922.92</td>\n",
              "      <td>1428.84</td>\n",
              "      <td>2615.76</td>\n",
              "      <td>4788.64</td>\n",
              "    </tr>\n",
              "    <tr>\n",
              "      <th>1</th>\n",
              "      <td>44.5</td>\n",
              "      <td>39.3</td>\n",
              "      <td>45.1</td>\n",
              "      <td>1980.25</td>\n",
              "      <td>1748.85</td>\n",
              "      <td>2006.95</td>\n",
              "      <td>1544.49</td>\n",
              "      <td>1772.43</td>\n",
              "      <td>2034.01</td>\n",
              "    </tr>\n",
              "    <tr>\n",
              "      <th>2</th>\n",
              "      <td>17.2</td>\n",
              "      <td>45.9</td>\n",
              "      <td>69.3</td>\n",
              "      <td>295.84</td>\n",
              "      <td>789.48</td>\n",
              "      <td>1191.96</td>\n",
              "      <td>2106.81</td>\n",
              "      <td>3180.87</td>\n",
              "      <td>4802.49</td>\n",
              "    </tr>\n",
              "    <tr>\n",
              "      <th>3</th>\n",
              "      <td>151.5</td>\n",
              "      <td>41.3</td>\n",
              "      <td>58.5</td>\n",
              "      <td>22952.25</td>\n",
              "      <td>6256.95</td>\n",
              "      <td>8862.75</td>\n",
              "      <td>1705.69</td>\n",
              "      <td>2416.05</td>\n",
              "      <td>3422.25</td>\n",
              "    </tr>\n",
              "    <tr>\n",
              "      <th>4</th>\n",
              "      <td>180.8</td>\n",
              "      <td>10.8</td>\n",
              "      <td>58.4</td>\n",
              "      <td>32688.64</td>\n",
              "      <td>1952.64</td>\n",
              "      <td>10558.72</td>\n",
              "      <td>116.64</td>\n",
              "      <td>630.72</td>\n",
              "      <td>3410.56</td>\n",
              "    </tr>\n",
              "  </tbody>\n",
              "</table></div>"
            ],
            "text/plain": [
              "      TV  radio  newspaper      TV^2  TV&Radio  TV&Newspaper  Radio^2  \\\n",
              "0  230.1   37.8       69.2  52946.01   8697.78      15922.92  1428.84   \n",
              "1   44.5   39.3       45.1   1980.25   1748.85       2006.95  1544.49   \n",
              "2   17.2   45.9       69.3    295.84    789.48       1191.96  2106.81   \n",
              "3  151.5   41.3       58.5  22952.25   6256.95       8862.75  1705.69   \n",
              "4  180.8   10.8       58.4  32688.64   1952.64      10558.72   116.64   \n",
              "\n",
              "   Radio&newspaper  Newspaper^2  \n",
              "0          2615.76      4788.64  \n",
              "1          1772.43      2034.01  \n",
              "2          3180.87      4802.49  \n",
              "3          2416.05      3422.25  \n",
              "4           630.72      3410.56  "
            ]
          },
          "execution_count": 16,
          "metadata": {},
          "output_type": "execute_result"
        }
      ],
      "source": [
        "pd.DataFrame(poly_features, columns = [\"TV\", \"radio\", \"newspaper\", \"TV^2\", \"TV&Radio\", \\\n",
        "                                   \"TV&Newspaper\", \"Radio^2\", \"Radio&newspaper\", \"Newspaper^2\"]).head()"
      ]
    },
    {
      "cell_type": "code",
      "execution_count": null,
      "id": "radio-panic",
      "metadata": {
        "ExecuteTime": {
          "end_time": "2022-08-14T09:20:48.602623Z",
          "start_time": "2022-08-14T09:20:48.590008Z"
        },
        "id": "radio-panic",
        "outputId": "6dc1bf97-19d3-47c8-a6e5-9f4ac8dc67c3"
      },
      "outputs": [
        {
          "data": {
            "text/plain": [
              "(200, 3)"
            ]
          },
          "execution_count": 17,
          "metadata": {},
          "output_type": "execute_result"
        }
      ],
      "source": [
        "X.shape"
      ]
    },
    {
      "cell_type": "markdown",
      "id": "unique-hours",
      "metadata": {
        "id": "unique-hours"
      },
      "source": [
        "## Train | Test Split"
      ]
    },
    {
      "cell_type": "code",
      "execution_count": null,
      "id": "planned-uniform",
      "metadata": {
        "ExecuteTime": {
          "end_time": "2022-08-14T09:21:16.404123Z",
          "start_time": "2022-08-14T09:21:14.819811Z"
        },
        "id": "planned-uniform"
      },
      "outputs": [],
      "source": [
        "from sklearn.model_selection import train_test_split"
      ]
    },
    {
      "cell_type": "code",
      "execution_count": null,
      "id": "enormous-cemetery",
      "metadata": {
        "ExecuteTime": {
          "end_time": "2022-08-14T09:21:43.584382Z",
          "start_time": "2022-08-14T09:21:42.684069Z"
        },
        "id": "enormous-cemetery"
      },
      "outputs": [],
      "source": [
        "X_train, X_test, y_train, y_test = train_test_split(poly_features, y, test_size = 0.3, random_state = 101)"
      ]
    },
    {
      "cell_type": "code",
      "execution_count": null,
      "id": "3a40b811",
      "metadata": {
        "ExecuteTime": {
          "end_time": "2022-08-14T09:21:43.892117Z",
          "start_time": "2022-08-14T09:21:43.874155Z"
        },
        "id": "3a40b811",
        "outputId": "4debc6b6-fee1-4a9b-ab23-1225c37469f5"
      },
      "outputs": [
        {
          "data": {
            "text/plain": [
              "(140, 9)"
            ]
          },
          "execution_count": 20,
          "metadata": {},
          "output_type": "execute_result"
        }
      ],
      "source": [
        "X_train.shape"
      ]
    },
    {
      "cell_type": "markdown",
      "id": "proud-district",
      "metadata": {
        "id": "proud-district"
      },
      "source": [
        "## Model for fitting"
      ]
    },
    {
      "cell_type": "code",
      "execution_count": null,
      "id": "indie-nightlife",
      "metadata": {
        "ExecuteTime": {
          "end_time": "2022-08-14T09:24:46.937284Z",
          "start_time": "2022-08-14T09:24:45.752138Z"
        },
        "id": "indie-nightlife"
      },
      "outputs": [],
      "source": [
        "from sklearn.linear_model import LinearRegression"
      ]
    },
    {
      "cell_type": "code",
      "execution_count": null,
      "id": "exclusive-semester",
      "metadata": {
        "ExecuteTime": {
          "end_time": "2022-08-14T09:24:49.401818Z",
          "start_time": "2022-08-14T09:24:49.386648Z"
        },
        "id": "exclusive-semester"
      },
      "outputs": [],
      "source": [
        "model_poly = LinearRegression() #model built etme ismi lineer regression ama poli regression yapiyormus ismi busekilde kalmis hocaya gpore degistirilebir ama degistirmemis ameikalilar dedi"
      ]
    },
    {
      "cell_type": "code",
      "execution_count": null,
      "id": "critical-comparison",
      "metadata": {
        "ExecuteTime": {
          "end_time": "2022-08-14T09:34:48.724672Z",
          "start_time": "2022-08-14T09:34:47.020143Z"
        },
        "id": "critical-comparison",
        "outputId": "0be1e2b7-255b-4584-e5ac-d0f4d8a12983"
      },
      "outputs": [
        {
          "data": {
            "text/html": [
              "<style>#sk-container-id-4 {color: black;background-color: white;}#sk-container-id-4 pre{padding: 0;}#sk-container-id-4 div.sk-toggleable {background-color: white;}#sk-container-id-4 label.sk-toggleable__label {cursor: pointer;display: block;width: 100%;margin-bottom: 0;padding: 0.3em;box-sizing: border-box;text-align: center;}#sk-container-id-4 label.sk-toggleable__label-arrow:before {content: \"▸\";float: left;margin-right: 0.25em;color: #696969;}#sk-container-id-4 label.sk-toggleable__label-arrow:hover:before {color: black;}#sk-container-id-4 div.sk-estimator:hover label.sk-toggleable__label-arrow:before {color: black;}#sk-container-id-4 div.sk-toggleable__content {max-height: 0;max-width: 0;overflow: hidden;text-align: left;background-color: #f0f8ff;}#sk-container-id-4 div.sk-toggleable__content pre {margin: 0.2em;color: black;border-radius: 0.25em;background-color: #f0f8ff;}#sk-container-id-4 input.sk-toggleable__control:checked~div.sk-toggleable__content {max-height: 200px;max-width: 100%;overflow: auto;}#sk-container-id-4 input.sk-toggleable__control:checked~label.sk-toggleable__label-arrow:before {content: \"▾\";}#sk-container-id-4 div.sk-estimator input.sk-toggleable__control:checked~label.sk-toggleable__label {background-color: #d4ebff;}#sk-container-id-4 div.sk-label input.sk-toggleable__control:checked~label.sk-toggleable__label {background-color: #d4ebff;}#sk-container-id-4 input.sk-hidden--visually {border: 0;clip: rect(1px 1px 1px 1px);clip: rect(1px, 1px, 1px, 1px);height: 1px;margin: -1px;overflow: hidden;padding: 0;position: absolute;width: 1px;}#sk-container-id-4 div.sk-estimator {font-family: monospace;background-color: #f0f8ff;border: 1px dotted black;border-radius: 0.25em;box-sizing: border-box;margin-bottom: 0.5em;}#sk-container-id-4 div.sk-estimator:hover {background-color: #d4ebff;}#sk-container-id-4 div.sk-parallel-item::after {content: \"\";width: 100%;border-bottom: 1px solid gray;flex-grow: 1;}#sk-container-id-4 div.sk-label:hover label.sk-toggleable__label {background-color: #d4ebff;}#sk-container-id-4 div.sk-serial::before {content: \"\";position: absolute;border-left: 1px solid gray;box-sizing: border-box;top: 0;bottom: 0;left: 50%;z-index: 0;}#sk-container-id-4 div.sk-serial {display: flex;flex-direction: column;align-items: center;background-color: white;padding-right: 0.2em;padding-left: 0.2em;position: relative;}#sk-container-id-4 div.sk-item {position: relative;z-index: 1;}#sk-container-id-4 div.sk-parallel {display: flex;align-items: stretch;justify-content: center;background-color: white;position: relative;}#sk-container-id-4 div.sk-item::before, #sk-container-id-4 div.sk-parallel-item::before {content: \"\";position: absolute;border-left: 1px solid gray;box-sizing: border-box;top: 0;bottom: 0;left: 50%;z-index: -1;}#sk-container-id-4 div.sk-parallel-item {display: flex;flex-direction: column;z-index: 1;position: relative;background-color: white;}#sk-container-id-4 div.sk-parallel-item:first-child::after {align-self: flex-end;width: 50%;}#sk-container-id-4 div.sk-parallel-item:last-child::after {align-self: flex-start;width: 50%;}#sk-container-id-4 div.sk-parallel-item:only-child::after {width: 0;}#sk-container-id-4 div.sk-dashed-wrapped {border: 1px dashed gray;margin: 0 0.4em 0.5em 0.4em;box-sizing: border-box;padding-bottom: 0.4em;background-color: white;}#sk-container-id-4 div.sk-label label {font-family: monospace;font-weight: bold;display: inline-block;line-height: 1.2em;}#sk-container-id-4 div.sk-label-container {text-align: center;}#sk-container-id-4 div.sk-container {/* jupyter's `normalize.less` sets `[hidden] { display: none; }` but bootstrap.min.css set `[hidden] { display: none !important; }` so we also need the `!important` here to be able to override the default hidden behavior on the sphinx rendered scikit-learn.org. See: https://github.com/scikit-learn/scikit-learn/issues/21755 */display: inline-block !important;position: relative;}#sk-container-id-4 div.sk-text-repr-fallback {display: none;}</style><div id=\"sk-container-id-4\" class=\"sk-top-container\"><div class=\"sk-text-repr-fallback\"><pre>LinearRegression()</pre><b>In a Jupyter environment, please rerun this cell to show the HTML representation or trust the notebook. <br />On GitHub, the HTML representation is unable to render, please try loading this page with nbviewer.org.</b></div><div class=\"sk-container\" hidden><div class=\"sk-item\"><div class=\"sk-estimator sk-toggleable\"><input class=\"sk-toggleable__control sk-hidden--visually\" id=\"sk-estimator-id-4\" type=\"checkbox\" checked><label for=\"sk-estimator-id-4\" class=\"sk-toggleable__label sk-toggleable__label-arrow\">LinearRegression</label><div class=\"sk-toggleable__content\"><pre>LinearRegression()</pre></div></div></div></div></div>"
            ],
            "text/plain": [
              "LinearRegression()"
            ]
          },
          "execution_count": 24,
          "metadata": {},
          "output_type": "execute_result"
        }
      ],
      "source": [
        "model_poly.fit(X_train, y_train) #modeli egitme butun ogrenmeler katsayilarin optimizasyonudur dedi hoca\n",
        "                                 #x ile y arasinda kural bulmak amaci modellerin"
      ]
    },
    {
      "cell_type": "code",
      "execution_count": null,
      "id": "charitable-savings",
      "metadata": {
        "ExecuteTime": {
          "end_time": "2022-08-14T09:34:50.796091Z",
          "start_time": "2022-08-14T09:34:50.713451Z"
        },
        "id": "charitable-savings"
      },
      "outputs": [],
      "source": [
        "y_pred = model_poly.predict(X_test) #egittikten sonra predict ediyor kestirme yapiyor"
      ]
    },
    {
      "cell_type": "code",
      "execution_count": null,
      "id": "tough-edinburgh",
      "metadata": {
        "ExecuteTime": {
          "end_time": "2022-08-14T09:35:07.847389Z",
          "start_time": "2022-08-14T09:35:07.727657Z"
        },
        "id": "tough-edinburgh",
        "outputId": "56105888-4cda-4a55-9b7e-a084a4002910"
      },
      "outputs": [
        {
          "data": {
            "text/html": [
              "<div><div id=1146055d-8a71-4889-a300-4791bd92fdc8 style=\"display:none; background-color:#9D6CFF; color:white; width:200px; height:30px; padding-left:5px; border-radius:4px; flex-direction:row; justify-content:space-around; align-items:center;\" onmouseover=\"this.style.backgroundColor='#BA9BF8'\" onmouseout=\"this.style.backgroundColor='#9D6CFF'\" onclick=\"window.commands?.execute('create-mitosheet-from-dataframe-output');\">See Full Dataframe in Mito</div> <script> if (window.commands?.hasCommand('create-mitosheet-from-dataframe-output')) document.getElementById('1146055d-8a71-4889-a300-4791bd92fdc8').style.display = 'flex' </script> <table border=\"1\" class=\"dataframe\">\n",
              "  <thead>\n",
              "    <tr style=\"text-align: right;\">\n",
              "      <th></th>\n",
              "      <th>Actual</th>\n",
              "      <th>pred</th>\n",
              "      <th>residual</th>\n",
              "    </tr>\n",
              "  </thead>\n",
              "  <tbody>\n",
              "    <tr>\n",
              "      <th>37</th>\n",
              "      <td>14.7</td>\n",
              "      <td>13.948562</td>\n",
              "      <td>0.751438</td>\n",
              "    </tr>\n",
              "    <tr>\n",
              "      <th>109</th>\n",
              "      <td>19.8</td>\n",
              "      <td>19.334803</td>\n",
              "      <td>0.465197</td>\n",
              "    </tr>\n",
              "    <tr>\n",
              "      <th>31</th>\n",
              "      <td>11.9</td>\n",
              "      <td>12.319282</td>\n",
              "      <td>-0.419282</td>\n",
              "    </tr>\n",
              "    <tr>\n",
              "      <th>89</th>\n",
              "      <td>16.7</td>\n",
              "      <td>16.762863</td>\n",
              "      <td>-0.062863</td>\n",
              "    </tr>\n",
              "    <tr>\n",
              "      <th>66</th>\n",
              "      <td>9.5</td>\n",
              "      <td>7.902109</td>\n",
              "      <td>1.597891</td>\n",
              "    </tr>\n",
              "    <tr>\n",
              "      <th>...</th>\n",
              "      <td>...</td>\n",
              "      <td>...</td>\n",
              "      <td>...</td>\n",
              "    </tr>\n",
              "    <tr>\n",
              "      <th>149</th>\n",
              "      <td>10.1</td>\n",
              "      <td>9.156263</td>\n",
              "      <td>0.943737</td>\n",
              "    </tr>\n",
              "    <tr>\n",
              "      <th>25</th>\n",
              "      <td>12.0</td>\n",
              "      <td>12.116373</td>\n",
              "      <td>-0.116373</td>\n",
              "    </tr>\n",
              "    <tr>\n",
              "      <th>34</th>\n",
              "      <td>9.5</td>\n",
              "      <td>9.281496</td>\n",
              "      <td>0.218504</td>\n",
              "    </tr>\n",
              "    <tr>\n",
              "      <th>170</th>\n",
              "      <td>8.4</td>\n",
              "      <td>8.446040</td>\n",
              "      <td>-0.046040</td>\n",
              "    </tr>\n",
              "    <tr>\n",
              "      <th>39</th>\n",
              "      <td>21.5</td>\n",
              "      <td>21.655881</td>\n",
              "      <td>-0.155881</td>\n",
              "    </tr>\n",
              "  </tbody>\n",
              "</table></div>"
            ],
            "text/plain": [
              "     Actual       pred  residual\n",
              "37     14.7  13.948562  0.751438\n",
              "109    19.8  19.334803  0.465197\n",
              "31     11.9  12.319282 -0.419282\n",
              "89     16.7  16.762863 -0.062863\n",
              "66      9.5   7.902109  1.597891\n",
              "119     6.6   6.941438 -0.341438\n",
              "54     20.2  20.133727  0.066273\n",
              "74     17.0  17.500927 -0.500927\n",
              "145    10.3  10.568890 -0.268890\n",
              "142    20.1  20.125518 -0.025518\n",
              "148    10.9   9.446145  1.453855\n",
              "112    14.1  14.099354  0.000646\n",
              "174    11.5  12.055135 -0.555135\n",
              "55     23.7  23.392540  0.307460\n",
              "141    19.2  19.675084 -0.475084\n",
              "149    10.1   9.156263  0.943737\n",
              "25     12.0  12.116373 -0.116373\n",
              "34      9.5   9.281496  0.218504\n",
              "170     8.4   8.446040 -0.046040\n",
              "39     21.5  21.655881 -0.155881"
            ]
          },
          "execution_count": 26,
          "metadata": {},
          "output_type": "execute_result"
        }
      ],
      "source": [
        "my_dict = {\"Actual\": y_test, \"pred\": y_pred, \"residual\": y_test-y_pred}\n",
        "compare = pd.DataFrame(my_dict)\n",
        "compare.head(20)"
      ]
    },
    {
      "cell_type": "code",
      "execution_count": null,
      "id": "eleven-nursing",
      "metadata": {
        "ExecuteTime": {
          "end_time": "2022-08-14T09:36:13.915037Z",
          "start_time": "2022-08-14T09:36:11.279594Z"
        },
        "id": "eleven-nursing",
        "outputId": "8f06db1a-9f4a-40c1-b24e-d10df7781bc8"
      },
      "outputs": [
        {
          "data": {
            "image/png": "[encoded data removed]",
            "text/plain": [
              "<Figure size 1080x648 with 1 Axes>"
            ]
          },
          "metadata": {
            "needs_background": "light"
          },
          "output_type": "display_data"
        }
      ],
      "source": [
        "compare.head(20).plot(kind='bar',figsize=(15,9))\n",
        "plt.show();"
      ]
    },
    {
      "cell_type": "markdown",
      "id": "smart-program",
      "metadata": {
        "id": "smart-program"
      },
      "source": [
        "## Poly Coefficients"
      ]
    },
    {
      "cell_type": "code",
      "execution_count": null,
      "id": "cathedral-february",
      "metadata": {
        "id": "cathedral-february",
        "outputId": "45be676f-7a00-4af1-a4bb-d130143539fe"
      },
      "outputs": [
        {
          "data": {
            "text/plain": [
              "array([ 5.17095811e-02,  1.30848864e-02,  1.20000085e-02, -1.10892474e-04,\n",
              "        1.14212673e-03, -5.24100082e-05,  3.34919737e-05,  1.46380310e-04,\n",
              "       -3.04715806e-05])"
            ]
          },
          "execution_count": 28,
          "metadata": {},
          "output_type": "execute_result"
        }
      ],
      "source": [
        "model_poly.coef_   #polinom buldu ikinci dereceden polinom buldu dedi"
      ]
    },
    {
      "cell_type": "code",
      "execution_count": null,
      "id": "configured-chemistry",
      "metadata": {
        "ExecuteTime": {
          "end_time": "2022-08-14T09:37:14.430323Z",
          "start_time": "2022-08-14T09:37:14.413338Z"
        },
        "id": "configured-chemistry"
      },
      "outputs": [],
      "source": [
        "df_coef = pd.DataFrame(model_poly.coef_, index = [\"TV\", \"radio\", \"newspaper\", \"TV^2\", \"TV&Radio\", \\\n",
        "                                   \"TV&Newspaper\", \"Radio^2\", \"Radio&newspaper\", \"Newspaper^2\"], columns = [\"coef\"])"
      ]
    },
    {
      "cell_type": "code",
      "execution_count": null,
      "id": "packed-parameter",
      "metadata": {
        "ExecuteTime": {
          "end_time": "2022-08-14T09:37:16.972415Z",
          "start_time": "2022-08-14T09:37:16.944438Z"
        },
        "id": "packed-parameter",
        "outputId": "6621cf4e-43b5-42f9-98c0-6be57bc68f37"
      },
      "outputs": [
        {
          "data": {
            "text/html": [
              "<div><div id=3232e008-fb7c-4c58-8623-48ab606d3d1b style=\"display:none; background-color:#9D6CFF; color:white; width:200px; height:30px; padding-left:5px; border-radius:4px; flex-direction:row; justify-content:space-around; align-items:center;\" onmouseover=\"this.style.backgroundColor='#BA9BF8'\" onmouseout=\"this.style.backgroundColor='#9D6CFF'\" onclick=\"window.commands?.execute('create-mitosheet-from-dataframe-output');\">See Full Dataframe in Mito</div> <script> if (window.commands?.hasCommand('create-mitosheet-from-dataframe-output')) document.getElementById('3232e008-fb7c-4c58-8623-48ab606d3d1b').style.display = 'flex' </script> <table border=\"1\" class=\"dataframe\">\n",
              "  <thead>\n",
              "    <tr style=\"text-align: right;\">\n",
              "      <th></th>\n",
              "      <th>coef</th>\n",
              "    </tr>\n",
              "  </thead>\n",
              "  <tbody>\n",
              "    <tr>\n",
              "      <th>TV</th>\n",
              "      <td>0.051710</td>\n",
              "    </tr>\n",
              "    <tr>\n",
              "      <th>radio</th>\n",
              "      <td>0.013085</td>\n",
              "    </tr>\n",
              "    <tr>\n",
              "      <th>newspaper</th>\n",
              "      <td>0.012000</td>\n",
              "    </tr>\n",
              "    <tr>\n",
              "      <th>TV^2</th>\n",
              "      <td>-0.000111</td>\n",
              "    </tr>\n",
              "    <tr>\n",
              "      <th>TV&amp;Radio</th>\n",
              "      <td>0.001142</td>\n",
              "    </tr>\n",
              "    <tr>\n",
              "      <th>TV&amp;Newspaper</th>\n",
              "      <td>-0.000052</td>\n",
              "    </tr>\n",
              "    <tr>\n",
              "      <th>Radio^2</th>\n",
              "      <td>0.000033</td>\n",
              "    </tr>\n",
              "    <tr>\n",
              "      <th>Radio&amp;newspaper</th>\n",
              "      <td>0.000146</td>\n",
              "    </tr>\n",
              "    <tr>\n",
              "      <th>Newspaper^2</th>\n",
              "      <td>-0.000030</td>\n",
              "    </tr>\n",
              "  </tbody>\n",
              "</table></div>"
            ],
            "text/plain": [
              "                     coef\n",
              "TV               0.051710\n",
              "radio            0.013085\n",
              "newspaper        0.012000\n",
              "TV^2            -0.000111\n",
              "TV&Radio         0.001142\n",
              "TV&Newspaper    -0.000052\n",
              "Radio^2          0.000033\n",
              "Radio&newspaper  0.000146\n",
              "Newspaper^2     -0.000030"
            ]
          },
          "execution_count": 29,
          "metadata": {},
          "output_type": "execute_result"
        }
      ],
      "source": [
        "df_coef   #gercek featurelardan sonrakiler sentetik feature"
      ]
    },
    {
      "cell_type": "code",
      "execution_count": null,
      "id": "banned-transsexual",
      "metadata": {
        "ExecuteTime": {
          "end_time": "2022-08-14T09:42:40.651526Z",
          "start_time": "2022-08-14T09:42:40.635537Z"
        },
        "id": "banned-transsexual",
        "outputId": "ea456164-b76b-457b-8190-c77e7beee5fd"
      },
      "outputs": [
        {
          "data": {
            "text/plain": [
              "array([21.86190699])"
            ]
          },
          "execution_count": 32,
          "metadata": {},
          "output_type": "execute_result"
        }
      ],
      "source": [
        "model_poly.predict([[2.301000e+02, 3.780000e+01, 6.920000e+01, 5.294601e+04,\n",
        "       8.697780e+03, 1.592292e+04, 1.428840e+03, 2.615760e+03,\n",
        "       4.788640e+03]])"
      ]
    },
    {
      "cell_type": "markdown",
      "id": "intense-alberta",
      "metadata": {
        "id": "intense-alberta"
      },
      "source": [
        "## Evaluation on the Test Set"
      ]
    },
    {
      "cell_type": "code",
      "execution_count": null,
      "id": "sensitive-emphasis",
      "metadata": {
        "ExecuteTime": {
          "end_time": "2022-08-14T09:43:44.759303Z",
          "start_time": "2022-08-14T09:43:44.694347Z"
        },
        "id": "sensitive-emphasis"
      },
      "outputs": [],
      "source": [
        "from sklearn.metrics import mean_absolute_error,mean_squared_error,r2_score"
      ]
    },
    {
      "cell_type": "code",
      "execution_count": null,
      "id": "brilliant-producer",
      "metadata": {
        "ExecuteTime": {
          "end_time": "2022-08-14T09:44:07.312713Z",
          "start_time": "2022-08-14T09:44:07.295725Z"
        },
        "id": "brilliant-producer"
      },
      "outputs": [],
      "source": [
        "y_pred = model_poly.predict(X_test)"
      ]
    },
    {
      "cell_type": "code",
      "execution_count": null,
      "id": "sustainable-asian",
      "metadata": {
        "ExecuteTime": {
          "end_time": "2022-08-14T09:44:09.456656Z",
          "start_time": "2022-08-14T09:44:09.442666Z"
        },
        "id": "sustainable-asian"
      },
      "outputs": [],
      "source": [
        "def eval_metric(actual, pred):\n",
        "    mae = mean_absolute_error(actual, pred)\n",
        "    mse = mean_squared_error(actual, pred)\n",
        "    rmse = np.sqrt(mean_squared_error(actual, pred))\n",
        "    R2_score = r2_score(actual, pred)\n",
        "    print(\"Model performance:\")\n",
        "    print(\"--------------------------\")\n",
        "    print(f\"R2_score \\t: {R2_score}\")\n",
        "    print(f\"MAE \\t\\t: {mae}\")\n",
        "    print(f\"MSE \\t\\t: {mse}\")\n",
        "    print(f\"RMSE \\t\\t: {rmse}\")"
      ]
    },
    {
      "cell_type": "code",
      "execution_count": null,
      "id": "gross-mixer",
      "metadata": {
        "ExecuteTime": {
          "end_time": "2022-08-14T09:47:30.467449Z",
          "start_time": "2022-08-14T09:47:30.456455Z"
        },
        "id": "gross-mixer",
        "outputId": "491909b8-2337-4456-efb9-24e5ae84f194"
      },
      "outputs": [
        {
          "name": "stdout",
          "output_type": "stream",
          "text": [
            "Model performance:\n",
            "--------------------------\n",
            "R2_score \t: 0.9843529333146797\n",
            "MAE \t\t: 0.4896798044803558\n",
            "MSE \t\t: 0.44175055104033756\n",
            "RMSE \t\t: 0.664643175726899\n"
          ]
        }
      ],
      "source": [
        "eval_metric(y_test, y_pred) #R2 0.98 yani yuzde 98 basarili "
      ]
    },
    {
      "cell_type": "code",
      "execution_count": null,
      "id": "revolutionary-release",
      "metadata": {
        "ExecuteTime": {
          "end_time": "2022-08-14T09:47:39.031259Z",
          "start_time": "2022-08-14T09:47:39.015266Z"
        },
        "id": "revolutionary-release"
      },
      "outputs": [],
      "source": [
        "y_train_pred = model_poly.predict(X_train) #simdi train data si ile prediction yaptiriyporuz ki overfitting varmi, veya underfittimg varmi"
      ]
    },
    {
      "cell_type": "code",
      "execution_count": null,
      "id": "available-minimum",
      "metadata": {
        "ExecuteTime": {
          "end_time": "2022-08-14T09:47:40.082638Z",
          "start_time": "2022-08-14T09:47:40.067649Z"
        },
        "id": "available-minimum",
        "outputId": "312e2a2a-9abb-4103-fa74-06fe49cd6bd3"
      },
      "outputs": [
        {
          "name": "stdout",
          "output_type": "stream",
          "text": [
            "Model performance:\n",
            "--------------------------\n",
            "R2_score \t: 0.9868638137712757\n",
            "MAE \t\t: 0.4049248139151411\n",
            "MSE \t\t: 0.3456939142443997\n",
            "RMSE \t\t: 0.5879574085292231\n"
          ]
        }
      ],
      "source": [
        "eval_metric(y_train, y_train_pred)"
      ]
    },
    {
      "cell_type": "markdown",
      "id": "distant-subscription",
      "metadata": {
        "id": "distant-subscription"
      },
      "source": [
        "* Simple Linear Regression: #buradaki sonucalara gore 2. derece polinomun \n",
        "    * MAE      : 1.213      #simple regressiona gore daha basarili olgunu \n",
        "    * RMSE     : 1.516      #soyleyebilir\n",
        "    * r2_score : 0.8609\n",
        "\n",
        "* Polynomial 2-degree:\n",
        "    * MAE      : 0.48\n",
        "    * RMSE     : 0.66\n",
        "    * r2_score : 0.9868"
      ]
    },
    {
      "cell_type": "markdown",
      "id": "referenced-lebanon",
      "metadata": {
        "id": "referenced-lebanon"
      },
      "source": [
        "## Let's find optimal degree of poly"
      ]
    },
    {
      "cell_type": "code",
      "execution_count": null,
      "id": "analyzed-generator",
      "metadata": {
        "ExecuteTime": {
          "end_time": "2022-08-14T09:58:56.803855Z",
          "start_time": "2022-08-14T09:58:56.771875Z"
        },
        "id": "analyzed-generator"
      },
      "outputs": [],
      "source": [
        "def poly(d):\n",
        "    \n",
        "    train_rmse_errors = []\n",
        "    test_rmse_errors = []\n",
        "    number_of_features = []\n",
        "    degrees=[]\n",
        "    \n",
        "    for i in range(1, d):\n",
        "        polynomial_converter = PolynomialFeatures(degree = i, include_bias =False)\n",
        "        poly_features = polynomial_converter.fit_transform(X)\n",
        "        \n",
        "        X_train, X_test, y_train, y_test = train_test_split(poly_features, y, test_size=0.3, random_state=101)\n",
        "        \n",
        "        model = LinearRegression(fit_intercept=True)\n",
        "        model.fit(X_train, y_train)\n",
        "        \n",
        "        train_pred = model.predict(X_train)\n",
        "        test_pred = model.predict(X_test)\n",
        "        \n",
        "        train_RMSE = np.sqrt(mean_squared_error(y_train,train_pred))\n",
        "        test_RMSE = np.sqrt(mean_squared_error(y_test,test_pred))\n",
        "        \n",
        "        train_rmse_errors.append(train_RMSE)\n",
        "        test_rmse_errors.append(test_RMSE)\n",
        "        \n",
        "        number_of_features.append(poly_features.shape[1])\n",
        "        degrees.append(i)\n",
        "        \n",
        "    return pd.DataFrame({\"train_rmse_errors\": train_rmse_errors, \"test_rmse_errors\":test_rmse_errors, \"Degree\":degrees}, \n",
        "                        index=range(1,d))\n",
        "        "
      ]
    },
    {
      "cell_type": "markdown",
      "id": "88066635",
      "metadata": {
        "id": "88066635"
      },
      "source": [
        "birinci satirda birincci derece icin degerler birbirine yakin ama yuksek\n",
        "ikinci derecede yaridan az dusuk\n",
        "7,8,9 ezber olmus datalari sonra grafige cizdirelim kirmizi test mavi train , test ile train yakin olsun isteriz , \n"
      ]
    },
    {
      "cell_type": "code",
      "execution_count": null,
      "id": "simple-synthesis",
      "metadata": {
        "ExecuteTime": {
          "end_time": "2022-08-14T09:52:35.256932Z",
          "start_time": "2022-08-14T09:52:34.603120Z"
        },
        "scrolled": true,
        "id": "simple-synthesis",
        "outputId": "d1a4b0ad-3bf4-4d8a-e8d7-53b8fc0fd928"
      },
      "outputs": [
        {
          "data": {
            "text/html": [
              "<div><div id=53b0fd1a-d9ac-41b9-a7ba-4e033da77ebd style=\"display:none; background-color:#9D6CFF; color:white; width:200px; height:30px; padding-left:5px; border-radius:4px; flex-direction:row; justify-content:space-around; align-items:center;\" onmouseover=\"this.style.backgroundColor='#BA9BF8'\" onmouseout=\"this.style.backgroundColor='#9D6CFF'\" onclick=\"window.commands?.execute('create-mitosheet-from-dataframe-output');\">See Full Dataframe in Mito</div> <script> if (window.commands?.hasCommand('create-mitosheet-from-dataframe-output')) document.getElementById('53b0fd1a-d9ac-41b9-a7ba-4e033da77ebd').style.display = 'flex' </script> <table border=\"1\" class=\"dataframe\">\n",
              "  <thead>\n",
              "    <tr style=\"text-align: right;\">\n",
              "      <th></th>\n",
              "      <th>train_rmse_errors</th>\n",
              "      <th>test_rmse_errors</th>\n",
              "      <th>Degree</th>\n",
              "    </tr>\n",
              "  </thead>\n",
              "  <tbody>\n",
              "    <tr>\n",
              "      <th>1</th>\n",
              "      <td>1.734594</td>\n",
              "      <td>1.516152</td>\n",
              "      <td>1</td>\n",
              "    </tr>\n",
              "    <tr>\n",
              "      <th>2</th>\n",
              "      <td>0.587957</td>\n",
              "      <td>0.664643</td>\n",
              "      <td>2</td>\n",
              "    </tr>\n",
              "    <tr>\n",
              "      <th>3</th>\n",
              "      <td>0.433934</td>\n",
              "      <td>0.580329</td>\n",
              "      <td>3</td>\n",
              "    </tr>\n",
              "    <tr>\n",
              "      <th>4</th>\n",
              "      <td>0.351708</td>\n",
              "      <td>0.507774</td>\n",
              "      <td>4</td>\n",
              "    </tr>\n",
              "    <tr>\n",
              "      <th>5</th>\n",
              "      <td>0.250934</td>\n",
              "      <td>2.575806</td>\n",
              "      <td>5</td>\n",
              "    </tr>\n",
              "    <tr>\n",
              "      <th>6</th>\n",
              "      <td>0.198529</td>\n",
              "      <td>4.328831</td>\n",
              "      <td>6</td>\n",
              "    </tr>\n",
              "    <tr>\n",
              "      <th>7</th>\n",
              "      <td>5.258394</td>\n",
              "      <td>174.629707</td>\n",
              "      <td>7</td>\n",
              "    </tr>\n",
              "    <tr>\n",
              "      <th>8</th>\n",
              "      <td>0.206961</td>\n",
              "      <td>4679.504526</td>\n",
              "      <td>8</td>\n",
              "    </tr>\n",
              "    <tr>\n",
              "      <th>9</th>\n",
              "      <td>0.169573</td>\n",
              "      <td>95835.863405</td>\n",
              "      <td>9</td>\n",
              "    </tr>\n",
              "  </tbody>\n",
              "</table></div>"
            ],
            "text/plain": [
              "   train_rmse_errors  test_rmse_errors  Degree\n",
              "1           1.734594          1.516152       1\n",
              "2           0.587957          0.664643       2\n",
              "3           0.433934          0.580329       3\n",
              "4           0.351708          0.507774       4\n",
              "5           0.250934          2.575806       5\n",
              "6           0.198529          4.328831       6\n",
              "7           5.258394        174.629707       7\n",
              "8           0.206961       4679.504526       8\n",
              "9           0.169573      95835.863405       9"
            ]
          },
          "execution_count": 44,
          "metadata": {},
          "output_type": "execute_result"
        }
      ],
      "source": [
        "poly(10)"
      ]
    },
    {
      "cell_type": "code",
      "execution_count": null,
      "id": "3861f168",
      "metadata": {
        "ExecuteTime": {
          "end_time": "2022-08-14T10:02:45.038224Z",
          "start_time": "2022-08-14T10:02:44.471682Z"
        },
        "id": "3861f168",
        "outputId": "eb58d90e-83a7-498d-8764-64f68041b221"
      },
      "outputs": [
        {
          "data": {
            "image/png": "[encoded data removed]",
            "text/plain": [
              "<Figure size 720x432 with 1 Axes>"
            ]
          },
          "metadata": {
            "needs_background": "light"
          },
          "output_type": "display_data"
        }
      ],
      "source": [
        "plt.plot(range(1,6), poly(6)[\"train_rmse_errors\"], label = \"TRAIN\")\n",
        "plt.plot(range(1,6), poly(6)[\"test_rmse_errors\"], label = \"TEST\")\n",
        "plt.xlabel(\"Polynamial Complex\")\n",
        "plt.ylabel(\"RMSE\")\n",
        "plt.legend(); #2 , 3, 4 olabilir ama sinirlardan yani 2 ile 4 den uzak durmak lazim dedi yani ekstra bir veri gelirse bu tablo kayabilir under veya uooer a o yuzden 3 daha makul olur dedi"
      ]
    },
    {
      "cell_type": "code",
      "execution_count": null,
      "id": "obvious-mobility",
      "metadata": {
        "ExecuteTime": {
          "end_time": "2022-08-14T10:02:02.594483Z",
          "start_time": "2022-08-14T10:02:01.753299Z"
        },
        "id": "obvious-mobility",
        "outputId": "a1182770-68a8-4f47-9252-c63354f9bd32"
      },
      "outputs": [
        {
          "data": {
            "image/png": "[encoded data removed]",
            "text/plain": [
              "<Figure size 720x432 with 1 Axes>"
            ]
          },
          "metadata": {
            "needs_background": "light"
          },
          "output_type": "display_data"
        }
      ],
      "source": [
        "plt.plot(range(1,10), poly(10)[\"train_rmse_errors\"], label = \"TRAIN\")\n",
        "plt.plot(range(1,10), poly(10)[\"test_rmse_errors\"], label = \"TEST\")\n",
        "plt.xlabel(\"Polynamial Complex\")\n",
        "plt.ylabel(\"RMSE\")\n",
        "plt.legend();"
      ]
    },
    {
      "cell_type": "code",
      "execution_count": null,
      "id": "southern-colonial",
      "metadata": {
        "id": "southern-colonial",
        "outputId": "0ba061b2-f443-498d-ba4b-4020c4b63a58"
      },
      "outputs": [
        {
          "data": {
            "image/png": "[encoded data removed]",
            "text/plain": [
              "<Figure size 720x432 with 1 Axes>"
            ]
          },
          "metadata": {
            "needs_background": "light"
          },
          "output_type": "display_data"
        }
      ],
      "source": [
        "plt.plot(range(1,6), poly(6)[\"train_rmse_errors\"], label = \"TRAIN\")\n",
        "plt.plot(range(1,6), poly(6)[\"test_rmse_errors\"], label = \"TEST\")\n",
        "plt.xlabel(\"Polynamial Complex\")\n",
        "plt.ylabel(\"RMSE\")\n",
        "plt.legend();"
      ]
    },
    {
      "cell_type": "markdown",
      "id": "continuing-patrick",
      "metadata": {
        "id": "continuing-patrick"
      },
      "source": [
        "## Finalizing Model Choice"
      ]
    },
    {
      "cell_type": "code",
      "execution_count": null,
      "id": "right-samuel",
      "metadata": {
        "ExecuteTime": {
          "end_time": "2022-08-14T10:51:19.554640Z",
          "start_time": "2022-08-14T10:51:19.536650Z"
        },
        "id": "right-samuel"
      },
      "outputs": [],
      "source": [
        "final_poly_converter = PolynomialFeatures(degree = 3, include_bias=False)"
      ]
    },
    {
      "cell_type": "code",
      "execution_count": null,
      "id": "matched-singapore",
      "metadata": {
        "ExecuteTime": {
          "end_time": "2022-08-14T10:52:26.147521Z",
          "start_time": "2022-08-14T10:52:26.135530Z"
        },
        "id": "matched-singapore"
      },
      "outputs": [],
      "source": [
        "final_model = LinearRegression()"
      ]
    },
    {
      "cell_type": "code",
      "execution_count": null,
      "id": "primary-regular",
      "metadata": {
        "ExecuteTime": {
          "end_time": "2022-08-14T10:52:27.723621Z",
          "start_time": "2022-08-14T10:52:27.528739Z"
        },
        "id": "primary-regular",
        "outputId": "95d0500c-f134-424d-f793-fb6ddae1ba45"
      },
      "outputs": [
        {
          "data": {
            "text/html": [
              "<style>#sk-container-id-5 {color: black;background-color: white;}#sk-container-id-5 pre{padding: 0;}#sk-container-id-5 div.sk-toggleable {background-color: white;}#sk-container-id-5 label.sk-toggleable__label {cursor: pointer;display: block;width: 100%;margin-bottom: 0;padding: 0.3em;box-sizing: border-box;text-align: center;}#sk-container-id-5 label.sk-toggleable__label-arrow:before {content: \"▸\";float: left;margin-right: 0.25em;color: #696969;}#sk-container-id-5 label.sk-toggleable__label-arrow:hover:before {color: black;}#sk-container-id-5 div.sk-estimator:hover label.sk-toggleable__label-arrow:before {color: black;}#sk-container-id-5 div.sk-toggleable__content {max-height: 0;max-width: 0;overflow: hidden;text-align: left;background-color: #f0f8ff;}#sk-container-id-5 div.sk-toggleable__content pre {margin: 0.2em;color: black;border-radius: 0.25em;background-color: #f0f8ff;}#sk-container-id-5 input.sk-toggleable__control:checked~div.sk-toggleable__content {max-height: 200px;max-width: 100%;overflow: auto;}#sk-container-id-5 input.sk-toggleable__control:checked~label.sk-toggleable__label-arrow:before {content: \"▾\";}#sk-container-id-5 div.sk-estimator input.sk-toggleable__control:checked~label.sk-toggleable__label {background-color: #d4ebff;}#sk-container-id-5 div.sk-label input.sk-toggleable__control:checked~label.sk-toggleable__label {background-color: #d4ebff;}#sk-container-id-5 input.sk-hidden--visually {border: 0;clip: rect(1px 1px 1px 1px);clip: rect(1px, 1px, 1px, 1px);height: 1px;margin: -1px;overflow: hidden;padding: 0;position: absolute;width: 1px;}#sk-container-id-5 div.sk-estimator {font-family: monospace;background-color: #f0f8ff;border: 1px dotted black;border-radius: 0.25em;box-sizing: border-box;margin-bottom: 0.5em;}#sk-container-id-5 div.sk-estimator:hover {background-color: #d4ebff;}#sk-container-id-5 div.sk-parallel-item::after {content: \"\";width: 100%;border-bottom: 1px solid gray;flex-grow: 1;}#sk-container-id-5 div.sk-label:hover label.sk-toggleable__label {background-color: #d4ebff;}#sk-container-id-5 div.sk-serial::before {content: \"\";position: absolute;border-left: 1px solid gray;box-sizing: border-box;top: 0;bottom: 0;left: 50%;z-index: 0;}#sk-container-id-5 div.sk-serial {display: flex;flex-direction: column;align-items: center;background-color: white;padding-right: 0.2em;padding-left: 0.2em;position: relative;}#sk-container-id-5 div.sk-item {position: relative;z-index: 1;}#sk-container-id-5 div.sk-parallel {display: flex;align-items: stretch;justify-content: center;background-color: white;position: relative;}#sk-container-id-5 div.sk-item::before, #sk-container-id-5 div.sk-parallel-item::before {content: \"\";position: absolute;border-left: 1px solid gray;box-sizing: border-box;top: 0;bottom: 0;left: 50%;z-index: -1;}#sk-container-id-5 div.sk-parallel-item {display: flex;flex-direction: column;z-index: 1;position: relative;background-color: white;}#sk-container-id-5 div.sk-parallel-item:first-child::after {align-self: flex-end;width: 50%;}#sk-container-id-5 div.sk-parallel-item:last-child::after {align-self: flex-start;width: 50%;}#sk-container-id-5 div.sk-parallel-item:only-child::after {width: 0;}#sk-container-id-5 div.sk-dashed-wrapped {border: 1px dashed gray;margin: 0 0.4em 0.5em 0.4em;box-sizing: border-box;padding-bottom: 0.4em;background-color: white;}#sk-container-id-5 div.sk-label label {font-family: monospace;font-weight: bold;display: inline-block;line-height: 1.2em;}#sk-container-id-5 div.sk-label-container {text-align: center;}#sk-container-id-5 div.sk-container {/* jupyter's `normalize.less` sets `[hidden] { display: none; }` but bootstrap.min.css set `[hidden] { display: none !important; }` so we also need the `!important` here to be able to override the default hidden behavior on the sphinx rendered scikit-learn.org. See: https://github.com/scikit-learn/scikit-learn/issues/21755 */display: inline-block !important;position: relative;}#sk-container-id-5 div.sk-text-repr-fallback {display: none;}</style><div id=\"sk-container-id-5\" class=\"sk-top-container\"><div class=\"sk-text-repr-fallback\"><pre>LinearRegression()</pre><b>In a Jupyter environment, please rerun this cell to show the HTML representation or trust the notebook. <br />On GitHub, the HTML representation is unable to render, please try loading this page with nbviewer.org.</b></div><div class=\"sk-container\" hidden><div class=\"sk-item\"><div class=\"sk-estimator sk-toggleable\"><input class=\"sk-toggleable__control sk-hidden--visually\" id=\"sk-estimator-id-5\" type=\"checkbox\" checked><label for=\"sk-estimator-id-5\" class=\"sk-toggleable__label sk-toggleable__label-arrow\">LinearRegression</label><div class=\"sk-toggleable__content\"><pre>LinearRegression()</pre></div></div></div></div></div>"
            ],
            "text/plain": [
              "LinearRegression()"
            ]
          },
          "execution_count": 51,
          "metadata": {},
          "output_type": "execute_result"
        }
      ],
      "source": [
        "final_model.fit(final_poly_converter.fit_transform(X), y) #herseye karar verince tum data ile egitim yapiyoruz finalde ayirmiyoruz"
      ]
    },
    {
      "cell_type": "markdown",
      "id": "broadband-terrorist",
      "metadata": {
        "id": "broadband-terrorist"
      },
      "source": [
        "## Predictions"
      ]
    },
    {
      "cell_type": "code",
      "execution_count": null,
      "id": "coordinate-outdoors",
      "metadata": {
        "ExecuteTime": {
          "end_time": "2022-08-14T10:53:19.147527Z",
          "start_time": "2022-08-14T10:53:19.132536Z"
        },
        "id": "coordinate-outdoors"
      },
      "outputs": [],
      "source": [
        "new_record = [[150, 20, 15]] #farkli bir data verecegiz modele o yuzden onu da ayni polinomdan gecirmemiz lazim  "
      ]
    },
    {
      "cell_type": "code",
      "execution_count": null,
      "id": "varied-jonathan",
      "metadata": {
        "ExecuteTime": {
          "end_time": "2022-08-14T10:55:05.060813Z",
          "start_time": "2022-08-14T10:55:05.047822Z"
        },
        "id": "varied-jonathan"
      },
      "outputs": [],
      "source": [
        "new_record_poly = final_poly_converter.fit_transform(new_record) "
      ]
    },
    {
      "cell_type": "code",
      "execution_count": null,
      "id": "rocky-weapon",
      "metadata": {
        "ExecuteTime": {
          "end_time": "2022-08-14T10:55:06.157858Z",
          "start_time": "2022-08-14T10:55:06.138869Z"
        },
        "id": "rocky-weapon",
        "outputId": "8e5b1a86-5d2f-49f6-922f-89a73f6de5c3"
      },
      "outputs": [
        {
          "data": {
            "text/plain": [
              "array([[1.500e+02, 2.000e+01, 1.500e+01, 2.250e+04, 3.000e+03, 2.250e+03,\n",
              "        4.000e+02, 3.000e+02, 2.250e+02, 3.375e+06, 4.500e+05, 3.375e+05,\n",
              "        6.000e+04, 4.500e+04, 3.375e+04, 8.000e+03, 6.000e+03, 4.500e+03,\n",
              "        3.375e+03]])"
            ]
          },
          "execution_count": 55,
          "metadata": {},
          "output_type": "execute_result"
        }
      ],
      "source": [
        "new_record_poly"
      ]
    },
    {
      "cell_type": "code",
      "execution_count": null,
      "id": "legitimate-example",
      "metadata": {
        "ExecuteTime": {
          "end_time": "2022-08-14T10:55:17.108579Z",
          "start_time": "2022-08-14T10:55:17.086590Z"
        },
        "id": "legitimate-example",
        "outputId": "792f6bba-6b95-460b-a975-08305fea27fe"
      },
      "outputs": [
        {
          "data": {
            "text/plain": [
              "array([14.24950844])"
            ]
          },
          "execution_count": 56,
          "metadata": {},
          "output_type": "execute_result"
        }
      ],
      "source": [
        "final_model.predict(new_record_poly) #cikan sonuc label da degisim ne olur demek 14.2 olur"
      ]
    },
    {
      "cell_type": "markdown",
      "id": "sweet-document",
      "metadata": {
        "id": "sweet-document"
      },
      "source": [
        "## <span style='color:red'> Overfitting</span> "
      ]
    },
    {
      "cell_type": "code",
      "execution_count": null,
      "id": "micro-worship",
      "metadata": {
        "ExecuteTime": {
          "end_time": "2022-08-14T10:57:09.985942Z",
          "start_time": "2022-08-14T10:57:09.976938Z"
        },
        "id": "micro-worship"
      },
      "outputs": [],
      "source": [
        "over_poly_converter = PolynomialFeatures(degree =5, include_bias =False)"
      ]
    },
    {
      "cell_type": "code",
      "execution_count": null,
      "id": "therapeutic-father",
      "metadata": {
        "ExecuteTime": {
          "end_time": "2022-08-14T10:57:13.504022Z",
          "start_time": "2022-08-14T10:57:13.489032Z"
        },
        "id": "therapeutic-father"
      },
      "outputs": [],
      "source": [
        "over_model = LinearRegression()"
      ]
    },
    {
      "cell_type": "code",
      "execution_count": null,
      "id": "little-video",
      "metadata": {
        "ExecuteTime": {
          "end_time": "2022-08-14T10:57:17.005125Z",
          "start_time": "2022-08-14T10:57:16.984137Z"
        },
        "id": "little-video"
      },
      "outputs": [],
      "source": [
        "X_train, X_test, y_train, y_test = train_test_split(over_poly_converter.fit_transform(X), y, test_size=0.3, random_state=101)"
      ]
    },
    {
      "cell_type": "code",
      "execution_count": null,
      "id": "precious-lighter",
      "metadata": {
        "ExecuteTime": {
          "end_time": "2022-08-14T10:57:18.593085Z",
          "start_time": "2022-08-14T10:57:18.561105Z"
        },
        "id": "precious-lighter",
        "outputId": "a019b3d7-9263-492f-daef-004cb5d6495e"
      },
      "outputs": [
        {
          "data": {
            "text/html": [
              "<style>#sk-container-id-6 {color: black;background-color: white;}#sk-container-id-6 pre{padding: 0;}#sk-container-id-6 div.sk-toggleable {background-color: white;}#sk-container-id-6 label.sk-toggleable__label {cursor: pointer;display: block;width: 100%;margin-bottom: 0;padding: 0.3em;box-sizing: border-box;text-align: center;}#sk-container-id-6 label.sk-toggleable__label-arrow:before {content: \"▸\";float: left;margin-right: 0.25em;color: #696969;}#sk-container-id-6 label.sk-toggleable__label-arrow:hover:before {color: black;}#sk-container-id-6 div.sk-estimator:hover label.sk-toggleable__label-arrow:before {color: black;}#sk-container-id-6 div.sk-toggleable__content {max-height: 0;max-width: 0;overflow: hidden;text-align: left;background-color: #f0f8ff;}#sk-container-id-6 div.sk-toggleable__content pre {margin: 0.2em;color: black;border-radius: 0.25em;background-color: #f0f8ff;}#sk-container-id-6 input.sk-toggleable__control:checked~div.sk-toggleable__content {max-height: 200px;max-width: 100%;overflow: auto;}#sk-container-id-6 input.sk-toggleable__control:checked~label.sk-toggleable__label-arrow:before {content: \"▾\";}#sk-container-id-6 div.sk-estimator input.sk-toggleable__control:checked~label.sk-toggleable__label {background-color: #d4ebff;}#sk-container-id-6 div.sk-label input.sk-toggleable__control:checked~label.sk-toggleable__label {background-color: #d4ebff;}#sk-container-id-6 input.sk-hidden--visually {border: 0;clip: rect(1px 1px 1px 1px);clip: rect(1px, 1px, 1px, 1px);height: 1px;margin: -1px;overflow: hidden;padding: 0;position: absolute;width: 1px;}#sk-container-id-6 div.sk-estimator {font-family: monospace;background-color: #f0f8ff;border: 1px dotted black;border-radius: 0.25em;box-sizing: border-box;margin-bottom: 0.5em;}#sk-container-id-6 div.sk-estimator:hover {background-color: #d4ebff;}#sk-container-id-6 div.sk-parallel-item::after {content: \"\";width: 100%;border-bottom: 1px solid gray;flex-grow: 1;}#sk-container-id-6 div.sk-label:hover label.sk-toggleable__label {background-color: #d4ebff;}#sk-container-id-6 div.sk-serial::before {content: \"\";position: absolute;border-left: 1px solid gray;box-sizing: border-box;top: 0;bottom: 0;left: 50%;z-index: 0;}#sk-container-id-6 div.sk-serial {display: flex;flex-direction: column;align-items: center;background-color: white;padding-right: 0.2em;padding-left: 0.2em;position: relative;}#sk-container-id-6 div.sk-item {position: relative;z-index: 1;}#sk-container-id-6 div.sk-parallel {display: flex;align-items: stretch;justify-content: center;background-color: white;position: relative;}#sk-container-id-6 div.sk-item::before, #sk-container-id-6 div.sk-parallel-item::before {content: \"\";position: absolute;border-left: 1px solid gray;box-sizing: border-box;top: 0;bottom: 0;left: 50%;z-index: -1;}#sk-container-id-6 div.sk-parallel-item {display: flex;flex-direction: column;z-index: 1;position: relative;background-color: white;}#sk-container-id-6 div.sk-parallel-item:first-child::after {align-self: flex-end;width: 50%;}#sk-container-id-6 div.sk-parallel-item:last-child::after {align-self: flex-start;width: 50%;}#sk-container-id-6 div.sk-parallel-item:only-child::after {width: 0;}#sk-container-id-6 div.sk-dashed-wrapped {border: 1px dashed gray;margin: 0 0.4em 0.5em 0.4em;box-sizing: border-box;padding-bottom: 0.4em;background-color: white;}#sk-container-id-6 div.sk-label label {font-family: monospace;font-weight: bold;display: inline-block;line-height: 1.2em;}#sk-container-id-6 div.sk-label-container {text-align: center;}#sk-container-id-6 div.sk-container {/* jupyter's `normalize.less` sets `[hidden] { display: none; }` but bootstrap.min.css set `[hidden] { display: none !important; }` so we also need the `!important` here to be able to override the default hidden behavior on the sphinx rendered scikit-learn.org. See: https://github.com/scikit-learn/scikit-learn/issues/21755 */display: inline-block !important;position: relative;}#sk-container-id-6 div.sk-text-repr-fallback {display: none;}</style><div id=\"sk-container-id-6\" class=\"sk-top-container\"><div class=\"sk-text-repr-fallback\"><pre>LinearRegression()</pre><b>In a Jupyter environment, please rerun this cell to show the HTML representation or trust the notebook. <br />On GitHub, the HTML representation is unable to render, please try loading this page with nbviewer.org.</b></div><div class=\"sk-container\" hidden><div class=\"sk-item\"><div class=\"sk-estimator sk-toggleable\"><input class=\"sk-toggleable__control sk-hidden--visually\" id=\"sk-estimator-id-6\" type=\"checkbox\" checked><label for=\"sk-estimator-id-6\" class=\"sk-toggleable__label sk-toggleable__label-arrow\">LinearRegression</label><div class=\"sk-toggleable__content\"><pre>LinearRegression()</pre></div></div></div></div></div>"
            ],
            "text/plain": [
              "LinearRegression()"
            ]
          },
          "execution_count": 60,
          "metadata": {},
          "output_type": "execute_result"
        }
      ],
      "source": [
        "over_model.fit(X_train, y_train)"
      ]
    },
    {
      "cell_type": "code",
      "execution_count": null,
      "id": "referenced-pride",
      "metadata": {
        "ExecuteTime": {
          "end_time": "2022-08-14T10:57:22.030098Z",
          "start_time": "2022-08-14T10:57:22.009109Z"
        },
        "id": "referenced-pride",
        "outputId": "8773eb50-b113-4189-d911-76f35141a8e4"
      },
      "outputs": [
        {
          "name": "stdout",
          "output_type": "stream",
          "text": [
            "Model performance:\n",
            "--------------------------\n",
            "R2_score \t: 0.764992246680262\n",
            "MAE \t\t: 0.6659572496119196\n",
            "MSE \t\t: 6.634777406882415\n",
            "RMSE \t\t: 2.575806166403523\n"
          ]
        }
      ],
      "source": [
        "y_pred_over = over_model.predict(X_test)\n",
        "eval_metric(y_test, y_pred_over)"
      ]
    },
    {
      "cell_type": "code",
      "execution_count": null,
      "id": "adapted-accident",
      "metadata": {
        "ExecuteTime": {
          "end_time": "2022-08-14T10:57:33.380195Z",
          "start_time": "2022-08-14T10:57:33.365206Z"
        },
        "id": "adapted-accident",
        "outputId": "f57fe8b6-2ba2-476d-9fb7-dcaca2a6cc5c"
      },
      "outputs": [
        {
          "name": "stdout",
          "output_type": "stream",
          "text": [
            "Model performance:\n",
            "--------------------------\n",
            "R2_score \t: 0.9976072483068813\n",
            "MAE \t\t: 0.18620695486841496\n",
            "MSE \t\t: 0.06296802467678105\n",
            "RMSE \t\t: 0.2509343035074739\n"
          ]
        }
      ],
      "source": [
        "y_train_over = over_model.predict(X_train) #train data si ilew predict ettirince R2 cok iyi yuzde 99. \n",
        "eval_metric(y_train, y_train_over)       #ama testte yuzde 76 a dusuyor dramatik dusus overfitting oldugunu soyluyor\n",
        "                                      #birisi iyi birisi dusukse overfitting ikiside dusukse underfitting olur."
      ]
    },
    {
      "cell_type": "markdown",
      "id": "fd5f69cd",
      "metadata": {
        "id": "fd5f69cd"
      },
      "source": [
        "## <span style='color:red'> Underfitting</span> "
      ]
    },
    {
      "cell_type": "raw",
      "id": "b45a3756",
      "metadata": {
        "id": "b45a3756"
      },
      "source": [
        "Testing data performance:    #\n",
        "--------------------------\n",
        "R2_score \t: 0.8609466508230367\n",
        "MAE \t\t: 1.5116692224549084\n",
        "MSE \t\t: 3.796797236715222\n",
        "RMSE \t\t: 1.9485372043446392"
      ]
    },
    {
      "cell_type": "raw",
      "id": "da7023a7",
      "metadata": {
        "id": "da7023a7"
      },
      "source": [
        "Training data performance:\n",
        "--------------------------\n",
        "R2_score \t: 0.9055159502227753\n",
        "MAE \t\t: 1.1581502948072524\n",
        "MSE \t\t: 2.4793551789057866\n",
        "RMSE \t\t: 1.574596830590544"
      ]
    },
    {
      "cell_type": "code",
      "execution_count": null,
      "id": "c039f8d5",
      "metadata": {
        "id": "c039f8d5"
      },
      "outputs": [],
      "source": []
    },
    {
      "cell_type": "code",
      "execution_count": null,
      "id": "8b80b7cd",
      "metadata": {
        "id": "8b80b7cd"
      },
      "outputs": [],
      "source": []
    },
    {
      "cell_type": "code",
      "execution_count": null,
      "id": "d3c05078",
      "metadata": {
        "id": "d3c05078"
      },
      "outputs": [],
      "source": []
    }
  ],
  "metadata": {
    "kernelspec": {
      "display_name": "Python 3 (ipykernel)",
      "language": "python",
      "name": "python3"
    },
    "language_info": {
      "codemirror_mode": {
        "name": "ipython",
        "version": 3
      },
      "file_extension": ".py",
      "mimetype": "text/x-python",
      "name": "python",
      "nbconvert_exporter": "python",
      "pygments_lexer": "ipython3",
      "version": "3.9.7"
    },
    "nbTranslate": {
      "displayLangs": [
        "*"
      ],
      "hotkey": "alt-t",
      "langInMainMenu": true,
      "sourceLang": "en",
      "targetLang": "fr",
      "useGoogleTranslate": true
    },
    "toc": {
      "base_numbering": 1,
      "nav_menu": {},
      "number_sections": true,
      "sideBar": true,
      "skip_h1_title": false,
      "title_cell": "Table of Contents",
      "title_sidebar": "Contents",
      "toc_cell": false,
      "toc_position": {},
      "toc_section_display": true,
      "toc_window_display": false
    },
    "colab": {
      "name": "ML-3 (Poly Regression-Overfiting-Underfiting).ipynb",
      "provenance": [],
      "include_colab_link": true
    }
  },
  "nbformat": 4,
  "nbformat_minor": 5
}