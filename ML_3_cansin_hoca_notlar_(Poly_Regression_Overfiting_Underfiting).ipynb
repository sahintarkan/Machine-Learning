{
  "cells": [
    {
      "cell_type": "markdown",
      "metadata": {
        "id": "view-in-github",
        "colab_type": "text"
      },
      "source": [
        "<a href=\"https://colab.research.google.com/github/sahintarkan/Machine-Learning/blob/main/ML_3_cansin_hoca_notlar_(Poly_Regression_Overfiting_Underfiting).ipynb\" target=\"_parent\"><img src=\"https://colab.research.google.com/assets/colab-badge.svg\" alt=\"Open In Colab\"/></a>"
      ]
    },
    {
      "cell_type": "markdown",
      "id": "liquid-victory",
      "metadata": {
        "id": "liquid-victory"
      },
      "source": [
        "# Poliynomial Regression-Overfiting-Underfiting"
      ]
    },
    {
      "cell_type": "code",
      "execution_count": null,
      "id": "03f19be9",
      "metadata": {
        "id": "03f19be9"
      },
      "outputs": [],
      "source": [
        "# Lineer Regression ın devamı. Polynomlarla bu regressipn ı çözmeye çalışacağız\n",
        "# Underfitting ve Overfitting göreceğiz bu gün\n",
        "\n",
        "# ÖNCEKİ DERSIN ÖZETİ\n",
        "# Residuals\n",
        "    # Sum and mean of the Residuals are always Zero\n",
        "    # Residuals are normally distributed for suitable Linear Regression\n",
        "# Regression Error Metrics\n",
        "    # MAE, MSE, RMSE\n",
        "# Scikit-learn Library and ML\n",
        "    # 5 steps: import, split data, model building and fit, prediction, evaluation\n",
        "\n",
        "# Konular\n",
        "    # Introduction to Bias-Variance Trade-off\n",
        "    # Underfitting and Overfitting Problems\n",
        "    # Training Errors vs Validation Error(Test Error)\n",
        "    # Polynomial Regression\n",
        "\n",
        "# Introduction to Bias-Variance Trade-off\n",
        "# Bias, bir eşik/aralık şeklinde tanımlayabiliriz. Varyans demek değişim demek\n",
        "# .. Heterojen yapıda değişim çok fazla olur. Homojen yapıda değişim çok az olur\n",
        "# .. Bias, Data Scienceda da bu residual e karşılık geliyor.\n",
        "# 3 kavrama bakacağız\n",
        "    # Underfitted      : Models with too few parameters may not fit the data well(high bias)\n",
        "        # .. but are consisten accross different training sets(low variance)\n",
        "        # Residual erin ya da bias ın burada çok yüksek olduğunu söyleriz, varyans düşük(dümdüz doğru)\n",
        "        # -- Simple Model Underfit\n",
        "        # Bu durumda model veriyi iyi öğrenememiş. Simple bir model ortaya çıkarmış complex bir data için\n",
        "        # Buna underfitting denir\n",
        "        # Yeterli feature olmadığında ya da model complexity düşük olduğunda kaynaklanır\n",
        "        # Veriyi arttırmakla, Ya da complexity yi arttırmakla çözülebilir\n",
        "    # Good Fit/Robust  : bias ve variance ideal değerlerde(Low bias & low variance)\n",
        "    # Overfitted       : Models with too many parameters may fit the training data well(low bias)\n",
        "        # but are sensitive to choice of training set(high variance) -- Complex Model-- OverFIT\n",
        "        # Burada varyans çok yüksek, bias çok düşük\n",
        "        # Bu durumda model veriyi ezberlemiş. Hata 0 a yakın. Training sonucu %100 çıkar ama\n",
        "        # .. test(görmediği) datası geldiğinde başarısının düşük olduğunu görürüz\n",
        "        # NOT: Bundan dolayı train hatası ile test hatası birbirine yakın olmalı\n",
        "        # Model complex olmasından kaynaklanır. Çözmek için model complexity düşürülebilir\n",
        "        # Parametre azaltılması, More training data/ Cross/validation ile, Regularization(Lasso&Ridge) gibi şeylerle çözülür\n",
        "    # Orion hoca: \n",
        "        # low bias low variance(underfittig)   modelin trainden aldığı scorelar ile testten aldığı scoreların ikisininde  çok düşük olması ile karşımıza çıkar.\n",
        "        # low bias high varyans(overfitting) ise model train datası üzerinde çok çok iyi score alırken test datasına gelince kötü scorelar olarak karşımıza çıkar.\n",
        "\n",
        "# Model complexity\n",
        "    # Train ve test hataları ile alakalı bir konu Train hatası ile test hatasının belli bir oranda\n",
        "    # .. olması gerekir. Grafiklere bakmak daha anlamlı burada. Ayrıca altta da bahsedilecek\n",
        "    # Orion Hoca : bizim istediğimiz model train datası üzerinden bir genelleme yapsın bazı hataları olsun bunun karşılığında da test datası üzerinde hata makul seviyede kalsın.\n",
        "    "
      ]
    },
    {
      "cell_type": "markdown",
      "id": "40ed559e",
      "metadata": {
        "id": "40ed559e"
      },
      "source": [
        "![image.png](attachment:image.png)"
      ]
    },
    {
      "cell_type": "markdown",
      "id": "cf5001ef",
      "metadata": {
        "id": "cf5001ef"
      },
      "source": [
        "![image.png](attachment:image.png)"
      ]
    },
    {
      "cell_type": "markdown",
      "id": "ea830cdb",
      "metadata": {
        "id": "ea830cdb"
      },
      "source": [
        "![image.png](attachment:image.png)"
      ]
    },
    {
      "cell_type": "code",
      "execution_count": null,
      "id": "1792e6a5",
      "metadata": {
        "id": "1792e6a5"
      },
      "outputs": [],
      "source": [
        "# Kurs boyunca 2 anayol var: Regression ve Classification\n",
        "# Regression bir değer buluyoruz(Salary, Amount vs)\n",
        "# Classification da sınıflandırma yapıyoruz(0 mı 1 mi, sıcak mı soğuk mu, Hayatta mı değil mi ... gibi)\n",
        "# Alttaki classification da grafikte sağ üst underfitting. Sağ alt overfitting"
      ]
    },
    {
      "cell_type": "markdown",
      "id": "4b9ebb71",
      "metadata": {
        "id": "4b9ebb71"
      },
      "source": [
        "![image.png](attachment:image.png)"
      ]
    },
    {
      "cell_type": "markdown",
      "id": "fdd9bb3d",
      "metadata": {
        "id": "fdd9bb3d"
      },
      "source": [
        "# Polynomial Regression"
      ]
    },
    {
      "cell_type": "markdown",
      "id": "4bf7b12a",
      "metadata": {
        "id": "4bf7b12a"
      },
      "source": [
        "Polynomial Regression is a form of regression analysis in which the relationship \n",
        "between the independent variables and dependent variables are modeled in the nth degree polynomial.\n",
        "\n",
        "Polinom Regresyon , bağımsız değişkenler ile bağımlı değişkenler arasındaki ilişkinin n'inci derece \n",
        "polinomda modellendiği bir regresyon analizi şeklidir.\n",
        "\n",
        "Types of polinomials\n",
        "\n",
        "1st degree ---> linear    b1x + b0\n",
        "\n",
        "2nd degree ---> Quadratic b2x**2 + b1x + b0\n",
        "\n",
        "3rd degree ---> Cubic     b3x**3 + b2x**2 + b1x + b0 (third order equation)"
      ]
    },
    {
      "cell_type": "markdown",
      "id": "819df954",
      "metadata": {
        "id": "819df954"
      },
      "source": [
        "![image.png](attachment:image.png)"
      ]
    },
    {
      "cell_type": "code",
      "execution_count": null,
      "id": "093b4f47",
      "metadata": {
        "id": "093b4f47"
      },
      "outputs": [],
      "source": [
        "# John hoca: Simple linear regression ya da multi lineer regression da aslında bir polynomial regressiondır\n",
        "# Polynomial Regression is a form of Linear regression known as a special case of Multiple linear regression \n",
        "# .. which estimates the relationship as an nth degree polynomial. Polynomial Regression is sensitive to \n",
        "# .. outliers so the presence of one or two outliers can also badly affect the performance\n",
        "\n",
        "# Polynomial Regression: Non-linear problemler için daha ideal. \n",
        "    # .. Dezavantajı: Complexity nin doğru bir şekilde belirlenmesi gerekir\n",
        "# Non-linear olmayan bir probleme bakalım aşağıda"
      ]
    },
    {
      "cell_type": "markdown",
      "id": "2be72e17",
      "metadata": {
        "id": "2be72e17"
      },
      "source": [
        "![image.png](attachment:image.png)"
      ]
    },
    {
      "cell_type": "markdown",
      "id": "6c59f00a",
      "metadata": {
        "id": "6c59f00a"
      },
      "source": [
        "![image.png](attachment:image.png)"
      ]
    },
    {
      "cell_type": "code",
      "execution_count": null,
      "id": "4067d3a8",
      "metadata": {
        "id": "4067d3a8"
      },
      "outputs": [],
      "source": [
        "# RMSE nin düştüğünü ve R kare nin yükseldiğini görüyoruz. Eğer biraz daha arttırırsak dereceyi"
      ]
    },
    {
      "cell_type": "markdown",
      "id": "665a8727",
      "metadata": {
        "id": "665a8727"
      },
      "source": [
        "![image.png](attachment:image.png)"
      ]
    },
    {
      "cell_type": "code",
      "execution_count": null,
      "id": "3b5938a4",
      "metadata": {
        "id": "3b5938a4"
      },
      "outputs": [],
      "source": [
        "# Daha iyi bir hale geldi"
      ]
    },
    {
      "cell_type": "markdown",
      "id": "179608ed",
      "metadata": {
        "id": "179608ed"
      },
      "source": [
        "![image.png](attachment:image.png)"
      ]
    },
    {
      "cell_type": "code",
      "execution_count": null,
      "id": "da131b1d",
      "metadata": {
        "id": "da131b1d"
      },
      "outputs": [],
      "source": [
        "# Not: Hatalara bakarken neden karesini alıyoruz(ya da mutlak değer) --> (yi-y(head)i)**2,  -- |yi-y(head)i|\n",
        "# .. Çünkü kare almazsak toplam 0 çıkar ve bu hataları(cezalandırmayı) değerlendiremeyiz\n",
        "# NOT: Mutlak değerdense karenin türevini almak da daha kolay(MAE ve MSE değerlendirmesi yaparsak)\n",
        "# .. İlerde gradient descent te türev konusundan bahsedeceğimiz için bahsedildi\n",
        "# .. Altta Orion hocanın attığına bakalım"
      ]
    },
    {
      "cell_type": "markdown",
      "id": "b54af83d",
      "metadata": {
        "id": "b54af83d"
      },
      "source": [
        "##### Orion Hocanın gönderdiği\n",
        "![image.png](attachment:image.png)"
      ]
    },
    {
      "cell_type": "markdown",
      "id": "90255b92",
      "metadata": {
        "id": "90255b92"
      },
      "source": [
        "![image.png](attachment:image.png)"
      ]
    },
    {
      "cell_type": "code",
      "execution_count": null,
      "id": "6a5e8d71",
      "metadata": {
        "id": "6a5e8d71"
      },
      "outputs": [],
      "source": [
        "# John hoca  : Polynomial regression gerçek dünyada çok kullanılan bir yöntem değil\n",
        "# Orion hoca : Bir modelin sonuçlarının nereden geldiğini featurelarını açıklayamıyorsanız sıkıntı"
      ]
    },
    {
      "cell_type": "markdown",
      "id": "wanted-external",
      "metadata": {
        "id": "wanted-external"
      },
      "source": [
        "## Import libraries"
      ]
    },
    {
      "cell_type": "code",
      "execution_count": null,
      "id": "faced-stranger",
      "metadata": {
        "id": "faced-stranger"
      },
      "outputs": [],
      "source": [
        "import numpy as np\n",
        "import pandas as pd\n",
        "import matplotlib.pyplot as plt\n",
        "import seaborn as sns\n",
        "plt.rcParams[\"figure.figsize\"] = (10,6)"
      ]
    },
    {
      "cell_type": "markdown",
      "id": "whole-bulgaria",
      "metadata": {
        "id": "whole-bulgaria"
      },
      "source": [
        "## Polynomial Features"
      ]
    },
    {
      "cell_type": "code",
      "execution_count": null,
      "id": "proud-technician",
      "metadata": {
        "id": "proud-technician"
      },
      "outputs": [],
      "source": [
        "from sklearn.preprocessing import PolynomialFeatures"
      ]
    },
    {
      "cell_type": "code",
      "execution_count": null,
      "id": "willing-deposit",
      "metadata": {
        "id": "willing-deposit",
        "outputId": "4b26a6a0-c4f0-4ba3-eb01-1a7055b4617a"
      },
      "outputs": [
        {
          "name": "stdout",
          "output_type": "stream",
          "text": [
            "[[2 3 4]]\n"
          ]
        }
      ],
      "source": [
        "data = np.array([[2, 3, 4]])   # Çalışma mantığını anlatmak için array ürettik\n",
        "print(data)"
      ]
    },
    {
      "cell_type": "code",
      "execution_count": null,
      "id": "olive-launch",
      "metadata": {
        "id": "olive-launch"
      },
      "outputs": [],
      "source": [
        "trans = PolynomialFeatures(degree = 2, include_bias =False) # Datayı polinomial Featurelara dönüştürüyoruz\n",
        "# include_bias = False : İlerde neden False olduğundan bahsedilecek(basitçe formülde b0 ın olmaması) "
      ]
    },
    {
      "cell_type": "code",
      "execution_count": null,
      "id": "understanding-torture",
      "metadata": {
        "id": "understanding-torture",
        "outputId": "d71eda72-4cf5-4004-c50a-2a9ded5047a4"
      },
      "outputs": [
        {
          "data": {
            "text/plain": [
              "PolynomialFeatures(include_bias=False)"
            ]
          },
          "execution_count": 16,
          "metadata": {},
          "output_type": "execute_result"
        }
      ],
      "source": [
        "trans.fit(data) # 2, 3, 4 , 2x3, 2x4, 3x4, 2**2, 3**2, 4**2  # Veriyi öğrenme/tanıma aşaması"
      ]
    },
    {
      "cell_type": "code",
      "execution_count": null,
      "id": "6edce234",
      "metadata": {
        "id": "6edce234"
      },
      "outputs": [],
      "source": [
        "# NOT: Orion hoca: fit kalıbını çıkar, transform o kalıbı uygula demek"
      ]
    },
    {
      "cell_type": "code",
      "execution_count": null,
      "id": "3f324091",
      "metadata": {
        "id": "3f324091"
      },
      "outputs": [],
      "source": [
        "# 2, 3, 4, 2x3, 2x4, 3x4, 2**2, 3**2, 4**2, 2x3x4, 3x2**2, 4x2**2, 2x3**2, 4x3**2, 2x4**2, 3x4**2, 2**3, 3**3, 4**3"
      ]
    },
    {
      "cell_type": "code",
      "execution_count": null,
      "id": "exposed-sphere",
      "metadata": {
        "id": "exposed-sphere",
        "outputId": "aabbf0a6-938a-4e7f-8243-91320e5547f9"
      },
      "outputs": [
        {
          "data": {
            "text/plain": [
              "array([[ 2.,  3.,  4.,  4.,  6.,  8.,  9., 12., 16.]])"
            ]
          },
          "execution_count": 18,
          "metadata": {},
          "output_type": "execute_result"
        }
      ],
      "source": [
        "trans.transform(data)  # Veriyi fit ettikten sonra dönüştürüyor. Ancak alttaki komut tek aşamada yapıyor"
      ]
    },
    {
      "cell_type": "code",
      "execution_count": null,
      "id": "elder-assist",
      "metadata": {
        "id": "elder-assist",
        "outputId": "9267d7ec-b014-4870-f09c-84767ce9407b"
      },
      "outputs": [
        {
          "data": {
            "text/plain": [
              "array([[ 2.,  3.,  4.,  4.,  6.,  8.,  9., 12., 16.]])"
            ]
          },
          "execution_count": 19,
          "metadata": {},
          "output_type": "execute_result"
        }
      ],
      "source": [
        "trans.fit_transform(data) # combining method # Daha kullanışlı\n",
        "# Orion hoca: Eldeki feature lar ile sentetik feature lar ürettik diyebiliriz"
      ]
    },
    {
      "cell_type": "markdown",
      "id": "listed-startup",
      "metadata": {
        "id": "listed-startup"
      },
      "source": [
        "## Read Dataset"
      ]
    },
    {
      "cell_type": "code",
      "execution_count": null,
      "id": "valued-brand",
      "metadata": {
        "id": "valued-brand"
      },
      "outputs": [],
      "source": [
        "df = pd.read_csv(\"Advertising.csv\") # Şimdi gerçek dataya uygulayalım üsttekileri"
      ]
    },
    {
      "cell_type": "code",
      "execution_count": null,
      "id": "taken-taylor",
      "metadata": {
        "id": "taken-taylor",
        "outputId": "6589f148-c5bb-4a78-e8ed-394f1179619c"
      },
      "outputs": [
        {
          "data": {
            "text/html": [
              "<div>\n",
              "<style scoped>\n",
              "    .dataframe tbody tr th:only-of-type {\n",
              "        vertical-align: middle;\n",
              "    }\n",
              "\n",
              "    .dataframe tbody tr th {\n",
              "        vertical-align: top;\n",
              "    }\n",
              "\n",
              "    .dataframe thead th {\n",
              "        text-align: right;\n",
              "    }\n",
              "</style>\n",
              "<table border=\"1\" class=\"dataframe\">\n",
              "  <thead>\n",
              "    <tr style=\"text-align: right;\">\n",
              "      <th></th>\n",
              "      <th>TV</th>\n",
              "      <th>radio</th>\n",
              "      <th>newspaper</th>\n",
              "      <th>sales</th>\n",
              "    </tr>\n",
              "  </thead>\n",
              "  <tbody>\n",
              "    <tr>\n",
              "      <th>0</th>\n",
              "      <td>230.1</td>\n",
              "      <td>37.8</td>\n",
              "      <td>69.2</td>\n",
              "      <td>22.1</td>\n",
              "    </tr>\n",
              "    <tr>\n",
              "      <th>1</th>\n",
              "      <td>44.5</td>\n",
              "      <td>39.3</td>\n",
              "      <td>45.1</td>\n",
              "      <td>10.4</td>\n",
              "    </tr>\n",
              "    <tr>\n",
              "      <th>2</th>\n",
              "      <td>17.2</td>\n",
              "      <td>45.9</td>\n",
              "      <td>69.3</td>\n",
              "      <td>9.3</td>\n",
              "    </tr>\n",
              "    <tr>\n",
              "      <th>3</th>\n",
              "      <td>151.5</td>\n",
              "      <td>41.3</td>\n",
              "      <td>58.5</td>\n",
              "      <td>18.5</td>\n",
              "    </tr>\n",
              "    <tr>\n",
              "      <th>4</th>\n",
              "      <td>180.8</td>\n",
              "      <td>10.8</td>\n",
              "      <td>58.4</td>\n",
              "      <td>12.9</td>\n",
              "    </tr>\n",
              "    <tr>\n",
              "      <th>...</th>\n",
              "      <td>...</td>\n",
              "      <td>...</td>\n",
              "      <td>...</td>\n",
              "      <td>...</td>\n",
              "    </tr>\n",
              "    <tr>\n",
              "      <th>195</th>\n",
              "      <td>38.2</td>\n",
              "      <td>3.7</td>\n",
              "      <td>13.8</td>\n",
              "      <td>7.6</td>\n",
              "    </tr>\n",
              "    <tr>\n",
              "      <th>196</th>\n",
              "      <td>94.2</td>\n",
              "      <td>4.9</td>\n",
              "      <td>8.1</td>\n",
              "      <td>9.7</td>\n",
              "    </tr>\n",
              "    <tr>\n",
              "      <th>197</th>\n",
              "      <td>177.0</td>\n",
              "      <td>9.3</td>\n",
              "      <td>6.4</td>\n",
              "      <td>12.8</td>\n",
              "    </tr>\n",
              "    <tr>\n",
              "      <th>198</th>\n",
              "      <td>283.6</td>\n",
              "      <td>42.0</td>\n",
              "      <td>66.2</td>\n",
              "      <td>25.5</td>\n",
              "    </tr>\n",
              "    <tr>\n",
              "      <th>199</th>\n",
              "      <td>232.1</td>\n",
              "      <td>8.6</td>\n",
              "      <td>8.7</td>\n",
              "      <td>13.4</td>\n",
              "    </tr>\n",
              "  </tbody>\n",
              "</table>\n",
              "<p>200 rows × 4 columns</p>\n",
              "</div>"
            ],
            "text/plain": [
              "        TV  radio  newspaper  sales\n",
              "0    230.1   37.8       69.2   22.1\n",
              "1     44.5   39.3       45.1   10.4\n",
              "2     17.2   45.9       69.3    9.3\n",
              "3    151.5   41.3       58.5   18.5\n",
              "4    180.8   10.8       58.4   12.9\n",
              "..     ...    ...        ...    ...\n",
              "195   38.2    3.7       13.8    7.6\n",
              "196   94.2    4.9        8.1    9.7\n",
              "197  177.0    9.3        6.4   12.8\n",
              "198  283.6   42.0       66.2   25.5\n",
              "199  232.1    8.6        8.7   13.4\n",
              "\n",
              "[200 rows x 4 columns]"
            ]
          },
          "execution_count": 21,
          "metadata": {},
          "output_type": "execute_result"
        }
      ],
      "source": [
        "df"
      ]
    },
    {
      "cell_type": "markdown",
      "id": "declared-leave",
      "metadata": {
        "id": "declared-leave"
      },
      "source": [
        "## Polynomial Converter"
      ]
    },
    {
      "cell_type": "markdown",
      "id": "1fce725a",
      "metadata": {
        "id": "1fce725a"
      },
      "source": [
        "##### Orion Hoca\n",
        "![image.png](attachment:image.png)"
      ]
    },
    {
      "cell_type": "code",
      "execution_count": null,
      "id": "invalid-northern",
      "metadata": {
        "id": "invalid-northern"
      },
      "outputs": [],
      "source": [
        "X = df.drop(\"sales\", axis =1)  # sales haricindeki diğer değişkenleri seçiyoruz(Independent variables)\n",
        "y = df.sales"
      ]
    },
    {
      "cell_type": "code",
      "execution_count": null,
      "id": "continued-karma",
      "metadata": {
        "id": "continued-karma"
      },
      "outputs": [],
      "source": [
        "polynomial_converter = PolynomialFeatures(degree =2, include_bias =False)"
      ]
    },
    {
      "cell_type": "code",
      "execution_count": null,
      "id": "reasonable-german",
      "metadata": {
        "id": "reasonable-german",
        "outputId": "2a0bee35-db86-4fe0-c692-7f7bfafec27b"
      },
      "outputs": [
        {
          "data": {
            "text/plain": [
              "PolynomialFeatures(include_bias=False)"
            ]
          },
          "execution_count": 24,
          "metadata": {},
          "output_type": "execute_result"
        }
      ],
      "source": [
        "polynomial_converter.fit(X)"
      ]
    },
    {
      "cell_type": "code",
      "execution_count": null,
      "id": "pointed-violin",
      "metadata": {
        "id": "pointed-violin"
      },
      "outputs": [],
      "source": [
        "poly_features = polynomial_converter.transform(X)"
      ]
    },
    {
      "cell_type": "code",
      "execution_count": null,
      "id": "operational-stevens",
      "metadata": {
        "id": "operational-stevens",
        "outputId": "74beef33-efde-4419-bcd3-f97cc2b90e86"
      },
      "outputs": [
        {
          "data": {
            "text/plain": [
              "array([[ 230.1 ,   37.8 ,   69.2 , ..., 1428.84, 2615.76, 4788.64],\n",
              "       [  44.5 ,   39.3 ,   45.1 , ..., 1544.49, 1772.43, 2034.01],\n",
              "       [  17.2 ,   45.9 ,   69.3 , ..., 2106.81, 3180.87, 4802.49],\n",
              "       ...,\n",
              "       [ 177.  ,    9.3 ,    6.4 , ...,   86.49,   59.52,   40.96],\n",
              "       [ 283.6 ,   42.  ,   66.2 , ..., 1764.  , 2780.4 , 4382.44],\n",
              "       [ 232.1 ,    8.6 ,    8.7 , ...,   73.96,   74.82,   75.69]])"
            ]
          },
          "execution_count": 26,
          "metadata": {},
          "output_type": "execute_result"
        }
      ],
      "source": [
        "poly_features"
      ]
    },
    {
      "cell_type": "code",
      "execution_count": null,
      "id": "numerical-conclusion",
      "metadata": {
        "id": "numerical-conclusion",
        "outputId": "539fd4b2-754f-4eee-d37f-267ec042ae5b"
      },
      "outputs": [
        {
          "data": {
            "text/plain": [
              "(200, 9)"
            ]
          },
          "execution_count": 27,
          "metadata": {},
          "output_type": "execute_result"
        }
      ],
      "source": [
        "poly_features.shape # Shape de columns 3 dü, 9 a çıktı(2.dereceden olduğu için)"
      ]
    },
    {
      "cell_type": "code",
      "execution_count": null,
      "id": "moderate-works",
      "metadata": {
        "id": "moderate-works",
        "outputId": "85bd4b9f-f7c0-4e02-fd93-54900d60cc5b"
      },
      "outputs": [
        {
          "data": {
            "text/html": [
              "<div>\n",
              "<style scoped>\n",
              "    .dataframe tbody tr th:only-of-type {\n",
              "        vertical-align: middle;\n",
              "    }\n",
              "\n",
              "    .dataframe tbody tr th {\n",
              "        vertical-align: top;\n",
              "    }\n",
              "\n",
              "    .dataframe thead th {\n",
              "        text-align: right;\n",
              "    }\n",
              "</style>\n",
              "<table border=\"1\" class=\"dataframe\">\n",
              "  <thead>\n",
              "    <tr style=\"text-align: right;\">\n",
              "      <th></th>\n",
              "      <th>TV</th>\n",
              "      <th>radio</th>\n",
              "      <th>newspaper</th>\n",
              "      <th>TV^2</th>\n",
              "      <th>TV&amp;Radio</th>\n",
              "      <th>TV&amp;Newspaper</th>\n",
              "      <th>Radio^2</th>\n",
              "      <th>Radio&amp;newspaper</th>\n",
              "      <th>Newspaper^2</th>\n",
              "    </tr>\n",
              "  </thead>\n",
              "  <tbody>\n",
              "    <tr>\n",
              "      <th>0</th>\n",
              "      <td>230.1</td>\n",
              "      <td>37.8</td>\n",
              "      <td>69.2</td>\n",
              "      <td>52946.01</td>\n",
              "      <td>8697.78</td>\n",
              "      <td>15922.92</td>\n",
              "      <td>1428.84</td>\n",
              "      <td>2615.76</td>\n",
              "      <td>4788.64</td>\n",
              "    </tr>\n",
              "    <tr>\n",
              "      <th>1</th>\n",
              "      <td>44.5</td>\n",
              "      <td>39.3</td>\n",
              "      <td>45.1</td>\n",
              "      <td>1980.25</td>\n",
              "      <td>1748.85</td>\n",
              "      <td>2006.95</td>\n",
              "      <td>1544.49</td>\n",
              "      <td>1772.43</td>\n",
              "      <td>2034.01</td>\n",
              "    </tr>\n",
              "    <tr>\n",
              "      <th>2</th>\n",
              "      <td>17.2</td>\n",
              "      <td>45.9</td>\n",
              "      <td>69.3</td>\n",
              "      <td>295.84</td>\n",
              "      <td>789.48</td>\n",
              "      <td>1191.96</td>\n",
              "      <td>2106.81</td>\n",
              "      <td>3180.87</td>\n",
              "      <td>4802.49</td>\n",
              "    </tr>\n",
              "    <tr>\n",
              "      <th>3</th>\n",
              "      <td>151.5</td>\n",
              "      <td>41.3</td>\n",
              "      <td>58.5</td>\n",
              "      <td>22952.25</td>\n",
              "      <td>6256.95</td>\n",
              "      <td>8862.75</td>\n",
              "      <td>1705.69</td>\n",
              "      <td>2416.05</td>\n",
              "      <td>3422.25</td>\n",
              "    </tr>\n",
              "    <tr>\n",
              "      <th>4</th>\n",
              "      <td>180.8</td>\n",
              "      <td>10.8</td>\n",
              "      <td>58.4</td>\n",
              "      <td>32688.64</td>\n",
              "      <td>1952.64</td>\n",
              "      <td>10558.72</td>\n",
              "      <td>116.64</td>\n",
              "      <td>630.72</td>\n",
              "      <td>3410.56</td>\n",
              "    </tr>\n",
              "  </tbody>\n",
              "</table>\n",
              "</div>"
            ],
            "text/plain": [
              "      TV  radio  newspaper      TV^2  TV&Radio  TV&Newspaper  Radio^2  \\\n",
              "0  230.1   37.8       69.2  52946.01   8697.78      15922.92  1428.84   \n",
              "1   44.5   39.3       45.1   1980.25   1748.85       2006.95  1544.49   \n",
              "2   17.2   45.9       69.3    295.84    789.48       1191.96  2106.81   \n",
              "3  151.5   41.3       58.5  22952.25   6256.95       8862.75  1705.69   \n",
              "4  180.8   10.8       58.4  32688.64   1952.64      10558.72   116.64   \n",
              "\n",
              "   Radio&newspaper  Newspaper^2  \n",
              "0          2615.76      4788.64  \n",
              "1          1772.43      2034.01  \n",
              "2          3180.87      4802.49  \n",
              "3          2416.05      3422.25  \n",
              "4           630.72      3410.56  "
            ]
          },
          "execution_count": 28,
          "metadata": {},
          "output_type": "execute_result"
        }
      ],
      "source": [
        "pd.DataFrame(poly_features, columns = [\"TV\", \"radio\", \"newspaper\", \"TV^2\", \"TV&Radio\", \\\n",
        "                                   \"TV&Newspaper\", \"Radio^2\", \"Radio&newspaper\", \"Newspaper^2\"]).head()"
      ]
    },
    {
      "cell_type": "code",
      "execution_count": null,
      "id": "radio-panic",
      "metadata": {
        "id": "radio-panic",
        "outputId": "e6654f16-513b-48a2-bf80-9e2fde5edea6"
      },
      "outputs": [
        {
          "data": {
            "text/plain": [
              "(200, 3)"
            ]
          },
          "execution_count": 29,
          "metadata": {},
          "output_type": "execute_result"
        }
      ],
      "source": [
        "X.shape"
      ]
    },
    {
      "cell_type": "markdown",
      "id": "unique-hours",
      "metadata": {
        "id": "unique-hours"
      },
      "source": [
        "## Train | Test Split"
      ]
    },
    {
      "cell_type": "code",
      "execution_count": null,
      "id": "planned-uniform",
      "metadata": {
        "id": "planned-uniform"
      },
      "outputs": [],
      "source": [
        "from sklearn.model_selection import train_test_split"
      ]
    },
    {
      "cell_type": "code",
      "execution_count": null,
      "id": "enormous-cemetery",
      "metadata": {
        "id": "enormous-cemetery"
      },
      "outputs": [],
      "source": [
        "X_train, X_test, y_train, y_test = train_test_split(poly_features, y, test_size = 0.3, random_state = 101)\n",
        "# test_size    : train datasının ve test datasının oranını belirleme. Test oranı:%30, Train oranı:%70\n",
        "# random_state : Her seferinde aynı sonuçları almak için kullanılır(Çalışırken hocayla aynı sonuçları almak için)"
      ]
    },
    {
      "cell_type": "code",
      "execution_count": null,
      "id": "3a40b811",
      "metadata": {
        "id": "3a40b811",
        "outputId": "7998ced4-92a4-404b-ebac-e87606c2439c"
      },
      "outputs": [
        {
          "data": {
            "text/plain": [
              "(140, 9)"
            ]
          },
          "execution_count": 32,
          "metadata": {},
          "output_type": "execute_result"
        }
      ],
      "source": [
        "X_train.shape"
      ]
    },
    {
      "cell_type": "markdown",
      "id": "proud-district",
      "metadata": {
        "id": "proud-district"
      },
      "source": [
        "## Model for fitting"
      ]
    },
    {
      "cell_type": "code",
      "execution_count": null,
      "id": "indie-nightlife",
      "metadata": {
        "id": "indie-nightlife"
      },
      "outputs": [],
      "source": [
        "from sklearn.linear_model import LinearRegression"
      ]
    },
    {
      "cell_type": "code",
      "execution_count": null,
      "id": "exclusive-semester",
      "metadata": {
        "id": "exclusive-semester"
      },
      "outputs": [],
      "source": [
        "model_poly = LinearRegression()"
      ]
    },
    {
      "cell_type": "code",
      "execution_count": null,
      "id": "critical-comparison",
      "metadata": {
        "id": "critical-comparison",
        "outputId": "44ab590c-0ad9-444b-f397-64af25037f44"
      },
      "outputs": [
        {
          "data": {
            "text/plain": [
              "LinearRegression()"
            ]
          },
          "execution_count": 35,
          "metadata": {},
          "output_type": "execute_result"
        }
      ],
      "source": [
        "model_poly.fit(X_train, y_train)  # Eğitim aşaması # X_train ve y_train kullanarak modeli eğitiyoruz\n",
        "# John Hoca: Öğrenme, katsayıların optimizasyonudur(Katsayı=Weight(deep learning de))\n",
        "# What is learning? - optimizing the weights (slope, intercept), generating a 'rule'"
      ]
    },
    {
      "cell_type": "code",
      "execution_count": null,
      "id": "charitable-savings",
      "metadata": {
        "id": "charitable-savings"
      },
      "outputs": [],
      "source": [
        "y_pred = model_poly.predict(X_test)"
      ]
    },
    {
      "cell_type": "code",
      "execution_count": null,
      "id": "tough-edinburgh",
      "metadata": {
        "id": "tough-edinburgh",
        "outputId": "fbe740ba-2d78-4341-85af-7b4a87d3b55e"
      },
      "outputs": [
        {
          "data": {
            "text/html": [
              "<div>\n",
              "<style scoped>\n",
              "    .dataframe tbody tr th:only-of-type {\n",
              "        vertical-align: middle;\n",
              "    }\n",
              "\n",
              "    .dataframe tbody tr th {\n",
              "        vertical-align: top;\n",
              "    }\n",
              "\n",
              "    .dataframe thead th {\n",
              "        text-align: right;\n",
              "    }\n",
              "</style>\n",
              "<table border=\"1\" class=\"dataframe\">\n",
              "  <thead>\n",
              "    <tr style=\"text-align: right;\">\n",
              "      <th></th>\n",
              "      <th>Actual</th>\n",
              "      <th>pred</th>\n",
              "      <th>residual</th>\n",
              "    </tr>\n",
              "  </thead>\n",
              "  <tbody>\n",
              "    <tr>\n",
              "      <th>37</th>\n",
              "      <td>14.7</td>\n",
              "      <td>13.948562</td>\n",
              "      <td>0.751438</td>\n",
              "    </tr>\n",
              "    <tr>\n",
              "      <th>109</th>\n",
              "      <td>19.8</td>\n",
              "      <td>19.334803</td>\n",
              "      <td>0.465197</td>\n",
              "    </tr>\n",
              "    <tr>\n",
              "      <th>31</th>\n",
              "      <td>11.9</td>\n",
              "      <td>12.319282</td>\n",
              "      <td>-0.419282</td>\n",
              "    </tr>\n",
              "    <tr>\n",
              "      <th>89</th>\n",
              "      <td>16.7</td>\n",
              "      <td>16.762863</td>\n",
              "      <td>-0.062863</td>\n",
              "    </tr>\n",
              "    <tr>\n",
              "      <th>66</th>\n",
              "      <td>9.5</td>\n",
              "      <td>7.902109</td>\n",
              "      <td>1.597891</td>\n",
              "    </tr>\n",
              "    <tr>\n",
              "      <th>119</th>\n",
              "      <td>6.6</td>\n",
              "      <td>6.941438</td>\n",
              "      <td>-0.341438</td>\n",
              "    </tr>\n",
              "    <tr>\n",
              "      <th>54</th>\n",
              "      <td>20.2</td>\n",
              "      <td>20.133727</td>\n",
              "      <td>0.066273</td>\n",
              "    </tr>\n",
              "    <tr>\n",
              "      <th>74</th>\n",
              "      <td>17.0</td>\n",
              "      <td>17.500927</td>\n",
              "      <td>-0.500927</td>\n",
              "    </tr>\n",
              "    <tr>\n",
              "      <th>145</th>\n",
              "      <td>10.3</td>\n",
              "      <td>10.568890</td>\n",
              "      <td>-0.268890</td>\n",
              "    </tr>\n",
              "    <tr>\n",
              "      <th>142</th>\n",
              "      <td>20.1</td>\n",
              "      <td>20.125518</td>\n",
              "      <td>-0.025518</td>\n",
              "    </tr>\n",
              "    <tr>\n",
              "      <th>148</th>\n",
              "      <td>10.9</td>\n",
              "      <td>9.446145</td>\n",
              "      <td>1.453855</td>\n",
              "    </tr>\n",
              "    <tr>\n",
              "      <th>112</th>\n",
              "      <td>14.1</td>\n",
              "      <td>14.099354</td>\n",
              "      <td>0.000646</td>\n",
              "    </tr>\n",
              "    <tr>\n",
              "      <th>174</th>\n",
              "      <td>11.5</td>\n",
              "      <td>12.055135</td>\n",
              "      <td>-0.555135</td>\n",
              "    </tr>\n",
              "    <tr>\n",
              "      <th>55</th>\n",
              "      <td>23.7</td>\n",
              "      <td>23.392540</td>\n",
              "      <td>0.307460</td>\n",
              "    </tr>\n",
              "    <tr>\n",
              "      <th>141</th>\n",
              "      <td>19.2</td>\n",
              "      <td>19.675084</td>\n",
              "      <td>-0.475084</td>\n",
              "    </tr>\n",
              "    <tr>\n",
              "      <th>149</th>\n",
              "      <td>10.1</td>\n",
              "      <td>9.156263</td>\n",
              "      <td>0.943737</td>\n",
              "    </tr>\n",
              "    <tr>\n",
              "      <th>25</th>\n",
              "      <td>12.0</td>\n",
              "      <td>12.116373</td>\n",
              "      <td>-0.116373</td>\n",
              "    </tr>\n",
              "    <tr>\n",
              "      <th>34</th>\n",
              "      <td>9.5</td>\n",
              "      <td>9.281496</td>\n",
              "      <td>0.218504</td>\n",
              "    </tr>\n",
              "    <tr>\n",
              "      <th>170</th>\n",
              "      <td>8.4</td>\n",
              "      <td>8.446040</td>\n",
              "      <td>-0.046040</td>\n",
              "    </tr>\n",
              "    <tr>\n",
              "      <th>39</th>\n",
              "      <td>21.5</td>\n",
              "      <td>21.655881</td>\n",
              "      <td>-0.155881</td>\n",
              "    </tr>\n",
              "  </tbody>\n",
              "</table>\n",
              "</div>"
            ],
            "text/plain": [
              "     Actual       pred  residual\n",
              "37     14.7  13.948562  0.751438\n",
              "109    19.8  19.334803  0.465197\n",
              "31     11.9  12.319282 -0.419282\n",
              "89     16.7  16.762863 -0.062863\n",
              "66      9.5   7.902109  1.597891\n",
              "119     6.6   6.941438 -0.341438\n",
              "54     20.2  20.133727  0.066273\n",
              "74     17.0  17.500927 -0.500927\n",
              "145    10.3  10.568890 -0.268890\n",
              "142    20.1  20.125518 -0.025518\n",
              "148    10.9   9.446145  1.453855\n",
              "112    14.1  14.099354  0.000646\n",
              "174    11.5  12.055135 -0.555135\n",
              "55     23.7  23.392540  0.307460\n",
              "141    19.2  19.675084 -0.475084\n",
              "149    10.1   9.156263  0.943737\n",
              "25     12.0  12.116373 -0.116373\n",
              "34      9.5   9.281496  0.218504\n",
              "170     8.4   8.446040 -0.046040\n",
              "39     21.5  21.655881 -0.155881"
            ]
          },
          "execution_count": 37,
          "metadata": {},
          "output_type": "execute_result"
        }
      ],
      "source": [
        "my_dict = {\"Actual\": y_test, \"pred\": y_pred, \"residual\": y_test-y_pred}\n",
        "compare = pd.DataFrame(my_dict)\n",
        "compare.head(20)"
      ]
    },
    {
      "cell_type": "code",
      "execution_count": null,
      "id": "eleven-nursing",
      "metadata": {
        "id": "eleven-nursing",
        "outputId": "59330e6a-c7a3-46e7-98f9-f4c7173c4a3b"
      },
      "outputs": [
        {
          "data": {
            "image/png": "[encoded data removed]",
            "text/plain": [
              "<Figure size 1080x648 with 1 Axes>"
            ]
          },
          "metadata": {
            "needs_background": "light"
          },
          "output_type": "display_data"
        }
      ],
      "source": [
        "compare.head(20).plot(kind='bar',figsize=(15,9))\n",
        "plt.show();"
      ]
    },
    {
      "cell_type": "markdown",
      "id": "smart-program",
      "metadata": {
        "id": "smart-program"
      },
      "source": [
        "## Poly Coefficients"
      ]
    },
    {
      "cell_type": "code",
      "execution_count": null,
      "id": "cathedral-february",
      "metadata": {
        "id": "cathedral-february",
        "outputId": "14bdcda9-3f77-4aaa-f227-9acab1a7c68b"
      },
      "outputs": [
        {
          "data": {
            "text/plain": [
              "array([ 5.17095811e-02,  1.30848864e-02,  1.20000085e-02, -1.10892474e-04,\n",
              "        1.14212673e-03, -5.24100082e-05,  3.34919737e-05,  1.46380310e-04,\n",
              "       -3.04715806e-05])"
            ]
          },
          "execution_count": 39,
          "metadata": {},
          "output_type": "execute_result"
        }
      ],
      "source": [
        "model_poly.coef_"
      ]
    },
    {
      "cell_type": "code",
      "execution_count": null,
      "id": "configured-chemistry",
      "metadata": {
        "id": "configured-chemistry"
      },
      "outputs": [],
      "source": [
        "df_coef = pd.DataFrame(model_poly.coef_, index = [\"TV\", \"radio\", \"newspaper\", \"TV^2\", \"TV&Radio\", \\\n",
        "                                   \"TV&Newspaper\", \"Radio^2\", \"Radio&newspaper\", \"Newspaper^2\"], columns = [\"coef\"])"
      ]
    },
    {
      "cell_type": "code",
      "execution_count": null,
      "id": "packed-parameter",
      "metadata": {
        "id": "packed-parameter",
        "outputId": "2193b028-6011-47cd-cea6-f7e842850faa"
      },
      "outputs": [
        {
          "data": {
            "text/html": [
              "<div>\n",
              "<style scoped>\n",
              "    .dataframe tbody tr th:only-of-type {\n",
              "        vertical-align: middle;\n",
              "    }\n",
              "\n",
              "    .dataframe tbody tr th {\n",
              "        vertical-align: top;\n",
              "    }\n",
              "\n",
              "    .dataframe thead th {\n",
              "        text-align: right;\n",
              "    }\n",
              "</style>\n",
              "<table border=\"1\" class=\"dataframe\">\n",
              "  <thead>\n",
              "    <tr style=\"text-align: right;\">\n",
              "      <th></th>\n",
              "      <th>coef</th>\n",
              "    </tr>\n",
              "  </thead>\n",
              "  <tbody>\n",
              "    <tr>\n",
              "      <th>TV</th>\n",
              "      <td>0.051710</td>\n",
              "    </tr>\n",
              "    <tr>\n",
              "      <th>radio</th>\n",
              "      <td>0.013085</td>\n",
              "    </tr>\n",
              "    <tr>\n",
              "      <th>newspaper</th>\n",
              "      <td>0.012000</td>\n",
              "    </tr>\n",
              "    <tr>\n",
              "      <th>TV^2</th>\n",
              "      <td>-0.000111</td>\n",
              "    </tr>\n",
              "    <tr>\n",
              "      <th>TV&amp;Radio</th>\n",
              "      <td>0.001142</td>\n",
              "    </tr>\n",
              "    <tr>\n",
              "      <th>TV&amp;Newspaper</th>\n",
              "      <td>-0.000052</td>\n",
              "    </tr>\n",
              "    <tr>\n",
              "      <th>Radio^2</th>\n",
              "      <td>0.000033</td>\n",
              "    </tr>\n",
              "    <tr>\n",
              "      <th>Radio&amp;newspaper</th>\n",
              "      <td>0.000146</td>\n",
              "    </tr>\n",
              "    <tr>\n",
              "      <th>Newspaper^2</th>\n",
              "      <td>-0.000030</td>\n",
              "    </tr>\n",
              "  </tbody>\n",
              "</table>\n",
              "</div>"
            ],
            "text/plain": [
              "                     coef\n",
              "TV               0.051710\n",
              "radio            0.013085\n",
              "newspaper        0.012000\n",
              "TV^2            -0.000111\n",
              "TV&Radio         0.001142\n",
              "TV&Newspaper    -0.000052\n",
              "Radio^2          0.000033\n",
              "Radio&newspaper  0.000146\n",
              "Newspaper^2     -0.000030"
            ]
          },
          "execution_count": 41,
          "metadata": {},
          "output_type": "execute_result"
        }
      ],
      "source": [
        "df_coef \n",
        "# John Hoca: Standartlaştırma yapmadığımız için alttaki feature ların önemlerini sıralamak çok doğru değil.\n",
        "# .. Bunu Ridge ve Lasso da detaylı göreceğiz"
      ]
    },
    {
      "cell_type": "code",
      "execution_count": null,
      "id": "banned-transsexual",
      "metadata": {
        "id": "banned-transsexual",
        "outputId": "baf156ee-ec70-434c-fd14-f6457b568bed"
      },
      "outputs": [
        {
          "data": {
            "text/plain": [
              "array([21.86190699])"
            ]
          },
          "execution_count": 42,
          "metadata": {},
          "output_type": "execute_result"
        }
      ],
      "source": [
        "model_poly.predict([[2.301000e+02, 3.780000e+01, 6.920000e+01, 5.294601e+04,\n",
        "       8.697780e+03, 1.592292e+04, 1.428840e+03, 2.615760e+03,\n",
        "       4.788640e+03]])"
      ]
    },
    {
      "cell_type": "markdown",
      "id": "intense-alberta",
      "metadata": {
        "id": "intense-alberta"
      },
      "source": [
        "## Evaluation on the Test Set"
      ]
    },
    {
      "cell_type": "code",
      "execution_count": null,
      "id": "sensitive-emphasis",
      "metadata": {
        "id": "sensitive-emphasis"
      },
      "outputs": [],
      "source": [
        "from sklearn.metrics import mean_absolute_error,mean_squared_error,r2_score"
      ]
    },
    {
      "cell_type": "code",
      "execution_count": null,
      "id": "brilliant-producer",
      "metadata": {
        "id": "brilliant-producer"
      },
      "outputs": [],
      "source": [
        "y_pred = model_poly.predict(X_test) # Tahminlerimizi yaptık.(Dikkat: X_test ile)\n",
        "# Şimdi metriklerimize bakarak tahminlerin ne kadar iyi olduğuna bakalım"
      ]
    },
    {
      "cell_type": "code",
      "execution_count": null,
      "id": "sustainable-asian",
      "metadata": {
        "id": "sustainable-asian"
      },
      "outputs": [],
      "source": [
        "def eval_metric(actual, pred):\n",
        "    mae = mean_absolute_error(actual, pred)\n",
        "    mse = mean_squared_error(actual, pred)\n",
        "    rmse = np.sqrt(mean_squared_error(actual, pred))\n",
        "    R2_score = r2_score(actual, pred)\n",
        "    print(\"Model performance:\")\n",
        "    print(\"--------------------------\")\n",
        "    print(f\"R2_score \\t: {R2_score}\")\n",
        "    print(f\"MAE \\t\\t: {mae}\")\n",
        "    print(f\"MSE \\t\\t: {mse}\")\n",
        "    print(f\"RMSE \\t\\t: {rmse}\")"
      ]
    },
    {
      "cell_type": "code",
      "execution_count": null,
      "id": "gross-mixer",
      "metadata": {
        "id": "gross-mixer",
        "outputId": "7d45a89a-cddd-4ec1-a3b9-1d27af94740c"
      },
      "outputs": [
        {
          "name": "stdout",
          "output_type": "stream",
          "text": [
            "Model performance:\n",
            "--------------------------\n",
            "R2_score \t: 0.9843529333146795\n",
            "MAE \t\t: 0.48967980448035575\n",
            "MSE \t\t: 0.44175055104033906\n",
            "RMSE \t\t: 0.6646431757269001\n"
          ]
        }
      ],
      "source": [
        "eval_metric(y_test, y_pred)"
      ]
    },
    {
      "cell_type": "code",
      "execution_count": null,
      "id": "revolutionary-release",
      "metadata": {
        "id": "revolutionary-release"
      },
      "outputs": [],
      "source": [
        "y_train_pred = model_poly.predict(X_train) # Tahminlerimizi yaptık.(Dikkat: X_train ile)"
      ]
    },
    {
      "cell_type": "code",
      "execution_count": null,
      "id": "available-minimum",
      "metadata": {
        "id": "available-minimum",
        "outputId": "4705435d-de26-4ab8-cfb2-a0f32184f3c1"
      },
      "outputs": [
        {
          "name": "stdout",
          "output_type": "stream",
          "text": [
            "Model performance:\n",
            "--------------------------\n",
            "R2_score \t: 0.9868638137712757\n",
            "MAE \t\t: 0.4049248139151436\n",
            "MSE \t\t: 0.3456939142443997\n",
            "RMSE \t\t: 0.5879574085292231\n"
          ]
        }
      ],
      "source": [
        "eval_metric(y_train, y_train_pred) \n",
        "# John Hoca: X_test ile X_train metric leri arasında çok fark olmadığı için\n",
        "# .. underfitting, overfitting durumu yok diyebiliriz"
      ]
    },
    {
      "cell_type": "markdown",
      "id": "distant-subscription",
      "metadata": {
        "id": "distant-subscription"
      },
      "source": [
        "* Simple Linear Regression:\n",
        "    * MAE      : 1.213\n",
        "    * RMSE     : 1.516\n",
        "    * r2_score : 0.8609\n",
        "\n",
        "* Polynomial 2-degree:\n",
        "    * MAE      : 0.48\n",
        "    * RMSE     : 0.66\n",
        "    * r2_score : 0.9868"
      ]
    },
    {
      "cell_type": "code",
      "execution_count": null,
      "id": "bde8f854",
      "metadata": {
        "id": "bde8f854"
      },
      "outputs": [],
      "source": [
        "# Şu anda 2. dereceden bir polynomun(lineer regression a göre) daha iyi sonuçlar ürettiğini söyleyebiliriz\n",
        "# Acaba derece artarsa daha mı iyi olur sonuçlar. Buna bakacağız altta\n",
        "# NOT: Polynomial regression un dezavantajının bu olduğu söylenmişti"
      ]
    },
    {
      "cell_type": "markdown",
      "id": "referenced-lebanon",
      "metadata": {
        "id": "referenced-lebanon"
      },
      "source": [
        "## Let's find optimal degree of poly"
      ]
    },
    {
      "cell_type": "code",
      "execution_count": null,
      "id": "analyzed-generator",
      "metadata": {
        "id": "analyzed-generator"
      },
      "outputs": [],
      "source": [
        "def poly(d):\n",
        "    \n",
        "    train_rmse_errors = []\n",
        "    test_rmse_errors = []\n",
        "    number_of_features = []\n",
        "    degrees=[]\n",
        "    \n",
        "    for i in range(1, d):\n",
        "        polynomial_converter = PolynomialFeatures(degree = i, include_bias =False)\n",
        "        poly_features = polynomial_converter.fit_transform(X)\n",
        "        \n",
        "        X_train, X_test, y_train, y_test = train_test_split(poly_features, y, test_size=0.3, random_state=101)\n",
        "        \n",
        "        model = LinearRegression(fit_intercept=True)\n",
        "        model.fit(X_train, y_train)\n",
        "        \n",
        "        train_pred = model.predict(X_train)\n",
        "        test_pred = model.predict(X_test)\n",
        "        \n",
        "        train_RMSE = np.sqrt(mean_squared_error(y_train,train_pred))\n",
        "        test_RMSE = np.sqrt(mean_squared_error(y_test,test_pred))\n",
        "        \n",
        "        train_rmse_errors.append(train_RMSE)\n",
        "        test_rmse_errors.append(test_RMSE)\n",
        "        \n",
        "        number_of_features.append(poly_features.shape[1])\n",
        "        degrees.append(i)\n",
        "        \n",
        "    return pd.DataFrame({\"train_rmse_errors\": train_rmse_errors, \"test_rmse_errors\":test_rmse_errors, \"Degree\":degrees}, \n",
        "                        index=range(1,d))\n",
        "        "
      ]
    },
    {
      "cell_type": "code",
      "execution_count": null,
      "id": "simple-synthesis",
      "metadata": {
        "id": "simple-synthesis",
        "outputId": "e47f9e91-429f-47e2-9ebc-4698cb650974"
      },
      "outputs": [
        {
          "data": {
            "text/html": [
              "<div>\n",
              "<style scoped>\n",
              "    .dataframe tbody tr th:only-of-type {\n",
              "        vertical-align: middle;\n",
              "    }\n",
              "\n",
              "    .dataframe tbody tr th {\n",
              "        vertical-align: top;\n",
              "    }\n",
              "\n",
              "    .dataframe thead th {\n",
              "        text-align: right;\n",
              "    }\n",
              "</style>\n",
              "<table border=\"1\" class=\"dataframe\">\n",
              "  <thead>\n",
              "    <tr style=\"text-align: right;\">\n",
              "      <th></th>\n",
              "      <th>train_rmse_errors</th>\n",
              "      <th>test_rmse_errors</th>\n",
              "      <th>Degree</th>\n",
              "    </tr>\n",
              "  </thead>\n",
              "  <tbody>\n",
              "    <tr>\n",
              "      <th>1</th>\n",
              "      <td>1.734594</td>\n",
              "      <td>1.516152</td>\n",
              "      <td>1</td>\n",
              "    </tr>\n",
              "    <tr>\n",
              "      <th>2</th>\n",
              "      <td>0.587957</td>\n",
              "      <td>0.664643</td>\n",
              "      <td>2</td>\n",
              "    </tr>\n",
              "    <tr>\n",
              "      <th>3</th>\n",
              "      <td>0.433934</td>\n",
              "      <td>0.580329</td>\n",
              "      <td>3</td>\n",
              "    </tr>\n",
              "    <tr>\n",
              "      <th>4</th>\n",
              "      <td>0.351708</td>\n",
              "      <td>0.507774</td>\n",
              "      <td>4</td>\n",
              "    </tr>\n",
              "    <tr>\n",
              "      <th>5</th>\n",
              "      <td>0.250934</td>\n",
              "      <td>2.575809</td>\n",
              "      <td>5</td>\n",
              "    </tr>\n",
              "    <tr>\n",
              "      <th>6</th>\n",
              "      <td>0.199326</td>\n",
              "      <td>4.265809</td>\n",
              "      <td>6</td>\n",
              "    </tr>\n",
              "    <tr>\n",
              "      <th>7</th>\n",
              "      <td>5.418481</td>\n",
              "      <td>1383.405295</td>\n",
              "      <td>7</td>\n",
              "    </tr>\n",
              "    <tr>\n",
              "      <th>8</th>\n",
              "      <td>0.150849</td>\n",
              "      <td>3733.422567</td>\n",
              "      <td>8</td>\n",
              "    </tr>\n",
              "    <tr>\n",
              "      <th>9</th>\n",
              "      <td>0.171754</td>\n",
              "      <td>95489.264523</td>\n",
              "      <td>9</td>\n",
              "    </tr>\n",
              "  </tbody>\n",
              "</table>\n",
              "</div>"
            ],
            "text/plain": [
              "   train_rmse_errors  test_rmse_errors  Degree\n",
              "1           1.734594          1.516152       1\n",
              "2           0.587957          0.664643       2\n",
              "3           0.433934          0.580329       3\n",
              "4           0.351708          0.507774       4\n",
              "5           0.250934          2.575809       5\n",
              "6           0.199326          4.265809       6\n",
              "7           5.418481       1383.405295       7\n",
              "8           0.150849       3733.422567       8\n",
              "9           0.171754      95489.264523       9"
            ]
          },
          "execution_count": 50,
          "metadata": {},
          "output_type": "execute_result"
        }
      ],
      "source": [
        "poly(10) # Test hatası belli bir seviye sonra veriyi ezberlemiş olduğunu görüyoruz\n",
        "# .. Çünkü veriyi o kadar ezberlemiş ki train hatasında hata neredeyse hiç yok ama\n",
        "# .. hiç görmediği veri ile(test verisi) karşılaştırınca ezberlediği için tahminler doğru gelmemiş"
      ]
    },
    {
      "cell_type": "code",
      "execution_count": null,
      "id": "obvious-mobility",
      "metadata": {
        "id": "obvious-mobility",
        "outputId": "edc6720e-b39a-4d39-f2c6-3b27cd415a84"
      },
      "outputs": [
        {
          "data": {
            "image/png": "[encoded data removed]",
            "text/plain": [
              "<Figure size 720x432 with 1 Axes>"
            ]
          },
          "metadata": {
            "needs_background": "light"
          },
          "output_type": "display_data"
        }
      ],
      "source": [
        "# Derece 1 den 9 a kadar\n",
        "plt.plot(range(1,10), poly(10)[\"train_rmse_errors\"], label = \"TRAIN\")\n",
        "plt.plot(range(1,10), poly(10)[\"test_rmse_errors\"], label = \"TEST\")\n",
        "plt.xlabel(\"Polynamial Complex\")\n",
        "plt.ylabel(\"RMSE\")\n",
        "plt.legend();"
      ]
    },
    {
      "cell_type": "code",
      "execution_count": null,
      "id": "southern-colonial",
      "metadata": {
        "id": "southern-colonial",
        "outputId": "6b05f188-a000-450c-8b71-eae074411505"
      },
      "outputs": [
        {
          "data": {
            "image/png": "[encoded data removed]",
            "text/plain": [
              "<Figure size 720x432 with 1 Axes>"
            ]
          },
          "metadata": {
            "needs_background": "light"
          },
          "output_type": "display_data"
        }
      ],
      "source": [
        "# Derece 1 den 5 e kadar olan kısmı inceleyelim\n",
        "# Derece 4-5 arası ezberleme yapmış\n",
        "# derece 1 de de underfitting var\n",
        "plt.plot(range(1,6), poly(6)[\"train_rmse_errors\"], label = \"TRAIN\")\n",
        "plt.plot(range(1,6), poly(6)[\"test_rmse_errors\"], label = \"TEST\")\n",
        "plt.xlabel(\"Polynamial Complex\")\n",
        "plt.ylabel(\"RMSE\")\n",
        "plt.legend();\n",
        "\n",
        "# Hangi noktayı seçeceğiz optimal değeri seçmek için\n",
        "# Orion Hoca: Sınır değerlerden(2.0 ve 4.0) uzak durulmalı(underfitting ve overfitting e gitmeye meyilli)\n",
        "# .. O yüzden orta yolu seçmek daha anlamlı(yani 3.0)"
      ]
    },
    {
      "cell_type": "markdown",
      "id": "continuing-patrick",
      "metadata": {
        "id": "continuing-patrick"
      },
      "source": [
        "## Finalizing Model Choice"
      ]
    },
    {
      "cell_type": "code",
      "execution_count": null,
      "id": "right-samuel",
      "metadata": {
        "id": "right-samuel"
      },
      "outputs": [],
      "source": [
        "final_poly_converter = PolynomialFeatures(degree = 3, include_bias=False)"
      ]
    },
    {
      "cell_type": "code",
      "execution_count": null,
      "id": "matched-singapore",
      "metadata": {
        "id": "matched-singapore"
      },
      "outputs": [],
      "source": [
        "final_model = LinearRegression()"
      ]
    },
    {
      "cell_type": "code",
      "execution_count": null,
      "id": "primary-regular",
      "metadata": {
        "id": "primary-regular",
        "outputId": "72a25581-67f2-47c4-e63e-bb805a4cdd16"
      },
      "outputs": [
        {
          "data": {
            "text/plain": [
              "LinearRegression()"
            ]
          },
          "execution_count": 55,
          "metadata": {},
          "output_type": "execute_result"
        }
      ],
      "source": [
        "final_model.fit(final_poly_converter.fit_transform(X), y) \n",
        "# Burada datayı bölmedik artık çünkü optimal noktayı belirlediğimiz için tüm datayla eğitimi yapalım ki \n",
        "# .. en ideal tahminleri elde edelim"
      ]
    },
    {
      "cell_type": "markdown",
      "id": "broadband-terrorist",
      "metadata": {
        "id": "broadband-terrorist"
      },
      "source": [
        "## Predictions"
      ]
    },
    {
      "cell_type": "code",
      "execution_count": null,
      "id": "coordinate-outdoors",
      "metadata": {
        "id": "coordinate-outdoors"
      },
      "outputs": [],
      "source": [
        "new_record = [[150, 20, 15]]"
      ]
    },
    {
      "cell_type": "code",
      "execution_count": null,
      "id": "varied-jonathan",
      "metadata": {
        "id": "varied-jonathan"
      },
      "outputs": [],
      "source": [
        "new_record_poly = final_poly_converter.fit_transform(new_record) \n",
        "# Burada new_record_poly formatını değiştiriyorum"
      ]
    },
    {
      "cell_type": "code",
      "execution_count": null,
      "id": "rocky-weapon",
      "metadata": {
        "id": "rocky-weapon",
        "outputId": "148f1e55-8af0-4f9b-e8a5-14f343d164e0"
      },
      "outputs": [
        {
          "data": {
            "text/plain": [
              "array([[1.500e+02, 2.000e+01, 1.500e+01, 2.250e+04, 3.000e+03, 2.250e+03,\n",
              "        4.000e+02, 3.000e+02, 2.250e+02, 3.375e+06, 4.500e+05, 3.375e+05,\n",
              "        6.000e+04, 4.500e+04, 3.375e+04, 8.000e+03, 6.000e+03, 4.500e+03,\n",
              "        3.375e+03]])"
            ]
          },
          "execution_count": 58,
          "metadata": {},
          "output_type": "execute_result"
        }
      ],
      "source": [
        "new_record_poly"
      ]
    },
    {
      "cell_type": "code",
      "execution_count": null,
      "id": "legitimate-example",
      "metadata": {
        "id": "legitimate-example",
        "outputId": "1026218c-39eb-4af6-b7e3-6ca203f72f73"
      },
      "outputs": [
        {
          "data": {
            "text/plain": [
              "array([14.24950844])"
            ]
          },
          "execution_count": 59,
          "metadata": {},
          "output_type": "execute_result"
        }
      ],
      "source": [
        "final_model.predict(new_record_poly) # Sonuç: 14.24\n",
        "# Kulanıcı derse ki eğer benim tv değerim 150, radio :20, newspaper:20 olursa sonucum(sales) ne olur?? --> 14.24"
      ]
    },
    {
      "cell_type": "markdown",
      "id": "sweet-document",
      "metadata": {
        "id": "sweet-document"
      },
      "source": [
        "## <span style='color:red'> Overfitting</span> "
      ]
    },
    {
      "cell_type": "code",
      "execution_count": null,
      "id": "micro-worship",
      "metadata": {
        "id": "micro-worship"
      },
      "outputs": [],
      "source": [
        "# Dereceyi 5 seçerek overfitting durumunu gözlemleyelim\n",
        "over_poly_converter = PolynomialFeatures(degree =5, include_bias =False)"
      ]
    },
    {
      "cell_type": "code",
      "execution_count": null,
      "id": "therapeutic-father",
      "metadata": {
        "id": "therapeutic-father"
      },
      "outputs": [],
      "source": [
        "over_model = LinearRegression()"
      ]
    },
    {
      "cell_type": "code",
      "execution_count": null,
      "id": "little-video",
      "metadata": {
        "id": "little-video"
      },
      "outputs": [],
      "source": [
        "X_train, X_test, y_train, y_test = train_test_split(over_poly_converter.fit_transform(X), y, test_size=0.3, random_state=101)"
      ]
    },
    {
      "cell_type": "code",
      "execution_count": null,
      "id": "precious-lighter",
      "metadata": {
        "id": "precious-lighter",
        "outputId": "37fcbaf2-4092-47e0-db60-74e8ee92f7a4"
      },
      "outputs": [
        {
          "data": {
            "text/plain": [
              "LinearRegression()"
            ]
          },
          "execution_count": 63,
          "metadata": {},
          "output_type": "execute_result"
        }
      ],
      "source": [
        "over_model.fit(X_train, y_train)"
      ]
    },
    {
      "cell_type": "code",
      "execution_count": null,
      "id": "referenced-pride",
      "metadata": {
        "id": "referenced-pride",
        "outputId": "32cfc499-78a5-40bf-a5e2-2efbf5aaf8a6"
      },
      "outputs": [
        {
          "name": "stdout",
          "output_type": "stream",
          "text": [
            "Model performance:\n",
            "--------------------------\n",
            "R2_score \t: 0.7649916528404768\n",
            "MAE \t\t: 0.6659637641421313\n",
            "MSE \t\t: 6.634794172264552\n",
            "RMSE \t\t: 2.575809420796607\n"
          ]
        }
      ],
      "source": [
        "y_pred_over = over_model.predict(X_test)\n",
        "eval_metric(y_test, y_pred_over)"
      ]
    },
    {
      "cell_type": "code",
      "execution_count": null,
      "id": "adapted-accident",
      "metadata": {
        "id": "adapted-accident",
        "outputId": "dd80e426-050d-48f9-fa8c-3717f35dcd97"
      },
      "outputs": [
        {
          "name": "stdout",
          "output_type": "stream",
          "text": [
            "Model performance:\n",
            "--------------------------\n",
            "R2_score \t: 0.9976072484167179\n",
            "MAE \t\t: 0.1862092141111129\n",
            "MSE \t\t: 0.06296802178630591\n",
            "RMSE \t\t: 0.2509342977480478\n"
          ]
        }
      ],
      "source": [
        "y_train_over = over_model.predict(X_train)\n",
        "eval_metric(y_train, y_train_over)\n",
        "# Gördüğümüz gibi metricler arasındaki değerlerde kayda değer(örneğin R_2 0.99-0.76) fark var\n",
        "# RMSE ye bakarsak train datasında hata çok çok düşük(0.25) ama hiç görmediği test te 2.575 e çıkmış"
      ]
    },
    {
      "cell_type": "markdown",
      "id": "fd5f69cd",
      "metadata": {
        "id": "fd5f69cd"
      },
      "source": [
        "## <span style='color:red'> Underfitting</span> "
      ]
    },
    {
      "cell_type": "raw",
      "id": "b45a3756",
      "metadata": {
        "id": "b45a3756"
      },
      "source": [
        "Testing data performance:\n",
        "--------------------------\n",
        "R2_score \t: 0.8609466508230367\n",
        "MAE \t\t: 1.5116692224549084\n",
        "MSE \t\t: 3.796797236715222\n",
        "RMSE \t\t: 1.9485372043446392"
      ]
    },
    {
      "cell_type": "raw",
      "id": "da7023a7",
      "metadata": {
        "id": "da7023a7"
      },
      "source": [
        "Training data performance:\n",
        "--------------------------\n",
        "R2_score \t: 0.9055159502227753\n",
        "MAE \t\t: 1.1581502948072524\n",
        "MSE \t\t: 2.4793551789057866\n",
        "RMSE \t\t: 1.574596830590544"
      ]
    },
    {
      "cell_type": "code",
      "execution_count": null,
      "id": "c039f8d5",
      "metadata": {
        "id": "c039f8d5"
      },
      "outputs": [],
      "source": [
        "# Gördüğümüz gibi metricler arasındaki değerlerde fark var\n",
        "# r2 de performance düşmüş(0.90 dan, 0.86 ya). Çok düşmemiş ama bu data için ideal\n",
        "# .. olan değerler daha yüksek olmalıydı\n",
        "# RMSE de de fark var\n",
        "\n",
        "# NOT: Ares hoca: R2 score negatif olması aşırı ezberi ve best fit line nın ters çizildiğini gösterir\n",
        "\n",
        "# NOT: Orion hoca: fit kalıbını çıkar. Transform o kalıbı uygula"
      ]
    }
  ],
  "metadata": {
    "kernelspec": {
      "display_name": "Python 3 (ipykernel)",
      "language": "python",
      "name": "python3"
    },
    "language_info": {
      "codemirror_mode": {
        "name": "ipython",
        "version": 3
      },
      "file_extension": ".py",
      "mimetype": "text/x-python",
      "name": "python",
      "nbconvert_exporter": "python",
      "pygments_lexer": "ipython3",
      "version": "3.9.7"
    },
    "nbTranslate": {
      "displayLangs": [
        "*"
      ],
      "hotkey": "alt-t",
      "langInMainMenu": true,
      "sourceLang": "en",
      "targetLang": "fr",
      "useGoogleTranslate": true
    },
    "toc": {
      "base_numbering": 1,
      "nav_menu": {},
      "number_sections": true,
      "sideBar": true,
      "skip_h1_title": false,
      "title_cell": "Table of Contents",
      "title_sidebar": "Contents",
      "toc_cell": false,
      "toc_position": {},
      "toc_section_display": true,
      "toc_window_display": false
    },
    "colab": {
      "name": "ML-3 cansin hoca notlar (Poly Regression-Overfiting-Underfiting).ipynb",
      "provenance": [],
      "include_colab_link": true
    }
  },
  "nbformat": 4,
  "nbformat_minor": 5
}