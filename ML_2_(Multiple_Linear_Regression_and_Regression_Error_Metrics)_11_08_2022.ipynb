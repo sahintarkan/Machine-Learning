{
  "cells": [
    {
      "cell_type": "markdown",
      "metadata": {
        "id": "view-in-github",
        "colab_type": "text"
      },
      "source": [
        "<a href=\"https://colab.research.google.com/github/sahintarkan/Machine-Learning/blob/main/ML_2_(Multiple_Linear_Regression_and_Regression_Error_Metrics)_11_08_2022.ipynb\" target=\"_parent\"><img src=\"https://colab.research.google.com/assets/colab-badge.svg\" alt=\"Open In Colab\"/></a>"
      ]
    },
    {
      "cell_type": "markdown",
      "id": "roman-genesis",
      "metadata": {
        "id": "roman-genesis"
      },
      "source": [
        "## Multiple Linear Regression and Regression Error Metrics"
      ]
    },
    {
      "cell_type": "markdown",
      "id": "complex-president",
      "metadata": {
        "id": "complex-president"
      },
      "source": [
        "## Import library"
      ]
    },
    {
      "cell_type": "code",
      "execution_count": null,
      "id": "portable-subscriber",
      "metadata": {
        "ExecuteTime": {
          "end_time": "2022-08-12T09:52:46.430041Z",
          "start_time": "2022-08-12T09:52:45.243417Z"
        },
        "id": "portable-subscriber"
      },
      "outputs": [],
      "source": [
        "import numpy as np\n",
        "import pandas as pd\n",
        "import matplotlib.pyplot as plt\n",
        "import seaborn as sns\n",
        "import scipy.stats as stats\n",
        "plt.rcParams[\"figure.figsize\"] = (10,6)\n",
        "import warnings\n",
        "warnings.filterwarnings('ignore')"
      ]
    },
    {
      "cell_type": "markdown",
      "id": "93e1a667",
      "metadata": {
        "id": "93e1a667"
      },
      "source": [
        "lineer regresyon icin gereken sartlar\n",
        "1-iki feature arasinda linear iliski olmali\n",
        "2-error lar normal distrubiton dagilim olmali , residuallar in pozitifleri ile negatifleri normal dagilmali yuzde yuz simetrik olmasada \n",
        "\n",
        "hatalari cezalandirmak - hatalari minimize etmeye calismaya yardimci olur\n"
      ]
    },
    {
      "cell_type": "markdown",
      "id": "incorporate-denver",
      "metadata": {
        "id": "incorporate-denver"
      },
      "source": [
        "## Read Dataset"
      ]
    },
    {
      "cell_type": "code",
      "execution_count": null,
      "id": "powerful-belfast",
      "metadata": {
        "ExecuteTime": {
          "end_time": "2022-08-12T09:52:51.876080Z",
          "start_time": "2022-08-12T09:52:51.678481Z"
        },
        "id": "powerful-belfast",
        "outputId": "ef42d6c0-94c8-4159-9be0-15eb41a3a769"
      },
      "outputs": [
        {
          "data": {
            "text/html": [
              "<div><div id=f6232b4b-de39-46d2-85ac-4252d3a08b40 style=\"display:none; background-color:#9D6CFF; color:white; width:200px; height:30px; padding-left:5px; border-radius:4px; flex-direction:row; justify-content:space-around; align-items:center;\" onmouseover=\"this.style.backgroundColor='#BA9BF8'\" onmouseout=\"this.style.backgroundColor='#9D6CFF'\" onclick=\"window.commands?.execute('create-mitosheet-from-dataframe-output');\">See Full Dataframe in Mito</div> <script> if (window.commands?.hasCommand('create-mitosheet-from-dataframe-output')) document.getElementById('f6232b4b-de39-46d2-85ac-4252d3a08b40').style.display = 'flex' </script> <table border=\"1\" class=\"dataframe\">\n",
              "  <thead>\n",
              "    <tr style=\"text-align: right;\">\n",
              "      <th></th>\n",
              "      <th>TV</th>\n",
              "      <th>radio</th>\n",
              "      <th>newspaper</th>\n",
              "      <th>sales</th>\n",
              "    </tr>\n",
              "  </thead>\n",
              "  <tbody>\n",
              "    <tr>\n",
              "      <th>0</th>\n",
              "      <td>230.1</td>\n",
              "      <td>37.8</td>\n",
              "      <td>69.2</td>\n",
              "      <td>22.1</td>\n",
              "    </tr>\n",
              "    <tr>\n",
              "      <th>1</th>\n",
              "      <td>44.5</td>\n",
              "      <td>39.3</td>\n",
              "      <td>45.1</td>\n",
              "      <td>10.4</td>\n",
              "    </tr>\n",
              "    <tr>\n",
              "      <th>2</th>\n",
              "      <td>17.2</td>\n",
              "      <td>45.9</td>\n",
              "      <td>69.3</td>\n",
              "      <td>9.3</td>\n",
              "    </tr>\n",
              "    <tr>\n",
              "      <th>3</th>\n",
              "      <td>151.5</td>\n",
              "      <td>41.3</td>\n",
              "      <td>58.5</td>\n",
              "      <td>18.5</td>\n",
              "    </tr>\n",
              "    <tr>\n",
              "      <th>4</th>\n",
              "      <td>180.8</td>\n",
              "      <td>10.8</td>\n",
              "      <td>58.4</td>\n",
              "      <td>12.9</td>\n",
              "    </tr>\n",
              "    <tr>\n",
              "      <th>...</th>\n",
              "      <td>...</td>\n",
              "      <td>...</td>\n",
              "      <td>...</td>\n",
              "      <td>...</td>\n",
              "    </tr>\n",
              "    <tr>\n",
              "      <th>195</th>\n",
              "      <td>38.2</td>\n",
              "      <td>3.7</td>\n",
              "      <td>13.8</td>\n",
              "      <td>7.6</td>\n",
              "    </tr>\n",
              "    <tr>\n",
              "      <th>196</th>\n",
              "      <td>94.2</td>\n",
              "      <td>4.9</td>\n",
              "      <td>8.1</td>\n",
              "      <td>9.7</td>\n",
              "    </tr>\n",
              "    <tr>\n",
              "      <th>197</th>\n",
              "      <td>177.0</td>\n",
              "      <td>9.3</td>\n",
              "      <td>6.4</td>\n",
              "      <td>12.8</td>\n",
              "    </tr>\n",
              "    <tr>\n",
              "      <th>198</th>\n",
              "      <td>283.6</td>\n",
              "      <td>42.0</td>\n",
              "      <td>66.2</td>\n",
              "      <td>25.5</td>\n",
              "    </tr>\n",
              "    <tr>\n",
              "      <th>199</th>\n",
              "      <td>232.1</td>\n",
              "      <td>8.6</td>\n",
              "      <td>8.7</td>\n",
              "      <td>13.4</td>\n",
              "    </tr>\n",
              "  </tbody>\n",
              "</table></div>"
            ],
            "text/plain": [
              "        TV  radio  newspaper  sales\n",
              "0    230.1   37.8       69.2   22.1\n",
              "1     44.5   39.3       45.1   10.4\n",
              "2     17.2   45.9       69.3    9.3\n",
              "3    151.5   41.3       58.5   18.5\n",
              "4    180.8   10.8       58.4   12.9\n",
              "..     ...    ...        ...    ...\n",
              "195   38.2    3.7       13.8    7.6\n",
              "196   94.2    4.9        8.1    9.7\n",
              "197  177.0    9.3        6.4   12.8\n",
              "198  283.6   42.0       66.2   25.5\n",
              "199  232.1    8.6        8.7   13.4\n",
              "\n",
              "[200 rows x 4 columns]"
            ]
          },
          "execution_count": 4,
          "metadata": {},
          "output_type": "execute_result"
        }
      ],
      "source": [
        "df = pd.read_csv(\"Advertising.csv\")\n",
        "df"
      ]
    },
    {
      "cell_type": "markdown",
      "id": "focal-employee",
      "metadata": {
        "id": "focal-employee"
      },
      "source": [
        "## Data Preparation"
      ]
    },
    {
      "cell_type": "code",
      "execution_count": null,
      "id": "interpreted-zealand",
      "metadata": {
        "ExecuteTime": {
          "end_time": "2022-08-11T17:08:33.596639Z",
          "start_time": "2022-08-11T17:08:33.580651Z"
        },
        "id": "interpreted-zealand",
        "outputId": "5fcf3b0f-15a4-49f1-f96d-340014c0fa40"
      },
      "outputs": [
        {
          "data": {
            "text/plain": [
              "(200, 4)"
            ]
          },
          "execution_count": 3,
          "metadata": {},
          "output_type": "execute_result"
        }
      ],
      "source": [
        "df.shape"
      ]
    },
    {
      "cell_type": "code",
      "execution_count": null,
      "id": "coated-bowling",
      "metadata": {
        "ExecuteTime": {
          "end_time": "2022-08-11T17:08:37.380754Z",
          "start_time": "2022-08-11T17:08:37.066950Z"
        },
        "id": "coated-bowling",
        "outputId": "ebac322a-f339-4e59-cf55-ce4626ae5bfd"
      },
      "outputs": [
        {
          "name": "stdout",
          "output_type": "stream",
          "text": [
            "<class 'pandas.core.frame.DataFrame'>\n",
            "RangeIndex: 200 entries, 0 to 199\n",
            "Data columns (total 4 columns):\n",
            " #   Column     Non-Null Count  Dtype  \n",
            "---  ------     --------------  -----  \n",
            " 0   TV         200 non-null    float64\n",
            " 1   radio      200 non-null    float64\n",
            " 2   newspaper  200 non-null    float64\n",
            " 3   sales      200 non-null    float64\n",
            "dtypes: float64(4)\n",
            "memory usage: 6.4 KB\n"
          ]
        }
      ],
      "source": [
        "df.info()"
      ]
    },
    {
      "cell_type": "code",
      "execution_count": null,
      "id": "killing-rochester",
      "metadata": {
        "id": "killing-rochester",
        "outputId": "3fadff44-ad82-4f7e-f8b3-1b19aabf3ca7"
      },
      "outputs": [
        {
          "data": {
            "text/html": [
              "<div>\n",
              "<style scoped>\n",
              "    .dataframe tbody tr th:only-of-type {\n",
              "        vertical-align: middle;\n",
              "    }\n",
              "\n",
              "    .dataframe tbody tr th {\n",
              "        vertical-align: top;\n",
              "    }\n",
              "\n",
              "    .dataframe thead th {\n",
              "        text-align: right;\n",
              "    }\n",
              "</style>\n",
              "<table border=\"1\" class=\"dataframe\">\n",
              "  <thead>\n",
              "    <tr style=\"text-align: right;\">\n",
              "      <th></th>\n",
              "      <th>TV</th>\n",
              "      <th>radio</th>\n",
              "      <th>newspaper</th>\n",
              "      <th>sales</th>\n",
              "    </tr>\n",
              "  </thead>\n",
              "  <tbody>\n",
              "    <tr>\n",
              "      <th>count</th>\n",
              "      <td>200.000000</td>\n",
              "      <td>200.000000</td>\n",
              "      <td>200.000000</td>\n",
              "      <td>200.000000</td>\n",
              "    </tr>\n",
              "    <tr>\n",
              "      <th>mean</th>\n",
              "      <td>147.042500</td>\n",
              "      <td>23.264000</td>\n",
              "      <td>30.554000</td>\n",
              "      <td>14.022500</td>\n",
              "    </tr>\n",
              "    <tr>\n",
              "      <th>std</th>\n",
              "      <td>85.854236</td>\n",
              "      <td>14.846809</td>\n",
              "      <td>21.778621</td>\n",
              "      <td>5.217457</td>\n",
              "    </tr>\n",
              "    <tr>\n",
              "      <th>min</th>\n",
              "      <td>0.700000</td>\n",
              "      <td>0.000000</td>\n",
              "      <td>0.300000</td>\n",
              "      <td>1.600000</td>\n",
              "    </tr>\n",
              "    <tr>\n",
              "      <th>25%</th>\n",
              "      <td>74.375000</td>\n",
              "      <td>9.975000</td>\n",
              "      <td>12.750000</td>\n",
              "      <td>10.375000</td>\n",
              "    </tr>\n",
              "    <tr>\n",
              "      <th>50%</th>\n",
              "      <td>149.750000</td>\n",
              "      <td>22.900000</td>\n",
              "      <td>25.750000</td>\n",
              "      <td>12.900000</td>\n",
              "    </tr>\n",
              "    <tr>\n",
              "      <th>75%</th>\n",
              "      <td>218.825000</td>\n",
              "      <td>36.525000</td>\n",
              "      <td>45.100000</td>\n",
              "      <td>17.400000</td>\n",
              "    </tr>\n",
              "    <tr>\n",
              "      <th>max</th>\n",
              "      <td>296.400000</td>\n",
              "      <td>49.600000</td>\n",
              "      <td>114.000000</td>\n",
              "      <td>27.000000</td>\n",
              "    </tr>\n",
              "  </tbody>\n",
              "</table>\n",
              "</div>"
            ],
            "text/plain": [
              "               TV       radio   newspaper       sales\n",
              "count  200.000000  200.000000  200.000000  200.000000\n",
              "mean   147.042500   23.264000   30.554000   14.022500\n",
              "std     85.854236   14.846809   21.778621    5.217457\n",
              "min      0.700000    0.000000    0.300000    1.600000\n",
              "25%     74.375000    9.975000   12.750000   10.375000\n",
              "50%    149.750000   22.900000   25.750000   12.900000\n",
              "75%    218.825000   36.525000   45.100000   17.400000\n",
              "max    296.400000   49.600000  114.000000   27.000000"
            ]
          },
          "execution_count": 5,
          "metadata": {},
          "output_type": "execute_result"
        }
      ],
      "source": [
        "df.describe()"
      ]
    },
    {
      "cell_type": "code",
      "execution_count": null,
      "id": "4b75f0c4",
      "metadata": {
        "ExecuteTime": {
          "end_time": "2022-08-12T09:53:13.879035Z",
          "start_time": "2022-08-12T09:53:13.858054Z"
        },
        "id": "4b75f0c4",
        "outputId": "14b7c46b-14d6-4f65-907e-142d4a64cf86"
      },
      "outputs": [
        {
          "name": "stdout",
          "output_type": "stream",
          "text": [
            "111.25\n",
            "7.39509972887452\n"
          ]
        }
      ],
      "source": [
        "print(np.mean([100, 110, 120, 115])) #outlier gostermek icin ornek bu kodlar\n",
        "print(np.std([100, 110, 120, 115]))"
      ]
    },
    {
      "cell_type": "code",
      "execution_count": null,
      "id": "a69afdfd",
      "metadata": {
        "ExecuteTime": {
          "end_time": "2022-08-12T09:53:14.606157Z",
          "start_time": "2022-08-12T09:53:14.586170Z"
        },
        "id": "a69afdfd",
        "outputId": "3c87bdd1-cf9e-424b-f782-223f33cee25b"
      },
      "outputs": [
        {
          "name": "stdout",
          "output_type": "stream",
          "text": [
            "257.5\n",
            "255.57533136044253\n"
          ]
        }
      ],
      "source": [
        "print(np.mean([100, 110, 120, 700]))#burda da outlier var mean std de ile ayni hemen hemen\n",
        "print(np.std([100, 110, 120, 700]))"
      ]
    },
    {
      "cell_type": "code",
      "execution_count": null,
      "id": "e17f38d3",
      "metadata": {
        "ExecuteTime": {
          "end_time": "2022-08-12T09:53:15.342108Z",
          "start_time": "2022-08-12T09:53:15.324120Z"
        },
        "id": "e17f38d3",
        "outputId": "ae4637e9-786f-4ba4-dde1-a76421ff6d86"
      },
      "outputs": [
        {
          "name": "stdout",
          "output_type": "stream",
          "text": [
            "307.5\n",
            "342.153109002388\n"
          ]
        }
      ],
      "source": [
        "print(np.mean([100, 110, 120, 900])) #outlier var kesinlikle mean den buyk standart sapma\n",
        "print(np.std([100, 110, 120, 900]))"
      ]
    },
    {
      "cell_type": "markdown",
      "id": "d0720c89",
      "metadata": {
        "id": "d0720c89"
      },
      "source": [
        "## Distribution of features"
      ]
    },
    {
      "cell_type": "code",
      "execution_count": null,
      "id": "secure-interest",
      "metadata": {
        "id": "secure-interest",
        "outputId": "9f641fd4-4813-4903-bcf8-0910b3224293"
      },
      "outputs": [
        {
          "data": {
            "image/png": "[encoded data removed]",
            "text/plain": [
              "<Figure size 720x720 with 20 Axes>"
            ]
          },
          "metadata": {
            "needs_background": "light"
          },
          "output_type": "display_data"
        }
      ],
      "source": [
        "sns.pairplot(df);"
      ]
    },
    {
      "cell_type": "code",
      "execution_count": null,
      "id": "expressed-paraguay",
      "metadata": {
        "ExecuteTime": {
          "end_time": "2022-08-12T09:53:19.705038Z",
          "start_time": "2022-08-12T09:53:19.683051Z"
        },
        "id": "expressed-paraguay",
        "outputId": "626b2739-0f41-4085-91ce-a5c2a3c581b7"
      },
      "outputs": [
        {
          "data": {
            "text/html": [
              "<div><div id=7e1d0aae-ba66-4f68-9b8e-da35fe702355 style=\"display:none; background-color:#9D6CFF; color:white; width:200px; height:30px; padding-left:5px; border-radius:4px; flex-direction:row; justify-content:space-around; align-items:center;\" onmouseover=\"this.style.backgroundColor='#BA9BF8'\" onmouseout=\"this.style.backgroundColor='#9D6CFF'\" onclick=\"window.commands?.execute('create-mitosheet-from-dataframe-output');\">See Full Dataframe in Mito</div> <script> if (window.commands?.hasCommand('create-mitosheet-from-dataframe-output')) document.getElementById('7e1d0aae-ba66-4f68-9b8e-da35fe702355').style.display = 'flex' </script> <table border=\"1\" class=\"dataframe\">\n",
              "  <thead>\n",
              "    <tr style=\"text-align: right;\">\n",
              "      <th></th>\n",
              "      <th>TV</th>\n",
              "      <th>radio</th>\n",
              "      <th>newspaper</th>\n",
              "      <th>sales</th>\n",
              "    </tr>\n",
              "  </thead>\n",
              "  <tbody>\n",
              "    <tr>\n",
              "      <th>TV</th>\n",
              "      <td>1.000000</td>\n",
              "      <td>0.054809</td>\n",
              "      <td>0.056648</td>\n",
              "      <td>0.782224</td>\n",
              "    </tr>\n",
              "    <tr>\n",
              "      <th>radio</th>\n",
              "      <td>0.054809</td>\n",
              "      <td>1.000000</td>\n",
              "      <td>0.354104</td>\n",
              "      <td>0.576223</td>\n",
              "    </tr>\n",
              "    <tr>\n",
              "      <th>newspaper</th>\n",
              "      <td>0.056648</td>\n",
              "      <td>0.354104</td>\n",
              "      <td>1.000000</td>\n",
              "      <td>0.228299</td>\n",
              "    </tr>\n",
              "    <tr>\n",
              "      <th>sales</th>\n",
              "      <td>0.782224</td>\n",
              "      <td>0.576223</td>\n",
              "      <td>0.228299</td>\n",
              "      <td>1.000000</td>\n",
              "    </tr>\n",
              "  </tbody>\n",
              "</table></div>"
            ],
            "text/plain": [
              "                 TV     radio  newspaper     sales\n",
              "TV         1.000000  0.054809   0.056648  0.782224\n",
              "radio      0.054809  1.000000   0.354104  0.576223\n",
              "newspaper  0.056648  0.354104   1.000000  0.228299\n",
              "sales      0.782224  0.576223   0.228299  1.000000"
            ]
          },
          "execution_count": 8,
          "metadata": {},
          "output_type": "execute_result"
        }
      ],
      "source": [
        "df.corr()"
      ]
    },
    {
      "cell_type": "code",
      "execution_count": null,
      "id": "widespread-celebrity",
      "metadata": {
        "id": "widespread-celebrity",
        "outputId": "f78fab1f-7cf5-45a6-aca4-fb89074cd205"
      },
      "outputs": [
        {
          "data": {
            "text/plain": [
              "<AxesSubplot:>"
            ]
          },
          "execution_count": 11,
          "metadata": {},
          "output_type": "execute_result"
        },
        {
          "data": {
            "image/png": "[encoded data removed]",
            "text/plain": [
              "<Figure size 720x432 with 2 Axes>"
            ]
          },
          "metadata": {
            "needs_background": "light"
          },
          "output_type": "display_data"
        }
      ],
      "source": [
        "sns.heatmap(df.corr(), annot = True)"
      ]
    },
    {
      "cell_type": "code",
      "execution_count": null,
      "id": "freelance-parker",
      "metadata": {
        "id": "freelance-parker"
      },
      "outputs": [],
      "source": []
    },
    {
      "cell_type": "markdown",
      "id": "revised-compiler",
      "metadata": {
        "id": "revised-compiler"
      },
      "source": [
        "## Train-Test Split"
      ]
    },
    {
      "cell_type": "code",
      "execution_count": null,
      "id": "fancy-designer",
      "metadata": {
        "ExecuteTime": {
          "end_time": "2022-08-12T09:47:18.814683Z",
          "start_time": "2022-08-12T09:47:02.742109Z"
        },
        "id": "fancy-designer",
        "outputId": "b2509947-431c-4ca2-8172-49ccbf27e1dc"
      },
      "outputs": [
        {
          "name": "stdout",
          "output_type": "stream",
          "text": [
            "Requirement already satisfied: scikit-learn in c:\\users\\pc\\anaconda3\\lib\\site-packages (1.1.2)Note: you may need to restart the kernel to use updated packages.\n",
            "\n",
            "Requirement already satisfied: joblib>=1.0.0 in c:\\users\\pc\\anaconda3\\lib\\site-packages (from scikit-learn) (1.1.0)\n",
            "Requirement already satisfied: threadpoolctl>=2.0.0 in c:\\users\\pc\\anaconda3\\lib\\site-packages (from scikit-learn) (2.2.0)\n",
            "Requirement already satisfied: scipy>=1.3.2 in c:\\users\\pc\\anaconda3\\lib\\site-packages (from scikit-learn) (1.7.1)\n",
            "Requirement already satisfied: numpy>=1.17.3 in c:\\users\\pc\\anaconda3\\lib\\site-packages (from scikit-learn) (1.22.4)\n"
          ]
        },
        {
          "name": "stderr",
          "output_type": "stream",
          "text": [
            "WARNING: You are using pip version 22.1.2; however, version 22.2.2 is available.\n",
            "You should consider upgrading via the 'C:\\Users\\pc\\anaconda3\\python.exe -m pip install --upgrade pip' command.\n"
          ]
        }
      ],
      "source": [
        "#pip install scikit-learn"
      ]
    },
    {
      "cell_type": "code",
      "execution_count": null,
      "id": "physical-shopping",
      "metadata": {
        "ExecuteTime": {
          "end_time": "2022-08-12T09:53:29.358625Z",
          "start_time": "2022-08-12T09:53:29.337642Z"
        },
        "id": "physical-shopping"
      },
      "outputs": [],
      "source": [
        "X = df.drop(columns =\"sales\") #df[[\"TV\", \"radio\", \"newspaper\"]]\n",
        "y = df[\"sales\"]"
      ]
    },
    {
      "cell_type": "code",
      "execution_count": null,
      "id": "capable-chinese",
      "metadata": {
        "ExecuteTime": {
          "end_time": "2022-08-12T09:53:31.350026Z",
          "start_time": "2022-08-12T09:53:31.330036Z"
        },
        "id": "capable-chinese"
      },
      "outputs": [],
      "source": [
        "from sklearn.model_selection import train_test_split"
      ]
    },
    {
      "cell_type": "code",
      "execution_count": null,
      "id": "controlled-education",
      "metadata": {
        "ExecuteTime": {
          "end_time": "2022-08-12T09:53:33.047960Z",
          "start_time": "2022-08-12T09:53:33.033967Z"
        },
        "id": "controlled-education"
      },
      "outputs": [],
      "source": [
        "X_train, X_test, y_train, y_test = train_test_split(X, y, test_size = 0.2, random_state =42)"
      ]
    },
    {
      "cell_type": "code",
      "execution_count": null,
      "id": "corrected-battle",
      "metadata": {
        "ExecuteTime": {
          "end_time": "2022-08-11T18:16:07.462490Z",
          "start_time": "2022-08-11T18:16:07.385539Z"
        },
        "id": "corrected-battle",
        "outputId": "7e1682cb-d4ac-4a9c-a5ee-1f743374ae47"
      },
      "outputs": [
        {
          "data": {
            "text/html": [
              "<div><div id=c318ba77-e93d-4775-b380-d67843ac5643 style=\"display:none; background-color:#9D6CFF; color:white; width:200px; height:30px; padding-left:5px; border-radius:4px; flex-direction:row; justify-content:space-around; align-items:center;\" onmouseover=\"this.style.backgroundColor='#BA9BF8'\" onmouseout=\"this.style.backgroundColor='#9D6CFF'\" onclick=\"window.commands?.execute('create-mitosheet-from-dataframe-output');\">See Full Dataframe in Mito</div> <script> if (window.commands?.hasCommand('create-mitosheet-from-dataframe-output')) document.getElementById('c318ba77-e93d-4775-b380-d67843ac5643').style.display = 'flex' </script> <table border=\"1\" class=\"dataframe\">\n",
              "  <thead>\n",
              "    <tr style=\"text-align: right;\">\n",
              "      <th></th>\n",
              "      <th>TV</th>\n",
              "      <th>radio</th>\n",
              "      <th>newspaper</th>\n",
              "      <th>sales</th>\n",
              "    </tr>\n",
              "  </thead>\n",
              "  <tbody>\n",
              "    <tr>\n",
              "      <th>195</th>\n",
              "      <td>38.2</td>\n",
              "      <td>3.7</td>\n",
              "      <td>13.8</td>\n",
              "      <td>7.6</td>\n",
              "    </tr>\n",
              "    <tr>\n",
              "      <th>104</th>\n",
              "      <td>238.2</td>\n",
              "      <td>34.3</td>\n",
              "      <td>5.3</td>\n",
              "      <td>20.7</td>\n",
              "    </tr>\n",
              "    <tr>\n",
              "      <th>150</th>\n",
              "      <td>280.7</td>\n",
              "      <td>13.9</td>\n",
              "      <td>37.0</td>\n",
              "      <td>16.1</td>\n",
              "    </tr>\n",
              "    <tr>\n",
              "      <th>175</th>\n",
              "      <td>276.9</td>\n",
              "      <td>48.9</td>\n",
              "      <td>41.8</td>\n",
              "      <td>27.0</td>\n",
              "    </tr>\n",
              "    <tr>\n",
              "      <th>160</th>\n",
              "      <td>172.5</td>\n",
              "      <td>18.1</td>\n",
              "      <td>30.7</td>\n",
              "      <td>14.4</td>\n",
              "    </tr>\n",
              "    <tr>\n",
              "      <th>...</th>\n",
              "      <td>...</td>\n",
              "      <td>...</td>\n",
              "      <td>...</td>\n",
              "      <td>...</td>\n",
              "    </tr>\n",
              "    <tr>\n",
              "      <th>79</th>\n",
              "      <td>116.0</td>\n",
              "      <td>7.7</td>\n",
              "      <td>23.1</td>\n",
              "      <td>11.0</td>\n",
              "    </tr>\n",
              "    <tr>\n",
              "      <th>151</th>\n",
              "      <td>121.0</td>\n",
              "      <td>8.4</td>\n",
              "      <td>48.7</td>\n",
              "      <td>11.6</td>\n",
              "    </tr>\n",
              "    <tr>\n",
              "      <th>61</th>\n",
              "      <td>261.3</td>\n",
              "      <td>42.7</td>\n",
              "      <td>54.7</td>\n",
              "      <td>24.2</td>\n",
              "    </tr>\n",
              "    <tr>\n",
              "      <th>92</th>\n",
              "      <td>217.7</td>\n",
              "      <td>33.5</td>\n",
              "      <td>59.0</td>\n",
              "      <td>19.4</td>\n",
              "    </tr>\n",
              "    <tr>\n",
              "      <th>33</th>\n",
              "      <td>265.6</td>\n",
              "      <td>20.0</td>\n",
              "      <td>0.3</td>\n",
              "      <td>17.4</td>\n",
              "    </tr>\n",
              "  </tbody>\n",
              "</table></div>"
            ],
            "text/plain": [
              "        TV  radio  newspaper  sales\n",
              "195   38.2    3.7       13.8    7.6\n",
              "104  238.2   34.3        5.3   20.7\n",
              "150  280.7   13.9       37.0   16.1\n",
              "175  276.9   48.9       41.8   27.0\n",
              "160  172.5   18.1       30.7   14.4\n",
              "194  149.7   35.6        6.0   17.3\n",
              "193  166.8   42.0        3.6   19.6\n",
              "117   76.4    0.8       14.8    9.4\n",
              "82    75.3   20.3       32.5   11.3\n",
              "154  187.8   21.1        9.5   15.6\n",
              "79   116.0    7.7       23.1   11.0\n",
              "151  121.0    8.4       48.7   11.6\n",
              "61   261.3   42.7       54.7   24.2\n",
              "92   217.7   33.5       59.0   19.4\n",
              "33   265.6   20.0        0.3   17.4"
            ]
          },
          "execution_count": 9,
          "metadata": {},
          "output_type": "execute_result"
        }
      ],
      "source": [
        "df.sample(15)"
      ]
    },
    {
      "cell_type": "code",
      "execution_count": null,
      "id": "dressed-contamination",
      "metadata": {
        "ExecuteTime": {
          "end_time": "2022-08-12T09:53:37.210071Z",
          "start_time": "2022-08-12T09:53:37.194082Z"
        },
        "id": "dressed-contamination",
        "outputId": "f3c7cb41-b9e0-4c09-e5dc-f495eda31ef4"
      },
      "outputs": [
        {
          "name": "stdout",
          "output_type": "stream",
          "text": [
            "Train features shape :  (160, 3)\n",
            "Train target shape   :  (160,)\n",
            "Test features shape  :  (40, 3)\n",
            "Test target shape    :  (40,)\n"
          ]
        }
      ],
      "source": [
        "print(\"Train features shape : \", X_train.shape)\n",
        "print(\"Train target shape   : \", y_train.shape)\n",
        "print(\"Test features shape  : \", X_test.shape)\n",
        "print(\"Test target shape    : \", y_test.shape)"
      ]
    },
    {
      "cell_type": "code",
      "execution_count": null,
      "id": "hungarian-confirmation",
      "metadata": {
        "ExecuteTime": {
          "end_time": "2022-08-11T18:17:37.983081Z",
          "start_time": "2022-08-11T18:17:37.912616Z"
        },
        "id": "hungarian-confirmation",
        "outputId": "1910f421-c0cd-4b29-8dba-d0114f455524"
      },
      "outputs": [
        {
          "data": {
            "text/html": [
              "<div><div id=bbbcafdc-125b-48fa-9b91-03d808a22bb5 style=\"display:none; background-color:#9D6CFF; color:white; width:200px; height:30px; padding-left:5px; border-radius:4px; flex-direction:row; justify-content:space-around; align-items:center;\" onmouseover=\"this.style.backgroundColor='#BA9BF8'\" onmouseout=\"this.style.backgroundColor='#9D6CFF'\" onclick=\"window.commands?.execute('create-mitosheet-from-dataframe-output');\">See Full Dataframe in Mito</div> <script> if (window.commands?.hasCommand('create-mitosheet-from-dataframe-output')) document.getElementById('bbbcafdc-125b-48fa-9b91-03d808a22bb5').style.display = 'flex' </script> <table border=\"1\" class=\"dataframe\">\n",
              "  <thead>\n",
              "    <tr style=\"text-align: right;\">\n",
              "      <th></th>\n",
              "      <th>TV</th>\n",
              "      <th>radio</th>\n",
              "      <th>newspaper</th>\n",
              "    </tr>\n",
              "  </thead>\n",
              "  <tbody>\n",
              "    <tr>\n",
              "      <th>79</th>\n",
              "      <td>116.0</td>\n",
              "      <td>7.7</td>\n",
              "      <td>23.1</td>\n",
              "    </tr>\n",
              "    <tr>\n",
              "      <th>197</th>\n",
              "      <td>177.0</td>\n",
              "      <td>9.3</td>\n",
              "      <td>6.4</td>\n",
              "    </tr>\n",
              "    <tr>\n",
              "      <th>38</th>\n",
              "      <td>43.1</td>\n",
              "      <td>26.7</td>\n",
              "      <td>35.1</td>\n",
              "    </tr>\n",
              "    <tr>\n",
              "      <th>24</th>\n",
              "      <td>62.3</td>\n",
              "      <td>12.6</td>\n",
              "      <td>18.3</td>\n",
              "    </tr>\n",
              "    <tr>\n",
              "      <th>122</th>\n",
              "      <td>224.0</td>\n",
              "      <td>2.4</td>\n",
              "      <td>15.6</td>\n",
              "    </tr>\n",
              "    <tr>\n",
              "      <th>...</th>\n",
              "      <td>...</td>\n",
              "      <td>...</td>\n",
              "      <td>...</td>\n",
              "    </tr>\n",
              "    <tr>\n",
              "      <th>106</th>\n",
              "      <td>25.0</td>\n",
              "      <td>11.0</td>\n",
              "      <td>29.7</td>\n",
              "    </tr>\n",
              "    <tr>\n",
              "      <th>14</th>\n",
              "      <td>204.1</td>\n",
              "      <td>32.9</td>\n",
              "      <td>46.0</td>\n",
              "    </tr>\n",
              "    <tr>\n",
              "      <th>92</th>\n",
              "      <td>217.7</td>\n",
              "      <td>33.5</td>\n",
              "      <td>59.0</td>\n",
              "    </tr>\n",
              "    <tr>\n",
              "      <th>179</th>\n",
              "      <td>165.6</td>\n",
              "      <td>10.0</td>\n",
              "      <td>17.6</td>\n",
              "    </tr>\n",
              "    <tr>\n",
              "      <th>102</th>\n",
              "      <td>280.2</td>\n",
              "      <td>10.1</td>\n",
              "      <td>21.4</td>\n",
              "    </tr>\n",
              "  </tbody>\n",
              "</table></div>"
            ],
            "text/plain": [
              "        TV  radio  newspaper\n",
              "79   116.0    7.7       23.1\n",
              "197  177.0    9.3        6.4\n",
              "38    43.1   26.7       35.1\n",
              "24    62.3   12.6       18.3\n",
              "122  224.0    2.4       15.6\n",
              "..     ...    ...        ...\n",
              "106   25.0   11.0       29.7\n",
              "14   204.1   32.9       46.0\n",
              "92   217.7   33.5       59.0\n",
              "179  165.6   10.0       17.6\n",
              "102  280.2   10.1       21.4\n",
              "\n",
              "[160 rows x 3 columns]"
            ]
          },
          "execution_count": 11,
          "metadata": {},
          "output_type": "execute_result"
        }
      ],
      "source": [
        "X_train"
      ]
    },
    {
      "cell_type": "code",
      "execution_count": null,
      "id": "frozen-improvement",
      "metadata": {
        "id": "frozen-improvement",
        "outputId": "fb3df252-7f3e-4f9c-fba9-8244a7dbb76f"
      },
      "outputs": [
        {
          "data": {
            "text/html": [
              "<div>\n",
              "<style scoped>\n",
              "    .dataframe tbody tr th:only-of-type {\n",
              "        vertical-align: middle;\n",
              "    }\n",
              "\n",
              "    .dataframe tbody tr th {\n",
              "        vertical-align: top;\n",
              "    }\n",
              "\n",
              "    .dataframe thead th {\n",
              "        text-align: right;\n",
              "    }\n",
              "</style>\n",
              "<table border=\"1\" class=\"dataframe\">\n",
              "  <thead>\n",
              "    <tr style=\"text-align: right;\">\n",
              "      <th></th>\n",
              "      <th>TV</th>\n",
              "      <th>radio</th>\n",
              "      <th>newspaper</th>\n",
              "    </tr>\n",
              "  </thead>\n",
              "  <tbody>\n",
              "    <tr>\n",
              "      <th>95</th>\n",
              "      <td>163.3</td>\n",
              "      <td>31.6</td>\n",
              "      <td>52.9</td>\n",
              "    </tr>\n",
              "    <tr>\n",
              "      <th>15</th>\n",
              "      <td>195.4</td>\n",
              "      <td>47.7</td>\n",
              "      <td>52.9</td>\n",
              "    </tr>\n",
              "    <tr>\n",
              "      <th>30</th>\n",
              "      <td>292.9</td>\n",
              "      <td>28.3</td>\n",
              "      <td>43.2</td>\n",
              "    </tr>\n",
              "    <tr>\n",
              "      <th>158</th>\n",
              "      <td>11.7</td>\n",
              "      <td>36.9</td>\n",
              "      <td>45.2</td>\n",
              "    </tr>\n",
              "    <tr>\n",
              "      <th>128</th>\n",
              "      <td>220.3</td>\n",
              "      <td>49.0</td>\n",
              "      <td>3.2</td>\n",
              "    </tr>\n",
              "    <tr>\n",
              "      <th>115</th>\n",
              "      <td>75.1</td>\n",
              "      <td>35.0</td>\n",
              "      <td>52.7</td>\n",
              "    </tr>\n",
              "    <tr>\n",
              "      <th>69</th>\n",
              "      <td>216.8</td>\n",
              "      <td>43.9</td>\n",
              "      <td>27.2</td>\n",
              "    </tr>\n",
              "    <tr>\n",
              "      <th>170</th>\n",
              "      <td>50.0</td>\n",
              "      <td>11.6</td>\n",
              "      <td>18.4</td>\n",
              "    </tr>\n",
              "    <tr>\n",
              "      <th>174</th>\n",
              "      <td>222.4</td>\n",
              "      <td>3.4</td>\n",
              "      <td>13.1</td>\n",
              "    </tr>\n",
              "    <tr>\n",
              "      <th>45</th>\n",
              "      <td>175.1</td>\n",
              "      <td>22.5</td>\n",
              "      <td>31.5</td>\n",
              "    </tr>\n",
              "    <tr>\n",
              "      <th>66</th>\n",
              "      <td>31.5</td>\n",
              "      <td>24.6</td>\n",
              "      <td>2.2</td>\n",
              "    </tr>\n",
              "    <tr>\n",
              "      <th>182</th>\n",
              "      <td>56.2</td>\n",
              "      <td>5.7</td>\n",
              "      <td>29.7</td>\n",
              "    </tr>\n",
              "    <tr>\n",
              "      <th>165</th>\n",
              "      <td>234.5</td>\n",
              "      <td>3.4</td>\n",
              "      <td>84.8</td>\n",
              "    </tr>\n",
              "    <tr>\n",
              "      <th>78</th>\n",
              "      <td>5.4</td>\n",
              "      <td>29.9</td>\n",
              "      <td>9.4</td>\n",
              "    </tr>\n",
              "    <tr>\n",
              "      <th>186</th>\n",
              "      <td>139.5</td>\n",
              "      <td>2.1</td>\n",
              "      <td>26.6</td>\n",
              "    </tr>\n",
              "    <tr>\n",
              "      <th>177</th>\n",
              "      <td>170.2</td>\n",
              "      <td>7.8</td>\n",
              "      <td>35.2</td>\n",
              "    </tr>\n",
              "    <tr>\n",
              "      <th>56</th>\n",
              "      <td>7.3</td>\n",
              "      <td>28.1</td>\n",
              "      <td>41.4</td>\n",
              "    </tr>\n",
              "    <tr>\n",
              "      <th>152</th>\n",
              "      <td>197.6</td>\n",
              "      <td>23.3</td>\n",
              "      <td>14.2</td>\n",
              "    </tr>\n",
              "    <tr>\n",
              "      <th>82</th>\n",
              "      <td>75.3</td>\n",
              "      <td>20.3</td>\n",
              "      <td>32.5</td>\n",
              "    </tr>\n",
              "    <tr>\n",
              "      <th>68</th>\n",
              "      <td>237.4</td>\n",
              "      <td>27.5</td>\n",
              "      <td>11.0</td>\n",
              "    </tr>\n",
              "    <tr>\n",
              "      <th>124</th>\n",
              "      <td>229.5</td>\n",
              "      <td>32.3</td>\n",
              "      <td>74.2</td>\n",
              "    </tr>\n",
              "    <tr>\n",
              "      <th>16</th>\n",
              "      <td>67.8</td>\n",
              "      <td>36.6</td>\n",
              "      <td>114.0</td>\n",
              "    </tr>\n",
              "    <tr>\n",
              "      <th>148</th>\n",
              "      <td>38.0</td>\n",
              "      <td>40.3</td>\n",
              "      <td>11.9</td>\n",
              "    </tr>\n",
              "    <tr>\n",
              "      <th>93</th>\n",
              "      <td>250.9</td>\n",
              "      <td>36.5</td>\n",
              "      <td>72.3</td>\n",
              "    </tr>\n",
              "    <tr>\n",
              "      <th>65</th>\n",
              "      <td>69.0</td>\n",
              "      <td>9.3</td>\n",
              "      <td>0.9</td>\n",
              "    </tr>\n",
              "    <tr>\n",
              "      <th>60</th>\n",
              "      <td>53.5</td>\n",
              "      <td>2.0</td>\n",
              "      <td>21.4</td>\n",
              "    </tr>\n",
              "    <tr>\n",
              "      <th>84</th>\n",
              "      <td>213.5</td>\n",
              "      <td>43.0</td>\n",
              "      <td>33.8</td>\n",
              "    </tr>\n",
              "    <tr>\n",
              "      <th>67</th>\n",
              "      <td>139.3</td>\n",
              "      <td>14.5</td>\n",
              "      <td>10.2</td>\n",
              "    </tr>\n",
              "    <tr>\n",
              "      <th>125</th>\n",
              "      <td>87.2</td>\n",
              "      <td>11.8</td>\n",
              "      <td>25.9</td>\n",
              "    </tr>\n",
              "    <tr>\n",
              "      <th>132</th>\n",
              "      <td>8.4</td>\n",
              "      <td>27.2</td>\n",
              "      <td>2.1</td>\n",
              "    </tr>\n",
              "    <tr>\n",
              "      <th>9</th>\n",
              "      <td>199.8</td>\n",
              "      <td>2.6</td>\n",
              "      <td>21.2</td>\n",
              "    </tr>\n",
              "    <tr>\n",
              "      <th>18</th>\n",
              "      <td>69.2</td>\n",
              "      <td>20.5</td>\n",
              "      <td>18.3</td>\n",
              "    </tr>\n",
              "    <tr>\n",
              "      <th>55</th>\n",
              "      <td>198.9</td>\n",
              "      <td>49.4</td>\n",
              "      <td>60.0</td>\n",
              "    </tr>\n",
              "    <tr>\n",
              "      <th>75</th>\n",
              "      <td>16.9</td>\n",
              "      <td>43.7</td>\n",
              "      <td>89.4</td>\n",
              "    </tr>\n",
              "    <tr>\n",
              "      <th>150</th>\n",
              "      <td>280.7</td>\n",
              "      <td>13.9</td>\n",
              "      <td>37.0</td>\n",
              "    </tr>\n",
              "    <tr>\n",
              "      <th>104</th>\n",
              "      <td>238.2</td>\n",
              "      <td>34.3</td>\n",
              "      <td>5.3</td>\n",
              "    </tr>\n",
              "    <tr>\n",
              "      <th>135</th>\n",
              "      <td>48.3</td>\n",
              "      <td>47.0</td>\n",
              "      <td>8.5</td>\n",
              "    </tr>\n",
              "    <tr>\n",
              "      <th>137</th>\n",
              "      <td>273.7</td>\n",
              "      <td>28.9</td>\n",
              "      <td>59.7</td>\n",
              "    </tr>\n",
              "    <tr>\n",
              "      <th>164</th>\n",
              "      <td>117.2</td>\n",
              "      <td>14.7</td>\n",
              "      <td>5.4</td>\n",
              "    </tr>\n",
              "    <tr>\n",
              "      <th>76</th>\n",
              "      <td>27.5</td>\n",
              "      <td>1.6</td>\n",
              "      <td>20.7</td>\n",
              "    </tr>\n",
              "  </tbody>\n",
              "</table>\n",
              "</div>"
            ],
            "text/plain": [
              "        TV  radio  newspaper\n",
              "95   163.3   31.6       52.9\n",
              "15   195.4   47.7       52.9\n",
              "30   292.9   28.3       43.2\n",
              "158   11.7   36.9       45.2\n",
              "128  220.3   49.0        3.2\n",
              "115   75.1   35.0       52.7\n",
              "69   216.8   43.9       27.2\n",
              "170   50.0   11.6       18.4\n",
              "174  222.4    3.4       13.1\n",
              "45   175.1   22.5       31.5\n",
              "66    31.5   24.6        2.2\n",
              "182   56.2    5.7       29.7\n",
              "165  234.5    3.4       84.8\n",
              "78     5.4   29.9        9.4\n",
              "186  139.5    2.1       26.6\n",
              "177  170.2    7.8       35.2\n",
              "56     7.3   28.1       41.4\n",
              "152  197.6   23.3       14.2\n",
              "82    75.3   20.3       32.5\n",
              "68   237.4   27.5       11.0\n",
              "124  229.5   32.3       74.2\n",
              "16    67.8   36.6      114.0\n",
              "148   38.0   40.3       11.9\n",
              "93   250.9   36.5       72.3\n",
              "65    69.0    9.3        0.9\n",
              "60    53.5    2.0       21.4\n",
              "84   213.5   43.0       33.8\n",
              "67   139.3   14.5       10.2\n",
              "125   87.2   11.8       25.9\n",
              "132    8.4   27.2        2.1\n",
              "9    199.8    2.6       21.2\n",
              "18    69.2   20.5       18.3\n",
              "55   198.9   49.4       60.0\n",
              "75    16.9   43.7       89.4\n",
              "150  280.7   13.9       37.0\n",
              "104  238.2   34.3        5.3\n",
              "135   48.3   47.0        8.5\n",
              "137  273.7   28.9       59.7\n",
              "164  117.2   14.7        5.4\n",
              "76    27.5    1.6       20.7"
            ]
          },
          "execution_count": 19,
          "metadata": {},
          "output_type": "execute_result"
        }
      ],
      "source": [
        "X_test"
      ]
    },
    {
      "cell_type": "code",
      "execution_count": null,
      "id": "piano-daisy",
      "metadata": {
        "ExecuteTime": {
          "end_time": "2022-08-11T18:17:42.040898Z",
          "start_time": "2022-08-11T18:17:42.017909Z"
        },
        "id": "piano-daisy",
        "outputId": "9938122a-82a7-4c99-dcc8-1afd32f27ecd"
      },
      "outputs": [
        {
          "data": {
            "text/plain": [
              "79     11.0\n",
              "197    12.8\n",
              "38     10.1\n",
              "24      9.7\n",
              "122    11.6\n",
              "       ... \n",
              "106     7.2\n",
              "14     19.0\n",
              "92     19.4\n",
              "179    12.6\n",
              "102    14.8\n",
              "Name: sales, Length: 160, dtype: float64"
            ]
          },
          "execution_count": 12,
          "metadata": {},
          "output_type": "execute_result"
        }
      ],
      "source": [
        "y_train"
      ]
    },
    {
      "cell_type": "markdown",
      "id": "valuable-sapphire",
      "metadata": {
        "id": "valuable-sapphire"
      },
      "source": [
        "## Model Fitting and Compare Actual and Predicted Labels"
      ]
    },
    {
      "cell_type": "code",
      "execution_count": null,
      "id": "thick-institution",
      "metadata": {
        "ExecuteTime": {
          "end_time": "2022-08-12T09:53:43.641157Z",
          "start_time": "2022-08-12T09:53:43.625168Z"
        },
        "id": "thick-institution"
      },
      "outputs": [],
      "source": [
        "from sklearn.linear_model import LinearRegression"
      ]
    },
    {
      "cell_type": "code",
      "execution_count": null,
      "id": "working-drink",
      "metadata": {
        "ExecuteTime": {
          "end_time": "2022-08-12T09:54:00.978987Z",
          "start_time": "2022-08-12T09:54:00.969993Z"
        },
        "id": "working-drink"
      },
      "outputs": [],
      "source": [
        "model = LinearRegression()"
      ]
    },
    {
      "cell_type": "code",
      "execution_count": null,
      "id": "answering-right",
      "metadata": {
        "ExecuteTime": {
          "end_time": "2022-08-12T09:54:01.778591Z",
          "start_time": "2022-08-12T09:54:01.755602Z"
        },
        "id": "answering-right",
        "outputId": "b66ace2a-31af-4f13-b7ef-199338ccc312"
      },
      "outputs": [
        {
          "data": {
            "text/html": [
              "<style>#sk-container-id-2 {color: black;background-color: white;}#sk-container-id-2 pre{padding: 0;}#sk-container-id-2 div.sk-toggleable {background-color: white;}#sk-container-id-2 label.sk-toggleable__label {cursor: pointer;display: block;width: 100%;margin-bottom: 0;padding: 0.3em;box-sizing: border-box;text-align: center;}#sk-container-id-2 label.sk-toggleable__label-arrow:before {content: \"▸\";float: left;margin-right: 0.25em;color: #696969;}#sk-container-id-2 label.sk-toggleable__label-arrow:hover:before {color: black;}#sk-container-id-2 div.sk-estimator:hover label.sk-toggleable__label-arrow:before {color: black;}#sk-container-id-2 div.sk-toggleable__content {max-height: 0;max-width: 0;overflow: hidden;text-align: left;background-color: #f0f8ff;}#sk-container-id-2 div.sk-toggleable__content pre {margin: 0.2em;color: black;border-radius: 0.25em;background-color: #f0f8ff;}#sk-container-id-2 input.sk-toggleable__control:checked~div.sk-toggleable__content {max-height: 200px;max-width: 100%;overflow: auto;}#sk-container-id-2 input.sk-toggleable__control:checked~label.sk-toggleable__label-arrow:before {content: \"▾\";}#sk-container-id-2 div.sk-estimator input.sk-toggleable__control:checked~label.sk-toggleable__label {background-color: #d4ebff;}#sk-container-id-2 div.sk-label input.sk-toggleable__control:checked~label.sk-toggleable__label {background-color: #d4ebff;}#sk-container-id-2 input.sk-hidden--visually {border: 0;clip: rect(1px 1px 1px 1px);clip: rect(1px, 1px, 1px, 1px);height: 1px;margin: -1px;overflow: hidden;padding: 0;position: absolute;width: 1px;}#sk-container-id-2 div.sk-estimator {font-family: monospace;background-color: #f0f8ff;border: 1px dotted black;border-radius: 0.25em;box-sizing: border-box;margin-bottom: 0.5em;}#sk-container-id-2 div.sk-estimator:hover {background-color: #d4ebff;}#sk-container-id-2 div.sk-parallel-item::after {content: \"\";width: 100%;border-bottom: 1px solid gray;flex-grow: 1;}#sk-container-id-2 div.sk-label:hover label.sk-toggleable__label {background-color: #d4ebff;}#sk-container-id-2 div.sk-serial::before {content: \"\";position: absolute;border-left: 1px solid gray;box-sizing: border-box;top: 0;bottom: 0;left: 50%;z-index: 0;}#sk-container-id-2 div.sk-serial {display: flex;flex-direction: column;align-items: center;background-color: white;padding-right: 0.2em;padding-left: 0.2em;position: relative;}#sk-container-id-2 div.sk-item {position: relative;z-index: 1;}#sk-container-id-2 div.sk-parallel {display: flex;align-items: stretch;justify-content: center;background-color: white;position: relative;}#sk-container-id-2 div.sk-item::before, #sk-container-id-2 div.sk-parallel-item::before {content: \"\";position: absolute;border-left: 1px solid gray;box-sizing: border-box;top: 0;bottom: 0;left: 50%;z-index: -1;}#sk-container-id-2 div.sk-parallel-item {display: flex;flex-direction: column;z-index: 1;position: relative;background-color: white;}#sk-container-id-2 div.sk-parallel-item:first-child::after {align-self: flex-end;width: 50%;}#sk-container-id-2 div.sk-parallel-item:last-child::after {align-self: flex-start;width: 50%;}#sk-container-id-2 div.sk-parallel-item:only-child::after {width: 0;}#sk-container-id-2 div.sk-dashed-wrapped {border: 1px dashed gray;margin: 0 0.4em 0.5em 0.4em;box-sizing: border-box;padding-bottom: 0.4em;background-color: white;}#sk-container-id-2 div.sk-label label {font-family: monospace;font-weight: bold;display: inline-block;line-height: 1.2em;}#sk-container-id-2 div.sk-label-container {text-align: center;}#sk-container-id-2 div.sk-container {/* jupyter's `normalize.less` sets `[hidden] { display: none; }` but bootstrap.min.css set `[hidden] { display: none !important; }` so we also need the `!important` here to be able to override the default hidden behavior on the sphinx rendered scikit-learn.org. See: https://github.com/scikit-learn/scikit-learn/issues/21755 */display: inline-block !important;position: relative;}#sk-container-id-2 div.sk-text-repr-fallback {display: none;}</style><div id=\"sk-container-id-2\" class=\"sk-top-container\"><div class=\"sk-text-repr-fallback\"><pre>LinearRegression()</pre><b>In a Jupyter environment, please rerun this cell to show the HTML representation or trust the notebook. <br />On GitHub, the HTML representation is unable to render, please try loading this page with nbviewer.org.</b></div><div class=\"sk-container\" hidden><div class=\"sk-item\"><div class=\"sk-estimator sk-toggleable\"><input class=\"sk-toggleable__control sk-hidden--visually\" id=\"sk-estimator-id-2\" type=\"checkbox\" checked><label for=\"sk-estimator-id-2\" class=\"sk-toggleable__label sk-toggleable__label-arrow\">LinearRegression</label><div class=\"sk-toggleable__content\"><pre>LinearRegression()</pre></div></div></div></div></div>"
            ],
            "text/plain": [
              "LinearRegression()"
            ]
          },
          "execution_count": 18,
          "metadata": {},
          "output_type": "execute_result"
        }
      ],
      "source": [
        "model.fit(X_train, y_train)"
      ]
    },
    {
      "cell_type": "code",
      "execution_count": null,
      "id": "3632af9a",
      "metadata": {
        "ExecuteTime": {
          "end_time": "2022-08-12T09:54:03.788319Z",
          "start_time": "2022-08-12T09:54:03.769332Z"
        },
        "id": "3632af9a",
        "outputId": "20755797-0fb5-4cbc-d6cd-82a4b9406704"
      },
      "outputs": [
        {
          "data": {
            "text/plain": [
              "array([16.4080242 , 20.88988209, 21.55384318, 10.60850256, 22.11237326,\n",
              "       13.10559172, 21.05719192,  7.46101034, 13.60634581, 15.15506967,\n",
              "        9.04831992,  6.65328312, 14.34554487,  8.90349333,  9.68959028,\n",
              "       12.16494386,  8.73628397, 16.26507258, 10.27759582, 18.83109103,\n",
              "       19.56036653, 13.25103464, 12.33620695, 21.30695132,  7.82740305,\n",
              "        5.80957448, 20.75753231, 11.98138077,  9.18349576,  8.5066991 ,\n",
              "       12.46646769, 10.00337695, 21.3876709 , 12.24966368, 18.26661538,\n",
              "       20.13766267, 14.05514005, 20.85411186, 11.0174441 ,  4.56899622])"
            ]
          },
          "execution_count": 19,
          "metadata": {},
          "output_type": "execute_result"
        }
      ],
      "source": [
        "y_pred = model.predict(X_test)\n",
        "y_pred"
      ]
    },
    {
      "cell_type": "code",
      "execution_count": null,
      "id": "cae09423",
      "metadata": {
        "ExecuteTime": {
          "end_time": "2022-08-12T09:54:07.392415Z",
          "start_time": "2022-08-12T09:54:07.377425Z"
        },
        "id": "cae09423",
        "outputId": "265ca5e4-19a1-443a-d066-eb7b10273934"
      },
      "outputs": [
        {
          "data": {
            "text/plain": [
              "array([0.04472952, 0.18919505, 0.00276111])"
            ]
          },
          "execution_count": 20,
          "metadata": {},
          "output_type": "execute_result"
        }
      ],
      "source": [
        "model.coef_"
      ]
    },
    {
      "cell_type": "code",
      "execution_count": null,
      "id": "372505fb",
      "metadata": {
        "ExecuteTime": {
          "end_time": "2022-08-12T09:54:08.123711Z",
          "start_time": "2022-08-12T09:54:08.105724Z"
        },
        "id": "372505fb",
        "outputId": "a2e272fd-afe8-4196-a08f-0d9110472192"
      },
      "outputs": [
        {
          "data": {
            "text/plain": [
              "2.979067338122631"
            ]
          },
          "execution_count": 21,
          "metadata": {},
          "output_type": "execute_result"
        }
      ],
      "source": [
        "model.intercept_"
      ]
    },
    {
      "cell_type": "code",
      "execution_count": null,
      "id": "85dd4b6b",
      "metadata": {
        "id": "85dd4b6b"
      },
      "outputs": [],
      "source": [
        "# y_pred = b3 * TV + b2 * radio + b3 * newspaper + b0"
      ]
    },
    {
      "cell_type": "code",
      "execution_count": null,
      "id": "5b8bc028",
      "metadata": {
        "ExecuteTime": {
          "end_time": "2022-08-12T09:48:16.468926Z",
          "start_time": "2022-08-12T09:48:16.397971Z"
        },
        "id": "5b8bc028",
        "outputId": "5603d284-5a9e-4fa5-eacd-d035cbe82e6a"
      },
      "outputs": [
        {
          "data": {
            "text/plain": [
              "TV           163.3\n",
              "radio         31.6\n",
              "newspaper     52.9\n",
              "Name: 95, dtype: float64"
            ]
          },
          "execution_count": 90,
          "metadata": {},
          "output_type": "execute_result"
        }
      ],
      "source": [
        "X_test.loc[95]"
      ]
    },
    {
      "cell_type": "code",
      "execution_count": null,
      "id": "a892aed1",
      "metadata": {
        "ExecuteTime": {
          "end_time": "2022-08-11T18:26:48.005884Z",
          "start_time": "2022-08-11T18:26:47.984894Z"
        },
        "id": "a892aed1",
        "outputId": "b58f9e3e-6725-4500-df58-09c592897505"
      },
      "outputs": [
        {
          "data": {
            "text/plain": [
              "array([0.04472952, 0.18919505, 0.00276111])"
            ]
          },
          "execution_count": 18,
          "metadata": {},
          "output_type": "execute_result"
        }
      ],
      "source": [
        "model.coef_"
      ]
    },
    {
      "cell_type": "code",
      "execution_count": null,
      "id": "47085ce8",
      "metadata": {
        "ExecuteTime": {
          "end_time": "2022-08-12T09:48:20.917290Z",
          "start_time": "2022-08-12T09:48:20.862903Z"
        },
        "id": "47085ce8",
        "outputId": "ade23fba-f70d-45b2-99fc-d9072b2a0337"
      },
      "outputs": [
        {
          "data": {
            "text/plain": [
              "16.408024203228628"
            ]
          },
          "execution_count": 91,
          "metadata": {},
          "output_type": "execute_result"
        }
      ],
      "source": [
        "sum(X_test.loc[95] * model.coef_) + model.intercept_"
      ]
    },
    {
      "cell_type": "code",
      "execution_count": null,
      "id": "accompanied-contact",
      "metadata": {
        "ExecuteTime": {
          "end_time": "2022-08-12T09:54:16.345290Z",
          "start_time": "2022-08-12T09:54:16.330304Z"
        },
        "id": "accompanied-contact"
      },
      "outputs": [],
      "source": [
        "my_dict = {\"Actual\": y_test, \"Pred\": y_pred, \"Residual\":y_test-y_pred}"
      ]
    },
    {
      "cell_type": "code",
      "execution_count": null,
      "id": "enhanced-layer",
      "metadata": {
        "ExecuteTime": {
          "end_time": "2022-08-12T09:54:17.229380Z",
          "start_time": "2022-08-12T09:54:17.201391Z"
        },
        "id": "enhanced-layer",
        "outputId": "9d411d32-6bea-4cc4-8a3b-b46e8fb91a32"
      },
      "outputs": [
        {
          "data": {
            "text/html": [
              "<div><div id=e5654c6e-00a3-411f-a691-c72155620908 style=\"display:none; background-color:#9D6CFF; color:white; width:200px; height:30px; padding-left:5px; border-radius:4px; flex-direction:row; justify-content:space-around; align-items:center;\" onmouseover=\"this.style.backgroundColor='#BA9BF8'\" onmouseout=\"this.style.backgroundColor='#9D6CFF'\" onclick=\"window.commands?.execute('create-mitosheet-from-dataframe-output');\">See Full Dataframe in Mito</div> <script> if (window.commands?.hasCommand('create-mitosheet-from-dataframe-output')) document.getElementById('e5654c6e-00a3-411f-a691-c72155620908').style.display = 'flex' </script> <table border=\"1\" class=\"dataframe\">\n",
              "  <thead>\n",
              "    <tr style=\"text-align: right;\">\n",
              "      <th></th>\n",
              "      <th>Actual</th>\n",
              "      <th>Pred</th>\n",
              "      <th>Residual</th>\n",
              "    </tr>\n",
              "  </thead>\n",
              "  <tbody>\n",
              "    <tr>\n",
              "      <th>95</th>\n",
              "      <td>16.9</td>\n",
              "      <td>16.408024</td>\n",
              "      <td>0.491976</td>\n",
              "    </tr>\n",
              "    <tr>\n",
              "      <th>15</th>\n",
              "      <td>22.4</td>\n",
              "      <td>20.889882</td>\n",
              "      <td>1.510118</td>\n",
              "    </tr>\n",
              "    <tr>\n",
              "      <th>30</th>\n",
              "      <td>21.4</td>\n",
              "      <td>21.553843</td>\n",
              "      <td>-0.153843</td>\n",
              "    </tr>\n",
              "    <tr>\n",
              "      <th>158</th>\n",
              "      <td>7.3</td>\n",
              "      <td>10.608503</td>\n",
              "      <td>-3.308503</td>\n",
              "    </tr>\n",
              "    <tr>\n",
              "      <th>128</th>\n",
              "      <td>24.7</td>\n",
              "      <td>22.112373</td>\n",
              "      <td>2.587627</td>\n",
              "    </tr>\n",
              "    <tr>\n",
              "      <th>...</th>\n",
              "      <td>...</td>\n",
              "      <td>...</td>\n",
              "      <td>...</td>\n",
              "    </tr>\n",
              "    <tr>\n",
              "      <th>104</th>\n",
              "      <td>20.7</td>\n",
              "      <td>20.137663</td>\n",
              "      <td>0.562337</td>\n",
              "    </tr>\n",
              "    <tr>\n",
              "      <th>135</th>\n",
              "      <td>11.6</td>\n",
              "      <td>14.055140</td>\n",
              "      <td>-2.455140</td>\n",
              "    </tr>\n",
              "    <tr>\n",
              "      <th>137</th>\n",
              "      <td>20.8</td>\n",
              "      <td>20.854112</td>\n",
              "      <td>-0.054112</td>\n",
              "    </tr>\n",
              "    <tr>\n",
              "      <th>164</th>\n",
              "      <td>11.9</td>\n",
              "      <td>11.017444</td>\n",
              "      <td>0.882556</td>\n",
              "    </tr>\n",
              "    <tr>\n",
              "      <th>76</th>\n",
              "      <td>6.9</td>\n",
              "      <td>4.568996</td>\n",
              "      <td>2.331004</td>\n",
              "    </tr>\n",
              "  </tbody>\n",
              "</table></div>"
            ],
            "text/plain": [
              "     Actual       Pred  Residual\n",
              "95     16.9  16.408024  0.491976\n",
              "15     22.4  20.889882  1.510118\n",
              "30     21.4  21.553843 -0.153843\n",
              "158     7.3  10.608503 -3.308503\n",
              "128    24.7  22.112373  2.587627\n",
              "115    12.6  13.105592 -0.505592\n",
              "69     22.3  21.057192  1.242808\n",
              "170     8.4   7.461010  0.938990\n",
              "174    11.5  13.606346 -2.106346\n",
              "45     14.9  15.155070 -0.255070\n",
              "66      9.5   9.048320  0.451680\n",
              "182     8.7   6.653283  2.046717\n",
              "165    11.9  14.345545 -2.445545\n",
              "78      5.3   8.903493 -3.603493\n",
              "186    10.3   9.689590  0.610410\n",
              "177    11.7  12.164944 -0.464944\n",
              "56      5.5   8.736284 -3.236284\n",
              "152    16.6  16.265073  0.334927\n",
              "82     11.3  10.277596  1.022404\n",
              "68     18.9  18.831091  0.068909\n",
              "124    19.7  19.560367  0.139633\n",
              "16     12.5  13.251035 -0.751035\n",
              "148    10.9  12.336207 -1.436207\n",
              "93     22.2  21.306951  0.893049\n",
              "65      9.3   7.827403  1.472597\n",
              "60      8.1   5.809574  2.290426\n",
              "84     21.7  20.757532  0.942468\n",
              "67     13.4  11.981381  1.418619\n",
              "125    10.6   9.183496  1.416504\n",
              "132     5.7   8.506699 -2.806699\n",
              "9      10.6  12.466468 -1.866468\n",
              "18     11.3  10.003377  1.296623\n",
              "55     23.7  21.387671  2.312329\n",
              "75      8.7  12.249664 -3.549664\n",
              "150    16.1  18.266615 -2.166615\n",
              "104    20.7  20.137663  0.562337\n",
              "135    11.6  14.055140 -2.455140\n",
              "137    20.8  20.854112 -0.054112\n",
              "164    11.9  11.017444  0.882556\n",
              "76      6.9   4.568996  2.331004"
            ]
          },
          "execution_count": 23,
          "metadata": {},
          "output_type": "execute_result"
        }
      ],
      "source": [
        "comparing = pd.DataFrame(my_dict)\n",
        "comparing"
      ]
    },
    {
      "cell_type": "code",
      "execution_count": null,
      "id": "thick-pastor",
      "metadata": {
        "ExecuteTime": {
          "end_time": "2022-08-12T09:54:19.610287Z",
          "start_time": "2022-08-12T09:54:19.569312Z"
        },
        "id": "thick-pastor",
        "outputId": "64427b2f-5be6-49fa-d7c8-dadff6135693"
      },
      "outputs": [
        {
          "data": {
            "text/html": [
              "<div><div id=1d9ada80-ff13-495e-9a45-9b631b98e9dc style=\"display:none; background-color:#9D6CFF; color:white; width:200px; height:30px; padding-left:5px; border-radius:4px; flex-direction:row; justify-content:space-around; align-items:center;\" onmouseover=\"this.style.backgroundColor='#BA9BF8'\" onmouseout=\"this.style.backgroundColor='#9D6CFF'\" onclick=\"window.commands?.execute('create-mitosheet-from-dataframe-output');\">See Full Dataframe in Mito</div> <script> if (window.commands?.hasCommand('create-mitosheet-from-dataframe-output')) document.getElementById('1d9ada80-ff13-495e-9a45-9b631b98e9dc').style.display = 'flex' </script> <table border=\"1\" class=\"dataframe\">\n",
              "  <thead>\n",
              "    <tr style=\"text-align: right;\">\n",
              "      <th></th>\n",
              "      <th>Actual</th>\n",
              "      <th>Pred</th>\n",
              "      <th>Residual</th>\n",
              "    </tr>\n",
              "  </thead>\n",
              "  <tbody>\n",
              "    <tr>\n",
              "      <th>95</th>\n",
              "      <td>16.9</td>\n",
              "      <td>16.408024</td>\n",
              "      <td>0.491976</td>\n",
              "    </tr>\n",
              "    <tr>\n",
              "      <th>15</th>\n",
              "      <td>22.4</td>\n",
              "      <td>20.889882</td>\n",
              "      <td>1.510118</td>\n",
              "    </tr>\n",
              "    <tr>\n",
              "      <th>30</th>\n",
              "      <td>21.4</td>\n",
              "      <td>21.553843</td>\n",
              "      <td>-0.153843</td>\n",
              "    </tr>\n",
              "    <tr>\n",
              "      <th>158</th>\n",
              "      <td>7.3</td>\n",
              "      <td>10.608503</td>\n",
              "      <td>-3.308503</td>\n",
              "    </tr>\n",
              "    <tr>\n",
              "      <th>128</th>\n",
              "      <td>24.7</td>\n",
              "      <td>22.112373</td>\n",
              "      <td>2.587627</td>\n",
              "    </tr>\n",
              "    <tr>\n",
              "      <th>...</th>\n",
              "      <td>...</td>\n",
              "      <td>...</td>\n",
              "      <td>...</td>\n",
              "    </tr>\n",
              "    <tr>\n",
              "      <th>124</th>\n",
              "      <td>19.7</td>\n",
              "      <td>19.560367</td>\n",
              "      <td>0.139633</td>\n",
              "    </tr>\n",
              "    <tr>\n",
              "      <th>16</th>\n",
              "      <td>12.5</td>\n",
              "      <td>13.251035</td>\n",
              "      <td>-0.751035</td>\n",
              "    </tr>\n",
              "    <tr>\n",
              "      <th>148</th>\n",
              "      <td>10.9</td>\n",
              "      <td>12.336207</td>\n",
              "      <td>-1.436207</td>\n",
              "    </tr>\n",
              "    <tr>\n",
              "      <th>93</th>\n",
              "      <td>22.2</td>\n",
              "      <td>21.306951</td>\n",
              "      <td>0.893049</td>\n",
              "    </tr>\n",
              "    <tr>\n",
              "      <th>65</th>\n",
              "      <td>9.3</td>\n",
              "      <td>7.827403</td>\n",
              "      <td>1.472597</td>\n",
              "    </tr>\n",
              "  </tbody>\n",
              "</table></div>"
            ],
            "text/plain": [
              "     Actual       Pred  Residual\n",
              "95     16.9  16.408024  0.491976\n",
              "15     22.4  20.889882  1.510118\n",
              "30     21.4  21.553843 -0.153843\n",
              "158     7.3  10.608503 -3.308503\n",
              "128    24.7  22.112373  2.587627\n",
              "115    12.6  13.105592 -0.505592\n",
              "69     22.3  21.057192  1.242808\n",
              "170     8.4   7.461010  0.938990\n",
              "174    11.5  13.606346 -2.106346\n",
              "45     14.9  15.155070 -0.255070\n",
              "66      9.5   9.048320  0.451680\n",
              "182     8.7   6.653283  2.046717\n",
              "165    11.9  14.345545 -2.445545\n",
              "78      5.3   8.903493 -3.603493\n",
              "186    10.3   9.689590  0.610410\n",
              "177    11.7  12.164944 -0.464944\n",
              "56      5.5   8.736284 -3.236284\n",
              "152    16.6  16.265073  0.334927\n",
              "82     11.3  10.277596  1.022404\n",
              "68     18.9  18.831091  0.068909\n",
              "124    19.7  19.560367  0.139633\n",
              "16     12.5  13.251035 -0.751035\n",
              "148    10.9  12.336207 -1.436207\n",
              "93     22.2  21.306951  0.893049\n",
              "65      9.3   7.827403  1.472597"
            ]
          },
          "execution_count": 24,
          "metadata": {},
          "output_type": "execute_result"
        }
      ],
      "source": [
        "result_sample = comparing.head(25)\n",
        "result_sample"
      ]
    },
    {
      "cell_type": "code",
      "execution_count": null,
      "id": "hybrid-incentive",
      "metadata": {
        "ExecuteTime": {
          "end_time": "2022-08-11T18:28:42.922061Z",
          "start_time": "2022-08-11T18:28:40.508523Z"
        },
        "id": "hybrid-incentive",
        "outputId": "ab7cd14f-f1a4-4aa1-d582-696658dcddf0"
      },
      "outputs": [
        {
          "data": {
            "image/png": "[encoded data removed]",
            "text/plain": [
              "<Figure size 1080x648 with 1 Axes>"
            ]
          },
          "metadata": {
            "needs_background": "light"
          },
          "output_type": "display_data"
        }
      ],
      "source": [
        "result_sample.plot(kind =\"bar\", figsize=(15,9))\n",
        "plt.show()"
      ]
    },
    {
      "cell_type": "markdown",
      "id": "frozen-space",
      "metadata": {
        "id": "frozen-space"
      },
      "source": [
        "## Error Metrics"
      ]
    },
    {
      "cell_type": "code",
      "execution_count": null,
      "id": "local-stupid",
      "metadata": {
        "ExecuteTime": {
          "end_time": "2022-08-12T09:54:23.410499Z",
          "start_time": "2022-08-12T09:54:23.402505Z"
        },
        "id": "local-stupid"
      },
      "outputs": [],
      "source": [
        "from sklearn.metrics import mean_absolute_error, mean_squared_error, r2_score"
      ]
    },
    {
      "cell_type": "code",
      "execution_count": null,
      "id": "coordinate-worse",
      "metadata": {
        "ExecuteTime": {
          "end_time": "2022-08-12T09:54:24.094492Z",
          "start_time": "2022-08-12T09:54:24.081503Z"
        },
        "id": "coordinate-worse",
        "outputId": "6be12f61-a6cb-47fc-cac0-4d24bc35ff2f"
      },
      "outputs": [
        {
          "data": {
            "text/plain": [
              "0.8994380241009119"
            ]
          },
          "execution_count": 26,
          "metadata": {},
          "output_type": "execute_result"
        }
      ],
      "source": [
        "R2_score = r2_score(y_test, y_pred)  # r squere x deki degisim y de ne kadar etkisi olmusu r squere acikliyor.\n",
        "R2_score"
      ]
    },
    {
      "cell_type": "code",
      "execution_count": null,
      "id": "turkish-edward",
      "metadata": {
        "ExecuteTime": {
          "end_time": "2022-08-12T09:54:24.828139Z",
          "start_time": "2022-08-12T09:54:24.809156Z"
        },
        "id": "turkish-edward",
        "outputId": "ffac6829-93eb-4dad-ce94-1a7b414314d2"
      },
      "outputs": [
        {
          "data": {
            "text/plain": [
              "1.4607567168117606"
            ]
          },
          "execution_count": 27,
          "metadata": {},
          "output_type": "execute_result"
        }
      ],
      "source": [
        "mae = mean_absolute_error(y_test, y_pred) #hatalari fazla cezalandirmiyor. 1.4 hata yapiyor diyor\n",
        "mae"
      ]
    },
    {
      "cell_type": "code",
      "execution_count": null,
      "id": "sacred-dylan",
      "metadata": {
        "ExecuteTime": {
          "end_time": "2022-08-12T09:54:25.434124Z",
          "start_time": "2022-08-12T09:54:25.416131Z"
        },
        "id": "sacred-dylan",
        "outputId": "0bfd71f0-8438-4623-f445-b3cd7b20cee3"
      },
      "outputs": [
        {
          "data": {
            "text/plain": [
              "3.1740973539761064"
            ]
          },
          "execution_count": 28,
          "metadata": {},
          "output_type": "execute_result"
        }
      ],
      "source": [
        "mse = mean_squared_error(y_test, y_pred) #hatalari cok fazla cezalandiriyor. senin modelin 3.17 hata yapiyor.hemde yarumlayamiyoruz \n",
        "mse"
      ]
    },
    {
      "cell_type": "code",
      "execution_count": null,
      "id": "naked-medicaid",
      "metadata": {
        "ExecuteTime": {
          "end_time": "2022-08-12T09:54:26.030209Z",
          "start_time": "2022-08-12T09:54:26.009227Z"
        },
        "id": "naked-medicaid",
        "outputId": "ed42bab9-5bbf-4ab9-f5d4-dae0267a1137"
      },
      "outputs": [
        {
          "data": {
            "text/plain": [
              "1.7815996615334508"
            ]
          },
          "execution_count": 29,
          "metadata": {},
          "output_type": "execute_result"
        }
      ],
      "source": [
        "rmse = np.sqrt(mean_squared_error(y_test, y_pred)) #makul olcum yapiyor. 1.78 hata yapiyor.hangi cinsdense para vs\n",
        "rmse"
      ]
    },
    {
      "cell_type": "code",
      "execution_count": null,
      "id": "right-stylus",
      "metadata": {
        "ExecuteTime": {
          "end_time": "2022-08-12T09:54:27.940266Z",
          "start_time": "2022-08-12T09:54:27.920279Z"
        },
        "id": "right-stylus",
        "outputId": "12694b40-7ecf-4e34-e274-f50640f871c8"
      },
      "outputs": [
        {
          "data": {
            "text/plain": [
              "14.022500000000003"
            ]
          },
          "execution_count": 30,
          "metadata": {},
          "output_type": "execute_result"
        }
      ],
      "source": [
        "sales_mean = df[\"sales\"].mean()\n",
        "sales_mean"
      ]
    },
    {
      "cell_type": "code",
      "execution_count": null,
      "id": "threatened-simon",
      "metadata": {
        "ExecuteTime": {
          "end_time": "2022-08-12T09:54:28.586198Z",
          "start_time": "2022-08-12T09:54:28.568213Z"
        },
        "id": "threatened-simon",
        "outputId": "dc233e4e-46d8-41fa-8f01-6f7a916143f1"
      },
      "outputs": [
        {
          "data": {
            "text/plain": [
              "0.10417234564533859"
            ]
          },
          "execution_count": 31,
          "metadata": {},
          "output_type": "execute_result"
        }
      ],
      "source": [
        "mae / sales_mean"
      ]
    },
    {
      "cell_type": "code",
      "execution_count": null,
      "id": "absent-bandwidth",
      "metadata": {
        "ExecuteTime": {
          "end_time": "2022-08-12T09:54:29.174037Z",
          "start_time": "2022-08-12T09:54:29.152049Z"
        },
        "id": "absent-bandwidth",
        "outputId": "661a873b-78a7-451c-fa6a-2137325144aa"
      },
      "outputs": [
        {
          "data": {
            "text/plain": [
              "0.12705292647769303"
            ]
          },
          "execution_count": 32,
          "metadata": {},
          "output_type": "execute_result"
        }
      ],
      "source": [
        "rmse / sales_mean"
      ]
    },
    {
      "cell_type": "markdown",
      "id": "31f347cf",
      "metadata": {
        "id": "31f347cf"
      },
      "source": [
        "## Adjusted R2 score \n",
        "\n",
        "https://towardsdatascience.com/demystifying-r-squared-and-adjusted-r-squared-52903c006a60"
      ]
    },
    {
      "cell_type": "code",
      "execution_count": null,
      "id": "headed-turner",
      "metadata": {
        "ExecuteTime": {
          "end_time": "2022-08-12T09:54:31.480080Z",
          "start_time": "2022-08-12T09:54:31.465090Z"
        },
        "id": "headed-turner"
      },
      "outputs": [],
      "source": [
        "def adj_r2(y_test, y_pred, X):    #data miktari azsa featurelarimizi artirdikca skorlar kotulesiyor dedi hoca\n",
        "    r2 = r2_score(y_test, y_pred) #simdide feature ekledikce yalanci bir iyilesme oluyor bu yalanci iyilesmeyi adj_r2 bunun onune geciyor.\n",
        "    n = X.shape[0]   # number of observations  \n",
        "    p = X.shape[1]-1 # number of independent variables  \n",
        "    adj_r2 = 1 - (1-r2)*(n-1)/(n-p-1)\n",
        "    return adj_r2"
      ]
    },
    {
      "cell_type": "code",
      "execution_count": null,
      "id": "18b8575f",
      "metadata": {
        "ExecuteTime": {
          "end_time": "2022-08-12T09:54:32.195147Z",
          "start_time": "2022-08-12T09:54:32.185155Z"
        },
        "id": "18b8575f",
        "outputId": "29b79d79-4ca9-4cb1-9905-2786de0b9ac4"
      },
      "outputs": [
        {
          "data": {
            "text/plain": [
              "((200, 3), 3)"
            ]
          },
          "execution_count": 34,
          "metadata": {},
          "output_type": "execute_result"
        }
      ],
      "source": [
        "X.shape, X.shape[1]"
      ]
    },
    {
      "cell_type": "code",
      "execution_count": null,
      "id": "parental-depression",
      "metadata": {
        "ExecuteTime": {
          "end_time": "2022-08-12T09:54:32.799132Z",
          "start_time": "2022-08-12T09:54:32.785145Z"
        },
        "id": "parental-depression",
        "outputId": "f4f7372d-58c4-4950-8c33-4266f000f4c4"
      },
      "outputs": [
        {
          "data": {
            "text/plain": [
              "0.8984170903354389"
            ]
          },
          "execution_count": 35,
          "metadata": {},
          "output_type": "execute_result"
        }
      ],
      "source": [
        "adj_r2(y_test, y_pred, X)"
      ]
    },
    {
      "cell_type": "markdown",
      "id": "purple-cornwall",
      "metadata": {
        "id": "purple-cornwall"
      },
      "source": [
        "## What is the concept of punishment for RMSE error metric?"
      ]
    },
    {
      "cell_type": "code",
      "execution_count": null,
      "id": "minor-election",
      "metadata": {
        "ExecuteTime": {
          "end_time": "2022-08-12T09:54:36.021102Z",
          "start_time": "2022-08-12T09:54:36.001112Z"
        },
        "id": "minor-election"
      },
      "outputs": [],
      "source": [
        "variables = {\"Actual\": [1000, 2000, 3000, 4000, 5000], \"pred\": [1100, 2200, 3200, 4200, 5300]}  # 6000"
      ]
    },
    {
      "cell_type": "code",
      "execution_count": null,
      "id": "surprising-bidder",
      "metadata": {
        "ExecuteTime": {
          "end_time": "2022-08-12T09:54:36.600357Z",
          "start_time": "2022-08-12T09:54:36.569379Z"
        },
        "id": "surprising-bidder",
        "outputId": "2db51d79-6438-4f75-8977-2c9e6fba97f1"
      },
      "outputs": [
        {
          "data": {
            "text/html": [
              "<div><div id=2029f8bd-8722-436f-9c7a-78d3b07eea94 style=\"display:none; background-color:#9D6CFF; color:white; width:200px; height:30px; padding-left:5px; border-radius:4px; flex-direction:row; justify-content:space-around; align-items:center;\" onmouseover=\"this.style.backgroundColor='#BA9BF8'\" onmouseout=\"this.style.backgroundColor='#9D6CFF'\" onclick=\"window.commands?.execute('create-mitosheet-from-dataframe-output');\">See Full Dataframe in Mito</div> <script> if (window.commands?.hasCommand('create-mitosheet-from-dataframe-output')) document.getElementById('2029f8bd-8722-436f-9c7a-78d3b07eea94').style.display = 'flex' </script> <table border=\"1\" class=\"dataframe\">\n",
              "  <thead>\n",
              "    <tr style=\"text-align: right;\">\n",
              "      <th></th>\n",
              "      <th>Actual</th>\n",
              "      <th>pred</th>\n",
              "    </tr>\n",
              "  </thead>\n",
              "  <tbody>\n",
              "    <tr>\n",
              "      <th>0</th>\n",
              "      <td>1000</td>\n",
              "      <td>1100</td>\n",
              "    </tr>\n",
              "    <tr>\n",
              "      <th>1</th>\n",
              "      <td>2000</td>\n",
              "      <td>2200</td>\n",
              "    </tr>\n",
              "    <tr>\n",
              "      <th>2</th>\n",
              "      <td>3000</td>\n",
              "      <td>3200</td>\n",
              "    </tr>\n",
              "    <tr>\n",
              "      <th>3</th>\n",
              "      <td>4000</td>\n",
              "      <td>4200</td>\n",
              "    </tr>\n",
              "    <tr>\n",
              "      <th>4</th>\n",
              "      <td>5000</td>\n",
              "      <td>5300</td>\n",
              "    </tr>\n",
              "  </tbody>\n",
              "</table></div>"
            ],
            "text/plain": [
              "   Actual  pred\n",
              "0    1000  1100\n",
              "1    2000  2200\n",
              "2    3000  3200\n",
              "3    4000  4200\n",
              "4    5000  5300"
            ]
          },
          "execution_count": 37,
          "metadata": {},
          "output_type": "execute_result"
        }
      ],
      "source": [
        "df_2 = pd.DataFrame(variables)\n",
        "df_2"
      ]
    },
    {
      "cell_type": "code",
      "execution_count": null,
      "id": "listed-webcam",
      "metadata": {
        "ExecuteTime": {
          "end_time": "2022-08-12T09:54:40.027560Z",
          "start_time": "2022-08-12T09:54:40.007574Z"
        },
        "id": "listed-webcam"
      },
      "outputs": [],
      "source": [
        "df_2[\"residual\"] = abs(df_2.Actual - df_2.pred)"
      ]
    },
    {
      "cell_type": "code",
      "execution_count": null,
      "id": "foster-maple",
      "metadata": {
        "ExecuteTime": {
          "end_time": "2022-08-12T09:54:40.982004Z",
          "start_time": "2022-08-12T09:54:40.962014Z"
        },
        "id": "foster-maple",
        "outputId": "71dd01fb-b71c-46e5-a34a-8de51a143c6f"
      },
      "outputs": [
        {
          "data": {
            "text/html": [
              "<div><div id=b8d96655-342c-4737-8d01-f89821fdfd54 style=\"display:none; background-color:#9D6CFF; color:white; width:200px; height:30px; padding-left:5px; border-radius:4px; flex-direction:row; justify-content:space-around; align-items:center;\" onmouseover=\"this.style.backgroundColor='#BA9BF8'\" onmouseout=\"this.style.backgroundColor='#9D6CFF'\" onclick=\"window.commands?.execute('create-mitosheet-from-dataframe-output');\">See Full Dataframe in Mito</div> <script> if (window.commands?.hasCommand('create-mitosheet-from-dataframe-output')) document.getElementById('b8d96655-342c-4737-8d01-f89821fdfd54').style.display = 'flex' </script> <table border=\"1\" class=\"dataframe\">\n",
              "  <thead>\n",
              "    <tr style=\"text-align: right;\">\n",
              "      <th></th>\n",
              "      <th>Actual</th>\n",
              "      <th>pred</th>\n",
              "      <th>residual</th>\n",
              "    </tr>\n",
              "  </thead>\n",
              "  <tbody>\n",
              "    <tr>\n",
              "      <th>0</th>\n",
              "      <td>1000</td>\n",
              "      <td>1100</td>\n",
              "      <td>100</td>\n",
              "    </tr>\n",
              "    <tr>\n",
              "      <th>1</th>\n",
              "      <td>2000</td>\n",
              "      <td>2200</td>\n",
              "      <td>200</td>\n",
              "    </tr>\n",
              "    <tr>\n",
              "      <th>2</th>\n",
              "      <td>3000</td>\n",
              "      <td>3200</td>\n",
              "      <td>200</td>\n",
              "    </tr>\n",
              "    <tr>\n",
              "      <th>3</th>\n",
              "      <td>4000</td>\n",
              "      <td>4200</td>\n",
              "      <td>200</td>\n",
              "    </tr>\n",
              "    <tr>\n",
              "      <th>4</th>\n",
              "      <td>5000</td>\n",
              "      <td>5300</td>\n",
              "      <td>300</td>\n",
              "    </tr>\n",
              "  </tbody>\n",
              "</table></div>"
            ],
            "text/plain": [
              "   Actual  pred  residual\n",
              "0    1000  1100       100\n",
              "1    2000  2200       200\n",
              "2    3000  3200       200\n",
              "3    4000  4200       200\n",
              "4    5000  5300       300"
            ]
          },
          "execution_count": 39,
          "metadata": {},
          "output_type": "execute_result"
        }
      ],
      "source": [
        "df_2"
      ]
    },
    {
      "cell_type": "code",
      "execution_count": null,
      "id": "statistical-society",
      "metadata": {
        "ExecuteTime": {
          "end_time": "2022-08-12T09:54:43.819241Z",
          "start_time": "2022-08-12T09:54:43.752285Z"
        },
        "id": "statistical-society",
        "outputId": "9fa49484-2f83-455c-ec2e-4f2bca04eca9"
      },
      "outputs": [
        {
          "data": {
            "text/plain": [
              "200.0"
            ]
          },
          "execution_count": 40,
          "metadata": {},
          "output_type": "execute_result"
        }
      ],
      "source": [
        "#mae\n",
        "df_2.residual.sum()/5 "
      ]
    },
    {
      "cell_type": "code",
      "execution_count": null,
      "id": "equivalent-exhibition",
      "metadata": {
        "ExecuteTime": {
          "end_time": "2022-08-12T09:54:44.860246Z",
          "start_time": "2022-08-12T09:54:44.841257Z"
        },
        "id": "equivalent-exhibition",
        "outputId": "56bdbb15-774f-4dcf-d1af-4fecb9dbd8bb"
      },
      "outputs": [
        {
          "data": {
            "text/plain": [
              "209.76176963403032"
            ]
          },
          "execution_count": 41,
          "metadata": {},
          "output_type": "execute_result"
        }
      ],
      "source": [
        "#rmse\n",
        "((df_2.residual**2).sum()/5)**0.5 "
      ]
    },
    {
      "cell_type": "code",
      "execution_count": null,
      "id": "aware-connectivity",
      "metadata": {
        "id": "aware-connectivity"
      },
      "outputs": [],
      "source": []
    },
    {
      "cell_type": "markdown",
      "id": "adjustable-presence",
      "metadata": {
        "id": "adjustable-presence"
      },
      "source": [
        "## Evaluation Model"
      ]
    },
    {
      "cell_type": "code",
      "execution_count": null,
      "id": "maritime-physiology",
      "metadata": {
        "ExecuteTime": {
          "end_time": "2022-08-12T09:54:47.882239Z",
          "start_time": "2022-08-12T09:54:47.872247Z"
        },
        "id": "maritime-physiology"
      },
      "outputs": [],
      "source": [
        "def eval_metric(actual, pred):\n",
        "    mae = mean_absolute_error(actual, pred)\n",
        "    mse = mean_squared_error(actual, pred)\n",
        "    rmse = np.sqrt(mean_squared_error(actual, pred))\n",
        "    R2_score = r2_score(actual, pred)\n",
        "    print(\"Model testing performance:\")\n",
        "    print(\"--------------------------\")\n",
        "    print(f\"R2_score \\t: {R2_score}\")\n",
        "    print(f\"MAE \\t\\t: {mae}\")\n",
        "    print(f\"MSE \\t\\t: {mse}\")\n",
        "    print(f\"RMSE \\t\\t: {rmse}\")"
      ]
    },
    {
      "cell_type": "code",
      "execution_count": null,
      "id": "flying-economy",
      "metadata": {
        "ExecuteTime": {
          "end_time": "2022-08-12T09:54:48.864948Z",
          "start_time": "2022-08-12T09:54:48.840962Z"
        },
        "id": "flying-economy",
        "outputId": "5cc349cf-3e36-4e80-f508-c8d431778f92"
      },
      "outputs": [
        {
          "name": "stdout",
          "output_type": "stream",
          "text": [
            "Model testing performance:\n",
            "--------------------------\n",
            "R2_score \t: 0.8994380241009119\n",
            "MAE \t\t: 1.4607567168117606\n",
            "MSE \t\t: 3.1740973539761064\n",
            "RMSE \t\t: 1.7815996615334508\n"
          ]
        }
      ],
      "source": [
        "eval_metric(y_test, y_pred)"
      ]
    },
    {
      "cell_type": "code",
      "execution_count": null,
      "id": "aboriginal-kelly",
      "metadata": {
        "ExecuteTime": {
          "end_time": "2022-08-12T09:54:51.119931Z",
          "start_time": "2022-08-12T09:54:51.104944Z"
        },
        "id": "aboriginal-kelly"
      },
      "outputs": [],
      "source": [
        "y_train_pred = model.predict(X_train)"
      ]
    },
    {
      "cell_type": "code",
      "execution_count": null,
      "id": "located-mountain",
      "metadata": {
        "ExecuteTime": {
          "end_time": "2022-08-12T09:54:52.585913Z",
          "start_time": "2022-08-12T09:54:52.567926Z"
        },
        "id": "located-mountain",
        "outputId": "9c70a39a-34d5-4700-cf58-c19bb632d590"
      },
      "outputs": [
        {
          "name": "stdout",
          "output_type": "stream",
          "text": [
            "Model testing performance:\n",
            "--------------------------\n",
            "R2_score \t: 0.8957008271017818\n",
            "MAE \t\t: 1.1984678961500137\n",
            "MSE \t\t: 2.705129423081414\n",
            "RMSE \t\t: 1.644727765644337\n"
          ]
        }
      ],
      "source": [
        "eval_metric(y_train, y_train_pred) #train ve test skorlari yakinsa model guzel denebilir degerler uzaksa model iyi degil denir"
      ]
    },
    {
      "cell_type": "code",
      "execution_count": null,
      "id": "legitimate-treat",
      "metadata": {
        "id": "legitimate-treat"
      },
      "outputs": [],
      "source": []
    },
    {
      "cell_type": "markdown",
      "id": "amended-pension",
      "metadata": {
        "id": "amended-pension"
      },
      "source": [
        "## Is data suitable for linear regression?\n",
        "\n",
        "https://stats.stackexchange.com/questions/12262/what-if-residuals-are-normally-distributed-but-y-is-not"
      ]
    },
    {
      "cell_type": "markdown",
      "id": "lesbian-announcement",
      "metadata": {
        "id": "lesbian-announcement"
      },
      "source": [
        "## Plotting residuals"
      ]
    },
    {
      "cell_type": "code",
      "execution_count": null,
      "id": "through-junction",
      "metadata": {
        "ExecuteTime": {
          "end_time": "2022-08-12T09:54:58.453883Z",
          "start_time": "2022-08-12T09:54:58.432898Z"
        },
        "id": "through-junction"
      },
      "outputs": [],
      "source": [
        "residuals = y_test-y_pred"
      ]
    },
    {
      "cell_type": "code",
      "execution_count": null,
      "id": "entitled-wallace",
      "metadata": {
        "id": "entitled-wallace",
        "outputId": "22653632-1f6b-4823-d932-6ac2c2452d3a"
      },
      "outputs": [
        {
          "data": {
            "image/png": "[encoded data removed]",
            "text/plain": [
              "<Figure size 720x432 with 1 Axes>"
            ]
          },
          "metadata": {
            "needs_background": "light"
          },
          "output_type": "display_data"
        }
      ],
      "source": [
        "plt.figure(figsize = (10,6))\n",
        "sns.scatterplot(x = y_test, y = residuals) #-residuals\n",
        "plt.axhline(y = 0, color =\"r\", linestyle = \"--\")\n",
        "plt.ylabel(\"residuals\")\n",
        "plt.show()"
      ]
    },
    {
      "cell_type": "code",
      "execution_count": null,
      "id": "amateur-reminder",
      "metadata": {
        "id": "amateur-reminder",
        "outputId": "66dfb0a5-c331-492d-9340-20a734a78ab7"
      },
      "outputs": [
        {
          "data": {
            "text/plain": [
              "<AxesSubplot:xlabel='sales', ylabel='Density'>"
            ]
          },
          "execution_count": 57,
          "metadata": {},
          "output_type": "execute_result"
        },
        {
          "data": {
            "image/png": "[encoded data removed]",
            "text/plain": [
              "<Figure size 720x432 with 1 Axes>"
            ]
          },
          "metadata": {
            "needs_background": "light"
          },
          "output_type": "display_data"
        }
      ],
      "source": [
        "sns.kdeplot(residuals)"
      ]
    },
    {
      "cell_type": "code",
      "execution_count": null,
      "id": "breathing-douglas",
      "metadata": {
        "id": "breathing-douglas",
        "outputId": "9b9223d0-6c74-4fd5-e2fa-0c0ae3244cde"
      },
      "outputs": [
        {
          "data": {
            "image/png": "[encoded data removed]",
            "text/plain": [
              "<Figure size 720x432 with 1 Axes>"
            ]
          },
          "metadata": {
            "needs_background": "light"
          },
          "output_type": "display_data"
        }
      ],
      "source": [
        "stats.probplot(residuals, dist =\"norm\", plot =plt); #data bu line a dolanirsa normal dagilim denebilir"
      ]
    },
    {
      "cell_type": "code",
      "execution_count": null,
      "id": "compound-workshop",
      "metadata": {
        "ExecuteTime": {
          "end_time": "2022-08-12T09:55:03.380327Z",
          "start_time": "2022-08-12T09:55:03.339356Z"
        },
        "id": "compound-workshop",
        "outputId": "82bf6b7d-2762-4b78-fee8-792953434206"
      },
      "outputs": [
        {
          "data": {
            "text/plain": [
              "-0.539906192773982"
            ]
          },
          "execution_count": 47,
          "metadata": {},
          "output_type": "execute_result"
        }
      ],
      "source": [
        "from scipy.stats import skew #datanin normal dagilim olup olmadigi -0.5 ila +0.5 arasi ise normal dagilim\n",
        "skew(residuals)"
      ]
    },
    {
      "cell_type": "code",
      "execution_count": null,
      "id": "38803f6f",
      "metadata": {
        "ExecuteTime": {
          "end_time": "2022-08-12T09:55:16.126929Z",
          "start_time": "2022-08-12T09:55:10.000693Z"
        },
        "id": "38803f6f",
        "outputId": "b78f8bd0-bd2d-42eb-ecb9-e5a03474e289"
      },
      "outputs": [
        {
          "name": "stdout",
          "output_type": "stream",
          "text": [
            "Requirement already satisfied: yellowbrick in c:\\users\\pc\\anaconda3\\lib\\site-packages (1.4)\n",
            "Requirement already satisfied: scipy>=1.0.0 in c:\\users\\pc\\anaconda3\\lib\\site-packages (from yellowbrick) (1.7.1)\n",
            "Requirement already satisfied: numpy>=1.16.0 in c:\\users\\pc\\anaconda3\\lib\\site-packages (from yellowbrick) (1.22.4)\n",
            "Requirement already satisfied: matplotlib!=3.0.0,>=2.0.2 in c:\\users\\pc\\anaconda3\\lib\\site-packages (from yellowbrick) (3.4.3)\n",
            "Requirement already satisfied: cycler>=0.10.0 in c:\\users\\pc\\anaconda3\\lib\\site-packages (from yellowbrick) (0.10.0)\n",
            "Requirement already satisfied: scikit-learn>=1.0.0 in c:\\users\\pc\\anaconda3\\lib\\site-packages (from yellowbrick) (1.1.2)\n",
            "Requirement already satisfied: six in c:\\users\\pc\\anaconda3\\lib\\site-packages (from cycler>=0.10.0->yellowbrick) (1.16.0)\n",
            "Requirement already satisfied: pillow>=6.2.0 in c:\\users\\pc\\anaconda3\\lib\\site-packages (from matplotlib!=3.0.0,>=2.0.2->yellowbrick) (8.4.0)\n",
            "Requirement already satisfied: python-dateutil>=2.7 in c:\\users\\pc\\anaconda3\\lib\\site-packages (from matplotlib!=3.0.0,>=2.0.2->yellowbrick) (2.8.2)\n",
            "Requirement already satisfied: pyparsing>=2.2.1 in c:\\users\\pc\\anaconda3\\lib\\site-packages (from matplotlib!=3.0.0,>=2.0.2->yellowbrick) (3.0.4)\n",
            "Requirement already satisfied: kiwisolver>=1.0.1 in c:\\users\\pc\\anaconda3\\lib\\site-packages (from matplotlib!=3.0.0,>=2.0.2->yellowbrick) (1.3.1)\n",
            "Requirement already satisfied: threadpoolctl>=2.0.0 in c:\\users\\pc\\anaconda3\\lib\\site-packages (from scikit-learn>=1.0.0->yellowbrick) (2.2.0)\n",
            "Requirement already satisfied: joblib>=1.0.0 in c:\\users\\pc\\anaconda3\\lib\\site-packages (from scikit-learn>=1.0.0->yellowbrick) (1.1.0)\n",
            "Note: you may need to restart the kernel to use updated packages.\n"
          ]
        },
        {
          "name": "stderr",
          "output_type": "stream",
          "text": [
            "WARNING: You are using pip version 22.1.2; however, version 22.2.2 is available.\n",
            "You should consider upgrading via the 'C:\\Users\\pc\\anaconda3\\python.exe -m pip install --upgrade pip' command.\n"
          ]
        }
      ],
      "source": [
        "pip install yellowbrick"
      ]
    },
    {
      "cell_type": "code",
      "execution_count": null,
      "id": "adfc8b20",
      "metadata": {
        "ExecuteTime": {
          "end_time": "2022-08-12T09:41:06.615326Z",
          "start_time": "2022-08-12T09:40:28.253917Z"
        },
        "id": "adfc8b20",
        "outputId": "c553ca47-2b5c-448c-9cee-b347b44d64cd"
      },
      "outputs": [
        {
          "name": "stdout",
          "output_type": "stream",
          "text": [
            "Requirement already satisfied: yellowbrick in c:\\users\\pc\\anaconda3\\lib\\site-packages (1.4)Note: you may need to restart the kernel to use updated packages.\n",
            "\n",
            "Requirement already satisfied: numpy>=1.16.0 in c:\\users\\pc\\anaconda3\\lib\\site-packages (from yellowbrick) (1.22.4)\n",
            "Requirement already satisfied: cycler>=0.10.0 in c:\\users\\pc\\anaconda3\\lib\\site-packages (from yellowbrick) (0.10.0)\n",
            "Requirement already satisfied: matplotlib!=3.0.0,>=2.0.2 in c:\\users\\pc\\anaconda3\\lib\\site-packages (from yellowbrick) (3.4.3)\n",
            "Requirement already satisfied: scikit-learn>=1.0.0 in c:\\users\\pc\\anaconda3\\lib\\site-packages (from yellowbrick) (1.1.2)\n",
            "Requirement already satisfied: scipy>=1.0.0 in c:\\users\\pc\\anaconda3\\lib\\site-packages (from yellowbrick) (1.7.1)\n",
            "Requirement already satisfied: six in c:\\users\\pc\\anaconda3\\lib\\site-packages (from cycler>=0.10.0->yellowbrick) (1.16.0)\n",
            "Requirement already satisfied: pillow>=6.2.0 in c:\\users\\pc\\anaconda3\\lib\\site-packages (from matplotlib!=3.0.0,>=2.0.2->yellowbrick) (8.4.0)\n",
            "Requirement already satisfied: kiwisolver>=1.0.1 in c:\\users\\pc\\anaconda3\\lib\\site-packages (from matplotlib!=3.0.0,>=2.0.2->yellowbrick) (1.3.1)\n",
            "Requirement already satisfied: python-dateutil>=2.7 in c:\\users\\pc\\anaconda3\\lib\\site-packages (from matplotlib!=3.0.0,>=2.0.2->yellowbrick) (2.8.2)\n",
            "Requirement already satisfied: pyparsing>=2.2.1 in c:\\users\\pc\\anaconda3\\lib\\site-packages (from matplotlib!=3.0.0,>=2.0.2->yellowbrick) (3.0.4)\n",
            "Requirement already satisfied: threadpoolctl>=2.0.0 in c:\\users\\pc\\anaconda3\\lib\\site-packages (from scikit-learn>=1.0.0->yellowbrick) (2.2.0)\n",
            "Requirement already satisfied: joblib>=1.0.0 in c:\\users\\pc\\anaconda3\\lib\\site-packages (from scikit-learn>=1.0.0->yellowbrick) (1.1.0)\n"
          ]
        },
        {
          "name": "stderr",
          "output_type": "stream",
          "text": [
            "WARNING: You are using pip version 22.1.2; however, version 22.2.2 is available.\n",
            "You should consider upgrading via the 'C:\\Users\\pc\\anaconda3\\python.exe -m pip install --upgrade pip' command.\n"
          ]
        }
      ],
      "source": [
        "pip install -U yellowbrick"
      ]
    },
    {
      "cell_type": "code",
      "execution_count": null,
      "id": "macro-sunday",
      "metadata": {
        "ExecuteTime": {
          "end_time": "2022-08-12T09:55:29.809789Z",
          "start_time": "2022-08-12T09:55:27.032795Z"
        },
        "id": "macro-sunday",
        "outputId": "9080ed23-104d-4adc-84c0-8c66fac68784"
      },
      "outputs": [
        {
          "data": {
            "image/png": "[encoded data removed]",
            "text/plain": [
              "<Figure size 720x432 with 2 Axes>"
            ]
          },
          "metadata": {},
          "output_type": "display_data"
        }
      ],
      "source": [
        "from yellowbrick.regressor import ResidualsPlot\n",
        "\n",
        "# Instantiate the linear model and visualizer\n",
        "model = LinearRegression()\n",
        "visualizer = ResidualsPlot(model)\n",
        "\n",
        "visualizer.fit(X_train, y_train)  # Fit the training data to the visualizer\n",
        "visualizer.score(X_test, y_test)  # Evaluate the model on the test data\n",
        "visualizer.show();        # Finalize and render the figure"
      ]
    },
    {
      "cell_type": "markdown",
      "id": "imperial-seafood",
      "metadata": {
        "id": "imperial-seafood"
      },
      "source": [
        "## Prediction Error for LinearRegression"
      ]
    },
    {
      "cell_type": "code",
      "execution_count": null,
      "id": "south-pocket",
      "metadata": {
        "ExecuteTime": {
          "end_time": "2022-08-12T09:55:50.661816Z",
          "start_time": "2022-08-12T09:55:50.081362Z"
        },
        "id": "south-pocket",
        "outputId": "14ea99d2-4432-4afe-a3b7-5f392781045e"
      },
      "outputs": [
        {
          "data": {
            "image/png": "[encoded data removed]",
            "text/plain": [
              "<Figure size 720x432 with 1 Axes>"
            ]
          },
          "metadata": {},
          "output_type": "display_data"
        }
      ],
      "source": [
        "from yellowbrick.regressor import PredictionError\n",
        "# Instantiate the linear model and visualizer\n",
        "model = LinearRegression()\n",
        "visualizer = PredictionError(model)\n",
        "\n",
        "visualizer.fit(X_train, y_train)  # Fit the training data to the visualizer\n",
        "visualizer.score(X_test, y_test)  # Evaluate the model on the test data\n",
        "visualizer.show();    "
      ]
    },
    {
      "cell_type": "code",
      "execution_count": null,
      "id": "together-presentation",
      "metadata": {
        "id": "together-presentation"
      },
      "outputs": [],
      "source": []
    },
    {
      "cell_type": "markdown",
      "id": "conservative-orbit",
      "metadata": {
        "id": "conservative-orbit"
      },
      "source": [
        "## Retraining Model on Full Data"
      ]
    },
    {
      "cell_type": "code",
      "execution_count": null,
      "id": "appointed-redhead",
      "metadata": {
        "ExecuteTime": {
          "end_time": "2022-08-12T09:56:31.642993Z",
          "start_time": "2022-08-12T09:56:31.633002Z"
        },
        "id": "appointed-redhead"
      },
      "outputs": [],
      "source": [
        "final_model = LinearRegression()"
      ]
    },
    {
      "cell_type": "code",
      "execution_count": null,
      "id": "cellular-iceland",
      "metadata": {
        "ExecuteTime": {
          "end_time": "2022-08-12T09:56:32.755606Z",
          "start_time": "2022-08-12T09:56:32.727627Z"
        },
        "id": "cellular-iceland",
        "outputId": "8325358f-fc46-4fed-ad8c-f6abd779b492"
      },
      "outputs": [
        {
          "data": {
            "text/html": [
              "<style>#sk-container-id-3 {color: black;background-color: white;}#sk-container-id-3 pre{padding: 0;}#sk-container-id-3 div.sk-toggleable {background-color: white;}#sk-container-id-3 label.sk-toggleable__label {cursor: pointer;display: block;width: 100%;margin-bottom: 0;padding: 0.3em;box-sizing: border-box;text-align: center;}#sk-container-id-3 label.sk-toggleable__label-arrow:before {content: \"▸\";float: left;margin-right: 0.25em;color: #696969;}#sk-container-id-3 label.sk-toggleable__label-arrow:hover:before {color: black;}#sk-container-id-3 div.sk-estimator:hover label.sk-toggleable__label-arrow:before {color: black;}#sk-container-id-3 div.sk-toggleable__content {max-height: 0;max-width: 0;overflow: hidden;text-align: left;background-color: #f0f8ff;}#sk-container-id-3 div.sk-toggleable__content pre {margin: 0.2em;color: black;border-radius: 0.25em;background-color: #f0f8ff;}#sk-container-id-3 input.sk-toggleable__control:checked~div.sk-toggleable__content {max-height: 200px;max-width: 100%;overflow: auto;}#sk-container-id-3 input.sk-toggleable__control:checked~label.sk-toggleable__label-arrow:before {content: \"▾\";}#sk-container-id-3 div.sk-estimator input.sk-toggleable__control:checked~label.sk-toggleable__label {background-color: #d4ebff;}#sk-container-id-3 div.sk-label input.sk-toggleable__control:checked~label.sk-toggleable__label {background-color: #d4ebff;}#sk-container-id-3 input.sk-hidden--visually {border: 0;clip: rect(1px 1px 1px 1px);clip: rect(1px, 1px, 1px, 1px);height: 1px;margin: -1px;overflow: hidden;padding: 0;position: absolute;width: 1px;}#sk-container-id-3 div.sk-estimator {font-family: monospace;background-color: #f0f8ff;border: 1px dotted black;border-radius: 0.25em;box-sizing: border-box;margin-bottom: 0.5em;}#sk-container-id-3 div.sk-estimator:hover {background-color: #d4ebff;}#sk-container-id-3 div.sk-parallel-item::after {content: \"\";width: 100%;border-bottom: 1px solid gray;flex-grow: 1;}#sk-container-id-3 div.sk-label:hover label.sk-toggleable__label {background-color: #d4ebff;}#sk-container-id-3 div.sk-serial::before {content: \"\";position: absolute;border-left: 1px solid gray;box-sizing: border-box;top: 0;bottom: 0;left: 50%;z-index: 0;}#sk-container-id-3 div.sk-serial {display: flex;flex-direction: column;align-items: center;background-color: white;padding-right: 0.2em;padding-left: 0.2em;position: relative;}#sk-container-id-3 div.sk-item {position: relative;z-index: 1;}#sk-container-id-3 div.sk-parallel {display: flex;align-items: stretch;justify-content: center;background-color: white;position: relative;}#sk-container-id-3 div.sk-item::before, #sk-container-id-3 div.sk-parallel-item::before {content: \"\";position: absolute;border-left: 1px solid gray;box-sizing: border-box;top: 0;bottom: 0;left: 50%;z-index: -1;}#sk-container-id-3 div.sk-parallel-item {display: flex;flex-direction: column;z-index: 1;position: relative;background-color: white;}#sk-container-id-3 div.sk-parallel-item:first-child::after {align-self: flex-end;width: 50%;}#sk-container-id-3 div.sk-parallel-item:last-child::after {align-self: flex-start;width: 50%;}#sk-container-id-3 div.sk-parallel-item:only-child::after {width: 0;}#sk-container-id-3 div.sk-dashed-wrapped {border: 1px dashed gray;margin: 0 0.4em 0.5em 0.4em;box-sizing: border-box;padding-bottom: 0.4em;background-color: white;}#sk-container-id-3 div.sk-label label {font-family: monospace;font-weight: bold;display: inline-block;line-height: 1.2em;}#sk-container-id-3 div.sk-label-container {text-align: center;}#sk-container-id-3 div.sk-container {/* jupyter's `normalize.less` sets `[hidden] { display: none; }` but bootstrap.min.css set `[hidden] { display: none !important; }` so we also need the `!important` here to be able to override the default hidden behavior on the sphinx rendered scikit-learn.org. See: https://github.com/scikit-learn/scikit-learn/issues/21755 */display: inline-block !important;position: relative;}#sk-container-id-3 div.sk-text-repr-fallback {display: none;}</style><div id=\"sk-container-id-3\" class=\"sk-top-container\"><div class=\"sk-text-repr-fallback\"><pre>LinearRegression()</pre><b>In a Jupyter environment, please rerun this cell to show the HTML representation or trust the notebook. <br />On GitHub, the HTML representation is unable to render, please try loading this page with nbviewer.org.</b></div><div class=\"sk-container\" hidden><div class=\"sk-item\"><div class=\"sk-estimator sk-toggleable\"><input class=\"sk-toggleable__control sk-hidden--visually\" id=\"sk-estimator-id-3\" type=\"checkbox\" checked><label for=\"sk-estimator-id-3\" class=\"sk-toggleable__label sk-toggleable__label-arrow\">LinearRegression</label><div class=\"sk-toggleable__content\"><pre>LinearRegression()</pre></div></div></div></div></div>"
            ],
            "text/plain": [
              "LinearRegression()"
            ]
          },
          "execution_count": 52,
          "metadata": {},
          "output_type": "execute_result"
        }
      ],
      "source": [
        "final_model.fit(X, y)"
      ]
    },
    {
      "cell_type": "markdown",
      "id": "collective-apollo",
      "metadata": {
        "id": "collective-apollo"
      },
      "source": [
        "## Coefficients"
      ]
    },
    {
      "cell_type": "code",
      "execution_count": null,
      "id": "incident-disabled",
      "metadata": {
        "ExecuteTime": {
          "end_time": "2022-08-12T09:56:37.640460Z",
          "start_time": "2022-08-12T09:56:37.623470Z"
        },
        "id": "incident-disabled",
        "outputId": "d35e9872-da75-4fca-f445-3fcdc7eab149"
      },
      "outputs": [
        {
          "data": {
            "text/plain": [
              "array([ 0.04576465,  0.18853002, -0.00103749])"
            ]
          },
          "execution_count": 53,
          "metadata": {},
          "output_type": "execute_result"
        }
      ],
      "source": [
        "final_model.coef_"
      ]
    },
    {
      "cell_type": "code",
      "execution_count": null,
      "id": "stone-cooking",
      "metadata": {
        "ExecuteTime": {
          "end_time": "2022-08-12T09:56:38.822662Z",
          "start_time": "2022-08-12T09:56:38.799678Z"
        },
        "id": "stone-cooking",
        "outputId": "0a26325d-3b09-44fb-b352-de8aa2a064aa"
      },
      "outputs": [
        {
          "data": {
            "text/plain": [
              "2.9388893694594085"
            ]
          },
          "execution_count": 54,
          "metadata": {},
          "output_type": "execute_result"
        }
      ],
      "source": [
        "final_model.intercept_"
      ]
    },
    {
      "cell_type": "code",
      "execution_count": null,
      "id": "spare-meaning",
      "metadata": {
        "ExecuteTime": {
          "end_time": "2022-08-11T19:28:56.497278Z",
          "start_time": "2022-08-11T19:28:56.457299Z"
        },
        "id": "spare-meaning",
        "outputId": "1ca35a39-2ee5-46b6-a74e-e541c38e0ae7"
      },
      "outputs": [
        {
          "data": {
            "text/html": [
              "<div><div id=0605fd60-ea0f-448b-a033-f60ffaaa3054 style=\"display:none; background-color:#9D6CFF; color:white; width:200px; height:30px; padding-left:5px; border-radius:4px; flex-direction:row; justify-content:space-around; align-items:center;\" onmouseover=\"this.style.backgroundColor='#BA9BF8'\" onmouseout=\"this.style.backgroundColor='#9D6CFF'\" onclick=\"window.commands?.execute('create-mitosheet-from-dataframe-output');\">See Full Dataframe in Mito</div> <script> if (window.commands?.hasCommand('create-mitosheet-from-dataframe-output')) document.getElementById('0605fd60-ea0f-448b-a033-f60ffaaa3054').style.display = 'flex' </script> <table border=\"1\" class=\"dataframe\">\n",
              "  <thead>\n",
              "    <tr style=\"text-align: right;\">\n",
              "      <th></th>\n",
              "      <th>TV</th>\n",
              "      <th>radio</th>\n",
              "      <th>newspaper</th>\n",
              "      <th>sales</th>\n",
              "    </tr>\n",
              "  </thead>\n",
              "  <tbody>\n",
              "    <tr>\n",
              "      <th>0</th>\n",
              "      <td>230.1</td>\n",
              "      <td>37.8</td>\n",
              "      <td>69.2</td>\n",
              "      <td>22.1</td>\n",
              "    </tr>\n",
              "    <tr>\n",
              "      <th>1</th>\n",
              "      <td>44.5</td>\n",
              "      <td>39.3</td>\n",
              "      <td>45.1</td>\n",
              "      <td>10.4</td>\n",
              "    </tr>\n",
              "    <tr>\n",
              "      <th>2</th>\n",
              "      <td>17.2</td>\n",
              "      <td>45.9</td>\n",
              "      <td>69.3</td>\n",
              "      <td>9.3</td>\n",
              "    </tr>\n",
              "    <tr>\n",
              "      <th>3</th>\n",
              "      <td>151.5</td>\n",
              "      <td>41.3</td>\n",
              "      <td>58.5</td>\n",
              "      <td>18.5</td>\n",
              "    </tr>\n",
              "    <tr>\n",
              "      <th>4</th>\n",
              "      <td>180.8</td>\n",
              "      <td>10.8</td>\n",
              "      <td>58.4</td>\n",
              "      <td>12.9</td>\n",
              "    </tr>\n",
              "  </tbody>\n",
              "</table></div>"
            ],
            "text/plain": [
              "      TV  radio  newspaper  sales\n",
              "0  230.1   37.8       69.2   22.1\n",
              "1   44.5   39.3       45.1   10.4\n",
              "2   17.2   45.9       69.3    9.3\n",
              "3  151.5   41.3       58.5   18.5\n",
              "4  180.8   10.8       58.4   12.9"
            ]
          },
          "execution_count": 58,
          "metadata": {},
          "output_type": "execute_result"
        }
      ],
      "source": [
        "df.head()"
      ]
    },
    {
      "cell_type": "code",
      "execution_count": null,
      "id": "vertical-heart",
      "metadata": {
        "ExecuteTime": {
          "end_time": "2022-08-11T19:29:22.653845Z",
          "start_time": "2022-08-11T19:29:22.636857Z"
        },
        "id": "vertical-heart"
      },
      "outputs": [],
      "source": [
        "coeff_df = pd.DataFrame(final_model.coef_, index = X.columns, columns = [\"Coefficient\"] )"
      ]
    },
    {
      "cell_type": "code",
      "execution_count": null,
      "id": "brave-assumption",
      "metadata": {
        "ExecuteTime": {
          "end_time": "2022-08-12T09:56:46.606768Z",
          "start_time": "2022-08-12T09:56:46.552799Z"
        },
        "id": "brave-assumption",
        "outputId": "4950f27c-d308-4f6e-f81f-2dca6e3b170f"
      },
      "outputs": [
        {
          "ename": "NameError",
          "evalue": "name 'coeff_df' is not defined",
          "output_type": "error",
          "traceback": [
            "\u001b[1;31m---------------------------------------------------------------------------\u001b[0m",
            "\u001b[1;31mNameError\u001b[0m                                 Traceback (most recent call last)",
            "\u001b[1;32m~\\AppData\\Local\\Temp\\ipykernel_12556\\670365996.py\u001b[0m in \u001b[0;36m<module>\u001b[1;34m\u001b[0m\n\u001b[1;32m----> 1\u001b[1;33m \u001b[0mcoeff_df\u001b[0m\u001b[1;33m\u001b[0m\u001b[1;33m\u001b[0m\u001b[0m\n\u001b[0m",
            "\u001b[1;31mNameError\u001b[0m: name 'coeff_df' is not defined"
          ]
        }
      ],
      "source": [
        "coeff_df"
      ]
    },
    {
      "cell_type": "code",
      "execution_count": null,
      "id": "honest-causing",
      "metadata": {
        "id": "honest-causing"
      },
      "outputs": [],
      "source": []
    },
    {
      "cell_type": "markdown",
      "id": "handmade-intent",
      "metadata": {
        "id": "handmade-intent"
      },
      "source": [
        "## Prediction on New Data"
      ]
    },
    {
      "cell_type": "code",
      "execution_count": null,
      "id": "stable-kansas",
      "metadata": {
        "ExecuteTime": {
          "end_time": "2022-08-12T09:56:51.687700Z",
          "start_time": "2022-08-12T09:56:51.671715Z"
        },
        "id": "stable-kansas"
      },
      "outputs": [],
      "source": [
        "adv = [[150, 20, 15]] # 2D iki boyutlu olmali cift parentez df yani"
      ]
    },
    {
      "cell_type": "code",
      "execution_count": null,
      "id": "interpreted-packet",
      "metadata": {
        "ExecuteTime": {
          "end_time": "2022-08-12T09:56:52.520377Z",
          "start_time": "2022-08-12T09:56:52.507383Z"
        },
        "id": "interpreted-packet",
        "outputId": "23d0052b-527b-4183-874a-bcfafbb76f4e"
      },
      "outputs": [
        {
          "data": {
            "text/plain": [
              "[[150, 20, 15]]"
            ]
          },
          "execution_count": 57,
          "metadata": {},
          "output_type": "execute_result"
        }
      ],
      "source": [
        "adv"
      ]
    },
    {
      "cell_type": "code",
      "execution_count": null,
      "id": "liberal-lexington",
      "metadata": {
        "ExecuteTime": {
          "end_time": "2022-08-12T09:56:56.479350Z",
          "start_time": "2022-08-12T09:56:56.463359Z"
        },
        "id": "liberal-lexington",
        "outputId": "a521070a-b7a9-4a3c-93b3-57a4a9852323"
      },
      "outputs": [
        {
          "data": {
            "text/plain": [
              "array([13.55862413])"
            ]
          },
          "execution_count": 58,
          "metadata": {},
          "output_type": "execute_result"
        }
      ],
      "source": [
        "final_model.predict(adv)"
      ]
    },
    {
      "cell_type": "code",
      "execution_count": null,
      "id": "5b539d3e",
      "metadata": {
        "ExecuteTime": {
          "end_time": "2022-08-12T09:56:57.410424Z",
          "start_time": "2022-08-12T09:56:57.399431Z"
        },
        "id": "5b539d3e",
        "outputId": "6724a516-0375-4852-ce0d-6b04b0bdb3ff"
      },
      "outputs": [
        {
          "data": {
            "text/plain": [
              "array([ 0.04576465,  0.18853002, -0.00103749])"
            ]
          },
          "execution_count": 59,
          "metadata": {},
          "output_type": "execute_result"
        }
      ],
      "source": [
        "final_model.coef_"
      ]
    },
    {
      "cell_type": "code",
      "execution_count": null,
      "id": "ad81401d",
      "metadata": {
        "ExecuteTime": {
          "end_time": "2022-08-12T09:56:58.066734Z",
          "start_time": "2022-08-12T09:56:58.055745Z"
        },
        "id": "ad81401d",
        "outputId": "59ecabef-2069-4ee8-99d8-e26b2417a0e8"
      },
      "outputs": [
        {
          "data": {
            "text/plain": [
              "2.9388893694594085"
            ]
          },
          "execution_count": 60,
          "metadata": {},
          "output_type": "execute_result"
        }
      ],
      "source": [
        "final_model.intercept_"
      ]
    },
    {
      "cell_type": "code",
      "execution_count": null,
      "id": "921ef42b",
      "metadata": {
        "ExecuteTime": {
          "end_time": "2022-08-12T09:56:59.168347Z",
          "start_time": "2022-08-12T09:56:59.150356Z"
        },
        "id": "921ef42b",
        "outputId": "666caf08-182f-4cdd-a53a-dee2971f53a8"
      },
      "outputs": [
        {
          "data": {
            "text/plain": [
              "13.558624130495994"
            ]
          },
          "execution_count": 61,
          "metadata": {},
          "output_type": "execute_result"
        }
      ],
      "source": [
        "sum(final_model.coef_ * [150, 20, 15]) + final_model.intercept_"
      ]
    },
    {
      "cell_type": "code",
      "execution_count": null,
      "id": "f80d0136",
      "metadata": {
        "id": "f80d0136"
      },
      "outputs": [],
      "source": []
    },
    {
      "cell_type": "code",
      "execution_count": null,
      "id": "handy-producer",
      "metadata": {
        "ExecuteTime": {
          "end_time": "2022-08-12T09:57:05.884581Z",
          "start_time": "2022-08-12T09:57:05.871587Z"
        },
        "id": "handy-producer"
      },
      "outputs": [],
      "source": [
        "adv_2 = [[150, 20, 15], [160, 20, 15]] #tv yi 10 artirdik ve 0.45 lik artis oldu bunu yukaridaki coefficient tv nin bir birimlik katsayisi 0.045 oldugunu goemustuk 10 la carpinca 0.45 lik artis olacagi hesaplanabilir."
      ]
    },
    {
      "cell_type": "code",
      "execution_count": null,
      "id": "medium-firmware",
      "metadata": {
        "ExecuteTime": {
          "end_time": "2022-08-12T09:57:06.664263Z",
          "start_time": "2022-08-12T09:57:06.639281Z"
        },
        "id": "medium-firmware",
        "outputId": "0f0e0043-c87a-4f86-80fc-51c0c33eae31"
      },
      "outputs": [
        {
          "data": {
            "text/plain": [
              "array([13.55862413, 14.01627059])"
            ]
          },
          "execution_count": 63,
          "metadata": {},
          "output_type": "execute_result"
        }
      ],
      "source": [
        "final_model.predict(adv_2)"
      ]
    },
    {
      "cell_type": "code",
      "execution_count": null,
      "id": "4d19fe9b",
      "metadata": {
        "ExecuteTime": {
          "end_time": "2022-08-12T09:57:08.274166Z",
          "start_time": "2022-08-12T09:57:08.264173Z"
        },
        "id": "4d19fe9b",
        "outputId": "1b444ecb-a365-4246-fd01-abf0a33b6931"
      },
      "outputs": [
        {
          "data": {
            "text/plain": [
              "0.4576464599999994"
            ]
          },
          "execution_count": 64,
          "metadata": {},
          "output_type": "execute_result"
        }
      ],
      "source": [
        "14.01627059 - 13.55862413"
      ]
    },
    {
      "cell_type": "code",
      "execution_count": null,
      "id": "6ad2c9a2",
      "metadata": {
        "id": "6ad2c9a2"
      },
      "outputs": [],
      "source": []
    }
  ],
  "metadata": {
    "kernelspec": {
      "display_name": "Python 3 (ipykernel)",
      "language": "python",
      "name": "python3"
    },
    "language_info": {
      "codemirror_mode": {
        "name": "ipython",
        "version": 3
      },
      "file_extension": ".py",
      "mimetype": "text/x-python",
      "name": "python",
      "nbconvert_exporter": "python",
      "pygments_lexer": "ipython3",
      "version": "3.9.7"
    },
    "nbTranslate": {
      "displayLangs": [
        "*"
      ],
      "hotkey": "alt-t",
      "langInMainMenu": true,
      "sourceLang": "en",
      "targetLang": "fr",
      "useGoogleTranslate": true
    },
    "toc": {
      "base_numbering": 1,
      "nav_menu": {},
      "number_sections": true,
      "sideBar": true,
      "skip_h1_title": false,
      "title_cell": "Table of Contents",
      "title_sidebar": "Contents",
      "toc_cell": false,
      "toc_position": {},
      "toc_section_display": true,
      "toc_window_display": false
    },
    "colab": {
      "name": "ML-2 (Multiple Linear Regression and Regression Error Metrics)_11.08.2022.ipynb",
      "provenance": [],
      "include_colab_link": true
    }
  },
  "nbformat": 4,
  "nbformat_minor": 5
}